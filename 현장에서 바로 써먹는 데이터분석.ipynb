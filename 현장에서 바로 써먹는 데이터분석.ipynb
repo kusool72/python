{
 "cells": [
  {
   "cell_type": "markdown",
   "id": "9728f459",
   "metadata": {},
   "source": [
    "#### 실습 : https://github.com/datawithnosense/Python"
   ]
  },
  {
   "cell_type": "markdown",
   "id": "45ecc0d6",
   "metadata": {},
   "source": [
    "# CHAPTER 4 통계분석과 기본 그래프"
   ]
  },
  {
   "cell_type": "markdown",
   "id": "8f7be8f9",
   "metadata": {},
   "source": [
    "## 01 어제까지 몇 마리의 병아리가 부화했을까? (기초통계량)"
   ]
  },
  {
   "cell_type": "markdown",
   "id": "70431e24",
   "metadata": {},
   "source": [
    "### 1-1 데이터 불러오기"
   ]
  },
  {
   "cell_type": "code",
   "execution_count": 33,
   "id": "c4cf4069",
   "metadata": {},
   "outputs": [],
   "source": [
    "# pandas 패키지 불러오기 및 pd라는 역어로 지칭하기\n",
    "import pandas as pd\n",
    "hat=pd.read_csv(\"ch4-1.csv\")"
   ]
  },
  {
   "cell_type": "markdown",
   "id": "596dff65",
   "metadata": {},
   "source": [
    "### 1-2 데이터 확인하기"
   ]
  },
  {
   "cell_type": "code",
   "execution_count": 34,
   "id": "432208ca",
   "metadata": {},
   "outputs": [
    {
     "data": {
      "text/html": [
       "<div>\n",
       "<style scoped>\n",
       "    .dataframe tbody tr th:only-of-type {\n",
       "        vertical-align: middle;\n",
       "    }\n",
       "\n",
       "    .dataframe tbody tr th {\n",
       "        vertical-align: top;\n",
       "    }\n",
       "\n",
       "    .dataframe thead th {\n",
       "        text-align: right;\n",
       "    }\n",
       "</style>\n",
       "<table border=\"1\" class=\"dataframe\">\n",
       "  <thead>\n",
       "    <tr style=\"text-align: right;\">\n",
       "      <th></th>\n",
       "      <th>hatchery</th>\n",
       "      <th>chick</th>\n",
       "    </tr>\n",
       "  </thead>\n",
       "  <tbody>\n",
       "    <tr>\n",
       "      <th>0</th>\n",
       "      <td>A</td>\n",
       "      <td>30</td>\n",
       "    </tr>\n",
       "    <tr>\n",
       "      <th>1</th>\n",
       "      <td>B</td>\n",
       "      <td>30</td>\n",
       "    </tr>\n",
       "    <tr>\n",
       "      <th>2</th>\n",
       "      <td>C</td>\n",
       "      <td>29</td>\n",
       "    </tr>\n",
       "    <tr>\n",
       "      <th>3</th>\n",
       "      <td>D</td>\n",
       "      <td>26</td>\n",
       "    </tr>\n",
       "    <tr>\n",
       "      <th>4</th>\n",
       "      <td>E</td>\n",
       "      <td>24</td>\n",
       "    </tr>\n",
       "    <tr>\n",
       "      <th>5</th>\n",
       "      <td>F</td>\n",
       "      <td>28</td>\n",
       "    </tr>\n",
       "    <tr>\n",
       "      <th>6</th>\n",
       "      <td>G</td>\n",
       "      <td>27</td>\n",
       "    </tr>\n",
       "  </tbody>\n",
       "</table>\n",
       "</div>"
      ],
      "text/plain": [
       "  hatchery  chick\n",
       "0        A     30\n",
       "1        B     30\n",
       "2        C     29\n",
       "3        D     26\n",
       "4        E     24\n",
       "5        F     28\n",
       "6        G     27"
      ]
     },
     "execution_count": 34,
     "metadata": {},
     "output_type": "execute_result"
    }
   ],
   "source": [
    "hat"
   ]
  },
  {
   "cell_type": "code",
   "execution_count": 2,
   "id": "1f81c276",
   "metadata": {},
   "outputs": [
    {
     "data": {
      "text/html": [
       "<div>\n",
       "<style scoped>\n",
       "    .dataframe tbody tr th:only-of-type {\n",
       "        vertical-align: middle;\n",
       "    }\n",
       "\n",
       "    .dataframe tbody tr th {\n",
       "        vertical-align: top;\n",
       "    }\n",
       "\n",
       "    .dataframe thead th {\n",
       "        text-align: right;\n",
       "    }\n",
       "</style>\n",
       "<table border=\"1\" class=\"dataframe\">\n",
       "  <thead>\n",
       "    <tr style=\"text-align: right;\">\n",
       "      <th></th>\n",
       "      <th>hatchery</th>\n",
       "      <th>chick</th>\n",
       "    </tr>\n",
       "  </thead>\n",
       "  <tbody>\n",
       "    <tr>\n",
       "      <th>0</th>\n",
       "      <td>A</td>\n",
       "      <td>30</td>\n",
       "    </tr>\n",
       "    <tr>\n",
       "      <th>1</th>\n",
       "      <td>B</td>\n",
       "      <td>30</td>\n",
       "    </tr>\n",
       "    <tr>\n",
       "      <th>2</th>\n",
       "      <td>C</td>\n",
       "      <td>29</td>\n",
       "    </tr>\n",
       "    <tr>\n",
       "      <th>3</th>\n",
       "      <td>D</td>\n",
       "      <td>26</td>\n",
       "    </tr>\n",
       "    <tr>\n",
       "      <th>4</th>\n",
       "      <td>E</td>\n",
       "      <td>24</td>\n",
       "    </tr>\n",
       "  </tbody>\n",
       "</table>\n",
       "</div>"
      ],
      "text/plain": [
       "  hatchery  chick\n",
       "0        A     30\n",
       "1        B     30\n",
       "2        C     29\n",
       "3        D     26\n",
       "4        E     24"
      ]
     },
     "execution_count": 2,
     "metadata": {},
     "output_type": "execute_result"
    }
   ],
   "source": [
    "hat.head() # 위에서부터 5개 데이터 확인"
   ]
  },
  {
   "cell_type": "code",
   "execution_count": 3,
   "id": "65d51f30",
   "metadata": {},
   "outputs": [
    {
     "data": {
      "text/html": [
       "<div>\n",
       "<style scoped>\n",
       "    .dataframe tbody tr th:only-of-type {\n",
       "        vertical-align: middle;\n",
       "    }\n",
       "\n",
       "    .dataframe tbody tr th {\n",
       "        vertical-align: top;\n",
       "    }\n",
       "\n",
       "    .dataframe thead th {\n",
       "        text-align: right;\n",
       "    }\n",
       "</style>\n",
       "<table border=\"1\" class=\"dataframe\">\n",
       "  <thead>\n",
       "    <tr style=\"text-align: right;\">\n",
       "      <th></th>\n",
       "      <th>hatchery</th>\n",
       "      <th>chick</th>\n",
       "    </tr>\n",
       "  </thead>\n",
       "  <tbody>\n",
       "    <tr>\n",
       "      <th>4</th>\n",
       "      <td>E</td>\n",
       "      <td>24</td>\n",
       "    </tr>\n",
       "    <tr>\n",
       "      <th>5</th>\n",
       "      <td>F</td>\n",
       "      <td>28</td>\n",
       "    </tr>\n",
       "    <tr>\n",
       "      <th>6</th>\n",
       "      <td>G</td>\n",
       "      <td>27</td>\n",
       "    </tr>\n",
       "  </tbody>\n",
       "</table>\n",
       "</div>"
      ],
      "text/plain": [
       "  hatchery  chick\n",
       "4        E     24\n",
       "5        F     28\n",
       "6        G     27"
      ]
     },
     "execution_count": 3,
     "metadata": {},
     "output_type": "execute_result"
    }
   ],
   "source": [
    "hat.tail(3) #아래에서부터 3개 데이터 확인"
   ]
  },
  {
   "cell_type": "markdown",
   "id": "cd933c4c",
   "metadata": {},
   "source": [
    "### 1-3 기초 통계량 구하기"
   ]
  },
  {
   "cell_type": "code",
   "execution_count": 7,
   "id": "2802cf7b",
   "metadata": {},
   "outputs": [
    {
     "data": {
      "text/plain": [
       "194"
      ]
     },
     "execution_count": 7,
     "metadata": {},
     "output_type": "execute_result"
    }
   ],
   "source": [
    "hat.chick.sum() #합계"
   ]
  },
  {
   "cell_type": "code",
   "execution_count": 8,
   "id": "96ae6326",
   "metadata": {},
   "outputs": [
    {
     "data": {
      "text/plain": [
       "194"
      ]
     },
     "execution_count": 8,
     "metadata": {},
     "output_type": "execute_result"
    }
   ],
   "source": [
    "hat['chick'].sum() #합계"
   ]
  },
  {
   "cell_type": "code",
   "execution_count": 9,
   "id": "a18e99bc",
   "metadata": {},
   "outputs": [
    {
     "data": {
      "text/plain": [
       "27.714285714285715"
      ]
     },
     "execution_count": 9,
     "metadata": {},
     "output_type": "execute_result"
    }
   ],
   "source": [
    "hat['chick'].mean()  #평균"
   ]
  },
  {
   "cell_type": "code",
   "execution_count": 10,
   "id": "d296bfaf",
   "metadata": {},
   "outputs": [
    {
     "data": {
      "text/plain": [
       "2.2146697055682827"
      ]
     },
     "execution_count": 10,
     "metadata": {},
     "output_type": "execute_result"
    }
   ],
   "source": [
    "hat['chick'].std() #표준편차"
   ]
  },
  {
   "cell_type": "code",
   "execution_count": 11,
   "id": "612bb508",
   "metadata": {},
   "outputs": [
    {
     "data": {
      "text/plain": [
       "28.0"
      ]
     },
     "execution_count": 11,
     "metadata": {},
     "output_type": "execute_result"
    }
   ],
   "source": [
    "hat['chick'].median() #중앙값"
   ]
  },
  {
   "cell_type": "code",
   "execution_count": 12,
   "id": "cced45dd",
   "metadata": {},
   "outputs": [
    {
     "data": {
      "text/plain": [
       "24"
      ]
     },
     "execution_count": 12,
     "metadata": {},
     "output_type": "execute_result"
    }
   ],
   "source": [
    "hat['chick'].min() #최소값"
   ]
  },
  {
   "cell_type": "code",
   "execution_count": 13,
   "id": "62f90f89",
   "metadata": {},
   "outputs": [
    {
     "data": {
      "text/plain": [
       "30"
      ]
     },
     "execution_count": 13,
     "metadata": {},
     "output_type": "execute_result"
    }
   ],
   "source": [
    "hat['chick'].max() #최대값"
   ]
  },
  {
   "cell_type": "markdown",
   "id": "5c1b2a67",
   "metadata": {},
   "source": [
    "### 1-4 데이터 정렬하기"
   ]
  },
  {
   "cell_type": "code",
   "execution_count": 16,
   "id": "79c83569",
   "metadata": {},
   "outputs": [
    {
     "data": {
      "text/html": [
       "<div>\n",
       "<style scoped>\n",
       "    .dataframe tbody tr th:only-of-type {\n",
       "        vertical-align: middle;\n",
       "    }\n",
       "\n",
       "    .dataframe tbody tr th {\n",
       "        vertical-align: top;\n",
       "    }\n",
       "\n",
       "    .dataframe thead th {\n",
       "        text-align: right;\n",
       "    }\n",
       "</style>\n",
       "<table border=\"1\" class=\"dataframe\">\n",
       "  <thead>\n",
       "    <tr style=\"text-align: right;\">\n",
       "      <th></th>\n",
       "      <th>hatchery</th>\n",
       "      <th>chick</th>\n",
       "    </tr>\n",
       "  </thead>\n",
       "  <tbody>\n",
       "    <tr>\n",
       "      <th>4</th>\n",
       "      <td>E</td>\n",
       "      <td>24</td>\n",
       "    </tr>\n",
       "    <tr>\n",
       "      <th>3</th>\n",
       "      <td>D</td>\n",
       "      <td>26</td>\n",
       "    </tr>\n",
       "    <tr>\n",
       "      <th>6</th>\n",
       "      <td>G</td>\n",
       "      <td>27</td>\n",
       "    </tr>\n",
       "    <tr>\n",
       "      <th>5</th>\n",
       "      <td>F</td>\n",
       "      <td>28</td>\n",
       "    </tr>\n",
       "    <tr>\n",
       "      <th>2</th>\n",
       "      <td>C</td>\n",
       "      <td>29</td>\n",
       "    </tr>\n",
       "    <tr>\n",
       "      <th>0</th>\n",
       "      <td>A</td>\n",
       "      <td>30</td>\n",
       "    </tr>\n",
       "    <tr>\n",
       "      <th>1</th>\n",
       "      <td>B</td>\n",
       "      <td>30</td>\n",
       "    </tr>\n",
       "  </tbody>\n",
       "</table>\n",
       "</div>"
      ],
      "text/plain": [
       "  hatchery  chick\n",
       "4        E     24\n",
       "3        D     26\n",
       "6        G     27\n",
       "5        F     28\n",
       "2        C     29\n",
       "0        A     30\n",
       "1        B     30"
      ]
     },
     "execution_count": 16,
     "metadata": {},
     "output_type": "execute_result"
    }
   ],
   "source": [
    "# 데이터 정렬하기, chick열을 기준으로 오름차순 정렬\n",
    "hat.sort_values(by=['chick'],ascending=True)"
   ]
  },
  {
   "cell_type": "markdown",
   "id": "9038dca2",
   "metadata": {},
   "source": [
    "### 1-5 막대 그래프 그려보기"
   ]
  },
  {
   "cell_type": "code",
   "execution_count": 18,
   "id": "a133b9d6",
   "metadata": {},
   "outputs": [
    {
     "data": {
      "image/png": "[encoded data removed]",
      "text/plain": [
       "<Figure size 640x480 with 1 Axes>"
      ]
     },
     "metadata": {},
     "output_type": "display_data"
    }
   ],
   "source": [
    "# 그래프용 matplotlib.pyplot 모듈 불러오기 및 plt라는 약어로 지정\n",
    "import matplotlib.pyplot as plt\n",
    "# 막대 그래프 그리기\n",
    "plt.bar(hat['hatchery'],hat['chick'])\n",
    "plt.show()"
   ]
  },
  {
   "cell_type": "code",
   "execution_count": 20,
   "id": "fc8c94b4",
   "metadata": {},
   "outputs": [
    {
     "data": {
      "image/png": "[encoded data removed]",
      "text/plain": [
       "<Figure size 1000x700 with 1 Axes>"
      ]
     },
     "metadata": {},
     "output_type": "display_data"
    }
   ],
   "source": [
    "# 막대 그래프 그리기, 다양한 파라미터 추가\n",
    "plt.figure(figsize=(10,7))\n",
    "plt.bar(hat['hatchery'],hat['chick'], color=('red','orange','yellow','green','blue','navy','purple'))\n",
    "plt.title('부화장별 병아리 부화현황')\n",
    "plt.xlabel('부화장')\n",
    "plt.ylabel('부화마릿수')\n",
    "plt.show()"
   ]
  },
  {
   "cell_type": "markdown",
   "id": "2166f1bc",
   "metadata": {},
   "source": [
    "### 1-6 한글 폰트 지정 및 그래프 색상 바꿔보기"
   ]
  },
  {
   "cell_type": "code",
   "execution_count": 7,
   "id": "0bcf1f05",
   "metadata": {},
   "outputs": [],
   "source": [
    "# 그래프 한글 깨짐 문제 해결을 위해 맑은고딕 폰트 지정\n",
    "from matplotlib import font_manager, rc\n",
    "font_path = \"c:/Windows/Fonts/malgun.ttf\"\n",
    "font_name = font_manager.FontProperties(fname=font_path).get_name()\n",
    "rc('font', family=font_name)"
   ]
  },
  {
   "cell_type": "code",
   "execution_count": 22,
   "id": "99ed3ecf",
   "metadata": {},
   "outputs": [
    {
     "data": {
      "image/png": "[encoded data removed]",
      "text/plain": [
       "<Figure size 1000x700 with 1 Axes>"
      ]
     },
     "metadata": {},
     "output_type": "display_data"
    }
   ],
   "source": [
    "# 예쁜 색상 지정을 위한 seaborn 패키지 불러오기\n",
    "import seaborn as sns\n",
    "col7=sns.color_palette('Pastel2',7)\n",
    "plt.figure(figsize=(10,7))\n",
    "plt.bar(hat['hatchery'],hat['chick'], color=col7, edgecolor='black')\n",
    "plt.title('부화장별 병아리 부화현황')\n",
    "plt.xlabel('부화장')\n",
    "plt.ylabel('부화마릿수')\n",
    "plt.show()"
   ]
  },
  {
   "cell_type": "markdown",
   "id": "c2ffeda3",
   "metadata": {},
   "source": [
    "### 1-7 그래프 위에 텍스트 추가하기"
   ]
  },
  {
   "cell_type": "code",
   "execution_count": 23,
   "id": "a7700b9c",
   "metadata": {},
   "outputs": [],
   "source": [
    "# 텍스트 추가 사용자 정의 함수 만들기\n",
    "def addtext(x,y):\n",
    "    for i in range(len(x)):\n",
    "        plt.text(i, y[i]+0.5, y[i], ha='center')"
   ]
  },
  {
   "cell_type": "code",
   "execution_count": 24,
   "id": "4e5ff3e7",
   "metadata": {},
   "outputs": [
    {
     "data": {
      "image/png": "[encoded data removed]",
      "text/plain": [
       "<Figure size 1000x700 with 1 Axes>"
      ]
     },
     "metadata": {},
     "output_type": "display_data"
    }
   ],
   "source": [
    "# 막대 위에 택스트 추가하기\n",
    "col7=sns.color_palette('Pastel2',7)\n",
    "plt.figure(figsize=(10,7))\n",
    "plt.bar(hat['hatchery'],hat['chick'], color=col7, edgecolor='black')\n",
    "addtext(hat['hatchery'],hat['chick']) #텍스트 표시 사용자 정의 함수 추가\n",
    "plt.title('부화장별 병아리 부화현황', fontsize=17)\n",
    "plt.xlabel('부화장')\n",
    "plt.ylabel('부화마릿수')\n",
    "plt.show()"
   ]
  },
  {
   "cell_type": "markdown",
   "id": "0de1e316",
   "metadata": {},
   "source": [
    "### 1-8 그래프 위에 선 추가하기"
   ]
  },
  {
   "cell_type": "code",
   "execution_count": 25,
   "id": "292370c8",
   "metadata": {},
   "outputs": [
    {
     "data": {
      "image/png": "[encoded data removed]",
      "text/plain": [
       "<Figure size 1000x700 with 1 Axes>"
      ]
     },
     "metadata": {},
     "output_type": "display_data"
    }
   ],
   "source": [
    "# 빨간색 수평선 추가하기\n",
    "col7=sns.color_palette('Pastel2', 7)\n",
    "plt.figure(figsize=(10,7))\n",
    "plt.bar(hat['hatchery'], hat['chick'], color=col7, edgecolor='black')\n",
    "addtext(hat['hatchery'],hat['chick']) #텍스트 표시 사용자 정의 함수 추가\n",
    "plt.hlines(30, -1, 7, colors='red', linestyles='dashed')\n",
    "plt.title('부화장별 병아리 부화현황', fontsize=17)\n",
    "plt.xlabel('부화장')\n",
    "plt.ylabel('부화마릿수')\n",
    "plt.show()"
   ]
  },
  {
   "cell_type": "markdown",
   "id": "9231c0cd",
   "metadata": {},
   "source": [
    "### 1-9 파이 차트 그려보기"
   ]
  },
  {
   "cell_type": "code",
   "execution_count": 26,
   "id": "756a2df8",
   "metadata": {},
   "outputs": [
    {
     "data": {
      "text/plain": [
       "0    0.154639\n",
       "1    0.154639\n",
       "2    0.149485\n",
       "3    0.134021\n",
       "4    0.123711\n",
       "5    0.144330\n",
       "6    0.139175\n",
       "Name: chick, dtype: float64"
      ]
     },
     "execution_count": 26,
     "metadata": {},
     "output_type": "execute_result"
    }
   ],
   "source": [
    "# 파이 차트를 그리기 위해 비율 계산\n",
    "pct=hat['chick']/hat['chick'].sum()\n",
    "pct"
   ]
  },
  {
   "cell_type": "code",
   "execution_count": 27,
   "id": "6a7a0bed",
   "metadata": {},
   "outputs": [
    {
     "data": {
      "image/png": "[encoded data removed]",
      "text/plain": [
       "<Figure size 1000x1000 with 1 Axes>"
      ]
     },
     "metadata": {},
     "output_type": "display_data"
    }
   ],
   "source": [
    "# 파이 차트 그리기\n",
    "col7=sns.color_palette('Pastel2', 7)\n",
    "plt.figure(figsize=(10,10))\n",
    "plt.pie(pct, labels=hat['hatchery'], autopct='%.1f%%', colors=col7, startangle=90, counterclock=False)\n",
    "plt.show()"
   ]
  },
  {
   "cell_type": "markdown",
   "id": "eac76f6b",
   "metadata": {},
   "source": [
    "## 02 부화한 병아리들의 몸무게는 얼마일가? (정규분포와 중심극한정리)"
   ]
  },
  {
   "cell_type": "markdown",
   "id": "215f22bb",
   "metadata": {},
   "source": [
    "### 2-1 데이터 불러와서 구조와 유형 확인하기"
   ]
  },
  {
   "cell_type": "code",
   "execution_count": 3,
   "id": "9887e055",
   "metadata": {},
   "outputs": [
    {
     "data": {
      "text/html": [
       "<div>\n",
       "<style scoped>\n",
       "    .dataframe tbody tr th:only-of-type {\n",
       "        vertical-align: middle;\n",
       "    }\n",
       "\n",
       "    .dataframe tbody tr th {\n",
       "        vertical-align: top;\n",
       "    }\n",
       "\n",
       "    .dataframe thead th {\n",
       "        text-align: right;\n",
       "    }\n",
       "</style>\n",
       "<table border=\"1\" class=\"dataframe\">\n",
       "  <thead>\n",
       "    <tr style=\"text-align: right;\">\n",
       "      <th></th>\n",
       "      <th>chick_nm</th>\n",
       "      <th>weight</th>\n",
       "    </tr>\n",
       "  </thead>\n",
       "  <tbody>\n",
       "    <tr>\n",
       "      <th>0</th>\n",
       "      <td>b01</td>\n",
       "      <td>37</td>\n",
       "    </tr>\n",
       "    <tr>\n",
       "      <th>1</th>\n",
       "      <td>b02</td>\n",
       "      <td>39</td>\n",
       "    </tr>\n",
       "    <tr>\n",
       "      <th>2</th>\n",
       "      <td>b03</td>\n",
       "      <td>41</td>\n",
       "    </tr>\n",
       "    <tr>\n",
       "      <th>3</th>\n",
       "      <td>b04</td>\n",
       "      <td>45</td>\n",
       "    </tr>\n",
       "    <tr>\n",
       "      <th>4</th>\n",
       "      <td>b05</td>\n",
       "      <td>37</td>\n",
       "    </tr>\n",
       "  </tbody>\n",
       "</table>\n",
       "</div>"
      ],
      "text/plain": [
       "  chick_nm  weight\n",
       "0      b01      37\n",
       "1      b02      39\n",
       "2      b03      41\n",
       "3      b04      45\n",
       "4      b05      37"
      ]
     },
     "execution_count": 3,
     "metadata": {},
     "output_type": "execute_result"
    }
   ],
   "source": [
    "# pandas 패키지 불러오기 및 pd라는 약어로 지정하기\n",
    "import pandas as pd\n",
    "b = pd.read_csv('ch4-2.csv') # b변수에 데이터 셋 입력\n",
    "b.head() # 데이터 상위 5개만 확인"
   ]
  },
  {
   "cell_type": "code",
   "execution_count": 4,
   "id": "cd707cf9",
   "metadata": {},
   "outputs": [
    {
     "name": "stdout",
     "output_type": "stream",
     "text": [
      "<class 'pandas.core.frame.DataFrame'>\n",
      "RangeIndex: 30 entries, 0 to 29\n",
      "Data columns (total 2 columns):\n",
      " #   Column    Non-Null Count  Dtype \n",
      "---  ------    --------------  ----- \n",
      " 0   chick_nm  30 non-null     object\n",
      " 1   weight    30 non-null     int64 \n",
      "dtypes: int64(1), object(1)\n",
      "memory usage: 612.0+ bytes\n"
     ]
    }
   ],
   "source": [
    "b.info() # b 데이터 셋 정보 확인"
   ]
  },
  {
   "cell_type": "markdown",
   "id": "723c3bd7",
   "metadata": {},
   "source": [
    "### 2-2 통계량으로 분포 확인하기"
   ]
  },
  {
   "cell_type": "code",
   "execution_count": 5,
   "id": "b532402c",
   "metadata": {},
   "outputs": [
    {
     "data": {
      "text/html": [
       "<div>\n",
       "<style scoped>\n",
       "    .dataframe tbody tr th:only-of-type {\n",
       "        vertical-align: middle;\n",
       "    }\n",
       "\n",
       "    .dataframe tbody tr th {\n",
       "        vertical-align: top;\n",
       "    }\n",
       "\n",
       "    .dataframe thead th {\n",
       "        text-align: right;\n",
       "    }\n",
       "</style>\n",
       "<table border=\"1\" class=\"dataframe\">\n",
       "  <thead>\n",
       "    <tr style=\"text-align: right;\">\n",
       "      <th></th>\n",
       "      <th>weight</th>\n",
       "    </tr>\n",
       "  </thead>\n",
       "  <tbody>\n",
       "    <tr>\n",
       "      <th>count</th>\n",
       "      <td>30.000000</td>\n",
       "    </tr>\n",
       "    <tr>\n",
       "      <th>mean</th>\n",
       "      <td>38.400000</td>\n",
       "    </tr>\n",
       "    <tr>\n",
       "      <th>std</th>\n",
       "      <td>3.286335</td>\n",
       "    </tr>\n",
       "    <tr>\n",
       "      <th>min</th>\n",
       "      <td>31.000000</td>\n",
       "    </tr>\n",
       "    <tr>\n",
       "      <th>25%</th>\n",
       "      <td>36.250000</td>\n",
       "    </tr>\n",
       "    <tr>\n",
       "      <th>50%</th>\n",
       "      <td>39.000000</td>\n",
       "    </tr>\n",
       "    <tr>\n",
       "      <th>75%</th>\n",
       "      <td>40.750000</td>\n",
       "    </tr>\n",
       "    <tr>\n",
       "      <th>max</th>\n",
       "      <td>45.000000</td>\n",
       "    </tr>\n",
       "  </tbody>\n",
       "</table>\n",
       "</div>"
      ],
      "text/plain": [
       "          weight\n",
       "count  30.000000\n",
       "mean   38.400000\n",
       "std     3.286335\n",
       "min    31.000000\n",
       "25%    36.250000\n",
       "50%    39.000000\n",
       "75%    40.750000\n",
       "max    45.000000"
      ]
     },
     "execution_count": 5,
     "metadata": {},
     "output_type": "execute_result"
    }
   ],
   "source": [
    "b.describe() #b 데이터 셋 기초 통계량 확인"
   ]
  },
  {
   "cell_type": "markdown",
   "id": "c7040412",
   "metadata": {},
   "source": [
    "### 2-3 히스토그램으로 분포 확인하기"
   ]
  },
  {
   "cell_type": "code",
   "execution_count": 8,
   "id": "06e2b5e4",
   "metadata": {},
   "outputs": [
    {
     "data": {
      "image/png": "[encoded data removed]",
      "text/plain": [
       "<Figure size 1000x700 with 1 Axes>"
      ]
     },
     "metadata": {},
     "output_type": "display_data"
    }
   ],
   "source": [
    "# 그래프용 matplolib.pyplot 모듈 불러오기 및 plt라는 약어로 지정하기\n",
    "import matplotlib.pyplot as plt\n",
    "# 히스토그램 그리기\n",
    "plt.figure(figsize=(10,7))\n",
    "plt.hist(b.weight, bins = 7)\n",
    "plt.title('B 부화장 병아리 무게 분포 현황', fontsize=17)\n",
    "plt.xlabel('병아리 무게(g)')\n",
    "plt.ylabel('마릿수')\n",
    "plt.show()"
   ]
  },
  {
   "cell_type": "markdown",
   "id": "72b3b2c4",
   "metadata": {},
   "source": [
    "### 2-4 상자그림으로 분포 확인하기"
   ]
  },
  {
   "cell_type": "code",
   "execution_count": 10,
   "id": "846b94a8",
   "metadata": {},
   "outputs": [
    {
     "data": {
      "image/png": "[encoded data removed]",
      "text/plain": [
       "<Figure size 800x1000 with 1 Axes>"
      ]
     },
     "metadata": {},
     "output_type": "display_data"
    }
   ],
   "source": [
    "# 상자그림 그리기\n",
    "plt.figure(figsize=(8,10))\n",
    "plt.boxplot(b.weight)\n",
    "plt.title('B 부화장 병아리 무게 상자그림', fontsize=17)\n",
    "plt.ylabel('병아리 무게(g)')\n",
    "plt.show()"
   ]
  },
  {
   "cell_type": "markdown",
   "id": "61f6898d",
   "metadata": {},
   "source": [
    "### 2-5 다중 그래프로 분포 확인하기"
   ]
  },
  {
   "cell_type": "code",
   "execution_count": 12,
   "id": "7cbe890c",
   "metadata": {},
   "outputs": [
    {
     "data": {
      "image/png": "[encoded data removed]",
      "text/plain": [
       "<Figure size 1000x1200 with 2 Axes>"
      ]
     },
     "metadata": {},
     "output_type": "display_data"
    }
   ],
   "source": [
    "# 히스토그램과 상자그림 한꺼번에 표시\n",
    "plt.figure(figsize=(10,12))\n",
    "plt.subplot(2,1,1)\n",
    "plt.hist(b.weight, bins=7)\n",
    "plt.title('B 부화장 병아리 무게 분포 현황', fontsize=17)\n",
    "plt.subplot(2,1,2)\n",
    "plt.boxplot(b.weight, vert=False)\n",
    "plt.show()"
   ]
  },
  {
   "cell_type": "markdown",
   "id": "2afcfbee",
   "metadata": {},
   "source": [
    "## 03 사료 제조사별 성능 차이가 있을까?"
   ]
  },
  {
   "cell_type": "markdown",
   "id": "6c64c237",
   "metadata": {},
   "source": [
    "### 3-1 데이터 불러와서 확인하기"
   ]
  },
  {
   "cell_type": "code",
   "execution_count": 14,
   "id": "99a08d21",
   "metadata": {},
   "outputs": [
    {
     "data": {
      "text/html": [
       "<div>\n",
       "<style scoped>\n",
       "    .dataframe tbody tr th:only-of-type {\n",
       "        vertical-align: middle;\n",
       "    }\n",
       "\n",
       "    .dataframe tbody tr th {\n",
       "        vertical-align: top;\n",
       "    }\n",
       "\n",
       "    .dataframe thead th {\n",
       "        text-align: right;\n",
       "    }\n",
       "</style>\n",
       "<table border=\"1\" class=\"dataframe\">\n",
       "  <thead>\n",
       "    <tr style=\"text-align: right;\">\n",
       "      <th></th>\n",
       "      <th>hatchery</th>\n",
       "      <th>chick_nm</th>\n",
       "      <th>weight</th>\n",
       "    </tr>\n",
       "  </thead>\n",
       "  <tbody>\n",
       "    <tr>\n",
       "      <th>0</th>\n",
       "      <td>A</td>\n",
       "      <td>a01</td>\n",
       "      <td>112</td>\n",
       "    </tr>\n",
       "    <tr>\n",
       "      <th>1</th>\n",
       "      <td>A</td>\n",
       "      <td>a05</td>\n",
       "      <td>116</td>\n",
       "    </tr>\n",
       "    <tr>\n",
       "      <th>2</th>\n",
       "      <td>A</td>\n",
       "      <td>a09</td>\n",
       "      <td>106</td>\n",
       "    </tr>\n",
       "    <tr>\n",
       "      <th>3</th>\n",
       "      <td>A</td>\n",
       "      <td>a12</td>\n",
       "      <td>104</td>\n",
       "    </tr>\n",
       "    <tr>\n",
       "      <th>4</th>\n",
       "      <td>A</td>\n",
       "      <td>a15</td>\n",
       "      <td>116</td>\n",
       "    </tr>\n",
       "    <tr>\n",
       "      <th>5</th>\n",
       "      <td>A</td>\n",
       "      <td>a17</td>\n",
       "      <td>118</td>\n",
       "    </tr>\n",
       "    <tr>\n",
       "      <th>6</th>\n",
       "      <td>A</td>\n",
       "      <td>a26</td>\n",
       "      <td>110</td>\n",
       "    </tr>\n",
       "    <tr>\n",
       "      <th>7</th>\n",
       "      <td>A</td>\n",
       "      <td>a28</td>\n",
       "      <td>112</td>\n",
       "    </tr>\n",
       "    <tr>\n",
       "      <th>8</th>\n",
       "      <td>A</td>\n",
       "      <td>a29</td>\n",
       "      <td>106</td>\n",
       "    </tr>\n",
       "    <tr>\n",
       "      <th>9</th>\n",
       "      <td>A</td>\n",
       "      <td>a30</td>\n",
       "      <td>108</td>\n",
       "    </tr>\n",
       "    <tr>\n",
       "      <th>10</th>\n",
       "      <td>B</td>\n",
       "      <td>b01</td>\n",
       "      <td>100</td>\n",
       "    </tr>\n",
       "    <tr>\n",
       "      <th>11</th>\n",
       "      <td>B</td>\n",
       "      <td>b02</td>\n",
       "      <td>110</td>\n",
       "    </tr>\n",
       "    <tr>\n",
       "      <th>12</th>\n",
       "      <td>B</td>\n",
       "      <td>b07</td>\n",
       "      <td>98</td>\n",
       "    </tr>\n",
       "    <tr>\n",
       "      <th>13</th>\n",
       "      <td>B</td>\n",
       "      <td>b11</td>\n",
       "      <td>100</td>\n",
       "    </tr>\n",
       "    <tr>\n",
       "      <th>14</th>\n",
       "      <td>B</td>\n",
       "      <td>b13</td>\n",
       "      <td>104</td>\n",
       "    </tr>\n",
       "    <tr>\n",
       "      <th>15</th>\n",
       "      <td>B</td>\n",
       "      <td>b17</td>\n",
       "      <td>112</td>\n",
       "    </tr>\n",
       "    <tr>\n",
       "      <th>16</th>\n",
       "      <td>B</td>\n",
       "      <td>b22</td>\n",
       "      <td>106</td>\n",
       "    </tr>\n",
       "    <tr>\n",
       "      <th>17</th>\n",
       "      <td>B</td>\n",
       "      <td>b27</td>\n",
       "      <td>106</td>\n",
       "    </tr>\n",
       "    <tr>\n",
       "      <th>18</th>\n",
       "      <td>B</td>\n",
       "      <td>b28</td>\n",
       "      <td>96</td>\n",
       "    </tr>\n",
       "    <tr>\n",
       "      <th>19</th>\n",
       "      <td>B</td>\n",
       "      <td>b30</td>\n",
       "      <td>110</td>\n",
       "    </tr>\n",
       "  </tbody>\n",
       "</table>\n",
       "</div>"
      ],
      "text/plain": [
       "   hatchery chick_nm  weight\n",
       "0         A      a01     112\n",
       "1         A      a05     116\n",
       "2         A      a09     106\n",
       "3         A      a12     104\n",
       "4         A      a15     116\n",
       "5         A      a17     118\n",
       "6         A      a26     110\n",
       "7         A      a28     112\n",
       "8         A      a29     106\n",
       "9         A      a30     108\n",
       "10        B      b01     100\n",
       "11        B      b02     110\n",
       "12        B      b07      98\n",
       "13        B      b11     100\n",
       "14        B      b13     104\n",
       "15        B      b17     112\n",
       "16        B      b22     106\n",
       "17        B      b27     106\n",
       "18        B      b28      96\n",
       "19        B      b30     110"
      ]
     },
     "execution_count": 14,
     "metadata": {},
     "output_type": "execute_result"
    }
   ],
   "source": [
    "# pandas 패키지 불러오기 및 pd라는 약어로 지칭하기\n",
    "import pandas as pd\n",
    "test=pd.read_csv('ch4-3.csv') # test 변수에 데이터 셋 입력\n",
    "test"
   ]
  },
  {
   "cell_type": "markdown",
   "id": "fedf3623",
   "metadata": {},
   "source": [
    "### 3-2 상자그림으로 분포 비교하기"
   ]
  },
  {
   "cell_type": "code",
   "execution_count": 16,
   "id": "d45f9381",
   "metadata": {},
   "outputs": [
    {
     "data": {
      "image/png": "[encoded data removed]",
      "text/plain": [
       "<Figure size 1000x700 with 1 Axes>"
      ]
     },
     "metadata": {},
     "output_type": "display_data"
    }
   ],
   "source": [
    "# seaborn 패키지 이용 그룹별 상자그림 그리기\n",
    "import seaborn as sns\n",
    "plt.figure(figsize=(10,7))\n",
    "sns.boxplot(x='weight', y='hatchery', data=test)\n",
    "plt.title('부화장 A vs. B 몸무게 분포 비교', fontsize=17)\n",
    "plt.show()"
   ]
  },
  {
   "cell_type": "markdown",
   "id": "fdf9e333",
   "metadata": {},
   "source": [
    "### 3-3 정규분포인지 검정하기"
   ]
  },
  {
   "cell_type": "code",
   "execution_count": 24,
   "id": "0320e3ac",
   "metadata": {},
   "outputs": [
    {
     "data": {
      "text/plain": [
       "ShapiroResult(statistic=0.9400018453598022, pvalue=0.5530338883399963)"
      ]
     },
     "execution_count": 24,
     "metadata": {},
     "output_type": "execute_result"
    }
   ],
   "source": [
    "# 가설검정을 위한 scipy 패키지 불러오기 및 sp라는 약어로 지칭하기\n",
    "import scipy as sp\n",
    "# 부화장 A만 별도로 데이터 셋 구성\n",
    "test_a = test.loc[test.hatchery=='A','weight']\n",
    "# 부화장 B만 별도로 데이터 셋 구성\n",
    "test_b = test.loc[test.hatchery=='B','weight']\n",
    "# 부화장 A 샤피로-윌크 검정 실시\n",
    "sp.stats.shapiro(test_a)"
   ]
  },
  {
   "cell_type": "code",
   "execution_count": 25,
   "id": "443837b6",
   "metadata": {},
   "outputs": [
    {
     "data": {
      "text/plain": [
       "ShapiroResult(statistic=0.9390683770179749, pvalue=0.5426943302154541)"
      ]
     },
     "execution_count": 25,
     "metadata": {},
     "output_type": "execute_result"
    }
   ],
   "source": [
    "# 부화장 B 샤피로-윌크 검정 실시\n",
    "sp.stats.shapiro(test_b)"
   ]
  },
  {
   "cell_type": "markdown",
   "id": "a5b30fe2",
   "metadata": {},
   "source": [
    "### t-test로 두 집간 간 평균 검정하기"
   ]
  },
  {
   "cell_type": "code",
   "execution_count": 26,
   "id": "3dc40dac",
   "metadata": {},
   "outputs": [
    {
     "data": {
      "text/plain": [
       "TtestResult(statistic=2.842528280230058, pvalue=0.010803990633924202, df=18.0)"
      ]
     },
     "execution_count": 26,
     "metadata": {},
     "output_type": "execute_result"
    }
   ],
   "source": [
    "# 부화장 A,B 두 집단 간 평균 검정\n",
    "sp.stats.ttest_ind(test_a, test_b)"
   ]
  },
  {
   "cell_type": "markdown",
   "id": "cf10719f",
   "metadata": {},
   "source": [
    "# CHAPTER 5 상관분석과 회귀분석"
   ]
  },
  {
   "cell_type": "markdown",
   "id": "14662d96",
   "metadata": {},
   "source": [
    "## 01 병아리의 성장에 영향을 미치는 인자는 무엇일까? (상관분석)"
   ]
  },
  {
   "cell_type": "markdown",
   "id": "f79a2370",
   "metadata": {},
   "source": [
    "### 1-1 상관분석이란?"
   ]
  },
  {
   "cell_type": "markdown",
   "id": "81e3bcfc",
   "metadata": {},
   "source": [
    "### 1-2 데이터 불러와서 확인하기"
   ]
  },
  {
   "cell_type": "code",
   "execution_count": 27,
   "id": "7ed02b04",
   "metadata": {},
   "outputs": [
    {
     "data": {
      "text/html": [
       "<div>\n",
       "<style scoped>\n",
       "    .dataframe tbody tr th:only-of-type {\n",
       "        vertical-align: middle;\n",
       "    }\n",
       "\n",
       "    .dataframe tbody tr th {\n",
       "        vertical-align: top;\n",
       "    }\n",
       "\n",
       "    .dataframe thead th {\n",
       "        text-align: right;\n",
       "    }\n",
       "</style>\n",
       "<table border=\"1\" class=\"dataframe\">\n",
       "  <thead>\n",
       "    <tr style=\"text-align: right;\">\n",
       "      <th></th>\n",
       "      <th>chick_nm</th>\n",
       "      <th>weight</th>\n",
       "      <th>egg_weight</th>\n",
       "      <th>movement</th>\n",
       "      <th>food</th>\n",
       "    </tr>\n",
       "  </thead>\n",
       "  <tbody>\n",
       "    <tr>\n",
       "      <th>0</th>\n",
       "      <td>a01</td>\n",
       "      <td>140</td>\n",
       "      <td>65</td>\n",
       "      <td>146</td>\n",
       "      <td>14</td>\n",
       "    </tr>\n",
       "    <tr>\n",
       "      <th>1</th>\n",
       "      <td>a02</td>\n",
       "      <td>128</td>\n",
       "      <td>62</td>\n",
       "      <td>153</td>\n",
       "      <td>12</td>\n",
       "    </tr>\n",
       "    <tr>\n",
       "      <th>2</th>\n",
       "      <td>a03</td>\n",
       "      <td>140</td>\n",
       "      <td>65</td>\n",
       "      <td>118</td>\n",
       "      <td>13</td>\n",
       "    </tr>\n",
       "    <tr>\n",
       "      <th>3</th>\n",
       "      <td>a04</td>\n",
       "      <td>135</td>\n",
       "      <td>65</td>\n",
       "      <td>157</td>\n",
       "      <td>13</td>\n",
       "    </tr>\n",
       "    <tr>\n",
       "      <th>4</th>\n",
       "      <td>a05</td>\n",
       "      <td>145</td>\n",
       "      <td>69</td>\n",
       "      <td>157</td>\n",
       "      <td>13</td>\n",
       "    </tr>\n",
       "  </tbody>\n",
       "</table>\n",
       "</div>"
      ],
      "text/plain": [
       "  chick_nm  weight  egg_weight  movement  food\n",
       "0      a01     140          65       146    14\n",
       "1      a02     128          62       153    12\n",
       "2      a03     140          65       118    13\n",
       "3      a04     135          65       157    13\n",
       "4      a05     145          69       157    13"
      ]
     },
     "execution_count": 27,
     "metadata": {},
     "output_type": "execute_result"
    }
   ],
   "source": [
    "# pandas 패키지 불러오기 및 pd라는 약어로 지칭하기\n",
    "import pandas as pd\n",
    "w = pd.read_csv('ch5-1.csv') # w변수에 데이터 셋 입력\n",
    "w.head() # 위에서부터 5개 데이터 확인"
   ]
  },
  {
   "cell_type": "code",
   "execution_count": 28,
   "id": "d67ad042",
   "metadata": {},
   "outputs": [
    {
     "name": "stdout",
     "output_type": "stream",
     "text": [
      "<class 'pandas.core.frame.DataFrame'>\n",
      "RangeIndex: 30 entries, 0 to 29\n",
      "Data columns (total 5 columns):\n",
      " #   Column      Non-Null Count  Dtype \n",
      "---  ------      --------------  ----- \n",
      " 0   chick_nm    30 non-null     object\n",
      " 1   weight      30 non-null     int64 \n",
      " 2   egg_weight  30 non-null     int64 \n",
      " 3   movement    30 non-null     int64 \n",
      " 4   food        30 non-null     int64 \n",
      "dtypes: int64(4), object(1)\n",
      "memory usage: 1.3+ KB\n"
     ]
    }
   ],
   "source": [
    "w.info() #데이터 구조 및 자료형 확인"
   ]
  },
  {
   "cell_type": "markdown",
   "id": "a1cb124c",
   "metadata": {},
   "source": [
    "### 1-3 상관분석을 위한 별도 데이터 셋 만들기"
   ]
  },
  {
   "cell_type": "code",
   "execution_count": 29,
   "id": "19b72ff8",
   "metadata": {},
   "outputs": [
    {
     "data": {
      "text/html": [
       "<div>\n",
       "<style scoped>\n",
       "    .dataframe tbody tr th:only-of-type {\n",
       "        vertical-align: middle;\n",
       "    }\n",
       "\n",
       "    .dataframe tbody tr th {\n",
       "        vertical-align: top;\n",
       "    }\n",
       "\n",
       "    .dataframe thead th {\n",
       "        text-align: right;\n",
       "    }\n",
       "</style>\n",
       "<table border=\"1\" class=\"dataframe\">\n",
       "  <thead>\n",
       "    <tr style=\"text-align: right;\">\n",
       "      <th></th>\n",
       "      <th>weight</th>\n",
       "      <th>egg_weight</th>\n",
       "      <th>movement</th>\n",
       "      <th>food</th>\n",
       "    </tr>\n",
       "  </thead>\n",
       "  <tbody>\n",
       "    <tr>\n",
       "      <th>0</th>\n",
       "      <td>140</td>\n",
       "      <td>65</td>\n",
       "      <td>146</td>\n",
       "      <td>14</td>\n",
       "    </tr>\n",
       "    <tr>\n",
       "      <th>1</th>\n",
       "      <td>128</td>\n",
       "      <td>62</td>\n",
       "      <td>153</td>\n",
       "      <td>12</td>\n",
       "    </tr>\n",
       "    <tr>\n",
       "      <th>2</th>\n",
       "      <td>140</td>\n",
       "      <td>65</td>\n",
       "      <td>118</td>\n",
       "      <td>13</td>\n",
       "    </tr>\n",
       "    <tr>\n",
       "      <th>3</th>\n",
       "      <td>135</td>\n",
       "      <td>65</td>\n",
       "      <td>157</td>\n",
       "      <td>13</td>\n",
       "    </tr>\n",
       "    <tr>\n",
       "      <th>4</th>\n",
       "      <td>145</td>\n",
       "      <td>69</td>\n",
       "      <td>157</td>\n",
       "      <td>13</td>\n",
       "    </tr>\n",
       "  </tbody>\n",
       "</table>\n",
       "</div>"
      ],
      "text/plain": [
       "   weight  egg_weight  movement  food\n",
       "0     140          65       146    14\n",
       "1     128          62       153    12\n",
       "2     140          65       118    13\n",
       "3     135          65       157    13\n",
       "4     145          69       157    13"
      ]
     },
     "execution_count": 29,
     "metadata": {},
     "output_type": "execute_result"
    }
   ],
   "source": [
    "# w데이터 셋에서 1~4열 데이터만 가져오기\n",
    "w_n = w.iloc[:, 1:5]\n",
    "w_n.head()"
   ]
  },
  {
   "cell_type": "markdown",
   "id": "5fc24455",
   "metadata": {},
   "source": [
    "### 1-4 상관분석 실시"
   ]
  },
  {
   "cell_type": "code",
   "execution_count": 32,
   "id": "a6cff9bf",
   "metadata": {},
   "outputs": [
    {
     "data": {
      "text/html": [
       "<div>\n",
       "<style scoped>\n",
       "    .dataframe tbody tr th:only-of-type {\n",
       "        vertical-align: middle;\n",
       "    }\n",
       "\n",
       "    .dataframe tbody tr th {\n",
       "        vertical-align: top;\n",
       "    }\n",
       "\n",
       "    .dataframe thead th {\n",
       "        text-align: right;\n",
       "    }\n",
       "</style>\n",
       "<table border=\"1\" class=\"dataframe\">\n",
       "  <thead>\n",
       "    <tr style=\"text-align: right;\">\n",
       "      <th></th>\n",
       "      <th>weight</th>\n",
       "      <th>egg_weight</th>\n",
       "      <th>movement</th>\n",
       "      <th>food</th>\n",
       "    </tr>\n",
       "  </thead>\n",
       "  <tbody>\n",
       "    <tr>\n",
       "      <th>weight</th>\n",
       "      <td>1.000000</td>\n",
       "      <td>0.957169</td>\n",
       "      <td>0.380719</td>\n",
       "      <td>0.877574</td>\n",
       "    </tr>\n",
       "    <tr>\n",
       "      <th>egg_weight</th>\n",
       "      <td>0.957169</td>\n",
       "      <td>1.000000</td>\n",
       "      <td>0.428246</td>\n",
       "      <td>0.808147</td>\n",
       "    </tr>\n",
       "    <tr>\n",
       "      <th>movement</th>\n",
       "      <td>0.380719</td>\n",
       "      <td>0.428246</td>\n",
       "      <td>1.000000</td>\n",
       "      <td>0.319011</td>\n",
       "    </tr>\n",
       "    <tr>\n",
       "      <th>food</th>\n",
       "      <td>0.877574</td>\n",
       "      <td>0.808147</td>\n",
       "      <td>0.319011</td>\n",
       "      <td>1.000000</td>\n",
       "    </tr>\n",
       "  </tbody>\n",
       "</table>\n",
       "</div>"
      ],
      "text/plain": [
       "              weight  egg_weight  movement      food\n",
       "weight      1.000000    0.957169  0.380719  0.877574\n",
       "egg_weight  0.957169    1.000000  0.428246  0.808147\n",
       "movement    0.380719    0.428246  1.000000  0.319011\n",
       "food        0.877574    0.808147  0.319011  1.000000"
      ]
     },
     "execution_count": 32,
     "metadata": {},
     "output_type": "execute_result"
    }
   ],
   "source": [
    "# 상관분석 실시\n",
    "w_cor=w_n.corr(method='pearson')\n",
    "w_cor"
   ]
  },
  {
   "cell_type": "markdown",
   "id": "0caef03b",
   "metadata": {},
   "source": [
    "### 1-5 상관분석 결과 표현하기"
   ]
  },
  {
   "cell_type": "code",
   "execution_count": 33,
   "id": "39a9c3b8",
   "metadata": {},
   "outputs": [
    {
     "name": "stderr",
     "output_type": "stream",
     "text": [
      "C:\\ProgramData\\anaconda3\\Lib\\site-packages\\seaborn\\axisgrid.py:118: UserWarning: The figure layout has changed to tight\n",
      "  self._figure.tight_layout(*args, **kwargs)\n"
     ]
    },
    {
     "data": {
      "text/plain": [
       "<seaborn.axisgrid.PairGrid at 0x2b8ff7e7e10>"
      ]
     },
     "execution_count": 33,
     "metadata": {},
     "output_type": "execute_result"
    },
    {
     "data": {
      "image/png": "[encoded data removed]",
      "text/plain": [
       "<Figure size 1000x1000 with 20 Axes>"
      ]
     },
     "metadata": {},
     "output_type": "display_data"
    }
   ],
   "source": [
    "# 상관관계 시각화를 위한 모듈 불러오기\n",
    "import matplotlib.pyplot as plt\n",
    "import seaborn as sns\n",
    "sns.pairplot(w_n)"
   ]
  },
  {
   "cell_type": "code",
   "execution_count": 34,
   "id": "4be6726c",
   "metadata": {},
   "outputs": [
    {
     "data": {
      "image/png": "[encoded data removed]",
      "text/plain": [
       "<Figure size 1000x600 with 2 Axes>"
      ]
     },
     "metadata": {},
     "output_type": "display_data"
    }
   ],
   "source": [
    "# 상관행렬도 그리기\n",
    "plt.figure(figsize=(10,6))\n",
    "sns.heatmap(w_cor, annot=True, cmap='Blues')\n",
    "plt.show()"
   ]
  },
  {
   "cell_type": "markdown",
   "id": "77b7721b",
   "metadata": {},
   "source": [
    "## 02 병아리의 몸무게를 예측할 수 있을까? (회귀분석)"
   ]
  },
  {
   "cell_type": "markdown",
   "id": "1f3fa25c",
   "metadata": {},
   "source": [
    "### 2-1 회귀분석이란?"
   ]
  },
  {
   "cell_type": "markdown",
   "id": "df251ec0",
   "metadata": {},
   "source": [
    "### 2-2 단순 선형 회귀분석"
   ]
  },
  {
   "cell_type": "code",
   "execution_count": 71,
   "id": "ffb2ab78",
   "metadata": {},
   "outputs": [
    {
     "data": {
      "text/html": [
       "<table class=\"simpletable\">\n",
       "<caption>OLS Regression Results</caption>\n",
       "<tr>\n",
       "  <th>Dep. Variable:</th>         <td>weight</td>      <th>  R-squared:         </th> <td>   0.916</td>\n",
       "</tr>\n",
       "<tr>\n",
       "  <th>Model:</th>                   <td>OLS</td>       <th>  Adj. R-squared:    </th> <td>   0.913</td>\n",
       "</tr>\n",
       "<tr>\n",
       "  <th>Method:</th>             <td>Least Squares</td>  <th>  F-statistic:       </th> <td>   306.0</td>\n",
       "</tr>\n",
       "<tr>\n",
       "  <th>Date:</th>             <td>Mon, 11 Mar 2024</td> <th>  Prob (F-statistic):</th> <td>1.32e-16</td>\n",
       "</tr>\n",
       "<tr>\n",
       "  <th>Time:</th>                 <td>16:42:24</td>     <th>  Log-Likelihood:    </th> <td> -63.148</td>\n",
       "</tr>\n",
       "<tr>\n",
       "  <th>No. Observations:</th>      <td>    30</td>      <th>  AIC:               </th> <td>   130.3</td>\n",
       "</tr>\n",
       "<tr>\n",
       "  <th>Df Residuals:</th>          <td>    28</td>      <th>  BIC:               </th> <td>   133.1</td>\n",
       "</tr>\n",
       "<tr>\n",
       "  <th>Df Model:</th>              <td>     1</td>      <th>                     </th>     <td> </td>   \n",
       "</tr>\n",
       "<tr>\n",
       "  <th>Covariance Type:</th>      <td>nonrobust</td>    <th>                     </th>     <td> </td>   \n",
       "</tr>\n",
       "</table>\n",
       "<table class=\"simpletable\">\n",
       "<tr>\n",
       "       <td></td>         <th>coef</th>     <th>std err</th>      <th>t</th>      <th>P>|t|</th>  <th>[0.025</th>    <th>0.975]</th>  \n",
       "</tr>\n",
       "<tr>\n",
       "  <th>Intercept</th>  <td>  -14.5475</td> <td>    8.705</td> <td>   -1.671</td> <td> 0.106</td> <td>  -32.380</td> <td>    3.285</td>\n",
       "</tr>\n",
       "<tr>\n",
       "  <th>egg_weight</th> <td>    2.3371</td> <td>    0.134</td> <td>   17.493</td> <td> 0.000</td> <td>    2.063</td> <td>    2.611</td>\n",
       "</tr>\n",
       "</table>\n",
       "<table class=\"simpletable\">\n",
       "<tr>\n",
       "  <th>Omnibus:</th>       <td>15.078</td> <th>  Durbin-Watson:     </th> <td>   1.998</td>\n",
       "</tr>\n",
       "<tr>\n",
       "  <th>Prob(Omnibus):</th> <td> 0.001</td> <th>  Jarque-Bera (JB):  </th> <td>   2.750</td>\n",
       "</tr>\n",
       "<tr>\n",
       "  <th>Skew:</th>          <td> 0.032</td> <th>  Prob(JB):          </th> <td>   0.253</td>\n",
       "</tr>\n",
       "<tr>\n",
       "  <th>Kurtosis:</th>      <td> 1.518</td> <th>  Cond. No.          </th> <td>1.51e+03</td>\n",
       "</tr>\n",
       "</table><br/><br/>Notes:<br/>[1] Standard Errors assume that the covariance matrix of the errors is correctly specified.<br/>[2] The condition number is large, 1.51e+03. This might indicate that there are<br/>strong multicollinearity or other numerical problems."
      ],
      "text/latex": [
       "\\begin{center}\n",
       "\\begin{tabular}{lclc}\n",
       "\\toprule\n",
       "\\textbf{Dep. Variable:}    &      weight      & \\textbf{  R-squared:         } &     0.916   \\\\\n",
       "\\textbf{Model:}            &       OLS        & \\textbf{  Adj. R-squared:    } &     0.913   \\\\\n",
       "\\textbf{Method:}           &  Least Squares   & \\textbf{  F-statistic:       } &     306.0   \\\\\n",
       "\\textbf{Date:}             & Mon, 11 Mar 2024 & \\textbf{  Prob (F-statistic):} &  1.32e-16   \\\\\n",
       "\\textbf{Time:}             &     16:42:24     & \\textbf{  Log-Likelihood:    } &   -63.148   \\\\\n",
       "\\textbf{No. Observations:} &          30      & \\textbf{  AIC:               } &     130.3   \\\\\n",
       "\\textbf{Df Residuals:}     &          28      & \\textbf{  BIC:               } &     133.1   \\\\\n",
       "\\textbf{Df Model:}         &           1      & \\textbf{                     } &             \\\\\n",
       "\\textbf{Covariance Type:}  &    nonrobust     & \\textbf{                     } &             \\\\\n",
       "\\bottomrule\n",
       "\\end{tabular}\n",
       "\\begin{tabular}{lcccccc}\n",
       "                     & \\textbf{coef} & \\textbf{std err} & \\textbf{t} & \\textbf{P$> |$t$|$} & \\textbf{[0.025} & \\textbf{0.975]}  \\\\\n",
       "\\midrule\n",
       "\\textbf{Intercept}   &     -14.5475  &        8.705     &    -1.671  &         0.106        &      -32.380    &        3.285     \\\\\n",
       "\\textbf{egg\\_weight} &       2.3371  &        0.134     &    17.493  &         0.000        &        2.063    &        2.611     \\\\\n",
       "\\bottomrule\n",
       "\\end{tabular}\n",
       "\\begin{tabular}{lclc}\n",
       "\\textbf{Omnibus:}       & 15.078 & \\textbf{  Durbin-Watson:     } &    1.998  \\\\\n",
       "\\textbf{Prob(Omnibus):} &  0.001 & \\textbf{  Jarque-Bera (JB):  } &    2.750  \\\\\n",
       "\\textbf{Skew:}          &  0.032 & \\textbf{  Prob(JB):          } &    0.253  \\\\\n",
       "\\textbf{Kurtosis:}      &  1.518 & \\textbf{  Cond. No.          } & 1.51e+03  \\\\\n",
       "\\bottomrule\n",
       "\\end{tabular}\n",
       "%\\caption{OLS Regression Results}\n",
       "\\end{center}\n",
       "\n",
       "Notes: \\newline\n",
       " [1] Standard Errors assume that the covariance matrix of the errors is correctly specified. \\newline\n",
       " [2] The condition number is large, 1.51e+03. This might indicate that there are \\newline\n",
       " strong multicollinearity or other numerical problems."
      ],
      "text/plain": [
       "<class 'statsmodels.iolib.summary.Summary'>\n",
       "\"\"\"\n",
       "                            OLS Regression Results                            \n",
       "==============================================================================\n",
       "Dep. Variable:                 weight   R-squared:                       0.916\n",
       "Model:                            OLS   Adj. R-squared:                  0.913\n",
       "Method:                 Least Squares   F-statistic:                     306.0\n",
       "Date:                Mon, 11 Mar 2024   Prob (F-statistic):           1.32e-16\n",
       "Time:                        16:42:24   Log-Likelihood:                -63.148\n",
       "No. Observations:                  30   AIC:                             130.3\n",
       "Df Residuals:                      28   BIC:                             133.1\n",
       "Df Model:                           1                                         \n",
       "Covariance Type:            nonrobust                                         \n",
       "==============================================================================\n",
       "                 coef    std err          t      P>|t|      [0.025      0.975]\n",
       "------------------------------------------------------------------------------\n",
       "Intercept    -14.5475      8.705     -1.671      0.106     -32.380       3.285\n",
       "egg_weight     2.3371      0.134     17.493      0.000       2.063       2.611\n",
       "==============================================================================\n",
       "Omnibus:                       15.078   Durbin-Watson:                   1.998\n",
       "Prob(Omnibus):                  0.001   Jarque-Bera (JB):                2.750\n",
       "Skew:                           0.032   Prob(JB):                        0.253\n",
       "Kurtosis:                       1.518   Cond. No.                     1.51e+03\n",
       "==============================================================================\n",
       "\n",
       "Notes:\n",
       "[1] Standard Errors assume that the covariance matrix of the errors is correctly specified.\n",
       "[2] The condition number is large, 1.51e+03. This might indicate that there are\n",
       "strong multicollinearity or other numerical problems.\n",
       "\"\"\""
      ]
     },
     "execution_count": 71,
     "metadata": {},
     "output_type": "execute_result"
    }
   ],
   "source": [
    "# 회귀분석 수평을 위한 모듈 불러오기 및 smf라는 약어로 지칭하기\n",
    "import statsmodels.formula.api as smf\n",
    "# 종란 무게 - 병아리 몸무게 단순 선형 회귀모델 구축\n",
    "model_lm = smf.ols(formula='weight ~ egg_weight', data=w_n)\n",
    "# 모델 학습\n",
    "result_lm = model_lm.fit()\n",
    "# 모델 결과 확인\n",
    "result_lm.summary()"
   ]
  },
  {
   "cell_type": "code",
   "execution_count": 72,
   "id": "1d8ebb01",
   "metadata": {},
   "outputs": [
    {
     "data": {
      "text/plain": [
       "[<matplotlib.lines.Line2D at 0x2b884698d10>]"
      ]
     },
     "execution_count": 72,
     "metadata": {},
     "output_type": "execute_result"
    },
    {
     "data": {
      "image/png": "[encoded data removed]",
      "text/plain": [
       "<Figure size 1000x600 with 1 Axes>"
      ]
     },
     "metadata": {},
     "output_type": "display_data"
    }
   ],
   "source": [
    "# 종란 무게에 따른 병아리 몸무게 산점도\n",
    "plt.figure(figsize=(10,6))\n",
    "plt.scatter(w.egg_weight, w.weight, alpha=.5)\n",
    "plt.plot(w.egg_weight, w.egg_weight*2.3371 - 14.5475, color='red')"
   ]
  },
  {
   "cell_type": "code",
   "execution_count": 73,
   "id": "df33beb7",
   "metadata": {},
   "outputs": [
    {
     "data": {
      "text/plain": [
       "0    2.633714\n",
       "1   -2.354880\n",
       "2    2.633714\n",
       "3   -2.366286\n",
       "4   -1.714829\n",
       "dtype: float64"
      ]
     },
     "execution_count": 73,
     "metadata": {},
     "output_type": "execute_result"
    }
   ],
   "source": [
    "# 잔차 5개만 확인\n",
    "result_lm.resid.head()"
   ]
  },
  {
   "cell_type": "code",
   "execution_count": 74,
   "id": "6420104d",
   "metadata": {},
   "outputs": [
    {
     "name": "stderr",
     "output_type": "stream",
     "text": [
      "C:\\ProgramData\\anaconda3\\Lib\\site-packages\\IPython\\core\\pylabtools.py:152: UserWarning: Glyph 8722 (\\N{MINUS SIGN}) missing from current font.\n",
      "  fig.canvas.print_figure(bytes_io, **kw)\n"
     ]
    },
    {
     "data": {
      "image/png": "[encoded data removed]",
      "text/plain": [
       "<Figure size 1000x600 with 1 Axes>"
      ]
     },
     "metadata": {},
     "output_type": "display_data"
    }
   ],
   "source": [
    "# 잔차 히스토그램 그리기\n",
    "plt.figure(figsize=(10,6))\n",
    "plt.hist(result_lm.resid, bins=7)\n",
    "plt.show()"
   ]
  },
  {
   "cell_type": "markdown",
   "id": "f37aab7d",
   "metadata": {},
   "source": [
    "### 2-3 다중 회귀분석"
   ]
  },
  {
   "cell_type": "code",
   "execution_count": 75,
   "id": "0a11b3d6",
   "metadata": {},
   "outputs": [
    {
     "data": {
      "text/html": [
       "<table class=\"simpletable\">\n",
       "<caption>OLS Regression Results</caption>\n",
       "<tr>\n",
       "  <th>Dep. Variable:</th>         <td>weight</td>      <th>  R-squared:         </th> <td>   0.948</td>\n",
       "</tr>\n",
       "<tr>\n",
       "  <th>Model:</th>                   <td>OLS</td>       <th>  Adj. R-squared:    </th> <td>   0.942</td>\n",
       "</tr>\n",
       "<tr>\n",
       "  <th>Method:</th>             <td>Least Squares</td>  <th>  F-statistic:       </th> <td>   157.7</td>\n",
       "</tr>\n",
       "<tr>\n",
       "  <th>Date:</th>             <td>Mon, 11 Mar 2024</td> <th>  Prob (F-statistic):</th> <td>8.46e-17</td>\n",
       "</tr>\n",
       "<tr>\n",
       "  <th>Time:</th>                 <td>16:42:33</td>     <th>  Log-Likelihood:    </th> <td> -56.008</td>\n",
       "</tr>\n",
       "<tr>\n",
       "  <th>No. Observations:</th>      <td>    30</td>      <th>  AIC:               </th> <td>   120.0</td>\n",
       "</tr>\n",
       "<tr>\n",
       "  <th>Df Residuals:</th>          <td>    26</td>      <th>  BIC:               </th> <td>   125.6</td>\n",
       "</tr>\n",
       "<tr>\n",
       "  <th>Df Model:</th>              <td>     3</td>      <th>                     </th>     <td> </td>   \n",
       "</tr>\n",
       "<tr>\n",
       "  <th>Covariance Type:</th>      <td>nonrobust</td>    <th>                     </th>     <td> </td>   \n",
       "</tr>\n",
       "</table>\n",
       "<table class=\"simpletable\">\n",
       "<tr>\n",
       "       <td></td>         <th>coef</th>     <th>std err</th>      <th>t</th>      <th>P>|t|</th>  <th>[0.025</th>    <th>0.975]</th>  \n",
       "</tr>\n",
       "<tr>\n",
       "  <th>Intercept</th>  <td>    2.9748</td> <td>    8.587</td> <td>    0.346</td> <td> 0.732</td> <td>  -14.676</td> <td>   20.626</td>\n",
       "</tr>\n",
       "<tr>\n",
       "  <th>egg_weight</th> <td>    1.7763</td> <td>    0.195</td> <td>    9.117</td> <td> 0.000</td> <td>    1.376</td> <td>    2.177</td>\n",
       "</tr>\n",
       "<tr>\n",
       "  <th>food</th>       <td>    1.5847</td> <td>    0.405</td> <td>    3.915</td> <td> 0.001</td> <td>    0.753</td> <td>    2.417</td>\n",
       "</tr>\n",
       "<tr>\n",
       "  <th>movement</th>   <td>   -0.0087</td> <td>    0.017</td> <td>   -0.522</td> <td> 0.606</td> <td>   -0.043</td> <td>    0.026</td>\n",
       "</tr>\n",
       "</table>\n",
       "<table class=\"simpletable\">\n",
       "<tr>\n",
       "  <th>Omnibus:</th>       <td> 1.993</td> <th>  Durbin-Watson:     </th> <td>   2.030</td>\n",
       "</tr>\n",
       "<tr>\n",
       "  <th>Prob(Omnibus):</th> <td> 0.369</td> <th>  Jarque-Bera (JB):  </th> <td>   1.746</td>\n",
       "</tr>\n",
       "<tr>\n",
       "  <th>Skew:</th>          <td>-0.480</td> <th>  Prob(JB):          </th> <td>   0.418</td>\n",
       "</tr>\n",
       "<tr>\n",
       "  <th>Kurtosis:</th>      <td> 2.311</td> <th>  Cond. No.          </th> <td>4.31e+03</td>\n",
       "</tr>\n",
       "</table><br/><br/>Notes:<br/>[1] Standard Errors assume that the covariance matrix of the errors is correctly specified.<br/>[2] The condition number is large, 4.31e+03. This might indicate that there are<br/>strong multicollinearity or other numerical problems."
      ],
      "text/latex": [
       "\\begin{center}\n",
       "\\begin{tabular}{lclc}\n",
       "\\toprule\n",
       "\\textbf{Dep. Variable:}    &      weight      & \\textbf{  R-squared:         } &     0.948   \\\\\n",
       "\\textbf{Model:}            &       OLS        & \\textbf{  Adj. R-squared:    } &     0.942   \\\\\n",
       "\\textbf{Method:}           &  Least Squares   & \\textbf{  F-statistic:       } &     157.7   \\\\\n",
       "\\textbf{Date:}             & Mon, 11 Mar 2024 & \\textbf{  Prob (F-statistic):} &  8.46e-17   \\\\\n",
       "\\textbf{Time:}             &     16:42:33     & \\textbf{  Log-Likelihood:    } &   -56.008   \\\\\n",
       "\\textbf{No. Observations:} &          30      & \\textbf{  AIC:               } &     120.0   \\\\\n",
       "\\textbf{Df Residuals:}     &          26      & \\textbf{  BIC:               } &     125.6   \\\\\n",
       "\\textbf{Df Model:}         &           3      & \\textbf{                     } &             \\\\\n",
       "\\textbf{Covariance Type:}  &    nonrobust     & \\textbf{                     } &             \\\\\n",
       "\\bottomrule\n",
       "\\end{tabular}\n",
       "\\begin{tabular}{lcccccc}\n",
       "                     & \\textbf{coef} & \\textbf{std err} & \\textbf{t} & \\textbf{P$> |$t$|$} & \\textbf{[0.025} & \\textbf{0.975]}  \\\\\n",
       "\\midrule\n",
       "\\textbf{Intercept}   &       2.9748  &        8.587     &     0.346  &         0.732        &      -14.676    &       20.626     \\\\\n",
       "\\textbf{egg\\_weight} &       1.7763  &        0.195     &     9.117  &         0.000        &        1.376    &        2.177     \\\\\n",
       "\\textbf{food}        &       1.5847  &        0.405     &     3.915  &         0.001        &        0.753    &        2.417     \\\\\n",
       "\\textbf{movement}    &      -0.0087  &        0.017     &    -0.522  &         0.606        &       -0.043    &        0.026     \\\\\n",
       "\\bottomrule\n",
       "\\end{tabular}\n",
       "\\begin{tabular}{lclc}\n",
       "\\textbf{Omnibus:}       &  1.993 & \\textbf{  Durbin-Watson:     } &    2.030  \\\\\n",
       "\\textbf{Prob(Omnibus):} &  0.369 & \\textbf{  Jarque-Bera (JB):  } &    1.746  \\\\\n",
       "\\textbf{Skew:}          & -0.480 & \\textbf{  Prob(JB):          } &    0.418  \\\\\n",
       "\\textbf{Kurtosis:}      &  2.311 & \\textbf{  Cond. No.          } & 4.31e+03  \\\\\n",
       "\\bottomrule\n",
       "\\end{tabular}\n",
       "%\\caption{OLS Regression Results}\n",
       "\\end{center}\n",
       "\n",
       "Notes: \\newline\n",
       " [1] Standard Errors assume that the covariance matrix of the errors is correctly specified. \\newline\n",
       " [2] The condition number is large, 4.31e+03. This might indicate that there are \\newline\n",
       " strong multicollinearity or other numerical problems."
      ],
      "text/plain": [
       "<class 'statsmodels.iolib.summary.Summary'>\n",
       "\"\"\"\n",
       "                            OLS Regression Results                            \n",
       "==============================================================================\n",
       "Dep. Variable:                 weight   R-squared:                       0.948\n",
       "Model:                            OLS   Adj. R-squared:                  0.942\n",
       "Method:                 Least Squares   F-statistic:                     157.7\n",
       "Date:                Mon, 11 Mar 2024   Prob (F-statistic):           8.46e-17\n",
       "Time:                        16:42:33   Log-Likelihood:                -56.008\n",
       "No. Observations:                  30   AIC:                             120.0\n",
       "Df Residuals:                      26   BIC:                             125.6\n",
       "Df Model:                           3                                         \n",
       "Covariance Type:            nonrobust                                         \n",
       "==============================================================================\n",
       "                 coef    std err          t      P>|t|      [0.025      0.975]\n",
       "------------------------------------------------------------------------------\n",
       "Intercept      2.9748      8.587      0.346      0.732     -14.676      20.626\n",
       "egg_weight     1.7763      0.195      9.117      0.000       1.376       2.177\n",
       "food           1.5847      0.405      3.915      0.001       0.753       2.417\n",
       "movement      -0.0087      0.017     -0.522      0.606      -0.043       0.026\n",
       "==============================================================================\n",
       "Omnibus:                        1.993   Durbin-Watson:                   2.030\n",
       "Prob(Omnibus):                  0.369   Jarque-Bera (JB):                1.746\n",
       "Skew:                          -0.480   Prob(JB):                        0.418\n",
       "Kurtosis:                       2.311   Cond. No.                     4.31e+03\n",
       "==============================================================================\n",
       "\n",
       "Notes:\n",
       "[1] Standard Errors assume that the covariance matrix of the errors is correctly specified.\n",
       "[2] The condition number is large, 4.31e+03. This might indicate that there are\n",
       "strong multicollinearity or other numerical problems.\n",
       "\"\"\""
      ]
     },
     "execution_count": 75,
     "metadata": {},
     "output_type": "execute_result"
    }
   ],
   "source": [
    "# 병아리 몸무게 예측을 위한 다중 회귀분석 실시\n",
    "model_mlm=smf.ols(formula='weight ~ egg_weight + food + movement', data=w_n)\n",
    "result_mlm=model_mlm.fit()\n",
    "result_mlm.summary()"
   ]
  },
  {
   "cell_type": "code",
   "execution_count": 76,
   "id": "ec1b9601",
   "metadata": {},
   "outputs": [
    {
     "data": {
      "text/html": [
       "<table class=\"simpletable\">\n",
       "<caption>OLS Regression Results</caption>\n",
       "<tr>\n",
       "  <th>Dep. Variable:</th>         <td>weight</td>      <th>  R-squared:         </th> <td>   0.947</td>\n",
       "</tr>\n",
       "<tr>\n",
       "  <th>Model:</th>                   <td>OLS</td>       <th>  Adj. R-squared:    </th> <td>   0.943</td>\n",
       "</tr>\n",
       "<tr>\n",
       "  <th>Method:</th>             <td>Least Squares</td>  <th>  F-statistic:       </th> <td>   243.0</td>\n",
       "</tr>\n",
       "<tr>\n",
       "  <th>Date:</th>             <td>Mon, 11 Mar 2024</td> <th>  Prob (F-statistic):</th> <td>5.44e-18</td>\n",
       "</tr>\n",
       "<tr>\n",
       "  <th>Time:</th>                 <td>16:42:35</td>     <th>  Log-Likelihood:    </th> <td> -56.164</td>\n",
       "</tr>\n",
       "<tr>\n",
       "  <th>No. Observations:</th>      <td>    30</td>      <th>  AIC:               </th> <td>   118.3</td>\n",
       "</tr>\n",
       "<tr>\n",
       "  <th>Df Residuals:</th>          <td>    27</td>      <th>  BIC:               </th> <td>   122.5</td>\n",
       "</tr>\n",
       "<tr>\n",
       "  <th>Df Model:</th>              <td>     2</td>      <th>                     </th>     <td> </td>   \n",
       "</tr>\n",
       "<tr>\n",
       "  <th>Covariance Type:</th>      <td>nonrobust</td>    <th>                     </th>     <td> </td>   \n",
       "</tr>\n",
       "</table>\n",
       "<table class=\"simpletable\">\n",
       "<tr>\n",
       "       <td></td>         <th>coef</th>     <th>std err</th>      <th>t</th>      <th>P>|t|</th>  <th>[0.025</th>    <th>0.975]</th>  \n",
       "</tr>\n",
       "<tr>\n",
       "  <th>Intercept</th>  <td>    3.6638</td> <td>    8.370</td> <td>    0.438</td> <td> 0.665</td> <td>  -13.510</td> <td>   20.837</td>\n",
       "</tr>\n",
       "<tr>\n",
       "  <th>egg_weight</th> <td>    1.7453</td> <td>    0.183</td> <td>    9.536</td> <td> 0.000</td> <td>    1.370</td> <td>    2.121</td>\n",
       "</tr>\n",
       "<tr>\n",
       "  <th>food</th>       <td>    1.5955</td> <td>    0.399</td> <td>    4.001</td> <td> 0.000</td> <td>    0.777</td> <td>    2.414</td>\n",
       "</tr>\n",
       "</table>\n",
       "<table class=\"simpletable\">\n",
       "<tr>\n",
       "  <th>Omnibus:</th>       <td> 2.302</td> <th>  Durbin-Watson:     </th> <td>   2.103</td>\n",
       "</tr>\n",
       "<tr>\n",
       "  <th>Prob(Omnibus):</th> <td> 0.316</td> <th>  Jarque-Bera (JB):  </th> <td>   1.940</td>\n",
       "</tr>\n",
       "<tr>\n",
       "  <th>Skew:</th>          <td>-0.502</td> <th>  Prob(JB):          </th> <td>   0.379</td>\n",
       "</tr>\n",
       "<tr>\n",
       "  <th>Kurtosis:</th>      <td> 2.263</td> <th>  Cond. No.          </th> <td>1.84e+03</td>\n",
       "</tr>\n",
       "</table><br/><br/>Notes:<br/>[1] Standard Errors assume that the covariance matrix of the errors is correctly specified.<br/>[2] The condition number is large, 1.84e+03. This might indicate that there are<br/>strong multicollinearity or other numerical problems."
      ],
      "text/latex": [
       "\\begin{center}\n",
       "\\begin{tabular}{lclc}\n",
       "\\toprule\n",
       "\\textbf{Dep. Variable:}    &      weight      & \\textbf{  R-squared:         } &     0.947   \\\\\n",
       "\\textbf{Model:}            &       OLS        & \\textbf{  Adj. R-squared:    } &     0.943   \\\\\n",
       "\\textbf{Method:}           &  Least Squares   & \\textbf{  F-statistic:       } &     243.0   \\\\\n",
       "\\textbf{Date:}             & Mon, 11 Mar 2024 & \\textbf{  Prob (F-statistic):} &  5.44e-18   \\\\\n",
       "\\textbf{Time:}             &     16:42:35     & \\textbf{  Log-Likelihood:    } &   -56.164   \\\\\n",
       "\\textbf{No. Observations:} &          30      & \\textbf{  AIC:               } &     118.3   \\\\\n",
       "\\textbf{Df Residuals:}     &          27      & \\textbf{  BIC:               } &     122.5   \\\\\n",
       "\\textbf{Df Model:}         &           2      & \\textbf{                     } &             \\\\\n",
       "\\textbf{Covariance Type:}  &    nonrobust     & \\textbf{                     } &             \\\\\n",
       "\\bottomrule\n",
       "\\end{tabular}\n",
       "\\begin{tabular}{lcccccc}\n",
       "                     & \\textbf{coef} & \\textbf{std err} & \\textbf{t} & \\textbf{P$> |$t$|$} & \\textbf{[0.025} & \\textbf{0.975]}  \\\\\n",
       "\\midrule\n",
       "\\textbf{Intercept}   &       3.6638  &        8.370     &     0.438  &         0.665        &      -13.510    &       20.837     \\\\\n",
       "\\textbf{egg\\_weight} &       1.7453  &        0.183     &     9.536  &         0.000        &        1.370    &        2.121     \\\\\n",
       "\\textbf{food}        &       1.5955  &        0.399     &     4.001  &         0.000        &        0.777    &        2.414     \\\\\n",
       "\\bottomrule\n",
       "\\end{tabular}\n",
       "\\begin{tabular}{lclc}\n",
       "\\textbf{Omnibus:}       &  2.302 & \\textbf{  Durbin-Watson:     } &    2.103  \\\\\n",
       "\\textbf{Prob(Omnibus):} &  0.316 & \\textbf{  Jarque-Bera (JB):  } &    1.940  \\\\\n",
       "\\textbf{Skew:}          & -0.502 & \\textbf{  Prob(JB):          } &    0.379  \\\\\n",
       "\\textbf{Kurtosis:}      &  2.263 & \\textbf{  Cond. No.          } & 1.84e+03  \\\\\n",
       "\\bottomrule\n",
       "\\end{tabular}\n",
       "%\\caption{OLS Regression Results}\n",
       "\\end{center}\n",
       "\n",
       "Notes: \\newline\n",
       " [1] Standard Errors assume that the covariance matrix of the errors is correctly specified. \\newline\n",
       " [2] The condition number is large, 1.84e+03. This might indicate that there are \\newline\n",
       " strong multicollinearity or other numerical problems."
      ],
      "text/plain": [
       "<class 'statsmodels.iolib.summary.Summary'>\n",
       "\"\"\"\n",
       "                            OLS Regression Results                            \n",
       "==============================================================================\n",
       "Dep. Variable:                 weight   R-squared:                       0.947\n",
       "Model:                            OLS   Adj. R-squared:                  0.943\n",
       "Method:                 Least Squares   F-statistic:                     243.0\n",
       "Date:                Mon, 11 Mar 2024   Prob (F-statistic):           5.44e-18\n",
       "Time:                        16:42:35   Log-Likelihood:                -56.164\n",
       "No. Observations:                  30   AIC:                             118.3\n",
       "Df Residuals:                      27   BIC:                             122.5\n",
       "Df Model:                           2                                         \n",
       "Covariance Type:            nonrobust                                         \n",
       "==============================================================================\n",
       "                 coef    std err          t      P>|t|      [0.025      0.975]\n",
       "------------------------------------------------------------------------------\n",
       "Intercept      3.6638      8.370      0.438      0.665     -13.510      20.837\n",
       "egg_weight     1.7453      0.183      9.536      0.000       1.370       2.121\n",
       "food           1.5955      0.399      4.001      0.000       0.777       2.414\n",
       "==============================================================================\n",
       "Omnibus:                        2.302   Durbin-Watson:                   2.103\n",
       "Prob(Omnibus):                  0.316   Jarque-Bera (JB):                1.940\n",
       "Skew:                          -0.502   Prob(JB):                        0.379\n",
       "Kurtosis:                       2.263   Cond. No.                     1.84e+03\n",
       "==============================================================================\n",
       "\n",
       "Notes:\n",
       "[1] Standard Errors assume that the covariance matrix of the errors is correctly specified.\n",
       "[2] The condition number is large, 1.84e+03. This might indicate that there are\n",
       "strong multicollinearity or other numerical problems.\n",
       "\"\"\""
      ]
     },
     "execution_count": 76,
     "metadata": {},
     "output_type": "execute_result"
    }
   ],
   "source": [
    "# 병아리 몸무게 예측을 위한 다중 회귀분석 실시2\n",
    "model_mlm2 = smf.ols(formula='weight ~ egg_weight + food', data=w_n)\n",
    "result_mlm2 = model_mlm2.fit()\n",
    "result_mlm2.summary()"
   ]
  },
  {
   "cell_type": "markdown",
   "id": "bde37a93",
   "metadata": {},
   "source": [
    "### 2-4 다중공선성"
   ]
  },
  {
   "cell_type": "code",
   "execution_count": 77,
   "id": "61128c1e",
   "metadata": {},
   "outputs": [
    {
     "data": {
      "text/plain": [
       "['Intercept', 'egg_weight', 'food']"
      ]
     },
     "execution_count": 77,
     "metadata": {},
     "output_type": "execute_result"
    }
   ],
   "source": [
    "# 다중공선성 확인을 위한 함수 불러오기\n",
    "from statsmodels.stats.outliers_influence import variance_inflation_factor\n",
    "# 회귀모델 변수명 속성\n",
    "model_mlm2.exog_names"
   ]
  },
  {
   "cell_type": "code",
   "execution_count": 78,
   "id": "00638c54",
   "metadata": {},
   "outputs": [
    {
     "name": "stdout",
     "output_type": "stream",
     "text": [
      "2.882684511307579 2.8826845113075765\n"
     ]
    }
   ],
   "source": [
    "# 1번째 변수(egg_weight) vif 계산\n",
    "vif1=variance_inflation_factor(model_mlm2.exog, 1)\n",
    "# 2번째 변수(food) vif 계산\n",
    "vif2=variance_inflation_factor(model_mlm2.exog, 2)\n",
    "print(vif1, vif2)"
   ]
  },
  {
   "cell_type": "code",
   "execution_count": 79,
   "id": "e087d7ec",
   "metadata": {},
   "outputs": [
    {
     "name": "stderr",
     "output_type": "stream",
     "text": [
      "C:\\ProgramData\\anaconda3\\Lib\\site-packages\\IPython\\core\\pylabtools.py:152: UserWarning: Glyph 8722 (\\N{MINUS SIGN}) missing from current font.\n",
      "  fig.canvas.print_figure(bytes_io, **kw)\n"
     ]
    },
    {
     "data": {
      "image/png": "[encoded data removed]",
      "text/plain": [
       "<Figure size 1000x600 with 1 Axes>"
      ]
     },
     "metadata": {},
     "output_type": "display_data"
    }
   ],
   "source": [
    "# 잔차 히스토그램 그리기\n",
    "plt.figure(figsize=(10,6))\n",
    "plt.hist(result_mlm2.resid, bins=7)\n",
    "plt.show()"
   ]
  },
  {
   "cell_type": "markdown",
   "id": "310f5977",
   "metadata": {},
   "source": [
    "### 2-5 비선형 회귀분석"
   ]
  },
  {
   "cell_type": "code",
   "execution_count": 80,
   "id": "f29cc1a6",
   "metadata": {},
   "outputs": [
    {
     "data": {
      "text/html": [
       "<div>\n",
       "<style scoped>\n",
       "    .dataframe tbody tr th:only-of-type {\n",
       "        vertical-align: middle;\n",
       "    }\n",
       "\n",
       "    .dataframe tbody tr th {\n",
       "        vertical-align: top;\n",
       "    }\n",
       "\n",
       "    .dataframe thead th {\n",
       "        text-align: right;\n",
       "    }\n",
       "</style>\n",
       "<table border=\"1\" class=\"dataframe\">\n",
       "  <thead>\n",
       "    <tr style=\"text-align: right;\">\n",
       "      <th></th>\n",
       "      <th>day</th>\n",
       "      <th>weight</th>\n",
       "    </tr>\n",
       "  </thead>\n",
       "  <tbody>\n",
       "    <tr>\n",
       "      <th>0</th>\n",
       "      <td>1</td>\n",
       "      <td>43</td>\n",
       "    </tr>\n",
       "    <tr>\n",
       "      <th>1</th>\n",
       "      <td>2</td>\n",
       "      <td>55</td>\n",
       "    </tr>\n",
       "    <tr>\n",
       "      <th>2</th>\n",
       "      <td>3</td>\n",
       "      <td>69</td>\n",
       "    </tr>\n",
       "    <tr>\n",
       "      <th>3</th>\n",
       "      <td>4</td>\n",
       "      <td>86</td>\n",
       "    </tr>\n",
       "    <tr>\n",
       "      <th>4</th>\n",
       "      <td>5</td>\n",
       "      <td>104</td>\n",
       "    </tr>\n",
       "  </tbody>\n",
       "</table>\n",
       "</div>"
      ],
      "text/plain": [
       "   day  weight\n",
       "0    1      43\n",
       "1    2      55\n",
       "2    3      69\n",
       "3    4      86\n",
       "4    5     104"
      ]
     },
     "execution_count": 80,
     "metadata": {},
     "output_type": "execute_result"
    }
   ],
   "source": [
    "w2=pd.read_csv('ch5-2.csv') # w2 변수에 데이터 셋 입력\n",
    "w2.head()"
   ]
  },
  {
   "cell_type": "code",
   "execution_count": 81,
   "id": "639efb59",
   "metadata": {},
   "outputs": [
    {
     "name": "stdout",
     "output_type": "stream",
     "text": [
      "<class 'pandas.core.frame.DataFrame'>\n",
      "RangeIndex: 70 entries, 0 to 69\n",
      "Data columns (total 2 columns):\n",
      " #   Column  Non-Null Count  Dtype\n",
      "---  ------  --------------  -----\n",
      " 0   day     70 non-null     int64\n",
      " 1   weight  70 non-null     int64\n",
      "dtypes: int64(2)\n",
      "memory usage: 1.2 KB\n"
     ]
    }
   ],
   "source": [
    "w2.info()"
   ]
  },
  {
   "cell_type": "code",
   "execution_count": 82,
   "id": "dabc7e04",
   "metadata": {},
   "outputs": [
    {
     "data": {
      "image/png": "[encoded data removed]",
      "text/plain": [
       "<Figure size 1000x600 with 1 Axes>"
      ]
     },
     "metadata": {},
     "output_type": "display_data"
    }
   ],
   "source": [
    "# 성장기간에 따른 병아리 몸무게 변화\n",
    "plt.figure(figsize=(10,6))\n",
    "plt.scatter(w2.day, w2.weight, alpha=.5)\n",
    "plt.title('Scatter Plot')\n",
    "plt.xlabel('day')\n",
    "plt.ylabel('weight')\n",
    "plt.show()"
   ]
  },
  {
   "cell_type": "code",
   "execution_count": 83,
   "id": "af620e9c",
   "metadata": {},
   "outputs": [
    {
     "data": {
      "text/html": [
       "<table class=\"simpletable\">\n",
       "<caption>OLS Regression Results</caption>\n",
       "<tr>\n",
       "  <th>Dep. Variable:</th>         <td>weight</td>      <th>  R-squared:         </th> <td>   0.979</td>\n",
       "</tr>\n",
       "<tr>\n",
       "  <th>Model:</th>                   <td>OLS</td>       <th>  Adj. R-squared:    </th> <td>   0.979</td>\n",
       "</tr>\n",
       "<tr>\n",
       "  <th>Method:</th>             <td>Least Squares</td>  <th>  F-statistic:       </th> <td>   3189.</td>\n",
       "</tr>\n",
       "<tr>\n",
       "  <th>Date:</th>             <td>Mon, 11 Mar 2024</td> <th>  Prob (F-statistic):</th> <td>7.22e-59</td>\n",
       "</tr>\n",
       "<tr>\n",
       "  <th>Time:</th>                 <td>16:42:47</td>     <th>  Log-Likelihood:    </th> <td> -457.86</td>\n",
       "</tr>\n",
       "<tr>\n",
       "  <th>No. Observations:</th>      <td>    70</td>      <th>  AIC:               </th> <td>   919.7</td>\n",
       "</tr>\n",
       "<tr>\n",
       "  <th>Df Residuals:</th>          <td>    68</td>      <th>  BIC:               </th> <td>   924.2</td>\n",
       "</tr>\n",
       "<tr>\n",
       "  <th>Df Model:</th>              <td>     1</td>      <th>                     </th>     <td> </td>   \n",
       "</tr>\n",
       "<tr>\n",
       "  <th>Covariance Type:</th>      <td>nonrobust</td>    <th>                     </th>     <td> </td>   \n",
       "</tr>\n",
       "</table>\n",
       "<table class=\"simpletable\">\n",
       "<tr>\n",
       "      <td></td>         <th>coef</th>     <th>std err</th>      <th>t</th>      <th>P>|t|</th>  <th>[0.025</th>    <th>0.975]</th>  \n",
       "</tr>\n",
       "<tr>\n",
       "  <th>Intercept</th> <td> -295.8671</td> <td>   41.102</td> <td>   -7.198</td> <td> 0.000</td> <td> -377.885</td> <td> -213.850</td>\n",
       "</tr>\n",
       "<tr>\n",
       "  <th>day</th>       <td>   56.8216</td> <td>    1.006</td> <td>   56.470</td> <td> 0.000</td> <td>   54.814</td> <td>   58.830</td>\n",
       "</tr>\n",
       "</table>\n",
       "<table class=\"simpletable\">\n",
       "<tr>\n",
       "  <th>Omnibus:</th>       <td> 3.866</td> <th>  Durbin-Watson:     </th> <td>   0.025</td>\n",
       "</tr>\n",
       "<tr>\n",
       "  <th>Prob(Omnibus):</th> <td> 0.145</td> <th>  Jarque-Bera (JB):  </th> <td>   2.079</td>\n",
       "</tr>\n",
       "<tr>\n",
       "  <th>Skew:</th>          <td>-0.133</td> <th>  Prob(JB):          </th> <td>   0.354</td>\n",
       "</tr>\n",
       "<tr>\n",
       "  <th>Kurtosis:</th>      <td> 2.199</td> <th>  Cond. No.          </th> <td>    82.6</td>\n",
       "</tr>\n",
       "</table><br/><br/>Notes:<br/>[1] Standard Errors assume that the covariance matrix of the errors is correctly specified."
      ],
      "text/latex": [
       "\\begin{center}\n",
       "\\begin{tabular}{lclc}\n",
       "\\toprule\n",
       "\\textbf{Dep. Variable:}    &      weight      & \\textbf{  R-squared:         } &     0.979   \\\\\n",
       "\\textbf{Model:}            &       OLS        & \\textbf{  Adj. R-squared:    } &     0.979   \\\\\n",
       "\\textbf{Method:}           &  Least Squares   & \\textbf{  F-statistic:       } &     3189.   \\\\\n",
       "\\textbf{Date:}             & Mon, 11 Mar 2024 & \\textbf{  Prob (F-statistic):} &  7.22e-59   \\\\\n",
       "\\textbf{Time:}             &     16:42:47     & \\textbf{  Log-Likelihood:    } &   -457.86   \\\\\n",
       "\\textbf{No. Observations:} &          70      & \\textbf{  AIC:               } &     919.7   \\\\\n",
       "\\textbf{Df Residuals:}     &          68      & \\textbf{  BIC:               } &     924.2   \\\\\n",
       "\\textbf{Df Model:}         &           1      & \\textbf{                     } &             \\\\\n",
       "\\textbf{Covariance Type:}  &    nonrobust     & \\textbf{                     } &             \\\\\n",
       "\\bottomrule\n",
       "\\end{tabular}\n",
       "\\begin{tabular}{lcccccc}\n",
       "                   & \\textbf{coef} & \\textbf{std err} & \\textbf{t} & \\textbf{P$> |$t$|$} & \\textbf{[0.025} & \\textbf{0.975]}  \\\\\n",
       "\\midrule\n",
       "\\textbf{Intercept} &    -295.8671  &       41.102     &    -7.198  &         0.000        &     -377.885    &     -213.850     \\\\\n",
       "\\textbf{day}       &      56.8216  &        1.006     &    56.470  &         0.000        &       54.814    &       58.830     \\\\\n",
       "\\bottomrule\n",
       "\\end{tabular}\n",
       "\\begin{tabular}{lclc}\n",
       "\\textbf{Omnibus:}       &  3.866 & \\textbf{  Durbin-Watson:     } &    0.025  \\\\\n",
       "\\textbf{Prob(Omnibus):} &  0.145 & \\textbf{  Jarque-Bera (JB):  } &    2.079  \\\\\n",
       "\\textbf{Skew:}          & -0.133 & \\textbf{  Prob(JB):          } &    0.354  \\\\\n",
       "\\textbf{Kurtosis:}      &  2.199 & \\textbf{  Cond. No.          } &     82.6  \\\\\n",
       "\\bottomrule\n",
       "\\end{tabular}\n",
       "%\\caption{OLS Regression Results}\n",
       "\\end{center}\n",
       "\n",
       "Notes: \\newline\n",
       " [1] Standard Errors assume that the covariance matrix of the errors is correctly specified."
      ],
      "text/plain": [
       "<class 'statsmodels.iolib.summary.Summary'>\n",
       "\"\"\"\n",
       "                            OLS Regression Results                            \n",
       "==============================================================================\n",
       "Dep. Variable:                 weight   R-squared:                       0.979\n",
       "Model:                            OLS   Adj. R-squared:                  0.979\n",
       "Method:                 Least Squares   F-statistic:                     3189.\n",
       "Date:                Mon, 11 Mar 2024   Prob (F-statistic):           7.22e-59\n",
       "Time:                        16:42:47   Log-Likelihood:                -457.86\n",
       "No. Observations:                  70   AIC:                             919.7\n",
       "Df Residuals:                      68   BIC:                             924.2\n",
       "Df Model:                           1                                         \n",
       "Covariance Type:            nonrobust                                         \n",
       "==============================================================================\n",
       "                 coef    std err          t      P>|t|      [0.025      0.975]\n",
       "------------------------------------------------------------------------------\n",
       "Intercept   -295.8671     41.102     -7.198      0.000    -377.885    -213.850\n",
       "day           56.8216      1.006     56.470      0.000      54.814      58.830\n",
       "==============================================================================\n",
       "Omnibus:                        3.866   Durbin-Watson:                   0.025\n",
       "Prob(Omnibus):                  0.145   Jarque-Bera (JB):                2.079\n",
       "Skew:                          -0.133   Prob(JB):                        0.354\n",
       "Kurtosis:                       2.199   Cond. No.                         82.6\n",
       "==============================================================================\n",
       "\n",
       "Notes:\n",
       "[1] Standard Errors assume that the covariance matrix of the errors is correctly specified.\n",
       "\"\"\""
      ]
     },
     "execution_count": 83,
     "metadata": {},
     "output_type": "execute_result"
    }
   ],
   "source": [
    "# 성장기간에 따른 병아리 몸무게 변환 선형 회귀분석 실시\n",
    "model_lm2=smf.ols(formula='weight ~ day', data=w2)\n",
    "result_lm2=model_lm2.fit()\n",
    "result_lm2.summary()"
   ]
  },
  {
   "cell_type": "code",
   "execution_count": 84,
   "id": "38cd2943",
   "metadata": {},
   "outputs": [
    {
     "data": {
      "image/png": "[encoded data removed]",
      "text/plain": [
       "<Figure size 1000x600 with 1 Axes>"
      ]
     },
     "metadata": {},
     "output_type": "display_data"
    }
   ],
   "source": [
    "# 성장기간에 따른 병아리 몸무게 변화\n",
    "plt.figure(figsize=(10,6))\n",
    "plt.scatter(w2.day, w2.weight, alpha=.5)\n",
    "plt.plot(w2.day, w2.day*56.8216 - 295.8671, color='red')\n",
    "plt.text(40, 500, 'weight=56.8216day - 295.8671', fontsize=12)\n",
    "plt.title('Scatter Plot')\n",
    "plt.xlabel('day')\n",
    "plt.ylabel('weight')\n",
    "plt.show()        "
   ]
  },
  {
   "cell_type": "code",
   "execution_count": 87,
   "id": "e5775c01",
   "metadata": {},
   "outputs": [
    {
     "data": {
      "text/html": [
       "<table class=\"simpletable\">\n",
       "<caption>OLS Regression Results</caption>\n",
       "<tr>\n",
       "  <th>Dep. Variable:</th>         <td>weight</td>      <th>  R-squared:         </th> <td>   1.000</td> \n",
       "</tr>\n",
       "<tr>\n",
       "  <th>Model:</th>                   <td>OLS</td>       <th>  Adj. R-squared:    </th> <td>   0.999</td> \n",
       "</tr>\n",
       "<tr>\n",
       "  <th>Method:</th>             <td>Least Squares</td>  <th>  F-statistic:       </th> <td>4.407e+04</td>\n",
       "</tr>\n",
       "<tr>\n",
       "  <th>Date:</th>             <td>Mon, 11 Mar 2024</td> <th>  Prob (F-statistic):</th> <td>7.13e-109</td>\n",
       "</tr>\n",
       "<tr>\n",
       "  <th>Time:</th>                 <td>16:45:17</td>     <th>  Log-Likelihood:    </th> <td> -327.17</td> \n",
       "</tr>\n",
       "<tr>\n",
       "  <th>No. Observations:</th>      <td>    70</td>      <th>  AIC:               </th> <td>   662.3</td> \n",
       "</tr>\n",
       "<tr>\n",
       "  <th>Df Residuals:</th>          <td>    66</td>      <th>  BIC:               </th> <td>   671.3</td> \n",
       "</tr>\n",
       "<tr>\n",
       "  <th>Df Model:</th>              <td>     3</td>      <th>                     </th>     <td> </td>    \n",
       "</tr>\n",
       "<tr>\n",
       "  <th>Covariance Type:</th>      <td>nonrobust</td>    <th>                     </th>     <td> </td>    \n",
       "</tr>\n",
       "</table>\n",
       "<table class=\"simpletable\">\n",
       "<tr>\n",
       "       <td></td>          <th>coef</th>     <th>std err</th>      <th>t</th>      <th>P>|t|</th>  <th>[0.025</th>    <th>0.975]</th>  \n",
       "</tr>\n",
       "<tr>\n",
       "  <th>Intercept</th>   <td>  117.0141</td> <td>   13.476</td> <td>    8.683</td> <td> 0.000</td> <td>   90.108</td> <td>  143.920</td>\n",
       "</tr>\n",
       "<tr>\n",
       "  <th>I(day ** 3)</th> <td>   -0.0253</td> <td>    0.000</td> <td>  -51.312</td> <td> 0.000</td> <td>   -0.026</td> <td>   -0.024</td>\n",
       "</tr>\n",
       "<tr>\n",
       "  <th>I(day ** 2)</th> <td>    2.6241</td> <td>    0.053</td> <td>   49.314</td> <td> 0.000</td> <td>    2.518</td> <td>    2.730</td>\n",
       "</tr>\n",
       "<tr>\n",
       "  <th>day</th>         <td>  -15.2978</td> <td>    1.632</td> <td>   -9.373</td> <td> 0.000</td> <td>  -18.557</td> <td>  -12.039</td>\n",
       "</tr>\n",
       "</table>\n",
       "<table class=\"simpletable\">\n",
       "<tr>\n",
       "  <th>Omnibus:</th>       <td> 6.702</td> <th>  Durbin-Watson:     </th> <td>   0.082</td>\n",
       "</tr>\n",
       "<tr>\n",
       "  <th>Prob(Omnibus):</th> <td> 0.035</td> <th>  Jarque-Bera (JB):  </th> <td>   2.680</td>\n",
       "</tr>\n",
       "<tr>\n",
       "  <th>Skew:</th>          <td> 0.103</td> <th>  Prob(JB):          </th> <td>   0.262</td>\n",
       "</tr>\n",
       "<tr>\n",
       "  <th>Kurtosis:</th>      <td> 2.064</td> <th>  Cond. No.          </th> <td>5.65e+05</td>\n",
       "</tr>\n",
       "</table><br/><br/>Notes:<br/>[1] Standard Errors assume that the covariance matrix of the errors is correctly specified.<br/>[2] The condition number is large, 5.65e+05. This might indicate that there are<br/>strong multicollinearity or other numerical problems."
      ],
      "text/latex": [
       "\\begin{center}\n",
       "\\begin{tabular}{lclc}\n",
       "\\toprule\n",
       "\\textbf{Dep. Variable:}    &      weight      & \\textbf{  R-squared:         } &     1.000   \\\\\n",
       "\\textbf{Model:}            &       OLS        & \\textbf{  Adj. R-squared:    } &     0.999   \\\\\n",
       "\\textbf{Method:}           &  Least Squares   & \\textbf{  F-statistic:       } & 4.407e+04   \\\\\n",
       "\\textbf{Date:}             & Mon, 11 Mar 2024 & \\textbf{  Prob (F-statistic):} & 7.13e-109   \\\\\n",
       "\\textbf{Time:}             &     16:45:17     & \\textbf{  Log-Likelihood:    } &   -327.17   \\\\\n",
       "\\textbf{No. Observations:} &          70      & \\textbf{  AIC:               } &     662.3   \\\\\n",
       "\\textbf{Df Residuals:}     &          66      & \\textbf{  BIC:               } &     671.3   \\\\\n",
       "\\textbf{Df Model:}         &           3      & \\textbf{                     } &             \\\\\n",
       "\\textbf{Covariance Type:}  &    nonrobust     & \\textbf{                     } &             \\\\\n",
       "\\bottomrule\n",
       "\\end{tabular}\n",
       "\\begin{tabular}{lcccccc}\n",
       "                     & \\textbf{coef} & \\textbf{std err} & \\textbf{t} & \\textbf{P$> |$t$|$} & \\textbf{[0.025} & \\textbf{0.975]}  \\\\\n",
       "\\midrule\n",
       "\\textbf{Intercept}   &     117.0141  &       13.476     &     8.683  &         0.000        &       90.108    &      143.920     \\\\\n",
       "\\textbf{I(day ** 3)} &      -0.0253  &        0.000     &   -51.312  &         0.000        &       -0.026    &       -0.024     \\\\\n",
       "\\textbf{I(day ** 2)} &       2.6241  &        0.053     &    49.314  &         0.000        &        2.518    &        2.730     \\\\\n",
       "\\textbf{day}         &     -15.2978  &        1.632     &    -9.373  &         0.000        &      -18.557    &      -12.039     \\\\\n",
       "\\bottomrule\n",
       "\\end{tabular}\n",
       "\\begin{tabular}{lclc}\n",
       "\\textbf{Omnibus:}       &  6.702 & \\textbf{  Durbin-Watson:     } &    0.082  \\\\\n",
       "\\textbf{Prob(Omnibus):} &  0.035 & \\textbf{  Jarque-Bera (JB):  } &    2.680  \\\\\n",
       "\\textbf{Skew:}          &  0.103 & \\textbf{  Prob(JB):          } &    0.262  \\\\\n",
       "\\textbf{Kurtosis:}      &  2.064 & \\textbf{  Cond. No.          } & 5.65e+05  \\\\\n",
       "\\bottomrule\n",
       "\\end{tabular}\n",
       "%\\caption{OLS Regression Results}\n",
       "\\end{center}\n",
       "\n",
       "Notes: \\newline\n",
       " [1] Standard Errors assume that the covariance matrix of the errors is correctly specified. \\newline\n",
       " [2] The condition number is large, 5.65e+05. This might indicate that there are \\newline\n",
       " strong multicollinearity or other numerical problems."
      ],
      "text/plain": [
       "<class 'statsmodels.iolib.summary.Summary'>\n",
       "\"\"\"\n",
       "                            OLS Regression Results                            \n",
       "==============================================================================\n",
       "Dep. Variable:                 weight   R-squared:                       1.000\n",
       "Model:                            OLS   Adj. R-squared:                  0.999\n",
       "Method:                 Least Squares   F-statistic:                 4.407e+04\n",
       "Date:                Mon, 11 Mar 2024   Prob (F-statistic):          7.13e-109\n",
       "Time:                        16:45:17   Log-Likelihood:                -327.17\n",
       "No. Observations:                  70   AIC:                             662.3\n",
       "Df Residuals:                      66   BIC:                             671.3\n",
       "Df Model:                           3                                         \n",
       "Covariance Type:            nonrobust                                         \n",
       "===============================================================================\n",
       "                  coef    std err          t      P>|t|      [0.025      0.975]\n",
       "-------------------------------------------------------------------------------\n",
       "Intercept     117.0141     13.476      8.683      0.000      90.108     143.920\n",
       "I(day ** 3)    -0.0253      0.000    -51.312      0.000      -0.026      -0.024\n",
       "I(day ** 2)     2.6241      0.053     49.314      0.000       2.518       2.730\n",
       "day           -15.2978      1.632     -9.373      0.000     -18.557     -12.039\n",
       "==============================================================================\n",
       "Omnibus:                        6.702   Durbin-Watson:                   0.082\n",
       "Prob(Omnibus):                  0.035   Jarque-Bera (JB):                2.680\n",
       "Skew:                           0.103   Prob(JB):                        0.262\n",
       "Kurtosis:                       2.064   Cond. No.                     5.65e+05\n",
       "==============================================================================\n",
       "\n",
       "Notes:\n",
       "[1] Standard Errors assume that the covariance matrix of the errors is correctly specified.\n",
       "[2] The condition number is large, 5.65e+05. This might indicate that there are\n",
       "strong multicollinearity or other numerical problems.\n",
       "\"\"\""
      ]
     },
     "execution_count": 87,
     "metadata": {},
     "output_type": "execute_result"
    }
   ],
   "source": [
    "# 성장기간에 따른 병아리 몸무게 변화 비선형 회귀분석 실시\n",
    "model_nlm=smf.ols(formula='weight ~ I(day**3) + I(day**2) + day', data=w2)\n",
    "result_nlm=model_nlm.fit()\n",
    "result_nlm.summary()"
   ]
  },
  {
   "cell_type": "code",
   "execution_count": 89,
   "id": "9832c773",
   "metadata": {},
   "outputs": [
    {
     "data": {
      "image/png": "[encoded data removed]",
      "text/plain": [
       "<Figure size 1000x600 with 1 Axes>"
      ]
     },
     "metadata": {},
     "output_type": "display_data"
    }
   ],
   "source": [
    "# 성장기간에 따른 병아리 몸무게 변화\n",
    "plt.figure(figsize=(10,6))\n",
    "plt.scatter(w2.day, w2.weight, alpha=.5)\n",
    "plt.plot(w2.day, (w2.day**3)*(-0.0253)+(w2.day**2)*2.6241 + w2.day*(-15.2978) + 117.0141, color='red')\n",
    "plt.text(0, 3200, 'weight=-0.0253(day^3)+2.6241(day^2)-15.2978day+117.0141', fontsize=12)\n",
    "plt.title('Scatter Plot')\n",
    "plt.xlabel('day')\n",
    "plt.ylabel('weight')\n",
    "plt.show()"
   ]
  },
  {
   "cell_type": "markdown",
   "id": "c79154a3",
   "metadata": {},
   "source": [
    "# CHAPTER 6 분류 및 군집분석"
   ]
  },
  {
   "cell_type": "markdown",
   "id": "3ae3c1b7",
   "metadata": {},
   "source": [
    "## 01 병아리의 성별을 구분할 수 있을까? (로지스틱 회귀)"
   ]
  },
  {
   "cell_type": "markdown",
   "id": "154f69fc",
   "metadata": {},
   "source": [
    "### 1-1 로지스틱 회귀란?"
   ]
  },
  {
   "cell_type": "markdown",
   "id": "ea88d4b7",
   "metadata": {},
   "source": [
    "### 1-2 데이터 불러와서 확인하기"
   ]
  },
  {
   "cell_type": "code",
   "execution_count": 90,
   "id": "316f7cba",
   "metadata": {},
   "outputs": [
    {
     "data": {
      "text/html": [
       "<div>\n",
       "<style scoped>\n",
       "    .dataframe tbody tr th:only-of-type {\n",
       "        vertical-align: middle;\n",
       "    }\n",
       "\n",
       "    .dataframe tbody tr th {\n",
       "        vertical-align: top;\n",
       "    }\n",
       "\n",
       "    .dataframe thead th {\n",
       "        text-align: right;\n",
       "    }\n",
       "</style>\n",
       "<table border=\"1\" class=\"dataframe\">\n",
       "  <thead>\n",
       "    <tr style=\"text-align: right;\">\n",
       "      <th></th>\n",
       "      <th>wing_length</th>\n",
       "      <th>tail_length</th>\n",
       "      <th>gender</th>\n",
       "    </tr>\n",
       "  </thead>\n",
       "  <tbody>\n",
       "    <tr>\n",
       "      <th>0</th>\n",
       "      <td>44</td>\n",
       "      <td>9</td>\n",
       "      <td>m</td>\n",
       "    </tr>\n",
       "    <tr>\n",
       "      <th>1</th>\n",
       "      <td>42</td>\n",
       "      <td>9</td>\n",
       "      <td>m</td>\n",
       "    </tr>\n",
       "    <tr>\n",
       "      <th>2</th>\n",
       "      <td>43</td>\n",
       "      <td>8</td>\n",
       "      <td>m</td>\n",
       "    </tr>\n",
       "    <tr>\n",
       "      <th>3</th>\n",
       "      <td>40</td>\n",
       "      <td>10</td>\n",
       "      <td>m</td>\n",
       "    </tr>\n",
       "    <tr>\n",
       "      <th>4</th>\n",
       "      <td>44</td>\n",
       "      <td>8</td>\n",
       "      <td>m</td>\n",
       "    </tr>\n",
       "  </tbody>\n",
       "</table>\n",
       "</div>"
      ],
      "text/plain": [
       "   wing_length  tail_length gender\n",
       "0           44            9      m\n",
       "1           42            9      m\n",
       "2           43            8      m\n",
       "3           40           10      m\n",
       "4           44            8      m"
      ]
     },
     "execution_count": 90,
     "metadata": {},
     "output_type": "execute_result"
    }
   ],
   "source": [
    "import pandas as pd\n",
    "g= pd.read_csv('ch6-1.csv')\n",
    "g.head()"
   ]
  },
  {
   "cell_type": "code",
   "execution_count": 91,
   "id": "eb2df04c",
   "metadata": {},
   "outputs": [
    {
     "name": "stdout",
     "output_type": "stream",
     "text": [
      "<class 'pandas.core.frame.DataFrame'>\n",
      "RangeIndex: 60 entries, 0 to 59\n",
      "Data columns (total 3 columns):\n",
      " #   Column       Non-Null Count  Dtype \n",
      "---  ------       --------------  ----- \n",
      " 0   wing_length  60 non-null     int64 \n",
      " 1   tail_length  60 non-null     int64 \n",
      " 2   gender       60 non-null     object\n",
      "dtypes: int64(2), object(1)\n",
      "memory usage: 1.5+ KB\n"
     ]
    }
   ],
   "source": [
    "g.info()"
   ]
  },
  {
   "cell_type": "code",
   "execution_count": 92,
   "id": "9702ee2b",
   "metadata": {},
   "outputs": [
    {
     "data": {
      "text/html": [
       "<div>\n",
       "<style scoped>\n",
       "    .dataframe tbody tr th:only-of-type {\n",
       "        vertical-align: middle;\n",
       "    }\n",
       "\n",
       "    .dataframe tbody tr th {\n",
       "        vertical-align: top;\n",
       "    }\n",
       "\n",
       "    .dataframe thead th {\n",
       "        text-align: right;\n",
       "    }\n",
       "</style>\n",
       "<table border=\"1\" class=\"dataframe\">\n",
       "  <thead>\n",
       "    <tr style=\"text-align: right;\">\n",
       "      <th></th>\n",
       "      <th>wing_length</th>\n",
       "      <th>tail_length</th>\n",
       "      <th>gender</th>\n",
       "    </tr>\n",
       "  </thead>\n",
       "  <tbody>\n",
       "    <tr>\n",
       "      <th>0</th>\n",
       "      <td>44</td>\n",
       "      <td>9</td>\n",
       "      <td>1</td>\n",
       "    </tr>\n",
       "    <tr>\n",
       "      <th>1</th>\n",
       "      <td>42</td>\n",
       "      <td>9</td>\n",
       "      <td>1</td>\n",
       "    </tr>\n",
       "    <tr>\n",
       "      <th>2</th>\n",
       "      <td>43</td>\n",
       "      <td>8</td>\n",
       "      <td>1</td>\n",
       "    </tr>\n",
       "    <tr>\n",
       "      <th>3</th>\n",
       "      <td>40</td>\n",
       "      <td>10</td>\n",
       "      <td>1</td>\n",
       "    </tr>\n",
       "    <tr>\n",
       "      <th>4</th>\n",
       "      <td>44</td>\n",
       "      <td>8</td>\n",
       "      <td>1</td>\n",
       "    </tr>\n",
       "  </tbody>\n",
       "</table>\n",
       "</div>"
      ],
      "text/plain": [
       "   wing_length  tail_length  gender\n",
       "0           44            9       1\n",
       "1           42            9       1\n",
       "2           43            8       1\n",
       "3           40           10       1\n",
       "4           44            8       1"
      ]
     },
     "execution_count": 92,
     "metadata": {},
     "output_type": "execute_result"
    }
   ],
   "source": [
    "# gender 변수의 값 md을 1로, f를 0으로 변경\n",
    "g['gender']=g['gender'].map({'m':1, 'f':0})\n",
    "g.head()"
   ]
  },
  {
   "cell_type": "markdown",
   "id": "33b81615",
   "metadata": {},
   "source": [
    "### 1-3 로지스틱 회귀분석"
   ]
  },
  {
   "cell_type": "code",
   "execution_count": 94,
   "id": "e85bbf5e",
   "metadata": {},
   "outputs": [
    {
     "name": "stdout",
     "output_type": "stream",
     "text": [
      "Optimization terminated successfully.\n",
      "         Current function value: 0.137215\n",
      "         Iterations 9\n"
     ]
    }
   ],
   "source": [
    "# 로지스틱 회귀 구현을 위한 모듈 불러오기\n",
    "import statsmodels.api as sm\n",
    "# 모델 구축 및 학습\n",
    "model_glm = sm.Logit.from_formula('gender ~ wing_length + tail_length', data=g).fit()"
   ]
  },
  {
   "cell_type": "code",
   "execution_count": 95,
   "id": "f857eb20",
   "metadata": {},
   "outputs": [
    {
     "data": {
      "text/html": [
       "<table class=\"simpletable\">\n",
       "<caption>Logit Regression Results</caption>\n",
       "<tr>\n",
       "  <th>Dep. Variable:</th>        <td>gender</td>      <th>  No. Observations:  </th>  <td>    60</td>  \n",
       "</tr>\n",
       "<tr>\n",
       "  <th>Model:</th>                 <td>Logit</td>      <th>  Df Residuals:      </th>  <td>    57</td>  \n",
       "</tr>\n",
       "<tr>\n",
       "  <th>Method:</th>                 <td>MLE</td>       <th>  Df Model:          </th>  <td>     2</td>  \n",
       "</tr>\n",
       "<tr>\n",
       "  <th>Date:</th>            <td>Mon, 11 Mar 2024</td> <th>  Pseudo R-squ.:     </th>  <td>0.8020</td>  \n",
       "</tr>\n",
       "<tr>\n",
       "  <th>Time:</th>                <td>16:54:34</td>     <th>  Log-Likelihood:    </th> <td> -8.2329</td> \n",
       "</tr>\n",
       "<tr>\n",
       "  <th>converged:</th>             <td>True</td>       <th>  LL-Null:           </th> <td> -41.589</td> \n",
       "</tr>\n",
       "<tr>\n",
       "  <th>Covariance Type:</th>     <td>nonrobust</td>    <th>  LLR p-value:       </th> <td>3.264e-15</td>\n",
       "</tr>\n",
       "</table>\n",
       "<table class=\"simpletable\">\n",
       "<tr>\n",
       "       <td></td>          <th>coef</th>     <th>std err</th>      <th>z</th>      <th>P>|z|</th>  <th>[0.025</th>    <th>0.975]</th>  \n",
       "</tr>\n",
       "<tr>\n",
       "  <th>Intercept</th>   <td>   70.1955</td> <td>   23.410</td> <td>    2.999</td> <td> 0.003</td> <td>   24.313</td> <td>  116.078</td>\n",
       "</tr>\n",
       "<tr>\n",
       "  <th>wing_length</th> <td>   -1.0531</td> <td>    0.505</td> <td>   -2.087</td> <td> 0.037</td> <td>   -2.042</td> <td>   -0.064</td>\n",
       "</tr>\n",
       "<tr>\n",
       "  <th>tail_length</th> <td>   -2.3859</td> <td>    0.969</td> <td>   -2.462</td> <td> 0.014</td> <td>   -4.285</td> <td>   -0.486</td>\n",
       "</tr>\n",
       "</table>"
      ],
      "text/latex": [
       "\\begin{center}\n",
       "\\begin{tabular}{lclc}\n",
       "\\toprule\n",
       "\\textbf{Dep. Variable:}   &      gender      & \\textbf{  No. Observations:  } &       60    \\\\\n",
       "\\textbf{Model:}           &      Logit       & \\textbf{  Df Residuals:      } &       57    \\\\\n",
       "\\textbf{Method:}          &       MLE        & \\textbf{  Df Model:          } &        2    \\\\\n",
       "\\textbf{Date:}            & Mon, 11 Mar 2024 & \\textbf{  Pseudo R-squ.:     } &   0.8020    \\\\\n",
       "\\textbf{Time:}            &     16:54:34     & \\textbf{  Log-Likelihood:    } &   -8.2329   \\\\\n",
       "\\textbf{converged:}       &       True       & \\textbf{  LL-Null:           } &   -41.589   \\\\\n",
       "\\textbf{Covariance Type:} &    nonrobust     & \\textbf{  LLR p-value:       } & 3.264e-15   \\\\\n",
       "\\bottomrule\n",
       "\\end{tabular}\n",
       "\\begin{tabular}{lcccccc}\n",
       "                      & \\textbf{coef} & \\textbf{std err} & \\textbf{z} & \\textbf{P$> |$z$|$} & \\textbf{[0.025} & \\textbf{0.975]}  \\\\\n",
       "\\midrule\n",
       "\\textbf{Intercept}    &      70.1955  &       23.410     &     2.999  &         0.003        &       24.313    &      116.078     \\\\\n",
       "\\textbf{wing\\_length} &      -1.0531  &        0.505     &    -2.087  &         0.037        &       -2.042    &       -0.064     \\\\\n",
       "\\textbf{tail\\_length} &      -2.3859  &        0.969     &    -2.462  &         0.014        &       -4.285    &       -0.486     \\\\\n",
       "\\bottomrule\n",
       "\\end{tabular}\n",
       "%\\caption{Logit Regression Results}\n",
       "\\end{center}"
      ],
      "text/plain": [
       "<class 'statsmodels.iolib.summary.Summary'>\n",
       "\"\"\"\n",
       "                           Logit Regression Results                           \n",
       "==============================================================================\n",
       "Dep. Variable:                 gender   No. Observations:                   60\n",
       "Model:                          Logit   Df Residuals:                       57\n",
       "Method:                           MLE   Df Model:                            2\n",
       "Date:                Mon, 11 Mar 2024   Pseudo R-squ.:                  0.8020\n",
       "Time:                        16:54:34   Log-Likelihood:                -8.2329\n",
       "converged:                       True   LL-Null:                       -41.589\n",
       "Covariance Type:            nonrobust   LLR p-value:                 3.264e-15\n",
       "===============================================================================\n",
       "                  coef    std err          z      P>|z|      [0.025      0.975]\n",
       "-------------------------------------------------------------------------------\n",
       "Intercept      70.1955     23.410      2.999      0.003      24.313     116.078\n",
       "wing_length    -1.0531      0.505     -2.087      0.037      -2.042      -0.064\n",
       "tail_length    -2.3859      0.969     -2.462      0.014      -4.285      -0.486\n",
       "===============================================================================\n",
       "\"\"\""
      ]
     },
     "execution_count": 95,
     "metadata": {},
     "output_type": "execute_result"
    }
   ],
   "source": [
    "model_glm.summary()"
   ]
  },
  {
   "cell_type": "markdown",
   "id": "ab27b829",
   "metadata": {},
   "source": [
    "### 1-4 분류 알고리즘의 성능 평가 방법"
   ]
  },
  {
   "cell_type": "markdown",
   "id": "5b89cd5d",
   "metadata": {},
   "source": [
    "### 1-5 로지스틱 회귀모델의 성능 평가"
   ]
  },
  {
   "cell_type": "code",
   "execution_count": 96,
   "id": "0df249ea",
   "metadata": {},
   "outputs": [
    {
     "data": {
      "text/plain": [
       "0    0.915579\n",
       "1    0.988904\n",
       "2    0.997049\n",
       "3    0.985377\n",
       "4    0.991588\n",
       "dtype: float64"
      ]
     },
     "execution_count": 96,
     "metadata": {},
     "output_type": "execute_result"
    }
   ],
   "source": [
    "# predict() 메소드를 이용해 예측값(확률) 생성\n",
    "y_prob=model_glm.predict(g.iloc[:, 0:2])\n",
    "# 예측값(확률) 확인\n",
    "y_prob.head()"
   ]
  },
  {
   "cell_type": "code",
   "execution_count": 97,
   "id": "bf222043",
   "metadata": {},
   "outputs": [
    {
     "data": {
      "text/plain": [
       "[1, 1, 1, 1, 1]"
      ]
     },
     "execution_count": 97,
     "metadata": {},
     "output_type": "execute_result"
    }
   ],
   "source": [
    "# 예측값(확률)을 반올림을 통해 1과 0으로 표현한 뒤 list 타입으로 변경\n",
    "y_pred=list(map(round, y_prob))\n",
    "# 예측값(클래스) 확인\n",
    "y_pred[0:5]"
   ]
  },
  {
   "cell_type": "code",
   "execution_count": 98,
   "id": "6b497fe4",
   "metadata": {},
   "outputs": [],
   "source": [
    "# 기준값인 gender열을 별도 y로 저장\n",
    "y=g['gender']"
   ]
  },
  {
   "cell_type": "code",
   "execution_count": 99,
   "id": "7ba17f63",
   "metadata": {},
   "outputs": [
    {
     "data": {
      "text/plain": [
       "array([[28,  2],\n",
       "       [ 1, 29]], dtype=int64)"
      ]
     },
     "execution_count": 99,
     "metadata": {},
     "output_type": "execute_result"
    }
   ],
   "source": [
    "# 정오분류표 함수 불러오기\n",
    "from sklearn.metrics import confusion_matrix\n",
    "# 분류 결과 평가, 1을 기준으로\n",
    "confusion_matrix(y, y_pred, labels=[1,0])"
   ]
  },
  {
   "cell_type": "code",
   "execution_count": 100,
   "id": "a96c878c",
   "metadata": {},
   "outputs": [
    {
     "name": "stdout",
     "output_type": "stream",
     "text": [
      "              precision    recall  f1-score   support\n",
      "\n",
      "           0       0.94      0.97      0.95        30\n",
      "           1       0.97      0.93      0.95        30\n",
      "\n",
      "    accuracy                           0.95        60\n",
      "   macro avg       0.95      0.95      0.95        60\n",
      "weighted avg       0.95      0.95      0.95        60\n",
      "\n"
     ]
    }
   ],
   "source": [
    "# 분류 리포트 함수 불러오기\n",
    "from sklearn.metrics import classification_report\n",
    "print(classification_report(y, y_pred))"
   ]
  },
  {
   "cell_type": "code",
   "execution_count": 102,
   "id": "cbffa35f",
   "metadata": {},
   "outputs": [
    {
     "data": {
      "image/png": "[encoded data removed]",
      "text/plain": [
       "<Figure size 1000x700 with 1 Axes>"
      ]
     },
     "metadata": {},
     "output_type": "display_data"
    }
   ],
   "source": [
    "# ROC  커브를 그리기 위한 함수 불러오기\n",
    "from sklearn.metrics import roc_curve\n",
    "# ROC 커브를 그리기 위한 변수 설정\n",
    "fpr, tpr, thresholds=roc_curve(y, y_prob)\n",
    "# ROC 커브 그리기\n",
    "import matplotlib.pyplot as plt\n",
    "plt.figure(figsize=(10,7))\n",
    "plt.plot(fpr, tpr)\n",
    "plt.title('ROC Curve')\n",
    "plt.xlabel('1-Specificity')\n",
    "plt.ylabel('Sensitivity')\n",
    "plt.show()"
   ]
  },
  {
   "cell_type": "code",
   "execution_count": 103,
   "id": "2adfc4ef",
   "metadata": {},
   "outputs": [
    {
     "data": {
      "text/plain": [
       "0.9866666666666667"
      ]
     },
     "execution_count": 103,
     "metadata": {},
     "output_type": "execute_result"
    }
   ],
   "source": [
    "# AUC 계산을 위한 함수 불러오기\n",
    "from sklearn.metrics import auc\n",
    "# AUC 계산\n",
    "auc(fpr, tpr)"
   ]
  },
  {
   "cell_type": "markdown",
   "id": "3201ca7a",
   "metadata": {},
   "source": [
    "## 02 병아리의 품종을 구분할 수 있을까? (분류 알고리즘)"
   ]
  },
  {
   "cell_type": "markdown",
   "id": "38189818",
   "metadata": {},
   "source": [
    "### 2-1 다양한 분류 알고리즘"
   ]
  },
  {
   "cell_type": "markdown",
   "id": "961e9800",
   "metadata": {},
   "source": [
    "## 2-2 나이브 베이즈 분류"
   ]
  },
  {
   "cell_type": "code",
   "execution_count": 104,
   "id": "80c8db84",
   "metadata": {},
   "outputs": [
    {
     "name": "stdout",
     "output_type": "stream",
     "text": [
      "<class 'pandas.core.frame.DataFrame'>\n",
      "RangeIndex: 240 entries, 0 to 239\n",
      "Data columns (total 4 columns):\n",
      " #   Column       Non-Null Count  Dtype \n",
      "---  ------       --------------  ----- \n",
      " 0   wing_length  240 non-null    int64 \n",
      " 1   tail_length  240 non-null    int64 \n",
      " 2   comb_height  240 non-null    int64 \n",
      " 3   breeds       240 non-null    object\n",
      "dtypes: int64(3), object(1)\n",
      "memory usage: 7.6+ KB\n"
     ]
    }
   ],
   "source": [
    "# 실습용 데이터 불러오기\n",
    "import pandas as pd\n",
    "df_train=pd.read_csv('ch6-2_train.csv')\n",
    "df_test=pd.read_csv('ch6-2_test.csv')\n",
    "df_train.info()"
   ]
  },
  {
   "cell_type": "code",
   "execution_count": 105,
   "id": "8dbef272",
   "metadata": {},
   "outputs": [
    {
     "name": "stdout",
     "output_type": "stream",
     "text": [
      "<class 'pandas.core.frame.DataFrame'>\n",
      "RangeIndex: 60 entries, 0 to 59\n",
      "Data columns (total 4 columns):\n",
      " #   Column       Non-Null Count  Dtype \n",
      "---  ------       --------------  ----- \n",
      " 0   wing_length  60 non-null     int64 \n",
      " 1   tail_length  60 non-null     int64 \n",
      " 2   comb_height  60 non-null     int64 \n",
      " 3   breeds       60 non-null     object\n",
      "dtypes: int64(3), object(1)\n",
      "memory usage: 2.0+ KB\n"
     ]
    }
   ],
   "source": [
    "df_test.info()"
   ]
  },
  {
   "cell_type": "code",
   "execution_count": 106,
   "id": "8430767f",
   "metadata": {},
   "outputs": [
    {
     "data": {
      "text/html": [
       "<div>\n",
       "<style scoped>\n",
       "    .dataframe tbody tr th:only-of-type {\n",
       "        vertical-align: middle;\n",
       "    }\n",
       "\n",
       "    .dataframe tbody tr th {\n",
       "        vertical-align: top;\n",
       "    }\n",
       "\n",
       "    .dataframe thead th {\n",
       "        text-align: right;\n",
       "    }\n",
       "</style>\n",
       "<table border=\"1\" class=\"dataframe\">\n",
       "  <thead>\n",
       "    <tr style=\"text-align: right;\">\n",
       "      <th></th>\n",
       "      <th>wing_length</th>\n",
       "      <th>tail_length</th>\n",
       "      <th>comb_height</th>\n",
       "      <th>breeds</th>\n",
       "    </tr>\n",
       "  </thead>\n",
       "  <tbody>\n",
       "    <tr>\n",
       "      <th>0</th>\n",
       "      <td>238</td>\n",
       "      <td>63</td>\n",
       "      <td>34</td>\n",
       "      <td>a</td>\n",
       "    </tr>\n",
       "    <tr>\n",
       "      <th>1</th>\n",
       "      <td>236</td>\n",
       "      <td>67</td>\n",
       "      <td>30</td>\n",
       "      <td>a</td>\n",
       "    </tr>\n",
       "    <tr>\n",
       "      <th>2</th>\n",
       "      <td>256</td>\n",
       "      <td>65</td>\n",
       "      <td>34</td>\n",
       "      <td>a</td>\n",
       "    </tr>\n",
       "    <tr>\n",
       "      <th>3</th>\n",
       "      <td>240</td>\n",
       "      <td>63</td>\n",
       "      <td>35</td>\n",
       "      <td>a</td>\n",
       "    </tr>\n",
       "    <tr>\n",
       "      <th>4</th>\n",
       "      <td>246</td>\n",
       "      <td>65</td>\n",
       "      <td>30</td>\n",
       "      <td>a</td>\n",
       "    </tr>\n",
       "  </tbody>\n",
       "</table>\n",
       "</div>"
      ],
      "text/plain": [
       "   wing_length  tail_length  comb_height breeds\n",
       "0          238           63           34      a\n",
       "1          236           67           30      a\n",
       "2          256           65           34      a\n",
       "3          240           63           35      a\n",
       "4          246           65           30      a"
      ]
     },
     "execution_count": 106,
     "metadata": {},
     "output_type": "execute_result"
    }
   ],
   "source": [
    "df_train.head()"
   ]
  },
  {
   "cell_type": "code",
   "execution_count": 110,
   "id": "67fe7542",
   "metadata": {},
   "outputs": [],
   "source": [
    "# train, test 데이터 셋 각각 x,y로 분할, ndarray 타입\n",
    "x_train=df_train.iloc[:,0:3].values\n",
    "y_train=df_train.iloc[:,3].values\n",
    "x_test=df_test.iloc[:, 0:3].values\n",
    "y_test=df_test.iloc[:,3].values"
   ]
  },
  {
   "cell_type": "code",
   "execution_count": 111,
   "id": "9672240c",
   "metadata": {},
   "outputs": [],
   "source": [
    "# 나이브 베이즈 알고리즘 수행을 위한 함수 불러오기\n",
    "from sklearn.naive_bayes import GaussianNB"
   ]
  },
  {
   "cell_type": "code",
   "execution_count": 113,
   "id": "96759c71",
   "metadata": {},
   "outputs": [],
   "source": [
    "# 모델 구축 및 학습\n",
    "model_nb=GaussianNB().fit(x_train, y_train)"
   ]
  },
  {
   "cell_type": "code",
   "execution_count": 114,
   "id": "7df00a65",
   "metadata": {},
   "outputs": [
    {
     "data": {
      "text/plain": [
       "array(['a', 'a', 'a', 'a', 'a', 'a', 'a', 'a', 'a', 'a', 'a', 'a', 'a',\n",
       "       'a', 'a', 'a', 'a', 'a', 'a', 'a', 'b', 'b', 'b', 'b', 'b', 'b',\n",
       "       'b', 'b', 'c', 'b', 'b', 'b', 'b', 'c', 'b', 'b', 'b', 'b', 'b',\n",
       "       'a', 'c', 'c', 'c', 'c', 'c', 'c', 'c', 'c', 'c', 'c', 'c', 'b',\n",
       "       'c', 'c', 'c', 'c', 'c', 'c', 'c', 'c'], dtype='<U1')"
      ]
     },
     "execution_count": 114,
     "metadata": {},
     "output_type": "execute_result"
    }
   ],
   "source": [
    "# 예측값 생성\n",
    "y_pred_nb=model_nb.predict(x_test)\n",
    "# 예측값 확인\n",
    "y_pred_nb"
   ]
  },
  {
   "cell_type": "code",
   "execution_count": 115,
   "id": "1bd1c39e",
   "metadata": {},
   "outputs": [
    {
     "data": {
      "text/plain": [
       "array([[20,  0,  0],\n",
       "       [ 1, 17,  2],\n",
       "       [ 0,  1, 19]], dtype=int64)"
      ]
     },
     "execution_count": 115,
     "metadata": {},
     "output_type": "execute_result"
    }
   ],
   "source": [
    "# 예측 결과 평가\n",
    "from sklearn.metrics import confusion_matrix\n",
    "# 위쪽이 예측값, 좌측이 실제값\n",
    "confusion_matrix(y_test, y_pred_nb)"
   ]
  },
  {
   "cell_type": "code",
   "execution_count": 116,
   "id": "c6e4bc3d",
   "metadata": {},
   "outputs": [
    {
     "name": "stdout",
     "output_type": "stream",
     "text": [
      "              precision    recall  f1-score   support\n",
      "\n",
      "           a       0.95      1.00      0.98        20\n",
      "           b       0.94      0.85      0.89        20\n",
      "           c       0.90      0.95      0.93        20\n",
      "\n",
      "    accuracy                           0.93        60\n",
      "   macro avg       0.93      0.93      0.93        60\n",
      "weighted avg       0.93      0.93      0.93        60\n",
      "\n"
     ]
    }
   ],
   "source": [
    "# 예측 결과 평가\n",
    "from sklearn.metrics import classification_report\n",
    "print(classification_report(y_test, y_pred_nb))"
   ]
  },
  {
   "cell_type": "markdown",
   "id": "0d0d8444",
   "metadata": {},
   "source": [
    "### 2-3 k-최근접 이웃"
   ]
  },
  {
   "cell_type": "code",
   "execution_count": 120,
   "id": "64c93e1f",
   "metadata": {},
   "outputs": [
    {
     "data": {
      "text/plain": [
       "array([[19,  1,  0],\n",
       "       [ 1, 16,  3],\n",
       "       [ 0,  1, 19]], dtype=int64)"
      ]
     },
     "execution_count": 120,
     "metadata": {},
     "output_type": "execute_result"
    }
   ],
   "source": [
    "# k-NN 알고리즘 수행을 위한 함수 불러오기\n",
    "from sklearn.neighbors import KNeighborsClassifier\n",
    "# 모델 구축(k=3) 및 학습\n",
    "model_knn=KNeighborsClassifier(n_neighbors=3).fit(x_train,y_train)\n",
    "y_pred_knn=model_knn.predict(x_test)\n",
    "from sklearn.metrics import confusion_matrix\n",
    "confusion_matrix(y_test, y_pred_knn)"
   ]
  },
  {
   "cell_type": "code",
   "execution_count": null,
   "id": "3e0a2640",
   "metadata": {},
   "outputs": [],
   "source": []
  }
 ],
 "metadata": {
  "kernelspec": {
   "display_name": "Python 3 (ipykernel)",
   "language": "python",
   "name": "python3"
  },
  "language_info": {
   "codemirror_mode": {
    "name": "ipython",
    "version": 3
   },
   "file_extension": ".py",
   "mimetype": "text/x-python",
   "name": "python",
   "nbconvert_exporter": "python",
   "pygments_lexer": "ipython3",
   "version": "3.11.5"
  }
 },
 "nbformat": 4,
 "nbformat_minor": 5
}
