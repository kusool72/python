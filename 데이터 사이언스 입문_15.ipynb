{
 "cells": [
  {
   "cell_type": "markdown",
   "id": "d716d88d",
   "metadata": {},
   "source": [
    "# CHAPTER 15 자연어 기본"
   ]
  },
  {
   "cell_type": "markdown",
   "id": "97f60f28",
   "metadata": {},
   "source": [
    "## 01 자연어 기본 처리"
   ]
  },
  {
   "cell_type": "code",
   "execution_count": 1,
   "id": "f0971bce",
   "metadata": {},
   "outputs": [],
   "source": [
    "import warnings  # 경고메시지를 제어하는 모듈 사용\n",
    "warnings.filterwarnings(action='ignore')  # 경고메시지가 출력되지 않도록 처리"
   ]
  },
  {
   "cell_type": "code",
   "execution_count": 2,
   "id": "9f60420f",
   "metadata": {},
   "outputs": [
    {
     "name": "stdout",
     "output_type": "stream",
     "text": [
      "Defaulting to user installation because normal site-packages is not writeable\n",
      "Requirement already satisfied: konlpy in c:\\users\\hckim\\appdata\\roaming\\python\\python311\\site-packages (0.6.0)\n",
      "Requirement already satisfied: JPype1>=0.7.0 in c:\\users\\hckim\\appdata\\roaming\\python\\python311\\site-packages (from konlpy) (1.5.0)\n",
      "Requirement already satisfied: lxml>=4.1.0 in c:\\programdata\\anaconda3\\lib\\site-packages (from konlpy) (4.9.3)\n",
      "Requirement already satisfied: numpy>=1.6 in c:\\programdata\\anaconda3\\lib\\site-packages (from konlpy) (1.24.3)\n",
      "Requirement already satisfied: packaging in c:\\programdata\\anaconda3\\lib\\site-packages (from JPype1>=0.7.0->konlpy) (23.1)\n"
     ]
    }
   ],
   "source": [
    "!pip install konlpy"
   ]
  },
  {
   "cell_type": "code",
   "execution_count": 3,
   "id": "51218b3b",
   "metadata": {},
   "outputs": [],
   "source": [
    "import konlpy as ko  # 한국어 자연어 처리하는 모듈 사용"
   ]
  },
  {
   "cell_type": "code",
   "execution_count": 4,
   "id": "ce28e8a9",
   "metadata": {},
   "outputs": [],
   "source": [
    "from konlpy.corpus import kolaw, kobill  #한국어 코퍼스 내의 문장 사용"
   ]
  },
  {
   "cell_type": "code",
   "execution_count": 5,
   "id": "e4c627e7",
   "metadata": {},
   "outputs": [
    {
     "data": {
      "text/plain": [
       "['constitution.txt']"
      ]
     },
     "execution_count": 5,
     "metadata": {},
     "output_type": "execute_result"
    }
   ],
   "source": [
    "kolaw.fileids()   #헌법에 대한 텍스트 파일 확인"
   ]
  },
  {
   "cell_type": "code",
   "execution_count": 6,
   "id": "2360f585",
   "metadata": {},
   "outputs": [
    {
     "data": {
      "text/plain": [
       "['1809890.txt',\n",
       " '1809891.txt',\n",
       " '1809892.txt',\n",
       " '1809893.txt',\n",
       " '1809894.txt',\n",
       " '1809895.txt',\n",
       " '1809896.txt',\n",
       " '1809897.txt',\n",
       " '1809898.txt',\n",
       " '1809899.txt']"
      ]
     },
     "execution_count": 6,
     "metadata": {},
     "output_type": "execute_result"
    }
   ],
   "source": [
    "kobill.fileids()  # 일반 법률에 대한 텍스트 파일 확인"
   ]
  },
  {
   "cell_type": "code",
   "execution_count": 7,
   "id": "23535fa6",
   "metadata": {},
   "outputs": [],
   "source": [
    "c=kolaw.open('constitution.txt').read()  # 헌법 문서를 읽어온다"
   ]
  },
  {
   "cell_type": "code",
   "execution_count": 8,
   "id": "347af579",
   "metadata": {},
   "outputs": [],
   "source": [
    "con=c.split('\\n\\n')  # 내부의 문장을 분리해서 리스트로 보관"
   ]
  },
  {
   "cell_type": "code",
   "execution_count": 9,
   "id": "7e94c50b",
   "metadata": {},
   "outputs": [
    {
     "data": {
      "text/plain": [
       "'대한민국헌법'"
      ]
     },
     "execution_count": 9,
     "metadata": {},
     "output_type": "execute_result"
    }
   ],
   "source": [
    "con[0]  # 첫 번째 리스트 원소를 확인하면 헌번 제목이 나온다"
   ]
  },
  {
   "cell_type": "code",
   "execution_count": 14,
   "id": "d91974b4",
   "metadata": {},
   "outputs": [],
   "source": [
    "con_sen=con[1]  # 실제 헌법의 전문을 가져온다"
   ]
  },
  {
   "cell_type": "code",
   "execution_count": 11,
   "id": "9bdd2338",
   "metadata": {},
   "outputs": [
    {
     "name": "stdout",
     "output_type": "stream",
     "text": [
      "Defaulting to user installation because normal site-packages is not writeable\n",
      "Requirement already satisfied: jpype1 in c:\\users\\hckim\\appdata\\roaming\\python\\python311\\site-packages (1.5.0)\n",
      "Requirement already satisfied: packaging in c:\\programdata\\anaconda3\\lib\\site-packages (from jpype1) (23.1)\n"
     ]
    }
   ],
   "source": [
    "!pip install jpype1"
   ]
  },
  {
   "cell_type": "code",
   "execution_count": 12,
   "id": "d59c17c7",
   "metadata": {},
   "outputs": [],
   "source": [
    "from konlpy.tag import Kkma  # 형태소를 분리하는 모듈 사용\n",
    "kkma=Kkma()  # 형태소 객체 생성"
   ]
  },
  {
   "cell_type": "code",
   "execution_count": 15,
   "id": "78e369e5",
   "metadata": {},
   "outputs": [
    {
     "data": {
      "text/plain": [
       "['유구', '역사', '전통', '우리', '국민', '3', '1', '1운동', '운동', '건립']"
      ]
     },
     "execution_count": 15,
     "metadata": {},
     "output_type": "execute_result"
    }
   ],
   "source": [
    "con_sen_n=kkma.nouns(con_sen)  # 명사를 기준으로 분리\n",
    "con_sen_n[:10]"
   ]
  },
  {
   "cell_type": "code",
   "execution_count": 16,
   "id": "73eb8e81",
   "metadata": {},
   "outputs": [
    {
     "data": {
      "text/plain": [
       "['유구', '하', 'ㄴ', '역사', '와', '전통', '에', '빛나', '는', '우리']"
      ]
     },
     "execution_count": 16,
     "metadata": {},
     "output_type": "execute_result"
    }
   ],
   "source": [
    "con_sen_m=kkma.morphs(con_sen)  # 한글을 형태소별로 분리\n",
    "con_sen_m[:10]"
   ]
  },
  {
   "cell_type": "code",
   "execution_count": 17,
   "id": "c8031bc1",
   "metadata": {},
   "outputs": [
    {
     "data": {
      "text/plain": [
       "[('유구', 'NNG'),\n",
       " ('하', 'XSV'),\n",
       " ('ㄴ', 'ETD'),\n",
       " ('역사', 'NNG'),\n",
       " ('와', 'JC'),\n",
       " ('전통', 'NNG'),\n",
       " ('에', 'JKM'),\n",
       " ('빛나', 'VV'),\n",
       " ('는', 'ETD'),\n",
       " ('우리', 'NNM')]"
      ]
     },
     "execution_count": 17,
     "metadata": {},
     "output_type": "execute_result"
    }
   ],
   "source": [
    "con_sen_p=kkma.pos(con_sen)  # 부리된 형태소의 품사 표시\n",
    "con_sen_p[:10]"
   ]
  },
  {
   "cell_type": "code",
   "execution_count": 18,
   "id": "d0dddcc2",
   "metadata": {},
   "outputs": [],
   "source": [
    "from konlpy.tag import Hannanum  # 다른 형태소 분석하는 클래스 사용\n",
    "hannanum=Hannanum()  # 형태소 분리를 위한 객체 사용"
   ]
  },
  {
   "cell_type": "code",
   "execution_count": 19,
   "id": "5842babf",
   "metadata": {},
   "outputs": [
    {
     "data": {
      "text/plain": [
       "['이것', '형태소', '분석기', '아버지', '방']"
      ]
     },
     "execution_count": 19,
     "metadata": {},
     "output_type": "execute_result"
    }
   ],
   "source": [
    "hannanum.nouns('이것은 형태소 분석기 입니다 아버지가 방에 들어가신다')"
   ]
  },
  {
   "cell_type": "code",
   "execution_count": 20,
   "id": "eee3fa60",
   "metadata": {},
   "outputs": [
    {
     "data": {
      "text/plain": [
       "['이것',\n",
       " '은',\n",
       " '형태소',\n",
       " '분석기',\n",
       " '일',\n",
       " 'ㅂ니다',\n",
       " '아버지',\n",
       " '가',\n",
       " '방',\n",
       " '에',\n",
       " '들',\n",
       " '어',\n",
       " '가',\n",
       " '시ㄴ다']"
      ]
     },
     "execution_count": 20,
     "metadata": {},
     "output_type": "execute_result"
    }
   ],
   "source": [
    "hannanum.morphs('이것은 형태소 분석기 입니다 아버지가 방에 들어가신다')"
   ]
  },
  {
   "cell_type": "code",
   "execution_count": 21,
   "id": "0ccc3269",
   "metadata": {},
   "outputs": [
    {
     "data": {
      "text/plain": [
       "[('이것', 'N'),\n",
       " ('은', 'J'),\n",
       " ('형태소', 'N'),\n",
       " ('분석기', 'N'),\n",
       " ('일', 'P'),\n",
       " ('ㅂ니다', 'E'),\n",
       " ('아버지', 'N'),\n",
       " ('가', 'J'),\n",
       " ('방', 'N'),\n",
       " ('에', 'J'),\n",
       " ('들', 'P'),\n",
       " ('어', 'E'),\n",
       " ('가', 'P'),\n",
       " ('시ㄴ다', 'E')]"
      ]
     },
     "execution_count": 21,
     "metadata": {},
     "output_type": "execute_result"
    }
   ],
   "source": [
    "hannanum.pos('이것은 형태소 분석기 입니다 아버지가 방에 들어가신다')"
   ]
  },
  {
   "cell_type": "code",
   "execution_count": 22,
   "id": "0968310a",
   "metadata": {},
   "outputs": [
    {
     "data": {
      "text/plain": [
       "['것', '형태소', '분석', '기', '아버지', '방']"
      ]
     },
     "execution_count": 22,
     "metadata": {},
     "output_type": "execute_result"
    }
   ],
   "source": [
    "from konlpy.tag import Okt  # 다른 형태소들 클래스를 가져온다\n",
    "okt=Okt()\n",
    "okt.nouns('이것은 형태소 분석기 입니다 아버지가 방에 들어가신다')"
   ]
  },
  {
   "cell_type": "code",
   "execution_count": 23,
   "id": "56aeeb88",
   "metadata": {},
   "outputs": [
    {
     "data": {
      "text/plain": [
       "['이', '것', '은', '형태소', '분석', '기', '입니다', '아버지', '가', '방', '에', '들어가신다']"
      ]
     },
     "execution_count": 23,
     "metadata": {},
     "output_type": "execute_result"
    }
   ],
   "source": [
    "okt.morphs('이것은 형태소 분석기 입니다 아버지가 방에 들어가신다')"
   ]
  },
  {
   "cell_type": "code",
   "execution_count": 24,
   "id": "43508293",
   "metadata": {},
   "outputs": [
    {
     "data": {
      "text/plain": [
       "[('이', 'Determiner'),\n",
       " ('것', 'Noun'),\n",
       " ('은', 'Josa'),\n",
       " ('형태소', 'Noun'),\n",
       " ('분석', 'Noun'),\n",
       " ('기', 'Noun'),\n",
       " ('입니다', 'Adjective'),\n",
       " ('아버지', 'Noun'),\n",
       " ('가', 'Josa'),\n",
       " ('방', 'Noun'),\n",
       " ('에', 'Josa'),\n",
       " ('들어가신다', 'Verb')]"
      ]
     },
     "execution_count": 24,
     "metadata": {},
     "output_type": "execute_result"
    }
   ],
   "source": [
    "okt.pos('이것은 형태소 분석기 입니다 아버지가 방에 들어가신다')"
   ]
  },
  {
   "cell_type": "code",
   "execution_count": 25,
   "id": "4afc2033",
   "metadata": {},
   "outputs": [
    {
     "name": "stdout",
     "output_type": "stream",
     "text": [
      "['이', '것', '은', '형태소', '분석', '기', '입니다', '아버지', '가', '방', '에', '들어가신다']\n",
      "['이', '것', '은', '형태소', '분석', '기', '이다', '아버지', '가', '방', '에', '들어가다']\n"
     ]
    }
   ],
   "source": [
    "text='이것은 형태소 분석기 입니다 아버지가 방에 들어가신다'\n",
    "print(okt.morphs(text))\n",
    "print(okt.morphs(text, stem=True))"
   ]
  },
  {
   "cell_type": "code",
   "execution_count": 26,
   "id": "c3c740f0",
   "metadata": {},
   "outputs": [
    {
     "data": {
      "text/plain": [
       "['이것', '형태소', '형태소 분석기', '아버지', '분석']"
      ]
     },
     "execution_count": 26,
     "metadata": {},
     "output_type": "execute_result"
    }
   ],
   "source": [
    "okt.phrases(text)"
   ]
  },
  {
   "cell_type": "code",
   "execution_count": 27,
   "id": "c48364f3",
   "metadata": {},
   "outputs": [
    {
     "data": {
      "text/plain": [
       "['형태소', '분석기', '아버지', '방']"
      ]
     },
     "execution_count": 27,
     "metadata": {},
     "output_type": "execute_result"
    }
   ],
   "source": [
    "from konlpy.tag import Komoran\n",
    "komoran=Komoran()\n",
    "komoran.nouns('이것은 형태소 분석기 입니다 아버지가 방에 들어가신다')"
   ]
  },
  {
   "cell_type": "code",
   "execution_count": 28,
   "id": "18ef69bb",
   "metadata": {},
   "outputs": [
    {
     "data": {
      "text/plain": [
       "['이것', '은', '형태소', '분석기', '이', 'ㅂ니다', '아버지', '가', '방', '에', '들어가', '시', 'ㄴ다']"
      ]
     },
     "execution_count": 28,
     "metadata": {},
     "output_type": "execute_result"
    }
   ],
   "source": [
    "komoran.morphs('이것은 형태소 분석기 입니다 아버지가 방에 들어가신다')"
   ]
  },
  {
   "cell_type": "code",
   "execution_count": 29,
   "id": "ff7fbbdf",
   "metadata": {},
   "outputs": [
    {
     "data": {
      "text/plain": [
       "[('이것', 'NP'),\n",
       " ('은', 'JX'),\n",
       " ('형태소', 'NNP'),\n",
       " ('분석기', 'NNG'),\n",
       " ('이', 'VV'),\n",
       " ('ㅂ니다', 'EC'),\n",
       " ('아버지', 'NNG'),\n",
       " ('가', 'JKS'),\n",
       " ('방', 'NNG'),\n",
       " ('에', 'JKB'),\n",
       " ('들어가', 'VV'),\n",
       " ('시', 'EP'),\n",
       " ('ㄴ다', 'EC')]"
      ]
     },
     "execution_count": 29,
     "metadata": {},
     "output_type": "execute_result"
    }
   ],
   "source": [
    "komoran.pos('이것은 형태소 분석기 입니다 아버지가 방에 들어가신다')"
   ]
  },
  {
   "cell_type": "code",
   "execution_count": 30,
   "id": "836cab2c",
   "metadata": {},
   "outputs": [
    {
     "data": {
      "text/plain": [
       "{'Adjective': '형용사',\n",
       " 'Adverb': '부사',\n",
       " 'Alpha': '알파벳',\n",
       " 'Conjunction': '접속사',\n",
       " 'Determiner': '관형사',\n",
       " 'Eomi': '어미',\n",
       " 'Exclamation': '감탄사',\n",
       " 'Foreign': '외국어, 한자 및 기타기호',\n",
       " 'Hashtag': '트위터 해쉬태그',\n",
       " 'Josa': '조사',\n",
       " 'KoreanParticle': '(ex: ㅋㅋ)',\n",
       " 'Noun': '명사',\n",
       " 'Number': '숫자',\n",
       " 'PreEomi': '선어말어미',\n",
       " 'Punctuation': '구두점',\n",
       " 'ScreenName': '트위터 아이디',\n",
       " 'Suffix': '접미사',\n",
       " 'Unknown': '미등록어',\n",
       " 'Verb': '동사'}"
      ]
     },
     "execution_count": 30,
     "metadata": {},
     "output_type": "execute_result"
    }
   ],
   "source": [
    "okt.tagset"
   ]
  },
  {
   "cell_type": "code",
   "execution_count": 31,
   "id": "5cd7bbc6",
   "metadata": {},
   "outputs": [],
   "source": [
    "import pandas as pd\n",
    "tagsets=pd.DataFrame()\n",
    "N=67\n",
    "tagsets[\"Hannanum-기호\"]=list(hannanum.tagset.keys())+list(\"*\"*(N-len(hannanum.tagset)))\n",
    "tagsets[\"Hannanum-품사\"]=list(hannanum.tagset.values())+list(\"*\"*(N-len(hannanum.tagset)))\n",
    "tagsets[\"Kkma-기호\"]=list(kkma.tagset.keys())+list(\"*\"*(N-len(kkma.tagset)))\n",
    "tagsets[\"Kkma-품사\"]=list(kkma.tagset.values())+list(\"*\"*(N-len(kkma.tagset)))\n",
    "tagsets[\"Komoran-기호\"]=list(komoran.tagset.keys())+list(\"*\"*(N-len(komoran.tagset)))\n",
    "tagsets[\"Komoran-품사\"]=list(komoran.tagset.values())+list(\"*\"*(N-len(komoran.tagset)))\n",
    "tagsets[\"OKT-기호\"]=list(okt.tagset.keys())+list(\"*\"*(N-len(okt.tagset)))\n",
    "tagsets[\"OKT-품사\"]=list(okt.tagset.values())+list(\"*\"*(N-len(okt.tagset)))"
   ]
  },
  {
   "cell_type": "code",
   "execution_count": 32,
   "id": "108f182d",
   "metadata": {},
   "outputs": [
    {
     "data": {
      "text/html": [
       "<div>\n",
       "<style scoped>\n",
       "    .dataframe tbody tr th:only-of-type {\n",
       "        vertical-align: middle;\n",
       "    }\n",
       "\n",
       "    .dataframe tbody tr th {\n",
       "        vertical-align: top;\n",
       "    }\n",
       "\n",
       "    .dataframe thead th {\n",
       "        text-align: right;\n",
       "    }\n",
       "</style>\n",
       "<table border=\"1\" class=\"dataframe\">\n",
       "  <thead>\n",
       "    <tr style=\"text-align: right;\">\n",
       "      <th></th>\n",
       "      <th>Hannanum-기호</th>\n",
       "      <th>Hannanum-품사</th>\n",
       "      <th>Kkma-기호</th>\n",
       "      <th>Kkma-품사</th>\n",
       "      <th>Komoran-기호</th>\n",
       "      <th>Komoran-품사</th>\n",
       "      <th>OKT-기호</th>\n",
       "      <th>OKT-품사</th>\n",
       "    </tr>\n",
       "  </thead>\n",
       "  <tbody>\n",
       "    <tr>\n",
       "      <th>62</th>\n",
       "      <td>*</td>\n",
       "      <td>*</td>\n",
       "      <td>XPV</td>\n",
       "      <td>용언 접두사</td>\n",
       "      <td>*</td>\n",
       "      <td>*</td>\n",
       "      <td>*</td>\n",
       "      <td>*</td>\n",
       "    </tr>\n",
       "    <tr>\n",
       "      <th>63</th>\n",
       "      <td>*</td>\n",
       "      <td>*</td>\n",
       "      <td>XR</td>\n",
       "      <td>어근</td>\n",
       "      <td>*</td>\n",
       "      <td>*</td>\n",
       "      <td>*</td>\n",
       "      <td>*</td>\n",
       "    </tr>\n",
       "    <tr>\n",
       "      <th>64</th>\n",
       "      <td>*</td>\n",
       "      <td>*</td>\n",
       "      <td>XSA</td>\n",
       "      <td>형용사 파생 접미사</td>\n",
       "      <td>*</td>\n",
       "      <td>*</td>\n",
       "      <td>*</td>\n",
       "      <td>*</td>\n",
       "    </tr>\n",
       "    <tr>\n",
       "      <th>65</th>\n",
       "      <td>*</td>\n",
       "      <td>*</td>\n",
       "      <td>XSN</td>\n",
       "      <td>명사파생 접미사</td>\n",
       "      <td>*</td>\n",
       "      <td>*</td>\n",
       "      <td>*</td>\n",
       "      <td>*</td>\n",
       "    </tr>\n",
       "    <tr>\n",
       "      <th>66</th>\n",
       "      <td>*</td>\n",
       "      <td>*</td>\n",
       "      <td>XSV</td>\n",
       "      <td>동사 파생 접미사</td>\n",
       "      <td>*</td>\n",
       "      <td>*</td>\n",
       "      <td>*</td>\n",
       "      <td>*</td>\n",
       "    </tr>\n",
       "  </tbody>\n",
       "</table>\n",
       "</div>"
      ],
      "text/plain": [
       "   Hannanum-기호 Hannanum-품사 Kkma-기호     Kkma-품사 Komoran-기호 Komoran-품사 OKT-기호  \\\n",
       "62           *           *     XPV      용언 접두사          *          *      *   \n",
       "63           *           *      XR          어근          *          *      *   \n",
       "64           *           *     XSA  형용사 파생 접미사          *          *      *   \n",
       "65           *           *     XSN    명사파생 접미사          *          *      *   \n",
       "66           *           *     XSV   동사 파생 접미사          *          *      *   \n",
       "\n",
       "   OKT-품사  \n",
       "62      *  \n",
       "63      *  \n",
       "64      *  \n",
       "65      *  \n",
       "66      *  "
      ]
     },
     "execution_count": 32,
     "metadata": {},
     "output_type": "execute_result"
    }
   ],
   "source": [
    "tagsets.tail()"
   ]
  },
  {
   "cell_type": "code",
   "execution_count": 33,
   "id": "305442f2",
   "metadata": {},
   "outputs": [
    {
     "data": {
      "text/html": [
       "<div>\n",
       "<style scoped>\n",
       "    .dataframe tbody tr th:only-of-type {\n",
       "        vertical-align: middle;\n",
       "    }\n",
       "\n",
       "    .dataframe tbody tr th {\n",
       "        vertical-align: top;\n",
       "    }\n",
       "\n",
       "    .dataframe thead th {\n",
       "        text-align: right;\n",
       "    }\n",
       "</style>\n",
       "<table border=\"1\" class=\"dataframe\">\n",
       "  <thead>\n",
       "    <tr style=\"text-align: right;\">\n",
       "      <th></th>\n",
       "      <th>Hannanum-기호</th>\n",
       "      <th>Hannanum-품사</th>\n",
       "      <th>Kkma-기호</th>\n",
       "      <th>Kkma-품사</th>\n",
       "      <th>Komoran-기호</th>\n",
       "      <th>Komoran-품사</th>\n",
       "      <th>OKT-기호</th>\n",
       "      <th>OKT-품사</th>\n",
       "    </tr>\n",
       "  </thead>\n",
       "  <tbody>\n",
       "    <tr>\n",
       "      <th>0</th>\n",
       "      <td>E</td>\n",
       "      <td>어미</td>\n",
       "      <td>EC</td>\n",
       "      <td>연결 어미</td>\n",
       "      <td>EC</td>\n",
       "      <td>연결 어미</td>\n",
       "      <td>Adjective</td>\n",
       "      <td>형용사</td>\n",
       "    </tr>\n",
       "    <tr>\n",
       "      <th>1</th>\n",
       "      <td>EC</td>\n",
       "      <td>연결 어미</td>\n",
       "      <td>ECD</td>\n",
       "      <td>의존적 연결 어미</td>\n",
       "      <td>EF</td>\n",
       "      <td>종결 어미</td>\n",
       "      <td>Adverb</td>\n",
       "      <td>부사</td>\n",
       "    </tr>\n",
       "    <tr>\n",
       "      <th>2</th>\n",
       "      <td>EF</td>\n",
       "      <td>종결 어미</td>\n",
       "      <td>ECE</td>\n",
       "      <td>대등 연결 어미</td>\n",
       "      <td>EP</td>\n",
       "      <td>선어말어미</td>\n",
       "      <td>Alpha</td>\n",
       "      <td>알파벳</td>\n",
       "    </tr>\n",
       "    <tr>\n",
       "      <th>3</th>\n",
       "      <td>EP</td>\n",
       "      <td>선어말어미</td>\n",
       "      <td>ECS</td>\n",
       "      <td>보조적 연결 어미</td>\n",
       "      <td>ETM</td>\n",
       "      <td>관형형 전성 어미</td>\n",
       "      <td>Conjunction</td>\n",
       "      <td>접속사</td>\n",
       "    </tr>\n",
       "    <tr>\n",
       "      <th>4</th>\n",
       "      <td>ET</td>\n",
       "      <td>전성 어미</td>\n",
       "      <td>EF</td>\n",
       "      <td>종결 어미</td>\n",
       "      <td>ETN</td>\n",
       "      <td>명사형 전성 어미</td>\n",
       "      <td>Determiner</td>\n",
       "      <td>관형사</td>\n",
       "    </tr>\n",
       "  </tbody>\n",
       "</table>\n",
       "</div>"
      ],
      "text/plain": [
       "  Hannanum-기호 Hannanum-품사 Kkma-기호    Kkma-품사 Komoran-기호 Komoran-품사  \\\n",
       "0           E          어미      EC      연결 어미         EC      연결 어미   \n",
       "1          EC       연결 어미     ECD  의존적 연결 어미         EF      종결 어미   \n",
       "2          EF       종결 어미     ECE   대등 연결 어미         EP      선어말어미   \n",
       "3          EP       선어말어미     ECS  보조적 연결 어미        ETM  관형형 전성 어미   \n",
       "4          ET       전성 어미      EF      종결 어미        ETN  명사형 전성 어미   \n",
       "\n",
       "        OKT-기호 OKT-품사  \n",
       "0    Adjective    형용사  \n",
       "1       Adverb     부사  \n",
       "2        Alpha    알파벳  \n",
       "3  Conjunction    접속사  \n",
       "4   Determiner    관형사  "
      ]
     },
     "execution_count": 33,
     "metadata": {},
     "output_type": "execute_result"
    }
   ],
   "source": [
    "tagsets.head()"
   ]
  },
  {
   "cell_type": "code",
   "execution_count": 34,
   "id": "ae5f5fd2",
   "metadata": {},
   "outputs": [],
   "source": [
    "import sys\n",
    "if sys.platform=='darwin':\n",
    "    from konlpy.tag import Mecab\n",
    "    mecab=Mecab()\n",
    "    print(mecab.nouns('이것은 형태소 분석기 입니다 아버지가 방에 들어가신다'))\n",
    "else:\n",
    "    pass"
   ]
  },
  {
   "cell_type": "code",
   "execution_count": 35,
   "id": "5eb657c4",
   "metadata": {},
   "outputs": [],
   "source": [
    "import pprint\n",
    "if sys.platform=='darwin':\n",
    "    pprint.pprint(mecab.pos('이것은 형태소 분석기 입니다 아버지가 방에 들어가신다'))\n",
    "else:\n",
    "    pass"
   ]
  },
  {
   "cell_type": "code",
   "execution_count": 36,
   "id": "259612da",
   "metadata": {},
   "outputs": [
    {
     "ename": "ModuleNotFoundError",
     "evalue": "No module named 'eunjeon'",
     "output_type": "error",
     "traceback": [
      "\u001b[1;31m---------------------------------------------------------------------------\u001b[0m",
      "\u001b[1;31mModuleNotFoundError\u001b[0m                       Traceback (most recent call last)",
      "Cell \u001b[1;32mIn[36], line 2\u001b[0m\n\u001b[0;32m      1\u001b[0m \u001b[38;5;66;03m# !pip install eunjeon\u001b[39;00m\n\u001b[1;32m----> 2\u001b[0m \u001b[38;5;28;01mfrom\u001b[39;00m \u001b[38;5;21;01meunjeon\u001b[39;00m \u001b[38;5;28;01mimport\u001b[39;00m Mecab\n\u001b[0;32m      3\u001b[0m tagger\u001b[38;5;241m=\u001b[39mMecab()\n",
      "\u001b[1;31mModuleNotFoundError\u001b[0m: No module named 'eunjeon'"
     ]
    }
   ],
   "source": [
    "# !pip install eunjeon\n",
    "from eunjeon import Mecab\n",
    "tagger=Mecab()"
   ]
  },
  {
   "cell_type": "code",
   "execution_count": 37,
   "id": "6cb9634b",
   "metadata": {},
   "outputs": [
    {
     "ename": "NameError",
     "evalue": "name 'tagger' is not defined",
     "output_type": "error",
     "traceback": [
      "\u001b[1;31m---------------------------------------------------------------------------\u001b[0m",
      "\u001b[1;31mNameError\u001b[0m                                 Traceback (most recent call last)",
      "Cell \u001b[1;32mIn[37], line 1\u001b[0m\n\u001b[1;32m----> 1\u001b[0m tagger\u001b[38;5;241m.\u001b[39mnouns(\u001b[38;5;124m'\u001b[39m\u001b[38;5;124m이것은 형태소 분석기 입니다 아버지가 방에 들어가신다\u001b[39m\u001b[38;5;124m'\u001b[39m)\n",
      "\u001b[1;31mNameError\u001b[0m: name 'tagger' is not defined"
     ]
    }
   ],
   "source": [
    "tagger.nouns('이것은 형태소 분석기 입니다 아버지가 방에 들어가신다')"
   ]
  },
  {
   "cell_type": "code",
   "execution_count": 38,
   "id": "a5ca503d",
   "metadata": {},
   "outputs": [
    {
     "name": "stdout",
     "output_type": "stream",
     "text": [
      "Defaulting to user installation because normal site-packages is not writeable\n",
      "Requirement already satisfied: nltk in c:\\programdata\\anaconda3\\lib\\site-packages (3.8.1)\n",
      "Requirement already satisfied: click in c:\\programdata\\anaconda3\\lib\\site-packages (from nltk) (8.0.4)\n",
      "Requirement already satisfied: joblib in c:\\programdata\\anaconda3\\lib\\site-packages (from nltk) (1.2.0)\n",
      "Requirement already satisfied: regex>=2021.8.3 in c:\\programdata\\anaconda3\\lib\\site-packages (from nltk) (2022.7.9)\n",
      "Requirement already satisfied: tqdm in c:\\programdata\\anaconda3\\lib\\site-packages (from nltk) (4.65.0)\n",
      "Requirement already satisfied: colorama in c:\\programdata\\anaconda3\\lib\\site-packages (from click->nltk) (0.4.6)\n"
     ]
    }
   ],
   "source": [
    "!pip install nltk"
   ]
  },
  {
   "cell_type": "code",
   "execution_count": 39,
   "id": "ec9bcb37",
   "metadata": {},
   "outputs": [
    {
     "data": {
      "text/plain": [
       "['1809890.txt',\n",
       " '1809891.txt',\n",
       " '1809892.txt',\n",
       " '1809893.txt',\n",
       " '1809894.txt',\n",
       " '1809895.txt',\n",
       " '1809896.txt',\n",
       " '1809897.txt',\n",
       " '1809898.txt',\n",
       " '1809899.txt']"
      ]
     },
     "execution_count": 39,
     "metadata": {},
     "output_type": "execute_result"
    }
   ],
   "source": [
    "import nltk\n",
    "from konlpy.corpus import kobill\n",
    "files_ko=kobill.fileids()\n",
    "files_ko"
   ]
  },
  {
   "cell_type": "code",
   "execution_count": 40,
   "id": "33aba044",
   "metadata": {},
   "outputs": [],
   "source": [
    "doc_ko=kobill.open('1809898.txt').read()"
   ]
  },
  {
   "cell_type": "code",
   "execution_count": 41,
   "id": "62e2f5ef",
   "metadata": {},
   "outputs": [
    {
     "name": "stdout",
     "output_type": "stream",
     "text": [
      "['국군', '부대', '소말리아', '해역', '파견', '연장', '의안', '의안', '제출', '연월일']\n"
     ]
    }
   ],
   "source": [
    "t=Okt()\n",
    "tokens_ko=t.nouns(doc_ko)\n",
    "print(tokens_ko[:10])"
   ]
  },
  {
   "cell_type": "code",
   "execution_count": 42,
   "id": "5e4d6b5f",
   "metadata": {},
   "outputs": [
    {
     "data": {
      "text/plain": [
       "<Text: 국군부대의 소말리아 해역 파견연장 동의안>"
      ]
     },
     "execution_count": 42,
     "metadata": {},
     "output_type": "execute_result"
    }
   ],
   "source": [
    "ko_=nltk.Text(tokens_ko, name='국군부대의 소말리아 해역 파견연장 동의안')\n",
    "ko_"
   ]
  },
  {
   "cell_type": "code",
   "execution_count": 43,
   "id": "5eaf0eeb",
   "metadata": {},
   "outputs": [
    {
     "data": {
      "text/plain": [
       "640"
      ]
     },
     "execution_count": 43,
     "metadata": {},
     "output_type": "execute_result"
    }
   ],
   "source": [
    "len(ko_.tokens)"
   ]
  },
  {
   "cell_type": "code",
   "execution_count": 44,
   "id": "222514ed",
   "metadata": {},
   "outputs": [
    {
     "data": {
      "text/plain": [
       "249"
      ]
     },
     "execution_count": 44,
     "metadata": {},
     "output_type": "execute_result"
    }
   ],
   "source": [
    "len(set(ko_.tokens))"
   ]
  },
  {
   "cell_type": "code",
   "execution_count": 45,
   "id": "eb20390a",
   "metadata": {},
   "outputs": [
    {
     "data": {
      "text/plain": [
       "['국군', '부대', '소말리아', '해역', '파견', '연장', '의안', '의안', '제출', '연월일']"
      ]
     },
     "execution_count": 45,
     "metadata": {},
     "output_type": "execute_result"
    }
   ],
   "source": [
    "ko_.tokens[:10]"
   ]
  },
  {
   "cell_type": "code",
   "execution_count": 46,
   "id": "53638199",
   "metadata": {},
   "outputs": [
    {
     "data": {
      "text/plain": [
       "FreqDist({'파견': 31, '부대': 24, '소말리아': 18, '연장': 14, '국군': 13, '해역': 12, '의안': 11, '우리': 9, '유엔': 9, '척': 9, ...})"
      ]
     },
     "execution_count": 46,
     "metadata": {},
     "output_type": "execute_result"
    }
   ],
   "source": [
    "ko_.vocab()"
   ]
  },
  {
   "cell_type": "code",
   "execution_count": 47,
   "id": "dd00f221",
   "metadata": {},
   "outputs": [],
   "source": [
    "%matplotlib inline\n",
    "import matplotlib.pyplot as plt\n",
    "import sys\n",
    "import platform\n",
    "\n",
    "from matplotlib import font_manager, rc\n",
    "\n",
    "if sys.platform == 'darwin':\n",
    "    path='/Librar/Fonts/AppleGothic.ttf'\n",
    "elif platform.system() == 'Windows':\n",
    "    path='c:/Windows/Fonts/malgun.ttf'\n",
    "else:\n",
    "    print('Unkonwn system... sorry~~~~')\n",
    "\n",
    "foot_name=font_manager.FontProperties(fname=path).get_name()\n",
    "rc('font', family=foot_name)"
   ]
  },
  {
   "cell_type": "code",
   "execution_count": 48,
   "id": "7abc38c9",
   "metadata": {},
   "outputs": [
    {
     "data": {
      "image/png": "[encoded data removed]",
      "text/plain": [
       "<Figure size 1200x600 with 1 Axes>"
      ]
     },
     "metadata": {},
     "output_type": "display_data"
    },
    {
     "data": {
      "text/plain": [
       "<Axes: xlabel='Samples', ylabel='Counts'>"
      ]
     },
     "execution_count": 48,
     "metadata": {},
     "output_type": "execute_result"
    }
   ],
   "source": [
    "plt.figure(figsize=(12,6))\n",
    "ko_.plot(50)"
   ]
  },
  {
   "cell_type": "code",
   "execution_count": 49,
   "id": "d514e7a5",
   "metadata": {},
   "outputs": [
    {
     "data": {
      "text/plain": [
       "31"
      ]
     },
     "execution_count": 49,
     "metadata": {},
     "output_type": "execute_result"
    }
   ],
   "source": [
    "ko_.count('파견')"
   ]
  },
  {
   "cell_type": "code",
   "execution_count": 50,
   "id": "55ff8283",
   "metadata": {},
   "outputs": [
    {
     "data": {
      "text/plain": [
       "18"
      ]
     },
     "execution_count": 50,
     "metadata": {},
     "output_type": "execute_result"
    }
   ],
   "source": [
    "ko_.count('소말리아')"
   ]
  },
  {
   "cell_type": "code",
   "execution_count": 51,
   "id": "829cf929",
   "metadata": {},
   "outputs": [
    {
     "data": {
      "text/plain": [
       "<Figure size 1200x600 with 0 Axes>"
      ]
     },
     "metadata": {},
     "output_type": "display_data"
    },
    {
     "data": {
      "image/png": "[encoded data removed]",
      "text/plain": [
       "<Figure size 640x480 with 1 Axes>"
      ]
     },
     "metadata": {},
     "output_type": "display_data"
    }
   ],
   "source": [
    "plt.figure(figsize=(12,6))\n",
    "ko_.dispersion_plot(['파견','부대','소말리아'])"
   ]
  },
  {
   "cell_type": "code",
   "execution_count": 52,
   "id": "9d2ea46b",
   "metadata": {},
   "outputs": [
    {
     "name": "stdout",
     "output_type": "stream",
     "text": [
      "Displaying 18 of 18 matches:\n",
      "국군 부대 소말리아 해역 파견 연장 의안 의안 제출 연월일 번호 제 자 정 부 제안 \n",
      " 파견 연장 의안 의안 제출 연월일 번호 제 자 정 부 제안 이유 소말리아 아덴만 해역 파견 국군 부대 청해부대 의 파견 기간 종료 예정 다\n",
      "부대 의 파견 기간 종료 예정 다음 이유 파견 기간 연장 함 첫째 소말리아 해적 활동 우리 선박 안전 위협 둘째 청해부대 성공 임무 수행 우\n",
      "여 국내외 관계 기관 파견 연장 요청 내용 유엔 안보리 결의 근거 소말리아 아덴만 해역 파견 국군 부대 파견 기간 장함 나 국군 부대 임무 \n",
      "심의 과정 반영 추진 합 의 기획재정부 외교통상부 합의 국군 부대 소말리아 해역 파견 연장 의안 헌법 제 항의 규정 소말리아 아덴만 해역 파\n",
      "합의 국군 부대 소말리아 해역 파견 연장 의안 헌법 제 항의 규정 소말리아 아덴만 해역 파견 국군 부대 파견 기간 연장 동의 국군 부대 파견\n",
      " 방지 및 지원 차단 위 협력 국 협력 촉구 유엔 안보리 결의 호 소말리아 과도정부 출범 이후 무 정부 상태 지속 부터 소말리아 해역 해적 \n",
      "리 결의 호 소말리아 과도정부 출범 이후 무 정부 상태 지속 부터 소말리아 해역 해적 활동 급증 선박 피랍 척 척 척 척 척 유엔 소말리아 \n",
      " 소말리아 해역 해적 활동 급증 선박 피랍 척 척 척 척 척 유엔 소말리아 해적 퇴치 위해 회원 국 군함 및 항공기 참여 요청 유엔 안보리 \n",
      " 합동 실 사단 파견 바레인 지부티 유엔 외국 정부 및 지역 기구 소말리아 영해 진입 연장 유엔안보리 결의 호 유엔 소말리아 해적 퇴치 위해\n",
      " 및 지역 기구 소말리아 영해 진입 연장 유엔안보리 결의 호 유엔 소말리아 해적 퇴치 위해 소말리아 내 모든 조치 취할 수 승인 유엔 안보리\n",
      "영해 진입 연장 유엔안보리 결의 호 유엔 소말리아 해적 퇴치 위해 소말리아 내 모든 조치 취할 수 승인 유엔 안보리 결의 호 파견 의안 국회\n",
      "회 가결 부대 파견 파견 연장 의안 국회 가결 국무회의 국군 부대 소말리아 해역 파견 연장 의안 심의 의결 기본 계획 파견 부대 규모 전력 \n",
      "축함 톤 척 헬기 고속 단정 척 탑재 인원 명 이내 나 파견 지역 소말리아 아덴만 해역 일대 임 무 국제 해상 안전 테러 대응 위 국제 노력\n",
      " 국회 동의 후 예산안 대한 국회 심의 과정 반영 추진 국군 부대 소말리아 해역 파견 연장 의안 비용 추계 비용 추계 요약 재정 요인 부대 \n",
      "부대 파견 경비 우리 정부 부담 함 나 비용 추계 전제 국군 부대 소말리아 해역 파견 연장 의안 파견 연장 기간 부터 파견 부대 규모 전력 \n",
      " 비 장비 물자 획득 기타 부대 운영 비 나 수 입 계 국군 부대 소말리아 해역 파견 연장 의안 재원 조달 계획 부문 별 재원 분담 계획 단\n",
      " 단체 민 간 합 계 재원 조달 구체 방안 이후 합 계 국군 부대 소말리아 해역 파견 연장 의안 예산 정부 예산 지출 예정 임 부대 의견 협\n"
     ]
    }
   ],
   "source": [
    "ko_.concordance('소말리아')  # 특정 단어가 있는 곳은 단어 확인"
   ]
  },
  {
   "cell_type": "code",
   "execution_count": 53,
   "id": "0fe39fdb",
   "metadata": {},
   "outputs": [
    {
     "name": "stdout",
     "output_type": "stream",
     "text": [
      "Defaulting to user installation because normal site-packages is not writeable\n",
      "Requirement already satisfied: wordcloud in c:\\users\\hckim\\appdata\\roaming\\python\\python311\\site-packages (1.9.3)\n",
      "Requirement already satisfied: numpy>=1.6.1 in c:\\programdata\\anaconda3\\lib\\site-packages (from wordcloud) (1.24.3)\n",
      "Requirement already satisfied: pillow in c:\\programdata\\anaconda3\\lib\\site-packages (from wordcloud) (10.0.1)\n",
      "Requirement already satisfied: matplotlib in c:\\programdata\\anaconda3\\lib\\site-packages (from wordcloud) (3.7.2)\n",
      "Requirement already satisfied: contourpy>=1.0.1 in c:\\programdata\\anaconda3\\lib\\site-packages (from matplotlib->wordcloud) (1.0.5)\n",
      "Requirement already satisfied: cycler>=0.10 in c:\\programdata\\anaconda3\\lib\\site-packages (from matplotlib->wordcloud) (0.11.0)\n",
      "Requirement already satisfied: fonttools>=4.22.0 in c:\\programdata\\anaconda3\\lib\\site-packages (from matplotlib->wordcloud) (4.25.0)\n",
      "Requirement already satisfied: kiwisolver>=1.0.1 in c:\\programdata\\anaconda3\\lib\\site-packages (from matplotlib->wordcloud) (1.4.4)\n",
      "Requirement already satisfied: packaging>=20.0 in c:\\programdata\\anaconda3\\lib\\site-packages (from matplotlib->wordcloud) (23.1)\n",
      "Requirement already satisfied: pyparsing<3.1,>=2.3.1 in c:\\programdata\\anaconda3\\lib\\site-packages (from matplotlib->wordcloud) (3.0.9)\n",
      "Requirement already satisfied: python-dateutil>=2.7 in c:\\programdata\\anaconda3\\lib\\site-packages (from matplotlib->wordcloud) (2.8.2)\n",
      "Requirement already satisfied: six>=1.5 in c:\\programdata\\anaconda3\\lib\\site-packages (from python-dateutil>=2.7->matplotlib->wordcloud) (1.16.0)\n"
     ]
    }
   ],
   "source": [
    "!pip install wordcloud"
   ]
  },
  {
   "cell_type": "code",
   "execution_count": 55,
   "id": "d19e3b5a",
   "metadata": {},
   "outputs": [
    {
     "data": {
      "text/plain": [
       "[('파견', 31), ('부대', 24), ('소말리아', 18), ('연장', 14), ('국군', 13)]"
      ]
     },
     "execution_count": 55,
     "metadata": {},
     "output_type": "execute_result"
    }
   ],
   "source": [
    "from wordcloud import WordCloud  # 단어들의 빈도에 따른 그래프를 그리는 모듈 사용\n",
    "data=ko_.vocab().most_common(150)\n",
    "data[:5]"
   ]
  },
  {
   "cell_type": "code",
   "execution_count": 57,
   "id": "ac55b379",
   "metadata": {},
   "outputs": [
    {
     "data": {
      "image/png": "[encoded data removed]",
      "text/plain": [
       "<Figure size 1000x600 with 1 Axes>"
      ]
     },
     "metadata": {},
     "output_type": "display_data"
    }
   ],
   "source": [
    "wordcloud=WordCloud(font_path=path,  # 워드 클라우드이 객체 생성\n",
    "                   relative_scaling=0.2,  # 한글 위치 표시\n",
    "                   background_color='white',\n",
    "                   ).generate_from_frequencies(dict(data))\n",
    "plt.figure(figsize=(10,6))  # 단어별 빈도수를 딕셔너리로 변환해서 전달\n",
    "plt.imshow(wordcloud)  # 이미지 출력\n",
    "plt.axis(\"off\")  # 그래프에 대한 축을 표시하지 않는다\n",
    "plt.show()"
   ]
  },
  {
   "cell_type": "code",
   "execution_count": 58,
   "id": "bec5962f",
   "metadata": {},
   "outputs": [
    {
     "name": "stdout",
     "output_type": "stream",
     "text": [
      "Defaulting to user installation because normal site-packages is not writeable\n",
      "Collecting hgtk\n",
      "  Downloading hgtk-0.2.1-py2.py3-none-any.whl.metadata (5.4 kB)\n",
      "Downloading hgtk-0.2.1-py2.py3-none-any.whl (12 kB)\n",
      "Installing collected packages: hgtk\n",
      "Successfully installed hgtk-0.2.1\n"
     ]
    }
   ],
   "source": [
    "!pip install hgtk"
   ]
  },
  {
   "cell_type": "code",
   "execution_count": 59,
   "id": "6694c31a",
   "metadata": {},
   "outputs": [],
   "source": [
    "import hgtk  # 한글의 자음과 모음을 분리하는 모듈 사용"
   ]
  },
  {
   "cell_type": "code",
   "execution_count": 60,
   "id": "3b0717f5",
   "metadata": {},
   "outputs": [
    {
     "data": {
      "text/plain": [
       "('ㄱ', 'ㅏ', 'ㅁ')"
      ]
     },
     "execution_count": 60,
     "metadata": {},
     "output_type": "execute_result"
    }
   ],
   "source": [
    "hgtk.letter.decompose('감')  # 특정 글자를 분리하면 초성,중성,종성으로 분리"
   ]
  },
  {
   "cell_type": "code",
   "execution_count": 61,
   "id": "1dbcc399",
   "metadata": {},
   "outputs": [
    {
     "data": {
      "text/plain": [
       "'감'"
      ]
     },
     "execution_count": 61,
     "metadata": {},
     "output_type": "execute_result"
    }
   ],
   "source": [
    "hgtk.letter.compose('ㄱ','ㅏ','ㅁ')  # 분리된 글자를 한 글자로 합한다"
   ]
  },
  {
   "cell_type": "code",
   "execution_count": 62,
   "id": "3104b81d",
   "metadata": {},
   "outputs": [],
   "source": [
    "sample_text='''타밀어는 드라비다어족의 남부 계통, 즉 남부드라비다어파에 속하는 언어이다.\n",
    "공식어로 지정된 인도의 주요 언어 중에서 타밀어와 계통적으로 가장 가까운 것은 말라얄람어인데,\n",
    "9세기 무렵까지 말라얄람어는 타밀어의 방언이었다.\n",
    "이 두 언어 간에는 선사 시대에 일어난 서부 방언(말라얄람어의 원형) 분열의 증거가 되는 많은 차이가 있지만,\n",
    "13~14세기 무렵까지도 두 언어는 완전히 서로 다른 언어로 분리되지 않은 채였다.'''"
   ]
  },
  {
   "cell_type": "code",
   "execution_count": 63,
   "id": "97e7a558",
   "metadata": {},
   "outputs": [],
   "source": [
    "s=hgtk.text.decompose(sample_text)  # 여러 문장에 대한 단어 분리"
   ]
  },
  {
   "cell_type": "code",
   "execution_count": 64,
   "id": "023ec95c",
   "metadata": {},
   "outputs": [
    {
     "data": {
      "text/plain": [
       "'ㅌㅏᴥㅁㅣㄹᴥㅇㅓᴥㄴㅡㄴᴥ ㄷㅡᴥㄹㅏᴥㅂㅣᴥㄷㅏᴥㅇㅓᴥㅈㅗㄱᴥㅇㅢᴥ ㄴㅏ'"
      ]
     },
     "execution_count": 64,
     "metadata": {},
     "output_type": "execute_result"
    }
   ],
   "source": [
    "s[:40]"
   ]
  },
  {
   "cell_type": "code",
   "execution_count": 65,
   "id": "561e4e91",
   "metadata": {},
   "outputs": [
    {
     "data": {
      "text/plain": [
       "'타밀어는 드라비다어족의 남부 계통, 즉 남부드라비다어파에 속하는 언어이다'"
      ]
     },
     "execution_count": 65,
     "metadata": {},
     "output_type": "execute_result"
    }
   ],
   "source": [
    "hgtk.text.compose(s)[:40]  # 분리된 것을 하나로 합친다"
   ]
  },
  {
   "cell_type": "code",
   "execution_count": 66,
   "id": "bb3b3544",
   "metadata": {},
   "outputs": [
    {
     "data": {
      "text/plain": [
       "True"
      ]
     },
     "execution_count": 66,
     "metadata": {},
     "output_type": "execute_result"
    }
   ],
   "source": [
    "hgtk.checker.is_hangul('한글입니다')   # 한글 여부 확인"
   ]
  },
  {
   "cell_type": "code",
   "execution_count": 67,
   "id": "df92d334",
   "metadata": {},
   "outputs": [
    {
     "data": {
      "text/plain": [
       "False"
      ]
     },
     "execution_count": 67,
     "metadata": {},
     "output_type": "execute_result"
    }
   ],
   "source": [
    "hgtk.checker.is_hangul('no 한글입니다')"
   ]
  },
  {
   "cell_type": "code",
   "execution_count": 68,
   "id": "a4b5769f",
   "metadata": {},
   "outputs": [
    {
     "data": {
      "text/plain": [
       "False"
      ]
     },
     "execution_count": 68,
     "metadata": {},
     "output_type": "execute_result"
    }
   ],
   "source": [
    "hgtk.checker.is_hangul('it is english')"
   ]
  },
  {
   "cell_type": "code",
   "execution_count": 69,
   "id": "d8bd3dab",
   "metadata": {},
   "outputs": [
    {
     "data": {
      "text/plain": [
       "True"
      ]
     },
     "execution_count": 69,
     "metadata": {},
     "output_type": "execute_result"
    }
   ],
   "source": [
    "hgtk.checker.is_hanja('大韓民國')"
   ]
  },
  {
   "cell_type": "code",
   "execution_count": 70,
   "id": "e5bf094e",
   "metadata": {},
   "outputs": [
    {
     "data": {
      "text/plain": [
       "False"
      ]
     },
     "execution_count": 70,
     "metadata": {},
     "output_type": "execute_result"
    }
   ],
   "source": [
    "hgtk.checker.is_hanja('大한민국')"
   ]
  },
  {
   "cell_type": "code",
   "execution_count": 71,
   "id": "8b6300c3",
   "metadata": {},
   "outputs": [
    {
     "data": {
      "text/plain": [
       "False"
      ]
     },
     "execution_count": 71,
     "metadata": {},
     "output_type": "execute_result"
    }
   ],
   "source": [
    "hgtk.checker.is_hanja('대한민국')"
   ]
  },
  {
   "cell_type": "code",
   "execution_count": 72,
   "id": "2c78f3b0",
   "metadata": {},
   "outputs": [
    {
     "data": {
      "text/plain": [
       "'하늘은'"
      ]
     },
     "execution_count": 72,
     "metadata": {},
     "output_type": "execute_result"
    }
   ],
   "source": [
    "hgtk.josa.attach('하늘',hgtk.josa.EUN_NEUN)  # 단어에 맞는 조사를 붙여볼 수 있다"
   ]
  },
  {
   "cell_type": "code",
   "execution_count": 73,
   "id": "5c90f47d",
   "metadata": {},
   "outputs": [
    {
     "data": {
      "text/plain": [
       "'바다는'"
      ]
     },
     "execution_count": 73,
     "metadata": {},
     "output_type": "execute_result"
    }
   ],
   "source": [
    "hgtk.josa.attach('바다',hgtk.josa.EUN_NEUN)"
   ]
  },
  {
   "cell_type": "code",
   "execution_count": 74,
   "id": "b5db606b",
   "metadata": {},
   "outputs": [
    {
     "data": {
      "text/plain": [
       "'하늘이'"
      ]
     },
     "execution_count": 74,
     "metadata": {},
     "output_type": "execute_result"
    }
   ],
   "source": [
    "hgtk.josa.attach('하늘',hgtk.josa.I_GA)"
   ]
  },
  {
   "cell_type": "code",
   "execution_count": 75,
   "id": "d7c5a194",
   "metadata": {},
   "outputs": [
    {
     "data": {
      "text/plain": [
       "'바다가'"
      ]
     },
     "execution_count": 75,
     "metadata": {},
     "output_type": "execute_result"
    }
   ],
   "source": [
    "hgtk.josa.attach('바다',hgtk.josa.I_GA)"
   ]
  },
  {
   "cell_type": "code",
   "execution_count": 76,
   "id": "64b3dccf",
   "metadata": {},
   "outputs": [
    {
     "data": {
      "text/plain": [
       "'하늘을'"
      ]
     },
     "execution_count": 76,
     "metadata": {},
     "output_type": "execute_result"
    }
   ],
   "source": [
    "hgtk.josa.attach('하늘',hgtk.josa.EUL_REUL)"
   ]
  },
  {
   "cell_type": "code",
   "execution_count": 77,
   "id": "92bde531",
   "metadata": {},
   "outputs": [
    {
     "data": {
      "text/plain": [
       "'바다를'"
      ]
     },
     "execution_count": 77,
     "metadata": {},
     "output_type": "execute_result"
    }
   ],
   "source": [
    "hgtk.josa.attach('바다',hgtk.josa.EUL_REUL)"
   ]
  },
  {
   "cell_type": "code",
   "execution_count": 78,
   "id": "cff3c1d4",
   "metadata": {},
   "outputs": [
    {
     "name": "stdout",
     "output_type": "stream",
     "text": [
      "Defaulting to user installation because normal site-packages is not writeable\n",
      "Requirement already satisfied: beautifulsoup4 in c:\\programdata\\anaconda3\\lib\\site-packages (4.12.2)\n",
      "Requirement already satisfied: soupsieve>1.2 in c:\\programdata\\anaconda3\\lib\\site-packages (from beautifulsoup4) (2.4)\n"
     ]
    }
   ],
   "source": [
    "# https://www.crummy.com/software/BeautifulSoup/bs4/doc/\n",
    "!pip install beautifulsoup4"
   ]
  },
  {
   "cell_type": "code",
   "execution_count": 80,
   "id": "c102340e",
   "metadata": {},
   "outputs": [],
   "source": [
    "from bs4 import BeautifulSoup  # HTML 문서를 파싱하는 모듈 사용"
   ]
  },
  {
   "cell_type": "code",
   "execution_count": 81,
   "id": "d61c6205",
   "metadata": {},
   "outputs": [],
   "source": [
    "html_doc=\"\"\"\n",
    "<html><head><title>The Dormouse's story</title></head>\n",
    "<body>\n",
    "<p class=\"title\"><b>The Dormouse's story</b></p>\n",
    "<p class=\"story1\">Once upon a time there were three little sisters; and their names were\n",
    "<a href=\"http://example.com/elsie\" class=\"sister\" id=\"link1\">Elsie</a>,\n",
    "<a href=\"http://example.com/lacie\" class=\"sister\" id=\"link2\">Lacie</a> and\n",
    "<a href=\"http://example.com/tillie\" class=\"sister\" id=\"link3\">Tillie</a>;\n",
    "and they lived at the bottom of a well.</p>\n",
    "<p class=\"story2\">\n",
    "<a href=\"http://example.com/tillie\" class=\"sister\" id=\"link4\">Tillie</a>;\n",
    "빈값</p>\n",
    "\"\"\""
   ]
  },
  {
   "cell_type": "code",
   "execution_count": 82,
   "id": "5dc9628e",
   "metadata": {},
   "outputs": [
    {
     "data": {
      "text/plain": [
       "'\\n<html><head><title>The Dormouse\\'s story</title></head>\\n<body>\\n<p class=\"title\">'"
      ]
     },
     "execution_count": 82,
     "metadata": {},
     "output_type": "execute_result"
    }
   ],
   "source": [
    "html_doc[:80]"
   ]
  },
  {
   "cell_type": "code",
   "execution_count": 83,
   "id": "0218e8a6",
   "metadata": {},
   "outputs": [
    {
     "data": {
      "text/plain": [
       "'<html><head><title>The Dormouse\\'s story</title></head><body><p class=\"title\"><b>'"
      ]
     },
     "execution_count": 83,
     "metadata": {},
     "output_type": "execute_result"
    }
   ],
   "source": [
    "html_doc=html_doc.replace('\\n','')  # 문장 끝을 표시하는 개행무자를 빈 문자열로 변환\n",
    "html_doc[:80]"
   ]
  },
  {
   "cell_type": "code",
   "execution_count": 84,
   "id": "eea0ae24",
   "metadata": {},
   "outputs": [
    {
     "data": {
      "text/plain": [
       "bs4.BeautifulSoup"
      ]
     },
     "execution_count": 84,
     "metadata": {},
     "output_type": "execute_result"
    }
   ],
   "source": [
    "soup_=BeautifulSoup(html_doc,'html.parser')\n",
    "type(soup_)"
   ]
  },
  {
   "cell_type": "code",
   "execution_count": 85,
   "id": "e290e9e2",
   "metadata": {},
   "outputs": [
    {
     "data": {
      "text/plain": [
       "\"The Dormouse's storyThe Dormouse's storyOnce upon a time there were three little\""
      ]
     },
     "execution_count": 85,
     "metadata": {},
     "output_type": "execute_result"
    }
   ],
   "source": [
    "soup_.text[:80]"
   ]
  },
  {
   "cell_type": "code",
   "execution_count": 86,
   "id": "f12a2c58",
   "metadata": {},
   "outputs": [
    {
     "data": {
      "text/plain": [
       "bs4.element.Tag"
      ]
     },
     "execution_count": 86,
     "metadata": {},
     "output_type": "execute_result"
    }
   ],
   "source": [
    "type(soup_.contents[0])"
   ]
  },
  {
   "cell_type": "code",
   "execution_count": 87,
   "id": "4ad042d2",
   "metadata": {},
   "outputs": [
    {
     "name": "stdout",
     "output_type": "stream",
     "text": [
      "The Dormouse's story\n",
      "The Dormouse's story\n",
      "Once upon a time there were three little sisters; and their names were\n",
      "Elsie\n",
      ",\n",
      "Lacie\n",
      " and\n",
      "Tillie\n",
      ";and they lived at the bottom of a well.\n",
      "Tillie\n",
      ";빈값\n"
     ]
    }
   ],
   "source": [
    "for i in soup_.contents[0].strings:\n",
    "    print(i)"
   ]
  },
  {
   "cell_type": "code",
   "execution_count": 88,
   "id": "f6a70d08",
   "metadata": {},
   "outputs": [
    {
     "name": "stdout",
     "output_type": "stream",
     "text": [
      "<class 'bs4.element.Tag'>\n",
      "<class 'bs4.element.Tag'>\n",
      "<class 'bs4.element.NavigableString'>\n",
      "The Dormouse's story\n"
     ]
    }
   ],
   "source": [
    "for i in soup_.contents[0].next_elements:\n",
    "    print(type(i))\n",
    "    if type(i) != type(soup_.contents[0]):\n",
    "        new_obj=i\n",
    "        print(i)\n",
    "        break"
   ]
  },
  {
   "cell_type": "code",
   "execution_count": 89,
   "id": "07be1dad",
   "metadata": {},
   "outputs": [
    {
     "data": {
      "text/plain": [
       "bs4.element.NavigableString"
      ]
     },
     "execution_count": 89,
     "metadata": {},
     "output_type": "execute_result"
    }
   ],
   "source": [
    "type(new_obj)"
   ]
  },
  {
   "cell_type": "code",
   "execution_count": 90,
   "id": "79790dbb",
   "metadata": {},
   "outputs": [
    {
     "data": {
      "text/plain": [
       "\"The Dormouse's story\""
      ]
     },
     "execution_count": 90,
     "metadata": {},
     "output_type": "execute_result"
    }
   ],
   "source": [
    "new_obj"
   ]
  },
  {
   "cell_type": "code",
   "execution_count": 91,
   "id": "a001528b",
   "metadata": {},
   "outputs": [],
   "source": [
    "tag=soup_.title"
   ]
  },
  {
   "cell_type": "code",
   "execution_count": 92,
   "id": "6916c0e0",
   "metadata": {},
   "outputs": [
    {
     "data": {
      "text/plain": [
       "bs4.element.Tag"
      ]
     },
     "execution_count": 92,
     "metadata": {},
     "output_type": "execute_result"
    }
   ],
   "source": [
    "type(tag)"
   ]
  },
  {
   "cell_type": "code",
   "execution_count": 93,
   "id": "413d9d2f",
   "metadata": {},
   "outputs": [
    {
     "data": {
      "text/plain": [
       "<title>The Dormouse's story</title>"
      ]
     },
     "execution_count": 93,
     "metadata": {},
     "output_type": "execute_result"
    }
   ],
   "source": [
    "tag"
   ]
  },
  {
   "cell_type": "code",
   "execution_count": 95,
   "id": "4ed89fea",
   "metadata": {},
   "outputs": [
    {
     "data": {
      "text/plain": [
       "'title'"
      ]
     },
     "execution_count": 95,
     "metadata": {},
     "output_type": "execute_result"
    }
   ],
   "source": [
    "tag.name"
   ]
  },
  {
   "cell_type": "code",
   "execution_count": 96,
   "id": "635c0e8c",
   "metadata": {},
   "outputs": [
    {
     "data": {
      "text/plain": [
       "[\"The Dormouse's story\"]"
      ]
     },
     "execution_count": 96,
     "metadata": {},
     "output_type": "execute_result"
    }
   ],
   "source": [
    "tag.contents"
   ]
  },
  {
   "cell_type": "code",
   "execution_count": 97,
   "id": "be1f5ea3",
   "metadata": {},
   "outputs": [
    {
     "data": {
      "text/plain": [
       "\"The Dormouse's story\""
      ]
     },
     "execution_count": 97,
     "metadata": {},
     "output_type": "execute_result"
    }
   ],
   "source": [
    "tag.string"
   ]
  },
  {
   "cell_type": "code",
   "execution_count": 98,
   "id": "b352b98d",
   "metadata": {},
   "outputs": [
    {
     "data": {
      "text/plain": [
       "<head><title>The Dormouse's story</title></head>"
      ]
     },
     "execution_count": 98,
     "metadata": {},
     "output_type": "execute_result"
    }
   ],
   "source": [
    "tag.parent"
   ]
  },
  {
   "cell_type": "code",
   "execution_count": 99,
   "id": "195bfdb6",
   "metadata": {},
   "outputs": [
    {
     "data": {
      "text/plain": [
       "bs4.element.Tag"
      ]
     },
     "execution_count": 99,
     "metadata": {},
     "output_type": "execute_result"
    }
   ],
   "source": [
    "type(tag.parent)"
   ]
  },
  {
   "cell_type": "code",
   "execution_count": 100,
   "id": "83278dd4",
   "metadata": {},
   "outputs": [
    {
     "data": {
      "text/plain": [
       "<list_iterator at 0x205dfbe7220>"
      ]
     },
     "execution_count": 100,
     "metadata": {},
     "output_type": "execute_result"
    }
   ],
   "source": [
    "tag.children"
   ]
  },
  {
   "cell_type": "code",
   "execution_count": 101,
   "id": "0c2dea43",
   "metadata": {},
   "outputs": [
    {
     "data": {
      "text/plain": [
       "[\"The Dormouse's story\"]"
      ]
     },
     "execution_count": 101,
     "metadata": {},
     "output_type": "execute_result"
    }
   ],
   "source": [
    "[*tag.children]"
   ]
  },
  {
   "cell_type": "code",
   "execution_count": 102,
   "id": "43944340",
   "metadata": {},
   "outputs": [
    {
     "data": {
      "text/plain": [
       "<p class=\"title\"><b>The Dormouse's story</b></p>"
      ]
     },
     "execution_count": 102,
     "metadata": {},
     "output_type": "execute_result"
    }
   ],
   "source": [
    "tag_p=soup_.p\n",
    "tag_p"
   ]
  },
  {
   "cell_type": "code",
   "execution_count": 103,
   "id": "bfa6163d",
   "metadata": {},
   "outputs": [
    {
     "data": {
      "text/plain": [
       "bs4.element.Tag"
      ]
     },
     "execution_count": 103,
     "metadata": {},
     "output_type": "execute_result"
    }
   ],
   "source": [
    "type(tag_p)"
   ]
  },
  {
   "cell_type": "code",
   "execution_count": 104,
   "id": "8bb65a80",
   "metadata": {},
   "outputs": [
    {
     "data": {
      "text/plain": [
       "[<b>The Dormouse's story</b>]"
      ]
     },
     "execution_count": 104,
     "metadata": {},
     "output_type": "execute_result"
    }
   ],
   "source": [
    "[*tag_p.children]"
   ]
  },
  {
   "cell_type": "code",
   "execution_count": 105,
   "id": "4e028b5b",
   "metadata": {},
   "outputs": [
    {
     "name": "stdout",
     "output_type": "stream",
     "text": [
      "p\n"
     ]
    }
   ],
   "source": [
    "print(tag_p.next_sibling.name)"
   ]
  },
  {
   "cell_type": "code",
   "execution_count": 107,
   "id": "dd95df27",
   "metadata": {},
   "outputs": [
    {
     "name": "stdout",
     "output_type": "stream",
     "text": [
      "<class 'bs4.element.Tag'> p\n",
      "<class 'bs4.element.Tag'> p\n"
     ]
    }
   ],
   "source": [
    "for i in tag_p.next_siblings:\n",
    "    print(type(i), i.name)"
   ]
  },
  {
   "cell_type": "code",
   "execution_count": 108,
   "id": "3fb80c2e",
   "metadata": {},
   "outputs": [],
   "source": [
    "fa=soup_.find(\"p\")"
   ]
  },
  {
   "cell_type": "code",
   "execution_count": 109,
   "id": "f828ddb4",
   "metadata": {},
   "outputs": [
    {
     "data": {
      "text/plain": [
       "bs4.element.Tag"
      ]
     },
     "execution_count": 109,
     "metadata": {},
     "output_type": "execute_result"
    }
   ],
   "source": [
    "type(fa)"
   ]
  },
  {
   "cell_type": "code",
   "execution_count": 110,
   "id": "12f1c67e",
   "metadata": {},
   "outputs": [
    {
     "data": {
      "text/plain": [
       "'p'"
      ]
     },
     "execution_count": 110,
     "metadata": {},
     "output_type": "execute_result"
    }
   ],
   "source": [
    "fa.name"
   ]
  },
  {
   "cell_type": "code",
   "execution_count": 111,
   "id": "94795e89",
   "metadata": {},
   "outputs": [
    {
     "data": {
      "text/plain": [
       "[<b>The Dormouse's story</b>]"
      ]
     },
     "execution_count": 111,
     "metadata": {},
     "output_type": "execute_result"
    }
   ],
   "source": [
    "fa.contents"
   ]
  },
  {
   "cell_type": "code",
   "execution_count": 112,
   "id": "87b3b239",
   "metadata": {},
   "outputs": [],
   "source": [
    "fas=soup_.findAll(\"p\",{'class':\"story1\"})"
   ]
  },
  {
   "cell_type": "code",
   "execution_count": 113,
   "id": "0c6d5273",
   "metadata": {},
   "outputs": [
    {
     "data": {
      "text/plain": [
       "bs4.element.ResultSet"
      ]
     },
     "execution_count": 113,
     "metadata": {},
     "output_type": "execute_result"
    }
   ],
   "source": [
    "type(fas)"
   ]
  },
  {
   "cell_type": "code",
   "execution_count": 114,
   "id": "7d271c11",
   "metadata": {},
   "outputs": [
    {
     "data": {
      "text/plain": [
       "bs4.element.Tag"
      ]
     },
     "execution_count": 114,
     "metadata": {},
     "output_type": "execute_result"
    }
   ],
   "source": [
    "type(fas[0])"
   ]
  },
  {
   "cell_type": "code",
   "execution_count": 115,
   "id": "f7de3d41",
   "metadata": {},
   "outputs": [
    {
     "data": {
      "text/plain": [
       "'p'"
      ]
     },
     "execution_count": 115,
     "metadata": {},
     "output_type": "execute_result"
    }
   ],
   "source": [
    "fas[0].name"
   ]
  },
  {
   "cell_type": "code",
   "execution_count": 116,
   "id": "02c04da3",
   "metadata": {},
   "outputs": [
    {
     "data": {
      "text/plain": [
       "<a class=\"sister\" href=\"http://example.com/elsie\" id=\"link1\">Elsie</a>"
      ]
     },
     "execution_count": 116,
     "metadata": {},
     "output_type": "execute_result"
    }
   ],
   "source": [
    "fas[0].a"
   ]
  },
  {
   "cell_type": "code",
   "execution_count": 117,
   "id": "421a4ef3",
   "metadata": {},
   "outputs": [],
   "source": [
    "sel_pa=soup_.select('p > a')"
   ]
  },
  {
   "cell_type": "code",
   "execution_count": 118,
   "id": "3297cc1c",
   "metadata": {},
   "outputs": [
    {
     "data": {
      "text/plain": [
       "bs4.element.ResultSet"
      ]
     },
     "execution_count": 118,
     "metadata": {},
     "output_type": "execute_result"
    }
   ],
   "source": [
    "type(sel_pa)"
   ]
  },
  {
   "cell_type": "code",
   "execution_count": 119,
   "id": "f448235c",
   "metadata": {},
   "outputs": [
    {
     "data": {
      "text/plain": [
       "bs4.element.Tag"
      ]
     },
     "execution_count": 119,
     "metadata": {},
     "output_type": "execute_result"
    }
   ],
   "source": [
    "type(sel_pa[0])"
   ]
  },
  {
   "cell_type": "code",
   "execution_count": 120,
   "id": "b9c73a5b",
   "metadata": {},
   "outputs": [
    {
     "data": {
      "text/plain": [
       "[<a class=\"sister\" href=\"http://example.com/elsie\" id=\"link1\">Elsie</a>,\n",
       " <a class=\"sister\" href=\"http://example.com/lacie\" id=\"link2\">Lacie</a>,\n",
       " <a class=\"sister\" href=\"http://example.com/tillie\" id=\"link3\">Tillie</a>,\n",
       " <a class=\"sister\" href=\"http://example.com/tillie\" id=\"link4\">Tillie</a>]"
      ]
     },
     "execution_count": 120,
     "metadata": {},
     "output_type": "execute_result"
    }
   ],
   "source": [
    "sel_pa"
   ]
  },
  {
   "cell_type": "code",
   "execution_count": 122,
   "id": "c19164f0",
   "metadata": {},
   "outputs": [
    {
     "data": {
      "text/plain": [
       "[<a class=\"sister\" href=\"http://example.com/elsie\" id=\"link1\">Elsie</a>,\n",
       " <a class=\"sister\" href=\"http://example.com/lacie\" id=\"link2\">Lacie</a>,\n",
       " <a class=\"sister\" href=\"http://example.com/tillie\" id=\"link3\">Tillie</a>]"
      ]
     },
     "execution_count": 122,
     "metadata": {},
     "output_type": "execute_result"
    }
   ],
   "source": [
    "soup_.select('p.story1 > a')"
   ]
  },
  {
   "cell_type": "code",
   "execution_count": 123,
   "id": "3d1fe64c",
   "metadata": {},
   "outputs": [],
   "source": [
    "fas_=soup_.findAll('p',{'class':\"story2\"})"
   ]
  },
  {
   "cell_type": "code",
   "execution_count": 124,
   "id": "de80455f",
   "metadata": {},
   "outputs": [
    {
     "data": {
      "text/plain": [
       "[<p class=\"story2\"><a class=\"sister\" href=\"http://example.com/tillie\" id=\"link4\">Tillie</a>;빈값</p>]"
      ]
     },
     "execution_count": 124,
     "metadata": {},
     "output_type": "execute_result"
    }
   ],
   "source": [
    "fas_"
   ]
  },
  {
   "cell_type": "code",
   "execution_count": 125,
   "id": "63c7b0fa",
   "metadata": {},
   "outputs": [
    {
     "data": {
      "text/plain": [
       "bs4.element.ResultSet"
      ]
     },
     "execution_count": 125,
     "metadata": {},
     "output_type": "execute_result"
    }
   ],
   "source": [
    "type(fas_)"
   ]
  },
  {
   "cell_type": "code",
   "execution_count": 126,
   "id": "d1633662",
   "metadata": {},
   "outputs": [],
   "source": [
    "ss=soup_.select('p.story2')"
   ]
  },
  {
   "cell_type": "code",
   "execution_count": 127,
   "id": "7cee64be",
   "metadata": {},
   "outputs": [
    {
     "data": {
      "text/plain": [
       "[<p class=\"story2\"><a class=\"sister\" href=\"http://example.com/tillie\" id=\"link4\">Tillie</a>;빈값</p>]"
      ]
     },
     "execution_count": 127,
     "metadata": {},
     "output_type": "execute_result"
    }
   ],
   "source": [
    "s"
   ]
  },
  {
   "cell_type": "code",
   "execution_count": 128,
   "id": "88b4ea43",
   "metadata": {},
   "outputs": [
    {
     "data": {
      "text/plain": [
       "bs4.element.ResultSet"
      ]
     },
     "execution_count": 128,
     "metadata": {},
     "output_type": "execute_result"
    }
   ],
   "source": [
    "type(ss)"
   ]
  },
  {
   "cell_type": "code",
   "execution_count": 129,
   "id": "ba9935fa",
   "metadata": {},
   "outputs": [],
   "source": [
    "from wordcloud import WordCloud"
   ]
  },
  {
   "cell_type": "code",
   "execution_count": 130,
   "id": "cc0b566d",
   "metadata": {},
   "outputs": [],
   "source": [
    "import sys"
   ]
  },
  {
   "cell_type": "code",
   "execution_count": 135,
   "id": "ba31a4b5",
   "metadata": {},
   "outputs": [],
   "source": [
    "%matplotlib inline\n",
    "import matplotlib.pyplot as plt\n",
    "import sys\n",
    "\n",
    "from matplotlib import font_manager, rc\n",
    "\n",
    "if sys.platform == 'darwin':\n",
    "    path='/Library/Fonts/AppleGothic.ttf'\n",
    "elif sys.platform == 'win32':\n",
    "    path='c:/Windows/Fonts/malgun.ttf'\n",
    "else:\n",
    "    print('Unknow system... sorry~~~')\n",
    "\n",
    "font_name=font_manager.FontProperties(fname=path).get_name()\n",
    "rc('font', family=font_name)\n",
    "plt.rcParams['axes.unicode_minus']=False"
   ]
  },
  {
   "cell_type": "code",
   "execution_count": 136,
   "id": "1819ee9a",
   "metadata": {},
   "outputs": [],
   "source": [
    "wordcloud=WordCloud(font_path=path,\n",
    "                    width=1600,\n",
    "                    height=800)"
   ]
  },
  {
   "cell_type": "code",
   "execution_count": 142,
   "id": "7583a086",
   "metadata": {},
   "outputs": [],
   "source": [
    "text=\"커피 전화 전화 전화 사람 사람 고양이 커피 개 사람 전화\"\n",
    "wordcloud_=wordcloud.generate(text)"
   ]
  },
  {
   "cell_type": "code",
   "execution_count": 143,
   "id": "348bae3d",
   "metadata": {},
   "outputs": [
    {
     "data": {
      "image/png": "[encoded data removed]",
      "text/plain": [
       "<Figure size 640x480 with 1 Axes>"
      ]
     },
     "metadata": {},
     "output_type": "display_data"
    }
   ],
   "source": [
    "fig=plt.figure()\n",
    "plt.imshow(wordcloud_,interpolation='bilinear')\n",
    "plt.axis('off')\n",
    "plt.show()"
   ]
  },
  {
   "cell_type": "code",
   "execution_count": 144,
   "id": "3116be9d",
   "metadata": {},
   "outputs": [],
   "source": [
    "wordcloud=WordCloud(font_path=path,\n",
    "                    background_color='white',\n",
    "                    width=800,\n",
    "                    height=800)"
   ]
  },
  {
   "cell_type": "code",
   "execution_count": 145,
   "id": "e8b31eb7",
   "metadata": {},
   "outputs": [
    {
     "data": {
      "image/png": "[encoded data removed]",
      "text/plain": [
       "<Figure size 640x480 with 1 Axes>"
      ]
     },
     "metadata": {},
     "output_type": "display_data"
    }
   ],
   "source": [
    "wordcloud=wordcloud.generate(text)\n",
    "fig=plt.figure()\n",
    "plt.imshow(wordcloud,interpolation='bilinear')\n",
    "plt.axis('off')\n",
    "plt.show()"
   ]
  },
  {
   "cell_type": "code",
   "execution_count": 146,
   "id": "06a46c5d",
   "metadata": {},
   "outputs": [
    {
     "data": {
      "image/png": "[encoded data removed]",
      "text/plain": [
       "<Figure size 640x480 with 1 Axes>"
      ]
     },
     "metadata": {},
     "output_type": "display_data"
    }
   ],
   "source": [
    "keywords={'이것':5,'예문':3,'단어':5,'빈도수':3}\n",
    "wordcloud_=wordcloud_.generate_from_frequencies(keywords)\n",
    "fig=plt.figure()\n",
    "plt.imshow(wordcloud_,interpolation='bilinear')\n",
    "plt.axis('off')\n",
    "plt.show()"
   ]
  },
  {
   "cell_type": "code",
   "execution_count": 147,
   "id": "357c94f4",
   "metadata": {},
   "outputs": [],
   "source": [
    "import numpy as np\n",
    "from PIL import Image\n",
    "r2d2_mask=np.array(Image.open('./datascience_basic-master/r2d2.JPG'))"
   ]
  },
  {
   "cell_type": "code",
   "execution_count": 148,
   "id": "14551066",
   "metadata": {},
   "outputs": [],
   "source": [
    "from wordcloud import STOPWORDS\n",
    "\n",
    "stopwords=set()\n",
    "stopwords.add(\"은\")\n",
    "stopwords.add(\"입니다\")\n",
    "stopwords.add(\"것인가\")\n",
    "stopwords.add(\"처럼\")\n",
    "\n",
    "wordcloud=WordCloud(stopwords=stopwords,\n",
    "                   font_path=path,\n",
    "                   background_color='white',\n",
    "                   width=800,\n",
    "                   height=800,\n",
    "                   mask=r2d2_mask)"
   ]
  },
  {
   "cell_type": "code",
   "execution_count": 149,
   "id": "161a66ea",
   "metadata": {},
   "outputs": [],
   "source": [
    "texts=['로봇 처럼 표시하는 것을 보기 위해 이 것은 예문 입니다 가을이라 겨울 바람 솔 솔 불어오니 ',\n",
    "       '여러분의 문장을 넣으세요 ㅎㅎㅎ 스타워즈 영화에 나오는 다양ㅇ한 로봇처럼']"
   ]
  },
  {
   "cell_type": "code",
   "execution_count": 150,
   "id": "dc7d8841",
   "metadata": {},
   "outputs": [],
   "source": [
    "wordcloud=wordcloud.generate_from_text(texts[0]+texts[1])"
   ]
  },
  {
   "cell_type": "code",
   "execution_count": 151,
   "id": "f0a6ab02",
   "metadata": {},
   "outputs": [
    {
     "data": {
      "image/png": "[encoded data removed]",
      "text/plain": [
       "<Figure size 800x800 with 1 Axes>"
      ]
     },
     "metadata": {},
     "output_type": "display_data"
    }
   ],
   "source": [
    "plt.figure(figsize=(8,8))\n",
    "plt.imshow(wordcloud, interpolation=\"bilinear\")\n",
    "plt.axis(\"off\")\n",
    "plt.show()"
   ]
  },
  {
   "cell_type": "code",
   "execution_count": 152,
   "id": "2d6b8c69",
   "metadata": {},
   "outputs": [],
   "source": [
    "from bs4 import BeautifulSoup\n",
    "import requests\n",
    "from konlpy.tag import Okt\n",
    "from collections import Counter"
   ]
  },
  {
   "cell_type": "code",
   "execution_count": 153,
   "id": "eda7bff8",
   "metadata": {},
   "outputs": [
    {
     "name": "stdout",
     "output_type": "stream",
     "text": [
      "<class 'str'>\n"
     ]
    }
   ],
   "source": [
    "url='http://movie.naver.com/movie/sdb/rank/rmovie.nhn?sel=cnt&date=20240314'\n",
    "response=requests.get(url)\n",
    "html=response.text\n",
    "print(type(html))"
   ]
  },
  {
   "cell_type": "code",
   "execution_count": 154,
   "id": "e62f9d5a",
   "metadata": {},
   "outputs": [
    {
     "data": {
      "text/plain": [
       "'<!DOCTYPE html>\\n<html lang=\"ko\">\\n<head>\\n    <meta charset=\"utf-8\">\\n    <meta http-equiv=\"X-UA-Compat'"
      ]
     },
     "execution_count": 154,
     "metadata": {},
     "output_type": "execute_result"
    }
   ],
   "source": [
    "html_s=html.strip()\n",
    "html_s[:100]"
   ]
  },
  {
   "cell_type": "code",
   "execution_count": 264,
   "id": "0aa86b69",
   "metadata": {},
   "outputs": [
    {
     "data": {
      "text/plain": [
       "<Response [200]>"
      ]
     },
     "execution_count": 264,
     "metadata": {},
     "output_type": "execute_result"
    }
   ],
   "source": [
    "wquery=\"더블유게임즈\"\n",
    "url=f'http://kin.naver.com/search/list.nhn?query={wquery}'\n",
    "req=requests.get(url)\n",
    "req"
   ]
  },
  {
   "cell_type": "code",
   "execution_count": 265,
   "id": "faf4d0a3",
   "metadata": {},
   "outputs": [
    {
     "data": {
      "text/plain": [
       "'\\n\\n\\n\\n\\n\\n\\n\\n\\n\\n\\n\\n\\t\\n\\t\\n\\t\\n\\n\\n\\n\\n\\n\\n\\n\\n\\n\\n\\n\\n\\n\\n\\n\\n\\n\\n\\n\\n\\n\\n<!DOCTYPE '"
      ]
     },
     "execution_count": 265,
     "metadata": {},
     "output_type": "execute_result"
    }
   ],
   "source": [
    "req.text[:50]"
   ]
  },
  {
   "cell_type": "code",
   "execution_count": 266,
   "id": "02eb0f10",
   "metadata": {},
   "outputs": [],
   "source": [
    "soup=BeautifulSoup(req.text, 'html.parser')"
   ]
  },
  {
   "cell_type": "code",
   "execution_count": 267,
   "id": "b1f5e4a5",
   "metadata": {},
   "outputs": [],
   "source": [
    "titles=soup.select('ul.basic1 > li > dl > dt > a')"
   ]
  },
  {
   "cell_type": "code",
   "execution_count": 268,
   "id": "b1ab4b79",
   "metadata": {},
   "outputs": [
    {
     "data": {
      "text/plain": [
       "10"
      ]
     },
     "execution_count": 268,
     "metadata": {},
     "output_type": "execute_result"
    }
   ],
   "source": [
    "len(titles)"
   ]
  },
  {
   "cell_type": "code",
   "execution_count": 269,
   "id": "21e44fcc",
   "metadata": {},
   "outputs": [],
   "source": [
    "title_list=[]"
   ]
  },
  {
   "cell_type": "code",
   "execution_count": 270,
   "id": "09989212",
   "metadata": {},
   "outputs": [],
   "source": [
    "for title in titles:\n",
    "    title_list.append(title.get_text())"
   ]
  },
  {
   "cell_type": "code",
   "execution_count": 271,
   "id": "d111f5ce",
   "metadata": {},
   "outputs": [
    {
     "data": {
      "text/plain": [
       "bs4.element.Tag"
      ]
     },
     "execution_count": 271,
     "metadata": {},
     "output_type": "execute_result"
    }
   ],
   "source": [
    "type(title)"
   ]
  },
  {
   "cell_type": "code",
   "execution_count": 272,
   "id": "d9eea4b5",
   "metadata": {},
   "outputs": [
    {
     "data": {
      "text/plain": [
       "['장외주식에대해서질문 ', <b>더블유게임즈</b>]"
      ]
     },
     "execution_count": 272,
     "metadata": {},
     "output_type": "execute_result"
    }
   ],
   "source": [
    "title.contents"
   ]
  },
  {
   "cell_type": "code",
   "execution_count": 273,
   "id": "77cbe05a",
   "metadata": {},
   "outputs": [
    {
     "data": {
      "text/plain": [
       "['더블유게임즈 주식',\n",
       " '더블유게임즈 주가 전망 좀 봐주세요.',\n",
       " '더블유게임즈 주가 어디까지 갈수... ',\n",
       " '더블유게임즈 주식 악재 어떻게... ',\n",
       " '더블유게임즈 주가 왜 갑자기 오르죠?',\n",
       " '더블유게임즈 주식 전망 및 분석',\n",
       " '더블유게임즈 주식 어디까지 가줄까요',\n",
       " '더블유게임즈 주가 오늘 급락해서... ',\n",
       " '더블유게임즈 영업이익에 비해...',\n",
       " '장외주식에대해서질문 더블유게임즈']"
      ]
     },
     "execution_count": 273,
     "metadata": {},
     "output_type": "execute_result"
    }
   ],
   "source": [
    "title_list"
   ]
  },
  {
   "cell_type": "code",
   "execution_count": 274,
   "id": "48ecef4a",
   "metadata": {},
   "outputs": [],
   "source": [
    "search_word=\"더블유게임즈\"\n",
    "start_num=1\n",
    "title_list=[]\n",
    "search=f'https://kin.naver.com/search/list.nhn?query={wquery}&start={start_num}'"
   ]
  },
  {
   "cell_type": "code",
   "execution_count": 275,
   "id": "41945775",
   "metadata": {},
   "outputs": [],
   "source": [
    "def get_titles(search):\n",
    "    \n",
    "    url=search\n",
    "    req=requests.get(url)\n",
    "    \n",
    "    if req.ok:\n",
    "        html=req.text\n",
    "        soup=BeautifulSoup(html, 'html.parser')\n",
    "        titles=soup.select('ul.basic1 > li > dl > dt > a'\n",
    "        )\n",
    "        \n",
    "        for title in titles:\n",
    "            title_list.append(title.get_text())"
   ]
  },
  {
   "cell_type": "code",
   "execution_count": 276,
   "id": "4346c6bd",
   "metadata": {},
   "outputs": [],
   "source": [
    "title_list_=[]"
   ]
  },
  {
   "cell_type": "code",
   "execution_count": 277,
   "id": "fcb7b83d",
   "metadata": {},
   "outputs": [],
   "source": [
    "def get_titles_(start_num, end_num, search):\n",
    "    \n",
    "    while True:\n",
    "        if start_num > end_num:\n",
    "            break\n",
    "    \n",
    "    url=search\n",
    "    req=requests.get(url)\n",
    "    \n",
    "    if req.ok:\n",
    "        html=req.text\n",
    "        soup=BeautifulSoup(html, 'html.parser')\n",
    "        titles=soup.select('ul.basic1 > li > dl > dt > a'\n",
    "        )\n",
    "        \n",
    "        for title in titles:\n",
    "            title_list.append(title.get_text())\n",
    "    start_num+=10"
   ]
  },
  {
   "cell_type": "code",
   "execution_count": 278,
   "id": "5f08890d",
   "metadata": {},
   "outputs": [],
   "source": [
    "def make_word(word_count):\n",
    "    twitter=Okt()\n",
    "    \n",
    "    sentences_tag=[]\n",
    "    for sentence in title_list:\n",
    "        morph=twitter.pos(sentence)\n",
    "        sentences_tag.append(morph)\n",
    "        \n",
    "    noun_adj_list=[]\n",
    "    for sentence1 in sentences_tag:\n",
    "        for word, tag in sentence1:\n",
    "            if tag in ['Noun', 'Adjective']:\n",
    "                noun_adj_list.append(word)\n",
    "    \n",
    "    counts=Counter(noun_adj_list)\n",
    "    tags=counts.most_common(word_count)\n",
    "    \n",
    "    return tags"
   ]
  },
  {
   "cell_type": "code",
   "execution_count": 279,
   "id": "073b094c",
   "metadata": {},
   "outputs": [],
   "source": [
    "def draw_wordcloud(tags):\n",
    "    wc=WordCloud(font_path=path,\n",
    "                 mask=r2d2_mask,\n",
    "                 background_color='white',\n",
    "                width=800,\n",
    "                height=600,)\n",
    "    cloud=wc.generate_from_frequencies(dict(tags))\n",
    "    plt.figure(figsize=(10,8))\n",
    "    plt.axis('off')\n",
    "    plt.imshow(cloud)\n",
    "    plt.show()"
   ]
  },
  {
   "cell_type": "code",
   "execution_count": 280,
   "id": "a9c5f220",
   "metadata": {},
   "outputs": [],
   "source": [
    "get_titles(search)"
   ]
  },
  {
   "cell_type": "code",
   "execution_count": 281,
   "id": "8fd3bcf0",
   "metadata": {},
   "outputs": [
    {
     "data": {
      "text/plain": [
       "['더블유게임즈 주식',\n",
       " '더블유게임즈 주가 전망 좀 봐주세요.',\n",
       " '더블유게임즈 주가 어디까지 갈수... ',\n",
       " '더블유게임즈 주식 악재 어떻게... ',\n",
       " '더블유게임즈 주가 왜 갑자기 오르죠?',\n",
       " '더블유게임즈 주식 전망 및 분석',\n",
       " '더블유게임즈 주식 어디까지 가줄까요',\n",
       " '더블유게임즈 주가 오늘 급락해서... ',\n",
       " '더블유게임즈 영업이익에 비해...',\n",
       " '장외주식에대해서질문 더블유게임즈']"
      ]
     },
     "execution_count": 281,
     "metadata": {},
     "output_type": "execute_result"
    }
   ],
   "source": [
    "title_list"
   ]
  },
  {
   "cell_type": "code",
   "execution_count": 282,
   "id": "420fc9ac",
   "metadata": {},
   "outputs": [],
   "source": [
    "import warnings\n",
    "warnings.filterwarnings(action='ignore')\n",
    "tags=make_word(50)"
   ]
  },
  {
   "cell_type": "code",
   "execution_count": 283,
   "id": "467b8c3f",
   "metadata": {},
   "outputs": [
    {
     "data": {
      "text/plain": [
       "[('더블유', 10), ('게임', 10), ('주식', 5), ('주가', 4), ('전망', 2)]"
      ]
     },
     "execution_count": 283,
     "metadata": {},
     "output_type": "execute_result"
    }
   ],
   "source": [
    "tags[:5]"
   ]
  },
  {
   "cell_type": "code",
   "execution_count": 284,
   "id": "ebd7d252",
   "metadata": {},
   "outputs": [
    {
     "data": {
      "image/png": "[encoded data removed]",
      "text/plain": [
       "<Figure size 1000x800 with 1 Axes>"
      ]
     },
     "metadata": {},
     "output_type": "display_data"
    }
   ],
   "source": [
    "draw_wordcloud(tags)"
   ]
  },
  {
   "cell_type": "code",
   "execution_count": null,
   "id": "e33cd2de",
   "metadata": {},
   "outputs": [],
   "source": []
  }
 ],
 "metadata": {
  "kernelspec": {
   "display_name": "Python 3 (ipykernel)",
   "language": "python",
   "name": "python3"
  },
  "language_info": {
   "codemirror_mode": {
    "name": "ipython",
    "version": 3
   },
   "file_extension": ".py",
   "mimetype": "text/x-python",
   "name": "python",
   "nbconvert_exporter": "python",
   "pygments_lexer": "ipython3",
   "version": "3.11.5"
  }
 },
 "nbformat": 4,
 "nbformat_minor": 5
}
