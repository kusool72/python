{
 "cells": [
  {
   "cell_type": "markdown",
   "id": "13c19ee0",
   "metadata": {},
   "source": [
    "# 02 넘파이"
   ]
  },
  {
   "cell_type": "markdown",
   "id": "399f13fe",
   "metadata": {},
   "source": [
    "## 2.1 넘파이 소개"
   ]
  },
  {
   "cell_type": "code",
   "execution_count": 19,
   "id": "a4765e12",
   "metadata": {},
   "outputs": [
    {
     "name": "stdout",
     "output_type": "stream",
     "text": [
      "Defaulting to user installation because normal site-packages is not writeable\n",
      "Requirement already satisfied: numpy in c:\\programdata\\anaconda3\\lib\\site-packages (1.24.3)\n"
     ]
    }
   ],
   "source": [
    "!pip install numpy"
   ]
  },
  {
   "cell_type": "code",
   "execution_count": 21,
   "id": "d8c967b0",
   "metadata": {},
   "outputs": [
    {
     "name": "stdout",
     "output_type": "stream",
     "text": [
      "[1, 2, 3]\n",
      "[1 2 3]\n",
      "<class 'numpy.ndarray'>\n"
     ]
    }
   ],
   "source": [
    "import numpy as np\n",
    "data=[1,2,3]  # 리스트\n",
    "print(data)\n",
    "arr=np.array(data)  # ndarray\n",
    "print(arr)\n",
    "print(type(arr))"
   ]
  },
  {
   "cell_type": "code",
   "execution_count": 5,
   "id": "0a027cc5",
   "metadata": {},
   "outputs": [
    {
     "name": "stdout",
     "output_type": "stream",
     "text": [
      "[10, 20, 30]\n"
     ]
    }
   ],
   "source": [
    "data=[1,2,3]\n",
    "\n",
    "result=[]\n",
    "for i in data:\n",
    "    result.append(i*10)\n",
    "print(result)"
   ]
  },
  {
   "cell_type": "code",
   "execution_count": 6,
   "id": "4d334810",
   "metadata": {},
   "outputs": [
    {
     "name": "stdout",
     "output_type": "stream",
     "text": [
      "[10 20 30]\n"
     ]
    }
   ],
   "source": [
    "import numpy as np\n",
    "\n",
    "arr=np.array([1,2,3])\n",
    "result=arr*10\n",
    "print(result)"
   ]
  },
  {
   "cell_type": "code",
   "execution_count": 7,
   "id": "6ae749cb",
   "metadata": {},
   "outputs": [
    {
     "name": "stdout",
     "output_type": "stream",
     "text": [
      "[[1, 2, 3], [4, 5, 6], [7, 8, 9]]\n"
     ]
    }
   ],
   "source": [
    "data2d=[[1,2,3],\n",
    "       [4,5,6],\n",
    "       [7,8,9]]\n",
    "print(data2d)"
   ]
  },
  {
   "cell_type": "code",
   "execution_count": 8,
   "id": "119ea12b",
   "metadata": {},
   "outputs": [
    {
     "name": "stdout",
     "output_type": "stream",
     "text": [
      "[1 4 7]\n"
     ]
    }
   ],
   "source": [
    "import numpy as np\n",
    "\n",
    "data2d=[[1,2,3],\n",
    "       [4,5,6],\n",
    "       [7,8,9]]\n",
    "arr=np.array(data2d)\n",
    "print(arr[:,0])"
   ]
  },
  {
   "cell_type": "markdown",
   "id": "96302f6e",
   "metadata": {},
   "source": [
    "## 2.2 ndarray"
   ]
  },
  {
   "cell_type": "code",
   "execution_count": 10,
   "id": "3b7b0fb3",
   "metadata": {},
   "outputs": [
    {
     "name": "stdout",
     "output_type": "stream",
     "text": [
      "[1 2 3 4]\n",
      "<class 'numpy.ndarray'>\n"
     ]
    }
   ],
   "source": [
    "data1=[1,2,3,4]\n",
    "\n",
    "arr1=np.array(data1)\n",
    "print(arr1)\n",
    "print(type(arr1))"
   ]
  },
  {
   "cell_type": "code",
   "execution_count": 14,
   "id": "76c8a811",
   "metadata": {},
   "outputs": [
    {
     "name": "stdout",
     "output_type": "stream",
     "text": [
      "[[1 2]\n",
      " [3 4]]\n",
      "<class 'numpy.ndarray'>\n",
      "<class 'numpy.ndarray'>\n"
     ]
    }
   ],
   "source": [
    "data2=[[1,2],\n",
    "      [3,4]]\n",
    "arr2=np.array(data2)\n",
    "print(arr2)\n",
    "print(type(arr2))\n",
    "print(type(arr2[0]))"
   ]
  },
  {
   "cell_type": "code",
   "execution_count": 15,
   "id": "c985650a",
   "metadata": {},
   "outputs": [
    {
     "name": "stdout",
     "output_type": "stream",
     "text": [
      "(2, 2)\n",
      "2\n",
      "int32\n"
     ]
    }
   ],
   "source": [
    "print(arr2.shape)\n",
    "print(arr2.ndim)\n",
    "print(arr2.dtype)"
   ]
  },
  {
   "cell_type": "code",
   "execution_count": 16,
   "id": "644b7dca",
   "metadata": {},
   "outputs": [
    {
     "name": "stdout",
     "output_type": "stream",
     "text": [
      "(4,)\n"
     ]
    }
   ],
   "source": [
    "print(arr1.shape)"
   ]
  },
  {
   "cell_type": "code",
   "execution_count": 17,
   "id": "4178a328",
   "metadata": {},
   "outputs": [
    {
     "name": "stdout",
     "output_type": "stream",
     "text": [
      "(4, 1)\n"
     ]
    }
   ],
   "source": [
    "data=[[1],\n",
    "     [2],\n",
    "     [3],\n",
    "     [4]]\n",
    "c=np.array(data)\n",
    "print(c.shape)"
   ]
  },
  {
   "cell_type": "code",
   "execution_count": 18,
   "id": "8b216c86",
   "metadata": {},
   "outputs": [
    {
     "name": "stdout",
     "output_type": "stream",
     "text": [
      "[0. 0. 0.]\n",
      "[1. 1. 1.]\n"
     ]
    }
   ],
   "source": [
    "print(np.zeros(3))\n",
    "print(np.ones(3))"
   ]
  },
  {
   "cell_type": "code",
   "execution_count": 19,
   "id": "e9507b1d",
   "metadata": {},
   "outputs": [
    {
     "name": "stdout",
     "output_type": "stream",
     "text": [
      "[[0. 0. 0. 0.]\n",
      " [0. 0. 0. 0.]\n",
      " [0. 0. 0. 0.]]\n"
     ]
    }
   ],
   "source": [
    "size=(3,4)\n",
    "print(np.zeros(size))"
   ]
  },
  {
   "cell_type": "code",
   "execution_count": 21,
   "id": "567fba69",
   "metadata": {},
   "outputs": [
    {
     "name": "stdout",
     "output_type": "stream",
     "text": [
      "[[0. 0. 0. 0.]\n",
      " [0. 0. 0. 0.]\n",
      " [0. 0. 0. 0.]]\n"
     ]
    }
   ],
   "source": [
    "print(np.zeros((3,4)))"
   ]
  },
  {
   "cell_type": "code",
   "execution_count": 22,
   "id": "0d211585",
   "metadata": {},
   "outputs": [
    {
     "name": "stdout",
     "output_type": "stream",
     "text": [
      "[0 1 2 3 4]\n",
      "[1 2 3 4]\n",
      "[1 3]\n"
     ]
    }
   ],
   "source": [
    "print(np.arange(5))\n",
    "print(np.arange(1,5))\n",
    "print(np.arange(1,5,2))"
   ]
  },
  {
   "cell_type": "code",
   "execution_count": 23,
   "id": "901d09e7",
   "metadata": {},
   "outputs": [
    {
     "name": "stdout",
     "output_type": "stream",
     "text": [
      "[[0 1 2]\n",
      " [3 4 5]]\n"
     ]
    }
   ],
   "source": [
    "ndarr1=np.arange(6)\n",
    "ndarr2=ndarr1.reshape(2,3)\n",
    "print(ndarr2)"
   ]
  },
  {
   "cell_type": "markdown",
   "id": "b45f76e7",
   "metadata": {},
   "source": [
    "## 2.3 데이터 타입"
   ]
  },
  {
   "cell_type": "code",
   "execution_count": 25,
   "id": "9a75bd38",
   "metadata": {},
   "outputs": [
    {
     "name": "stdout",
     "output_type": "stream",
     "text": [
      "uint8\n",
      "u\n",
      "1\n"
     ]
    }
   ],
   "source": [
    "arr=np.array([1,2,3], dtype=np.uint8)\n",
    "print(arr.dtype)\n",
    "print(arr.dtype.kind)\n",
    "print(arr.dtype.alignment)"
   ]
  },
  {
   "cell_type": "code",
   "execution_count": 26,
   "id": "cf9fc8d0",
   "metadata": {},
   "outputs": [
    {
     "name": "stdout",
     "output_type": "stream",
     "text": [
      "int8\n"
     ]
    }
   ],
   "source": [
    "arr=arr.astype('int8')\n",
    "print(arr.dtype)"
   ]
  },
  {
   "cell_type": "code",
   "execution_count": 27,
   "id": "1d749b76",
   "metadata": {},
   "outputs": [
    {
     "name": "stdout",
     "output_type": "stream",
     "text": [
      "[  0 255]\n",
      "[ 0 -1]\n"
     ]
    }
   ],
   "source": [
    "a=np.array([0,255], dtype=np.uint8)\n",
    "b=a.astype('int8')  # -128~127까지만 표현되므로 255를 표현할 수 없음\n",
    "print(a)\n",
    "print(b)"
   ]
  },
  {
   "cell_type": "code",
   "execution_count": 29,
   "id": "a57e5f1e",
   "metadata": {},
   "outputs": [
    {
     "name": "stdout",
     "output_type": "stream",
     "text": [
      "[1.333]\n",
      "[1.333333]\n"
     ]
    }
   ],
   "source": [
    "a16=np.array([1.333333],dtype=np.float16)\n",
    "a32=np.array([1.333333],dtype=np.float32)\n",
    "print(a16)\n",
    "print(a32)"
   ]
  },
  {
   "cell_type": "code",
   "execution_count": 30,
   "id": "17e606a9",
   "metadata": {},
   "outputs": [
    {
     "name": "stdout",
     "output_type": "stream",
     "text": [
      "[0.3333]\n",
      "[0.33333334]\n"
     ]
    }
   ],
   "source": [
    "a16=np.array([1.0], dtype=np.float16)\n",
    "a32=np.array([1.0], dtype=np.float32)\n",
    "print(a16/3)\n",
    "print(a32/3)"
   ]
  },
  {
   "cell_type": "code",
   "execution_count": 31,
   "id": "ec52a345",
   "metadata": {},
   "outputs": [
    {
     "name": "stdout",
     "output_type": "stream",
     "text": [
      "nan <class 'float'>\n",
      "inf <class 'float'>\n",
      "-inf <class 'float'>\n"
     ]
    }
   ],
   "source": [
    "print(np.nan, type(np.nan))\n",
    "print(np.inf, type(np.inf))\n",
    "print(-np.inf, type(-np.inf))"
   ]
  },
  {
   "cell_type": "code",
   "execution_count": 22,
   "id": "bdc61741",
   "metadata": {},
   "outputs": [
    {
     "name": "stdout",
     "output_type": "stream",
     "text": [
      "[-inf  inf -inf]\n"
     ]
    },
    {
     "name": "stderr",
     "output_type": "stream",
     "text": [
      "C:\\Users\\Public\\Documents\\ESTsoft\\CreatorTemp\\ipykernel_8364\\2565207972.py:2: RuntimeWarning: divide by zero encountered in divide\n",
      "  print(arr/0)  # 경고 및 결과값은 무한대\n"
     ]
    }
   ],
   "source": [
    "arr=np.array([-1,2,-3])\n",
    "print(arr/0)  # 경고 및 결과값은 무한대"
   ]
  },
  {
   "cell_type": "code",
   "execution_count": 33,
   "id": "36e1def0",
   "metadata": {},
   "outputs": [
    {
     "name": "stdout",
     "output_type": "stream",
     "text": [
      "[nan nan nan]\n",
      "[inf inf inf]\n"
     ]
    }
   ],
   "source": [
    "arr=np.array([-1,2,-3])\n",
    "print(arr+np.nan)\n",
    "print(arr+np.inf)"
   ]
  },
  {
   "cell_type": "markdown",
   "id": "b024045f",
   "metadata": {},
   "source": [
    "## 2.4 인덱싱과 슬라이싱"
   ]
  },
  {
   "cell_type": "code",
   "execution_count": 28,
   "id": "4961de2a",
   "metadata": {},
   "outputs": [
    {
     "name": "stdout",
     "output_type": "stream",
     "text": [
      "0\n"
     ]
    }
   ],
   "source": [
    "arr=np.arange(4)\n",
    "print(arr[0])"
   ]
  },
  {
   "cell_type": "code",
   "execution_count": 29,
   "id": "4b9de79a",
   "metadata": {},
   "outputs": [
    {
     "name": "stdout",
     "output_type": "stream",
     "text": [
      "[0 1]\n"
     ]
    }
   ],
   "source": [
    "arr=np.arange(4).reshape(2,2)  # reshape메서드로 2행2열로 변환\n",
    "print(arr[0])"
   ]
  },
  {
   "cell_type": "code",
   "execution_count": 30,
   "id": "4bb8dac7",
   "metadata": {},
   "outputs": [
    {
     "name": "stdout",
     "output_type": "stream",
     "text": [
      "0\n"
     ]
    }
   ],
   "source": [
    "print(arr[0][0])"
   ]
  },
  {
   "cell_type": "code",
   "execution_count": 31,
   "id": "fcf6a873",
   "metadata": {},
   "outputs": [
    {
     "name": "stdout",
     "output_type": "stream",
     "text": [
      "0\n",
      "0\n"
     ]
    }
   ],
   "source": [
    "print(arr[0][0])\n",
    "print(arr[0, 0])"
   ]
  },
  {
   "cell_type": "code",
   "execution_count": 32,
   "id": "d3fd75c0",
   "metadata": {},
   "outputs": [
    {
     "name": "stdout",
     "output_type": "stream",
     "text": [
      "203 ns ± 45 ns per loop (mean ± std. dev. of 7 runs, 1,000,000 loops each)\n"
     ]
    }
   ],
   "source": [
    "a=np.arange(10000).reshape(100,100)\n",
    "%timeit a[0,50]"
   ]
  },
  {
   "cell_type": "code",
   "execution_count": 33,
   "id": "0d61e72b",
   "metadata": {},
   "outputs": [
    {
     "name": "stdout",
     "output_type": "stream",
     "text": [
      "379 ns ± 6.19 ns per loop (mean ± std. dev. of 7 runs, 1,000,000 loops each)\n"
     ]
    }
   ],
   "source": [
    "a=np.arange(10000).reshape(100,100)\n",
    "%timeit a[0][50]"
   ]
  },
  {
   "cell_type": "code",
   "execution_count": 41,
   "id": "c171814a",
   "metadata": {},
   "outputs": [
    {
     "name": "stdout",
     "output_type": "stream",
     "text": [
      "[0 1]\n"
     ]
    }
   ],
   "source": [
    "arr=np.arange(4)\n",
    "print(arr[:2])"
   ]
  },
  {
   "cell_type": "code",
   "execution_count": 35,
   "id": "e6ddf4ee",
   "metadata": {},
   "outputs": [
    {
     "name": "stdout",
     "output_type": "stream",
     "text": [
      "[0 2]\n"
     ]
    }
   ],
   "source": [
    "target=[0,2]\n",
    "print(arr[target])"
   ]
  },
  {
   "cell_type": "code",
   "execution_count": 36,
   "id": "1e8f328e",
   "metadata": {},
   "outputs": [
    {
     "name": "stdout",
     "output_type": "stream",
     "text": [
      "[0 2]\n"
     ]
    }
   ],
   "source": [
    "print(arr[[0,2]])"
   ]
  },
  {
   "cell_type": "code",
   "execution_count": 44,
   "id": "ce20fe93",
   "metadata": {},
   "outputs": [
    {
     "name": "stdout",
     "output_type": "stream",
     "text": [
      "[[0 1 2 3 4]\n",
      " [5 6 7 8 9]]\n"
     ]
    }
   ],
   "source": [
    "arr=np.arange(20).reshape(4,5)\n",
    "print(arr[:2])"
   ]
  },
  {
   "cell_type": "code",
   "execution_count": 45,
   "id": "a2798186",
   "metadata": {},
   "outputs": [
    {
     "name": "stdout",
     "output_type": "stream",
     "text": [
      "[[0, 1], [5, 6], [10, 11], [15, 16]]\n"
     ]
    }
   ],
   "source": [
    "# 왼쪽 끝의 두 개 컬럼을 슬라이싱 - 리스트에 값을 저장하는 번거러움\n",
    "result=[]\n",
    "for row in arr:\n",
    "    row_01=[row[0], row[1]]\n",
    "    result.append(row_01)\n",
    "print(result)"
   ]
  },
  {
   "cell_type": "code",
   "execution_count": 46,
   "id": "817b3f29",
   "metadata": {},
   "outputs": [
    {
     "name": "stdout",
     "output_type": "stream",
     "text": [
      "[[ 0  1]\n",
      " [ 5  6]\n",
      " [10 11]\n",
      " [15 16]]\n"
     ]
    }
   ],
   "source": [
    "# ndarry는 한 번에 컬럼의 슬라이싱\n",
    "print(arr[:,:2])"
   ]
  },
  {
   "cell_type": "code",
   "execution_count": 47,
   "id": "f18f5f3f",
   "metadata": {},
   "outputs": [
    {
     "name": "stdout",
     "output_type": "stream",
     "text": [
      "[[ 7  8  9]\n",
      " [12 13 14]\n",
      " [17 18 19]]\n",
      "[[ 7  8  9]\n",
      " [12 13 14]\n",
      " [17 18 19]]\n"
     ]
    }
   ],
   "source": [
    "# 일부 영역 슬라이싱\n",
    "print(arr[1:4, 2:5])\n",
    "print(arr[1:, 2:])"
   ]
  },
  {
   "cell_type": "markdown",
   "id": "95e111f5",
   "metadata": {},
   "source": [
    "## 2.5 브로드캐스팅"
   ]
  },
  {
   "cell_type": "code",
   "execution_count": 48,
   "id": "0c5c506f",
   "metadata": {},
   "outputs": [
    {
     "name": "stdout",
     "output_type": "stream",
     "text": [
      "[3 5 7]\n",
      "[ 2  6 12]\n",
      "[1 2 3]\n"
     ]
    }
   ],
   "source": [
    "# ndarray간의 연산으로 확장\n",
    "a=np.array([1,2,3])\n",
    "b=np.array([2,3,4])\n",
    "print(a+b)\n",
    "print(a*b)\n",
    "print(a%b)"
   ]
  },
  {
   "cell_type": "code",
   "execution_count": 55,
   "id": "39c81139",
   "metadata": {},
   "outputs": [
    {
     "name": "stdout",
     "output_type": "stream",
     "text": [
      "[2700 1300  400 2200 1400]\n"
     ]
    }
   ],
   "source": [
    "high=[92700,92400,92100,94300,92300]\n",
    "low=[90000,91100,91700,92100,90900]\n",
    "\n",
    "arr_high=np.array(high)\n",
    "arr_low=np.array(low)\n",
    "\n",
    "arr_diff=arr_high-arr_low\n",
    "print(arr_diff)"
   ]
  },
  {
   "cell_type": "code",
   "execution_count": 57,
   "id": "f104b968",
   "metadata": {},
   "outputs": [
    {
     "name": "stdout",
     "output_type": "stream",
     "text": [
      "[458100 459400 459700 467100 458700]\n"
     ]
    }
   ],
   "source": [
    "arr_high_x3=arr_high*3\n",
    "arr_low_x2=arr_low*2\n",
    "print(arr_high_x3+arr_low_x2)"
   ]
  },
  {
   "cell_type": "code",
   "execution_count": 58,
   "id": "01a42f4e",
   "metadata": {},
   "outputs": [],
   "source": [
    "avg=(arr_high*3)+(arr_low*2)"
   ]
  },
  {
   "cell_type": "code",
   "execution_count": 59,
   "id": "107e380b",
   "metadata": {},
   "outputs": [
    {
     "name": "stdout",
     "output_type": "stream",
     "text": [
      "[458100 459400 459700 467100 458700]\n"
     ]
    }
   ],
   "source": [
    "data=[[92700,92400,92100,94300,92300],\n",
    "      [90000,91100,91700,92100,90900]]\n",
    "arr=np.array(data)\n",
    "print(arr[0]*3 + arr[1] * 2)"
   ]
  },
  {
   "cell_type": "code",
   "execution_count": 60,
   "id": "4900039d",
   "metadata": {},
   "outputs": [
    {
     "name": "stdout",
     "output_type": "stream",
     "text": [
      "[458100 459400 459700 467100 458700]\n"
     ]
    }
   ],
   "source": [
    "weight=np.array([3,2]).reshape(2,1)\n",
    "print((weight*arr).sum(axis=0))"
   ]
  },
  {
   "cell_type": "markdown",
   "id": "417cab64",
   "metadata": {},
   "source": [
    "## 2.6 조건 연산"
   ]
  },
  {
   "cell_type": "code",
   "execution_count": 61,
   "id": "dbeca3eb",
   "metadata": {},
   "outputs": [
    {
     "name": "stdout",
     "output_type": "stream",
     "text": [
      "[False  True  True]\n"
     ]
    }
   ],
   "source": [
    "arr=np.array([10,20,30])\n",
    "print(arr>10)"
   ]
  },
  {
   "cell_type": "code",
   "execution_count": 62,
   "id": "be870754",
   "metadata": {},
   "outputs": [
    {
     "name": "stdout",
     "output_type": "stream",
     "text": [
      "[20 30]\n"
     ]
    }
   ],
   "source": [
    "arr=np.array([10,20,30])\n",
    "cond=[False, True, True]\n",
    "print(arr[cond])"
   ]
  },
  {
   "cell_type": "code",
   "execution_count": 63,
   "id": "b8587b2d",
   "metadata": {},
   "outputs": [
    {
     "name": "stdout",
     "output_type": "stream",
     "text": [
      "[20 30]\n"
     ]
    }
   ],
   "source": [
    "arr=np.array([10,20,30])\n",
    "print(arr[[False,True,True]])"
   ]
  },
  {
   "cell_type": "code",
   "execution_count": 64,
   "id": "ce5e44bc",
   "metadata": {},
   "outputs": [
    {
     "name": "stdout",
     "output_type": "stream",
     "text": [
      "[20 30]\n"
     ]
    }
   ],
   "source": [
    "arr=np.array([10,20,30])\n",
    "cond=arr>10\n",
    "print(arr[cond])"
   ]
  },
  {
   "cell_type": "code",
   "execution_count": 65,
   "id": "6579d641",
   "metadata": {},
   "outputs": [
    {
     "name": "stdout",
     "output_type": "stream",
     "text": [
      "[20 30]\n"
     ]
    }
   ],
   "source": [
    "print(arr[arr>10])"
   ]
  },
  {
   "cell_type": "code",
   "execution_count": 67,
   "id": "32126002",
   "metadata": {},
   "outputs": [
    {
     "data": {
      "text/plain": [
       "False"
      ]
     },
     "execution_count": 67,
     "metadata": {},
     "output_type": "execute_result"
    }
   ],
   "source": [
    "cond.all()  # 모든 값이 참일 경우"
   ]
  },
  {
   "cell_type": "code",
   "execution_count": 68,
   "id": "c698ea2a",
   "metadata": {},
   "outputs": [
    {
     "data": {
      "text/plain": [
       "True"
      ]
     },
     "execution_count": 68,
     "metadata": {},
     "output_type": "execute_result"
    }
   ],
   "source": [
    "cond.any()  # 하나다로 참일 경우"
   ]
  },
  {
   "cell_type": "code",
   "execution_count": 69,
   "id": "8d8a7d18",
   "metadata": {},
   "outputs": [
    {
     "name": "stdout",
     "output_type": "stream",
     "text": [
      "[20]\n"
     ]
    }
   ],
   "source": [
    "arr=np.array([10,20,30])\n",
    "cond0=arr>10\n",
    "cond1=arr<30\n",
    "print(arr[cond0*cond1])"
   ]
  },
  {
   "cell_type": "code",
   "execution_count": 71,
   "id": "3225487c",
   "metadata": {},
   "outputs": [
    {
     "name": "stdout",
     "output_type": "stream",
     "text": [
      "[20]\n"
     ]
    }
   ],
   "source": [
    "arr=np.array([10,20,30])\n",
    "print(arr[(arr>10)&(arr<30)])"
   ]
  },
  {
   "cell_type": "code",
   "execution_count": 73,
   "id": "8c546853",
   "metadata": {},
   "outputs": [
    {
     "name": "stdout",
     "output_type": "stream",
     "text": [
      "[0 1 1]\n"
     ]
    }
   ],
   "source": [
    "arr=np.array([10,20,30])\n",
    "cond=arr>10\n",
    "arr[cond]=1\n",
    "arr[~cond]=0  # not(~) 연산자\n",
    "print(arr)"
   ]
  },
  {
   "cell_type": "code",
   "execution_count": 74,
   "id": "eabe35f2",
   "metadata": {},
   "outputs": [
    {
     "name": "stdout",
     "output_type": "stream",
     "text": [
      "[0 1 1]\n"
     ]
    }
   ],
   "source": [
    "arr=np.array([10,20,30])\n",
    "arr=np.where(arr>10,1,0)\n",
    "print(arr)"
   ]
  },
  {
   "cell_type": "code",
   "execution_count": 75,
   "id": "99d45002",
   "metadata": {},
   "outputs": [],
   "source": [
    "cond=arr>10\n",
    "arr[cond]=arr[cond]+10\n",
    "arr[~cond]=arr[~cond]-10"
   ]
  },
  {
   "cell_type": "code",
   "execution_count": 76,
   "id": "f2faa3a0",
   "metadata": {},
   "outputs": [],
   "source": [
    "arr=np.where(arr>10,arr+10,arr-10)"
   ]
  },
  {
   "cell_type": "code",
   "execution_count": 77,
   "id": "06f41557",
   "metadata": {},
   "outputs": [],
   "source": [
    "lge=np.array([93000,82400,99100,81000,72300])"
   ]
  },
  {
   "cell_type": "code",
   "execution_count": 78,
   "id": "c6764fd4",
   "metadata": {},
   "outputs": [
    {
     "name": "stdout",
     "output_type": "stream",
     "text": [
      "3\n"
     ]
    }
   ],
   "source": [
    "result=lge[lge<=85000]\n",
    "print(len(result))"
   ]
  },
  {
   "cell_type": "markdown",
   "id": "10d7518b",
   "metadata": {},
   "source": [
    "## 2.7 함수와 메서드"
   ]
  },
  {
   "cell_type": "code",
   "execution_count": 79,
   "id": "ce702242",
   "metadata": {},
   "outputs": [
    {
     "name": "stdout",
     "output_type": "stream",
     "text": [
      "28\n"
     ]
    }
   ],
   "source": [
    "arr=np.arange(8).reshape(4,2)\n",
    "print(arr.sum())"
   ]
  },
  {
   "cell_type": "code",
   "execution_count": 80,
   "id": "9f5ca877",
   "metadata": {},
   "outputs": [
    {
     "name": "stdout",
     "output_type": "stream",
     "text": [
      "[12 16]\n"
     ]
    }
   ],
   "source": [
    "print(arr.sum(axis=0))"
   ]
  },
  {
   "cell_type": "code",
   "execution_count": 81,
   "id": "9a5cb7ff",
   "metadata": {},
   "outputs": [
    {
     "name": "stdout",
     "output_type": "stream",
     "text": [
      "[ 1  5  9 13]\n"
     ]
    }
   ],
   "source": [
    "print(arr.sum(axis=1))"
   ]
  },
  {
   "cell_type": "code",
   "execution_count": 82,
   "id": "c48f9ef4",
   "metadata": {},
   "outputs": [
    {
     "data": {
      "text/plain": [
       "1"
      ]
     },
     "execution_count": 82,
     "metadata": {},
     "output_type": "execute_result"
    }
   ],
   "source": [
    "np.random.randint(3)"
   ]
  },
  {
   "cell_type": "code",
   "execution_count": 83,
   "id": "9bbc35c9",
   "metadata": {},
   "outputs": [
    {
     "data": {
      "text/plain": [
       "array([[17, 10, 25, 11,  4],\n",
       "       [40, 13, 11, 11, 12]])"
      ]
     },
     "execution_count": 83,
     "metadata": {},
     "output_type": "execute_result"
    }
   ],
   "source": [
    "np.random.randint(46, size=5)\n",
    "np.random.randint(46, size=(2,5))"
   ]
  },
  {
   "cell_type": "code",
   "execution_count": 84,
   "id": "6f07d89b",
   "metadata": {},
   "outputs": [
    {
     "name": "stdout",
     "output_type": "stream",
     "text": [
      "[ 0.  5. 10.]\n"
     ]
    }
   ],
   "source": [
    "x=np.linspace(0,10,3)\n",
    "print(x)"
   ]
  },
  {
   "cell_type": "code",
   "execution_count": 85,
   "id": "d6421ee6",
   "metadata": {},
   "outputs": [],
   "source": [
    "y=x**2"
   ]
  },
  {
   "cell_type": "code",
   "execution_count": 86,
   "id": "20c1ff8b",
   "metadata": {},
   "outputs": [
    {
     "name": "stdout",
     "output_type": "stream",
     "text": [
      "[[0 1 2 3]\n",
      " [4 5 6 7]]\n"
     ]
    }
   ],
   "source": [
    "a=np.arange(4)\n",
    "b=np.arange(4,8)\n",
    "c=np.vstack([a,b])\n",
    "print(c)"
   ]
  },
  {
   "cell_type": "markdown",
   "id": "24b3a359",
   "metadata": {},
   "source": [
    "# 03 판다스 시리즈"
   ]
  },
  {
   "cell_type": "markdown",
   "id": "0e2f256e",
   "metadata": {},
   "source": [
    "## 3.1 시리즈 소개"
   ]
  },
  {
   "cell_type": "code",
   "execution_count": 49,
   "id": "27e445ea",
   "metadata": {},
   "outputs": [
    {
     "name": "stdout",
     "output_type": "stream",
     "text": [
      "Defaulting to user installation because normal site-packages is not writeable\n",
      "Requirement already satisfied: pandas in c:\\programdata\\anaconda3\\lib\\site-packages (2.0.3)\n",
      "Requirement already satisfied: python-dateutil>=2.8.2 in c:\\programdata\\anaconda3\\lib\\site-packages (from pandas) (2.8.2)\n",
      "Requirement already satisfied: pytz>=2020.1 in c:\\programdata\\anaconda3\\lib\\site-packages (from pandas) (2023.3.post1)\n",
      "Requirement already satisfied: tzdata>=2022.1 in c:\\programdata\\anaconda3\\lib\\site-packages (from pandas) (2023.3)\n",
      "Requirement already satisfied: numpy>=1.21.0 in c:\\programdata\\anaconda3\\lib\\site-packages (from pandas) (1.24.3)\n",
      "Requirement already satisfied: six>=1.5 in c:\\programdata\\anaconda3\\lib\\site-packages (from python-dateutil>=2.8.2->pandas) (1.16.0)\n"
     ]
    }
   ],
   "source": [
    "!pip install pandas"
   ]
  },
  {
   "cell_type": "markdown",
   "id": "ec1dcf8d",
   "metadata": {},
   "source": [
    "## 3.2 시리즈 생성"
   ]
  },
  {
   "cell_type": "code",
   "execution_count": 87,
   "id": "9163b7b1",
   "metadata": {},
   "outputs": [
    {
     "name": "stdout",
     "output_type": "stream",
     "text": [
      "0    10\n",
      "1    20\n",
      "2    30\n",
      "dtype: int64\n"
     ]
    }
   ],
   "source": [
    "from pandas import Series\n",
    "\n",
    "data=[10,20,30]\n",
    "s=Series(data)  # 시리즈 객체 생성시 리스트 객체를 초기화 인자로 넘겨줌\n",
    "print(s)"
   ]
  },
  {
   "cell_type": "code",
   "execution_count": 88,
   "id": "386820c6",
   "metadata": {},
   "outputs": [
    {
     "name": "stdout",
     "output_type": "stream",
     "text": [
      "0    0\n",
      "1    1\n",
      "2    2\n",
      "3    3\n",
      "4    4\n",
      "dtype: int32\n"
     ]
    }
   ],
   "source": [
    "from pandas import Series\n",
    "import numpy as np\n",
    "\n",
    "data=np.arange(5)\n",
    "s=Series(data)  # 시리즈 객체 생성시 ndarry 객체를 초기화 인자로 넘겨줌\n",
    "print(s)"
   ]
  },
  {
   "cell_type": "code",
   "execution_count": 89,
   "id": "66adf52d",
   "metadata": {},
   "outputs": [
    {
     "name": "stdout",
     "output_type": "stream",
     "text": [
      "0    시가\n",
      "1    고가\n",
      "dtype: object\n"
     ]
    }
   ],
   "source": [
    "data=[\"시가\",\"고가\"]\n",
    "s=Series(data)\n",
    "print(s)"
   ]
  },
  {
   "cell_type": "code",
   "execution_count": 90,
   "id": "253a94ad",
   "metadata": {},
   "outputs": [
    {
     "name": "stdout",
     "output_type": "stream",
     "text": [
      "0    samsung\n",
      "1      81000\n",
      "dtype: object\n"
     ]
    }
   ],
   "source": [
    "s=Series(['samsung',81000])\n",
    "print(s)"
   ]
  },
  {
   "cell_type": "markdown",
   "id": "0d90ddd2",
   "metadata": {},
   "source": [
    "## 3.3 시리즈 인덱스"
   ]
  },
  {
   "cell_type": "code",
   "execution_count": 91,
   "id": "9ab077a7",
   "metadata": {},
   "outputs": [
    {
     "name": "stdout",
     "output_type": "stream",
     "text": [
      "RangeIndex(start=0, stop=3, step=1)\n",
      "[0, 1, 2]\n"
     ]
    }
   ],
   "source": [
    "from pandas import Series\n",
    "\n",
    "data=[1000,2000,3000]\n",
    "s=Series(data)  # 인덱스 미설정시 0부터 시작하는 RangeIndex타입으로 생성\n",
    "print(s.index)\n",
    "print(s.index.to_list())"
   ]
  },
  {
   "cell_type": "code",
   "execution_count": 93,
   "id": "c31100cc",
   "metadata": {},
   "outputs": [
    {
     "name": "stdout",
     "output_type": "stream",
     "text": [
      "메로나     1000\n",
      "구구콘     2000\n",
      "하겐다즈    3000\n",
      "dtype: int64\n"
     ]
    }
   ],
   "source": [
    "data=[1000,2000,3000]\n",
    "s=Series(data)\n",
    "s.index=['메로나','구구콘','하겐다즈']\n",
    "print(s)"
   ]
  },
  {
   "cell_type": "code",
   "execution_count": 94,
   "id": "ce0115a6",
   "metadata": {},
   "outputs": [
    {
     "name": "stdout",
     "output_type": "stream",
     "text": [
      "메로나     1000\n",
      "구구콘     2000\n",
      "하겐다즈    3000\n",
      "dtype: int64\n"
     ]
    }
   ],
   "source": [
    "data=[1000,2000,3000]\n",
    "index=['메로나','구구콘','하겐다즈']\n",
    "\n",
    "s=Series(data,index)  # 데이터와 인덱스\n",
    "print(s)"
   ]
  },
  {
   "cell_type": "code",
   "execution_count": 50,
   "id": "034edc40",
   "metadata": {},
   "outputs": [
    {
     "name": "stdout",
     "output_type": "stream",
     "text": [
      "메로나     1000\n",
      "구구콘     2000\n",
      "하겐다즈    3000\n",
      "dtype: int64\n"
     ]
    }
   ],
   "source": [
    "data=[1000,2000,3000]\n",
    "index=['메로나','구구콘','하겐다즈']\n",
    "\n",
    "s=Series(data=data,index=index)  # 명시적 파라미터\n",
    "print(s)"
   ]
  },
  {
   "cell_type": "code",
   "execution_count": 96,
   "id": "b9981788",
   "metadata": {},
   "outputs": [],
   "source": [
    "v=[1000,2000,3000]\n",
    "k=['메로나','구구콘','하겐다즈']\n",
    "\n",
    "s=Series(data=v,index=k)"
   ]
  },
  {
   "cell_type": "code",
   "execution_count": 97,
   "id": "b141aed2",
   "metadata": {},
   "outputs": [],
   "source": [
    "s=Series(data, index)\n",
    "s=Series(data, index=index)\n",
    "s=Series(data=data, index=index)\n",
    "s=Series(index=index, data=data)"
   ]
  },
  {
   "cell_type": "code",
   "execution_count": 51,
   "id": "32f3c58f",
   "metadata": {},
   "outputs": [
    {
     "name": "stdout",
     "output_type": "stream",
     "text": [
      "메로나    1000.0\n",
      "비비빅       NaN\n",
      "구구콘    2000.0\n",
      "dtype: float64\n"
     ]
    }
   ],
   "source": [
    "data=[1000,2000,3000]\n",
    "index=['메로나','구구콘','하겐다즈']\n",
    "\n",
    "s=Series(data=data,index=index)\n",
    "s2=s.reindex([\"메로나\",\"비비빅\",\"구구콘\"])  # reindex메서드 사용시 기존에 있던 인덱스는 기존 값을 사용하고, 새로운 인덱스는 NaN\n",
    "print(s2)"
   ]
  },
  {
   "cell_type": "code",
   "execution_count": 52,
   "id": "2b4e4b44",
   "metadata": {},
   "outputs": [
    {
     "name": "stdout",
     "output_type": "stream",
     "text": [
      "메로나    1000.0\n",
      "비비빅       0.0\n",
      "구구콘    2000.0\n",
      "dtype: float64\n"
     ]
    }
   ],
   "source": [
    "print(s2.fillna(0))  # fillna 는 NaN을 0으로 변경"
   ]
  },
  {
   "cell_type": "code",
   "execution_count": 103,
   "id": "d60c6e6f",
   "metadata": {},
   "outputs": [],
   "source": [
    "s2=s.reindex([\"메로나\",\"비비빅\",\"구구콘\"], fill_value=0)  # reindex메서드 사용시 fill_value파라미터로 한번에 처리"
   ]
  },
  {
   "cell_type": "code",
   "execution_count": 104,
   "id": "4acad359",
   "metadata": {},
   "outputs": [
    {
     "name": "stdout",
     "output_type": "stream",
     "text": [
      "2019-05-31    42500\n",
      "2019-05-30    42550\n",
      "2019-05-29    41800\n",
      "2019-05-28    42550\n",
      "2019-05-27    42650\n",
      "dtype: int64\n"
     ]
    }
   ],
   "source": [
    "price=[42500,42550,41800,42550,42650]\n",
    "date=[\"2019-05-31\",\"2019-05-30\",\"2019-05-29\",\"2019-05-28\",\"2019-05-27\"]\n",
    "s=Series(price, date)\n",
    "print(s)"
   ]
  },
  {
   "cell_type": "code",
   "execution_count": 105,
   "id": "ae5cc01e",
   "metadata": {},
   "outputs": [],
   "source": [
    "# 딕셔너리를 사용해 시리즈를 한 번에 생성 - 딕셔너리의 key가 시리즈의 인덱스로, value가 데이터로 구성\n",
    "data={\n",
    "    \"2019-05-31\":42500,\n",
    "    \"2019-05-30\":42550,\n",
    "    \"2019-05-29\":41800,\n",
    "    \"2019-05-28\":42550,\n",
    "    \"2019-05-27\":42650,\n",
    "}\n",
    "s=Series(data)"
   ]
  },
  {
   "cell_type": "code",
   "execution_count": 106,
   "id": "ca3bffb6",
   "metadata": {},
   "outputs": [
    {
     "name": "stdout",
     "output_type": "stream",
     "text": [
      "Index(['2019-05-31', '2019-05-30', '2019-05-29', '2019-05-28', '2019-05-27'], dtype='object')\n",
      "object\n"
     ]
    }
   ],
   "source": [
    "print(s.index)\n",
    "print(s.index.dtype)"
   ]
  },
  {
   "cell_type": "code",
   "execution_count": 107,
   "id": "2efc9be5",
   "metadata": {},
   "outputs": [
    {
     "name": "stdout",
     "output_type": "stream",
     "text": [
      "[42500 42550 41800 42550 42650]\n"
     ]
    }
   ],
   "source": [
    "print(s.values)"
   ]
  },
  {
   "cell_type": "markdown",
   "id": "7146b41e",
   "metadata": {},
   "source": [
    "## 3.4 시리즈 인덱싱"
   ]
  },
  {
   "cell_type": "code",
   "execution_count": 54,
   "id": "edc67a8b",
   "metadata": {},
   "outputs": [
    {
     "name": "stdout",
     "output_type": "stream",
     "text": [
      "1000\n",
      "2000\n",
      "3000\n",
      "3000\n"
     ]
    }
   ],
   "source": [
    "from pandas import Series\n",
    "\n",
    "data=[1000,2000,3000]\n",
    "s=Series(data=data)  # index 미지정\n",
    "\n",
    "print(s.iloc[0])\n",
    "print(s.iloc[1])\n",
    "print(s.iloc[2])\n",
    "print(s.iloc[-1])"
   ]
  },
  {
   "cell_type": "code",
   "execution_count": 55,
   "id": "56885e77",
   "metadata": {},
   "outputs": [
    {
     "name": "stdout",
     "output_type": "stream",
     "text": [
      "2000\n",
      "3000\n"
     ]
    },
    {
     "ename": "KeyError",
     "evalue": "-1",
     "output_type": "error",
     "traceback": [
      "\u001b[1;31m---------------------------------------------------------------------------\u001b[0m",
      "\u001b[1;31mValueError\u001b[0m                                Traceback (most recent call last)",
      "File \u001b[1;32mC:\\ProgramData\\anaconda3\\Lib\\site-packages\\pandas\\core\\indexes\\range.py:345\u001b[0m, in \u001b[0;36mRangeIndex.get_loc\u001b[1;34m(self, key)\u001b[0m\n\u001b[0;32m    344\u001b[0m \u001b[38;5;28;01mtry\u001b[39;00m:\n\u001b[1;32m--> 345\u001b[0m     \u001b[38;5;28;01mreturn\u001b[39;00m \u001b[38;5;28mself\u001b[39m\u001b[38;5;241m.\u001b[39m_range\u001b[38;5;241m.\u001b[39mindex(new_key)\n\u001b[0;32m    346\u001b[0m \u001b[38;5;28;01mexcept\u001b[39;00m \u001b[38;5;167;01mValueError\u001b[39;00m \u001b[38;5;28;01mas\u001b[39;00m err:\n",
      "\u001b[1;31mValueError\u001b[0m: -1 is not in range",
      "\nThe above exception was the direct cause of the following exception:\n",
      "\u001b[1;31mKeyError\u001b[0m                                  Traceback (most recent call last)",
      "Cell \u001b[1;32mIn[55], line 4\u001b[0m\n\u001b[0;32m      2\u001b[0m \u001b[38;5;28mprint\u001b[39m(s\u001b[38;5;241m.\u001b[39mloc[\u001b[38;5;241m1\u001b[39m])\n\u001b[0;32m      3\u001b[0m \u001b[38;5;28mprint\u001b[39m(s\u001b[38;5;241m.\u001b[39mloc[\u001b[38;5;241m2\u001b[39m])\n\u001b[1;32m----> 4\u001b[0m \u001b[38;5;28mprint\u001b[39m(s\u001b[38;5;241m.\u001b[39mloc[\u001b[38;5;241m-\u001b[39m\u001b[38;5;241m1\u001b[39m])\n",
      "File \u001b[1;32mC:\\ProgramData\\anaconda3\\Lib\\site-packages\\pandas\\core\\indexing.py:1103\u001b[0m, in \u001b[0;36m_LocationIndexer.__getitem__\u001b[1;34m(self, key)\u001b[0m\n\u001b[0;32m   1100\u001b[0m axis \u001b[38;5;241m=\u001b[39m \u001b[38;5;28mself\u001b[39m\u001b[38;5;241m.\u001b[39maxis \u001b[38;5;129;01mor\u001b[39;00m \u001b[38;5;241m0\u001b[39m\n\u001b[0;32m   1102\u001b[0m maybe_callable \u001b[38;5;241m=\u001b[39m com\u001b[38;5;241m.\u001b[39mapply_if_callable(key, \u001b[38;5;28mself\u001b[39m\u001b[38;5;241m.\u001b[39mobj)\n\u001b[1;32m-> 1103\u001b[0m \u001b[38;5;28;01mreturn\u001b[39;00m \u001b[38;5;28mself\u001b[39m\u001b[38;5;241m.\u001b[39m_getitem_axis(maybe_callable, axis\u001b[38;5;241m=\u001b[39maxis)\n",
      "File \u001b[1;32mC:\\ProgramData\\anaconda3\\Lib\\site-packages\\pandas\\core\\indexing.py:1343\u001b[0m, in \u001b[0;36m_LocIndexer._getitem_axis\u001b[1;34m(self, key, axis)\u001b[0m\n\u001b[0;32m   1341\u001b[0m \u001b[38;5;66;03m# fall thru to straight lookup\u001b[39;00m\n\u001b[0;32m   1342\u001b[0m \u001b[38;5;28mself\u001b[39m\u001b[38;5;241m.\u001b[39m_validate_key(key, axis)\n\u001b[1;32m-> 1343\u001b[0m \u001b[38;5;28;01mreturn\u001b[39;00m \u001b[38;5;28mself\u001b[39m\u001b[38;5;241m.\u001b[39m_get_label(key, axis\u001b[38;5;241m=\u001b[39maxis)\n",
      "File \u001b[1;32mC:\\ProgramData\\anaconda3\\Lib\\site-packages\\pandas\\core\\indexing.py:1293\u001b[0m, in \u001b[0;36m_LocIndexer._get_label\u001b[1;34m(self, label, axis)\u001b[0m\n\u001b[0;32m   1291\u001b[0m \u001b[38;5;28;01mdef\u001b[39;00m \u001b[38;5;21m_get_label\u001b[39m(\u001b[38;5;28mself\u001b[39m, label, axis: AxisInt):\n\u001b[0;32m   1292\u001b[0m     \u001b[38;5;66;03m# GH#5567 this will fail if the label is not present in the axis.\u001b[39;00m\n\u001b[1;32m-> 1293\u001b[0m     \u001b[38;5;28;01mreturn\u001b[39;00m \u001b[38;5;28mself\u001b[39m\u001b[38;5;241m.\u001b[39mobj\u001b[38;5;241m.\u001b[39mxs(label, axis\u001b[38;5;241m=\u001b[39maxis)\n",
      "File \u001b[1;32mC:\\ProgramData\\anaconda3\\Lib\\site-packages\\pandas\\core\\generic.py:4095\u001b[0m, in \u001b[0;36mNDFrame.xs\u001b[1;34m(self, key, axis, level, drop_level)\u001b[0m\n\u001b[0;32m   4093\u001b[0m             new_index \u001b[38;5;241m=\u001b[39m index[loc]\n\u001b[0;32m   4094\u001b[0m \u001b[38;5;28;01melse\u001b[39;00m:\n\u001b[1;32m-> 4095\u001b[0m     loc \u001b[38;5;241m=\u001b[39m index\u001b[38;5;241m.\u001b[39mget_loc(key)\n\u001b[0;32m   4097\u001b[0m     \u001b[38;5;28;01mif\u001b[39;00m \u001b[38;5;28misinstance\u001b[39m(loc, np\u001b[38;5;241m.\u001b[39mndarray):\n\u001b[0;32m   4098\u001b[0m         \u001b[38;5;28;01mif\u001b[39;00m loc\u001b[38;5;241m.\u001b[39mdtype \u001b[38;5;241m==\u001b[39m np\u001b[38;5;241m.\u001b[39mbool_:\n",
      "File \u001b[1;32mC:\\ProgramData\\anaconda3\\Lib\\site-packages\\pandas\\core\\indexes\\range.py:347\u001b[0m, in \u001b[0;36mRangeIndex.get_loc\u001b[1;34m(self, key)\u001b[0m\n\u001b[0;32m    345\u001b[0m         \u001b[38;5;28;01mreturn\u001b[39;00m \u001b[38;5;28mself\u001b[39m\u001b[38;5;241m.\u001b[39m_range\u001b[38;5;241m.\u001b[39mindex(new_key)\n\u001b[0;32m    346\u001b[0m     \u001b[38;5;28;01mexcept\u001b[39;00m \u001b[38;5;167;01mValueError\u001b[39;00m \u001b[38;5;28;01mas\u001b[39;00m err:\n\u001b[1;32m--> 347\u001b[0m         \u001b[38;5;28;01mraise\u001b[39;00m \u001b[38;5;167;01mKeyError\u001b[39;00m(key) \u001b[38;5;28;01mfrom\u001b[39;00m \u001b[38;5;21;01merr\u001b[39;00m\n\u001b[0;32m    348\u001b[0m \u001b[38;5;28;01mif\u001b[39;00m \u001b[38;5;28misinstance\u001b[39m(key, Hashable):\n\u001b[0;32m    349\u001b[0m     \u001b[38;5;28;01mraise\u001b[39;00m \u001b[38;5;167;01mKeyError\u001b[39;00m(key)\n",
      "\u001b[1;31mKeyError\u001b[0m: -1"
     ]
    }
   ],
   "source": [
    "# loc는 인덱스 값을 통해 인덱싱\n",
    "print(s.loc[1])\n",
    "print(s.loc[2])\n",
    "print(s.loc[-1])  # 에러"
   ]
  },
  {
   "cell_type": "code",
   "execution_count": null,
   "id": "42867791",
   "metadata": {},
   "outputs": [],
   "source": [
    "data=[1000,2000,3000]\n",
    "index=[\"메로나\",\"구구콘\",\"하겐다즈\"]\n",
    "s=Series(data=data, index=index)\n",
    "\n",
    "print(s.iloc[0])\n",
    "print(s.loc['메로나'])"
   ]
  },
  {
   "cell_type": "code",
   "execution_count": 56,
   "id": "6f51d85f",
   "metadata": {},
   "outputs": [
    {
     "name": "stdout",
     "output_type": "stream",
     "text": [
      "10\n"
     ]
    },
    {
     "ename": "KeyError",
     "evalue": "0",
     "output_type": "error",
     "traceback": [
      "\u001b[1;31m---------------------------------------------------------------------------\u001b[0m",
      "\u001b[1;31mKeyError\u001b[0m                                  Traceback (most recent call last)",
      "File \u001b[1;32mC:\\ProgramData\\anaconda3\\Lib\\site-packages\\pandas\\core\\indexes\\base.py:3653\u001b[0m, in \u001b[0;36mIndex.get_loc\u001b[1;34m(self, key)\u001b[0m\n\u001b[0;32m   3652\u001b[0m \u001b[38;5;28;01mtry\u001b[39;00m:\n\u001b[1;32m-> 3653\u001b[0m     \u001b[38;5;28;01mreturn\u001b[39;00m \u001b[38;5;28mself\u001b[39m\u001b[38;5;241m.\u001b[39m_engine\u001b[38;5;241m.\u001b[39mget_loc(casted_key)\n\u001b[0;32m   3654\u001b[0m \u001b[38;5;28;01mexcept\u001b[39;00m \u001b[38;5;167;01mKeyError\u001b[39;00m \u001b[38;5;28;01mas\u001b[39;00m err:\n",
      "File \u001b[1;32mC:\\ProgramData\\anaconda3\\Lib\\site-packages\\pandas\\_libs\\index.pyx:147\u001b[0m, in \u001b[0;36mpandas._libs.index.IndexEngine.get_loc\u001b[1;34m()\u001b[0m\n",
      "File \u001b[1;32mC:\\ProgramData\\anaconda3\\Lib\\site-packages\\pandas\\_libs\\index.pyx:176\u001b[0m, in \u001b[0;36mpandas._libs.index.IndexEngine.get_loc\u001b[1;34m()\u001b[0m\n",
      "File \u001b[1;32mpandas\\_libs\\hashtable_class_helper.pxi:2606\u001b[0m, in \u001b[0;36mpandas._libs.hashtable.Int64HashTable.get_item\u001b[1;34m()\u001b[0m\n",
      "File \u001b[1;32mpandas\\_libs\\hashtable_class_helper.pxi:2630\u001b[0m, in \u001b[0;36mpandas._libs.hashtable.Int64HashTable.get_item\u001b[1;34m()\u001b[0m\n",
      "\u001b[1;31mKeyError\u001b[0m: 0",
      "\nThe above exception was the direct cause of the following exception:\n",
      "\u001b[1;31mKeyError\u001b[0m                                  Traceback (most recent call last)",
      "Cell \u001b[1;32mIn[56], line 4\u001b[0m\n\u001b[0;32m      2\u001b[0m s2\u001b[38;5;241m=\u001b[39mSeries([\u001b[38;5;241m10\u001b[39m,\u001b[38;5;241m20\u001b[39m,\u001b[38;5;241m30\u001b[39m], index\u001b[38;5;241m=\u001b[39m[\u001b[38;5;241m1\u001b[39m,\u001b[38;5;241m2\u001b[39m,\u001b[38;5;241m3\u001b[39m])\n\u001b[0;32m      3\u001b[0m \u001b[38;5;28mprint\u001b[39m(s1[\u001b[38;5;241m0\u001b[39m])\n\u001b[1;32m----> 4\u001b[0m \u001b[38;5;28mprint\u001b[39m(s2[\u001b[38;5;241m0\u001b[39m])\n",
      "File \u001b[1;32mC:\\ProgramData\\anaconda3\\Lib\\site-packages\\pandas\\core\\series.py:1007\u001b[0m, in \u001b[0;36mSeries.__getitem__\u001b[1;34m(self, key)\u001b[0m\n\u001b[0;32m   1004\u001b[0m     \u001b[38;5;28;01mreturn\u001b[39;00m \u001b[38;5;28mself\u001b[39m\u001b[38;5;241m.\u001b[39m_values[key]\n\u001b[0;32m   1006\u001b[0m \u001b[38;5;28;01melif\u001b[39;00m key_is_scalar:\n\u001b[1;32m-> 1007\u001b[0m     \u001b[38;5;28;01mreturn\u001b[39;00m \u001b[38;5;28mself\u001b[39m\u001b[38;5;241m.\u001b[39m_get_value(key)\n\u001b[0;32m   1009\u001b[0m \u001b[38;5;28;01mif\u001b[39;00m is_hashable(key):\n\u001b[0;32m   1010\u001b[0m     \u001b[38;5;66;03m# Otherwise index.get_value will raise InvalidIndexError\u001b[39;00m\n\u001b[0;32m   1011\u001b[0m     \u001b[38;5;28;01mtry\u001b[39;00m:\n\u001b[0;32m   1012\u001b[0m         \u001b[38;5;66;03m# For labels that don't resolve as scalars like tuples and frozensets\u001b[39;00m\n",
      "File \u001b[1;32mC:\\ProgramData\\anaconda3\\Lib\\site-packages\\pandas\\core\\series.py:1116\u001b[0m, in \u001b[0;36mSeries._get_value\u001b[1;34m(self, label, takeable)\u001b[0m\n\u001b[0;32m   1113\u001b[0m     \u001b[38;5;28;01mreturn\u001b[39;00m \u001b[38;5;28mself\u001b[39m\u001b[38;5;241m.\u001b[39m_values[label]\n\u001b[0;32m   1115\u001b[0m \u001b[38;5;66;03m# Similar to Index.get_value, but we do not fall back to positional\u001b[39;00m\n\u001b[1;32m-> 1116\u001b[0m loc \u001b[38;5;241m=\u001b[39m \u001b[38;5;28mself\u001b[39m\u001b[38;5;241m.\u001b[39mindex\u001b[38;5;241m.\u001b[39mget_loc(label)\n\u001b[0;32m   1118\u001b[0m \u001b[38;5;28;01mif\u001b[39;00m is_integer(loc):\n\u001b[0;32m   1119\u001b[0m     \u001b[38;5;28;01mreturn\u001b[39;00m \u001b[38;5;28mself\u001b[39m\u001b[38;5;241m.\u001b[39m_values[loc]\n",
      "File \u001b[1;32mC:\\ProgramData\\anaconda3\\Lib\\site-packages\\pandas\\core\\indexes\\base.py:3655\u001b[0m, in \u001b[0;36mIndex.get_loc\u001b[1;34m(self, key)\u001b[0m\n\u001b[0;32m   3653\u001b[0m     \u001b[38;5;28;01mreturn\u001b[39;00m \u001b[38;5;28mself\u001b[39m\u001b[38;5;241m.\u001b[39m_engine\u001b[38;5;241m.\u001b[39mget_loc(casted_key)\n\u001b[0;32m   3654\u001b[0m \u001b[38;5;28;01mexcept\u001b[39;00m \u001b[38;5;167;01mKeyError\u001b[39;00m \u001b[38;5;28;01mas\u001b[39;00m err:\n\u001b[1;32m-> 3655\u001b[0m     \u001b[38;5;28;01mraise\u001b[39;00m \u001b[38;5;167;01mKeyError\u001b[39;00m(key) \u001b[38;5;28;01mfrom\u001b[39;00m \u001b[38;5;21;01merr\u001b[39;00m\n\u001b[0;32m   3656\u001b[0m \u001b[38;5;28;01mexcept\u001b[39;00m \u001b[38;5;167;01mTypeError\u001b[39;00m:\n\u001b[0;32m   3657\u001b[0m     \u001b[38;5;66;03m# If we have a listlike key, _check_indexing_error will raise\u001b[39;00m\n\u001b[0;32m   3658\u001b[0m     \u001b[38;5;66;03m#  InvalidIndexError. Otherwise we fall through and re-raise\u001b[39;00m\n\u001b[0;32m   3659\u001b[0m     \u001b[38;5;66;03m#  the TypeError.\u001b[39;00m\n\u001b[0;32m   3660\u001b[0m     \u001b[38;5;28mself\u001b[39m\u001b[38;5;241m.\u001b[39m_check_indexing_error(key)\n",
      "\u001b[1;31mKeyError\u001b[0m: 0"
     ]
    }
   ],
   "source": [
    "s1=Series([10,20,30])\n",
    "s2=Series([10,20,30], index=[1,2,3])\n",
    "print(s1[0])\n",
    "print(s2[0])  # 에러"
   ]
  },
  {
   "cell_type": "code",
   "execution_count": 57,
   "id": "781885ba",
   "metadata": {},
   "outputs": [
    {
     "name": "stdout",
     "output_type": "stream",
     "text": [
      "10\n"
     ]
    }
   ],
   "source": [
    "s3=Series([10,20,30], index=['a','b','c'])\n",
    "print(s3[0])"
   ]
  },
  {
   "cell_type": "code",
   "execution_count": 58,
   "id": "2d6ba53c",
   "metadata": {},
   "outputs": [
    {
     "name": "stdout",
     "output_type": "stream",
     "text": [
      "a\n",
      "c\n"
     ]
    }
   ],
   "source": [
    "print(s3.index[0])\n",
    "print(s3.index[-1])"
   ]
  },
  {
   "cell_type": "markdown",
   "id": "1810904a",
   "metadata": {},
   "source": [
    "## 3.5 시리즈 슬라이싱"
   ]
  },
  {
   "cell_type": "code",
   "execution_count": 121,
   "id": "a3114651",
   "metadata": {},
   "outputs": [
    {
     "name": "stdout",
     "output_type": "stream",
     "text": [
      "메로나    1000\n",
      "구구콘    2000\n",
      "dtype: int64\n"
     ]
    }
   ],
   "source": [
    "from pandas import Series\n",
    "\n",
    "data=[1000,2000,3000]\n",
    "index=[\"메로나\",\"구구콘\",\"하겐다즈\"]\n",
    "s=Series(data=data, index=index)\n",
    "print(s.iloc[0:2])"
   ]
  },
  {
   "cell_type": "code",
   "execution_count": 122,
   "id": "bd28fcf7",
   "metadata": {},
   "outputs": [
    {
     "name": "stdout",
     "output_type": "stream",
     "text": [
      "메로나    1000\n",
      "구구콘    2000\n",
      "dtype: int64\n"
     ]
    }
   ],
   "source": [
    "data=[1000,2000,3000]\n",
    "index=[\"메로나\",\"구구콘\",\"하겐다즈\"]\n",
    "s=Series(data=data,index=index)\n",
    "\n",
    "print(s.loc['메로나':'구구콘'])"
   ]
  },
  {
   "cell_type": "code",
   "execution_count": 124,
   "id": "b873fee3",
   "metadata": {},
   "outputs": [
    {
     "name": "stdout",
     "output_type": "stream",
     "text": [
      "메로나     1000\n",
      "하겐다즈    3000\n",
      "dtype: int64\n",
      "메로나     1000\n",
      "하겐다즈    3000\n",
      "dtype: int64\n"
     ]
    }
   ],
   "source": [
    "data=[1000,2000,3000]\n",
    "index=[\"메로나\",\"구구콘\",\"하겐다즈\"]\n",
    "s=Series(data=data,index=index)\n",
    "\n",
    "indice=[0,2]\n",
    "print(s.iloc[indice])\n",
    "print(s.iloc[[0,2]])"
   ]
  },
  {
   "cell_type": "code",
   "execution_count": 126,
   "id": "36ee7ba3",
   "metadata": {},
   "outputs": [
    {
     "name": "stdout",
     "output_type": "stream",
     "text": [
      "메로나     1000\n",
      "하겐다즈    3000\n",
      "dtype: int64\n",
      "메로나     1000\n",
      "하겐다즈    3000\n",
      "dtype: int64\n"
     ]
    }
   ],
   "source": [
    "data=[1000,2000,3000]\n",
    "index=[\"메로나\",\"구구콘\",\"하겐다즈\"]\n",
    "s=Series(data=data,index=index)\n",
    "\n",
    "indice=['메로나','하겐다즈']  # 문자열 인덱스는 loc로 슬라이싱\n",
    "print(s.loc[indice])\n",
    "print(s.loc[['메로나','하겐다즈']])"
   ]
  },
  {
   "cell_type": "markdown",
   "id": "a0a4a3bb",
   "metadata": {},
   "source": [
    "## 3.6 시리즈 수정/추가/삭제"
   ]
  },
  {
   "cell_type": "code",
   "execution_count": 127,
   "id": "2f60cf43",
   "metadata": {},
   "outputs": [
    {
     "name": "stdout",
     "output_type": "stream",
     "text": [
      "메로나      500\n",
      "구구콘     2000\n",
      "하겐다즈    3000\n",
      "dtype: int64\n"
     ]
    }
   ],
   "source": [
    "from pandas import Series\n",
    "\n",
    "data=[1000,2000,3000]\n",
    "index=[\"메로나\",\"구구콘\",\"하겐다즈\"]\n",
    "s=Series(data=data,index=index)\n",
    "\n",
    "s.loc['메로나']=500\n",
    "print(s)"
   ]
  },
  {
   "cell_type": "code",
   "execution_count": 128,
   "id": "c84f6059",
   "metadata": {},
   "outputs": [],
   "source": [
    "s.iloc[0]=500\n",
    "s['메로나']=500"
   ]
  },
  {
   "cell_type": "code",
   "execution_count": 129,
   "id": "1a3f69fc",
   "metadata": {},
   "outputs": [
    {
     "name": "stdout",
     "output_type": "stream",
     "text": [
      "메로나      500\n",
      "구구콘     2000\n",
      "하겐다즈    3000\n",
      "비비빅      500\n",
      "dtype: int64\n"
     ]
    }
   ],
   "source": [
    "s.loc['비비빅']=500\n",
    "print(s)"
   ]
  },
  {
   "cell_type": "code",
   "execution_count": 130,
   "id": "fb8fad5d",
   "metadata": {},
   "outputs": [
    {
     "name": "stdout",
     "output_type": "stream",
     "text": [
      "구구콘     2000\n",
      "하겐다즈    3000\n",
      "비비빅      500\n",
      "dtype: int64\n"
     ]
    },
    {
     "ename": "KeyError",
     "evalue": "'[0] not found in axis'",
     "output_type": "error",
     "traceback": [
      "\u001b[1;31m---------------------------------------------------------------------------\u001b[0m",
      "\u001b[1;31mKeyError\u001b[0m                                  Traceback (most recent call last)",
      "Cell \u001b[1;32mIn[130], line 2\u001b[0m\n\u001b[0;32m      1\u001b[0m \u001b[38;5;28mprint\u001b[39m(s\u001b[38;5;241m.\u001b[39mdrop(\u001b[38;5;124m'\u001b[39m\u001b[38;5;124m메로나\u001b[39m\u001b[38;5;124m'\u001b[39m))\n\u001b[1;32m----> 2\u001b[0m \u001b[38;5;28mprint\u001b[39m(s\u001b[38;5;241m.\u001b[39mdrop(\u001b[38;5;241m0\u001b[39m))\n",
      "File \u001b[1;32mC:\\ProgramData\\anaconda3\\Lib\\site-packages\\pandas\\core\\series.py:5085\u001b[0m, in \u001b[0;36mSeries.drop\u001b[1;34m(self, labels, axis, index, columns, level, inplace, errors)\u001b[0m\n\u001b[0;32m   4988\u001b[0m \u001b[38;5;28;01mdef\u001b[39;00m \u001b[38;5;21mdrop\u001b[39m(\n\u001b[0;32m   4989\u001b[0m     \u001b[38;5;28mself\u001b[39m,\n\u001b[0;32m   4990\u001b[0m     labels: IndexLabel \u001b[38;5;241m=\u001b[39m \u001b[38;5;28;01mNone\u001b[39;00m,\n\u001b[1;32m   (...)\u001b[0m\n\u001b[0;32m   4997\u001b[0m     errors: IgnoreRaise \u001b[38;5;241m=\u001b[39m \u001b[38;5;124m\"\u001b[39m\u001b[38;5;124mraise\u001b[39m\u001b[38;5;124m\"\u001b[39m,\n\u001b[0;32m   4998\u001b[0m ) \u001b[38;5;241m-\u001b[39m\u001b[38;5;241m>\u001b[39m Series \u001b[38;5;241m|\u001b[39m \u001b[38;5;28;01mNone\u001b[39;00m:\n\u001b[0;32m   4999\u001b[0m \u001b[38;5;250m    \u001b[39m\u001b[38;5;124;03m\"\"\"\u001b[39;00m\n\u001b[0;32m   5000\u001b[0m \u001b[38;5;124;03m    Return Series with specified index labels removed.\u001b[39;00m\n\u001b[0;32m   5001\u001b[0m \n\u001b[1;32m   (...)\u001b[0m\n\u001b[0;32m   5083\u001b[0m \u001b[38;5;124;03m    dtype: float64\u001b[39;00m\n\u001b[0;32m   5084\u001b[0m \u001b[38;5;124;03m    \"\"\"\u001b[39;00m\n\u001b[1;32m-> 5085\u001b[0m     \u001b[38;5;28;01mreturn\u001b[39;00m \u001b[38;5;28msuper\u001b[39m()\u001b[38;5;241m.\u001b[39mdrop(\n\u001b[0;32m   5086\u001b[0m         labels\u001b[38;5;241m=\u001b[39mlabels,\n\u001b[0;32m   5087\u001b[0m         axis\u001b[38;5;241m=\u001b[39maxis,\n\u001b[0;32m   5088\u001b[0m         index\u001b[38;5;241m=\u001b[39mindex,\n\u001b[0;32m   5089\u001b[0m         columns\u001b[38;5;241m=\u001b[39mcolumns,\n\u001b[0;32m   5090\u001b[0m         level\u001b[38;5;241m=\u001b[39mlevel,\n\u001b[0;32m   5091\u001b[0m         inplace\u001b[38;5;241m=\u001b[39minplace,\n\u001b[0;32m   5092\u001b[0m         errors\u001b[38;5;241m=\u001b[39merrors,\n\u001b[0;32m   5093\u001b[0m     )\n",
      "File \u001b[1;32mC:\\ProgramData\\anaconda3\\Lib\\site-packages\\pandas\\core\\generic.py:4549\u001b[0m, in \u001b[0;36mNDFrame.drop\u001b[1;34m(self, labels, axis, index, columns, level, inplace, errors)\u001b[0m\n\u001b[0;32m   4547\u001b[0m \u001b[38;5;28;01mfor\u001b[39;00m axis, labels \u001b[38;5;129;01min\u001b[39;00m axes\u001b[38;5;241m.\u001b[39mitems():\n\u001b[0;32m   4548\u001b[0m     \u001b[38;5;28;01mif\u001b[39;00m labels \u001b[38;5;129;01mis\u001b[39;00m \u001b[38;5;129;01mnot\u001b[39;00m \u001b[38;5;28;01mNone\u001b[39;00m:\n\u001b[1;32m-> 4549\u001b[0m         obj \u001b[38;5;241m=\u001b[39m obj\u001b[38;5;241m.\u001b[39m_drop_axis(labels, axis, level\u001b[38;5;241m=\u001b[39mlevel, errors\u001b[38;5;241m=\u001b[39merrors)\n\u001b[0;32m   4551\u001b[0m \u001b[38;5;28;01mif\u001b[39;00m inplace:\n\u001b[0;32m   4552\u001b[0m     \u001b[38;5;28mself\u001b[39m\u001b[38;5;241m.\u001b[39m_update_inplace(obj)\n",
      "File \u001b[1;32mC:\\ProgramData\\anaconda3\\Lib\\site-packages\\pandas\\core\\generic.py:4591\u001b[0m, in \u001b[0;36mNDFrame._drop_axis\u001b[1;34m(self, labels, axis, level, errors, only_slice)\u001b[0m\n\u001b[0;32m   4589\u001b[0m         new_axis \u001b[38;5;241m=\u001b[39m axis\u001b[38;5;241m.\u001b[39mdrop(labels, level\u001b[38;5;241m=\u001b[39mlevel, errors\u001b[38;5;241m=\u001b[39merrors)\n\u001b[0;32m   4590\u001b[0m     \u001b[38;5;28;01melse\u001b[39;00m:\n\u001b[1;32m-> 4591\u001b[0m         new_axis \u001b[38;5;241m=\u001b[39m axis\u001b[38;5;241m.\u001b[39mdrop(labels, errors\u001b[38;5;241m=\u001b[39merrors)\n\u001b[0;32m   4592\u001b[0m     indexer \u001b[38;5;241m=\u001b[39m axis\u001b[38;5;241m.\u001b[39mget_indexer(new_axis)\n\u001b[0;32m   4594\u001b[0m \u001b[38;5;66;03m# Case for non-unique axis\u001b[39;00m\n\u001b[0;32m   4595\u001b[0m \u001b[38;5;28;01melse\u001b[39;00m:\n",
      "File \u001b[1;32mC:\\ProgramData\\anaconda3\\Lib\\site-packages\\pandas\\core\\indexes\\base.py:6699\u001b[0m, in \u001b[0;36mIndex.drop\u001b[1;34m(self, labels, errors)\u001b[0m\n\u001b[0;32m   6697\u001b[0m \u001b[38;5;28;01mif\u001b[39;00m mask\u001b[38;5;241m.\u001b[39many():\n\u001b[0;32m   6698\u001b[0m     \u001b[38;5;28;01mif\u001b[39;00m errors \u001b[38;5;241m!=\u001b[39m \u001b[38;5;124m\"\u001b[39m\u001b[38;5;124mignore\u001b[39m\u001b[38;5;124m\"\u001b[39m:\n\u001b[1;32m-> 6699\u001b[0m         \u001b[38;5;28;01mraise\u001b[39;00m \u001b[38;5;167;01mKeyError\u001b[39;00m(\u001b[38;5;124mf\u001b[39m\u001b[38;5;124m\"\u001b[39m\u001b[38;5;132;01m{\u001b[39;00m\u001b[38;5;28mlist\u001b[39m(labels[mask])\u001b[38;5;132;01m}\u001b[39;00m\u001b[38;5;124m not found in axis\u001b[39m\u001b[38;5;124m\"\u001b[39m)\n\u001b[0;32m   6700\u001b[0m     indexer \u001b[38;5;241m=\u001b[39m indexer[\u001b[38;5;241m~\u001b[39mmask]\n\u001b[0;32m   6701\u001b[0m \u001b[38;5;28;01mreturn\u001b[39;00m \u001b[38;5;28mself\u001b[39m\u001b[38;5;241m.\u001b[39mdelete(indexer)\n",
      "\u001b[1;31mKeyError\u001b[0m: '[0] not found in axis'"
     ]
    }
   ],
   "source": [
    "print(s.drop('메로나'))\n",
    "print(s.drop(0))  #에러"
   ]
  },
  {
   "cell_type": "code",
   "execution_count": 131,
   "id": "f5a9c57c",
   "metadata": {},
   "outputs": [
    {
     "name": "stdout",
     "output_type": "stream",
     "text": [
      "구구콘     2000\n",
      "하겐다즈    3000\n",
      "비비빅      500\n",
      "dtype: int64\n"
     ]
    }
   ],
   "source": [
    "s=s.drop('메로나')\n",
    "print(s)"
   ]
  },
  {
   "cell_type": "markdown",
   "id": "56c65810",
   "metadata": {},
   "source": [
    "## 3.7 시리즈 연산"
   ]
  },
  {
   "cell_type": "code",
   "execution_count": 2,
   "id": "211597cf",
   "metadata": {},
   "outputs": [
    {
     "name": "stdout",
     "output_type": "stream",
     "text": [
      "KT       60\n",
      "NAVER    30\n",
      "SKT      30\n",
      "dtype: int64\n"
     ]
    }
   ],
   "source": [
    "from pandas import Series\n",
    "\n",
    "철수=Series([10,20,30], index=['NAVER','SKT','KT'])\n",
    "영희=Series([10,30,20], index=['SKT','KT','NAVER'])\n",
    "가족=철수+영희\n",
    "print(가족)"
   ]
  },
  {
   "cell_type": "code",
   "execution_count": 3,
   "id": "9a90e232",
   "metadata": {},
   "outputs": [
    {
     "name": "stdout",
     "output_type": "stream",
     "text": [
      "NAVER    100\n",
      "SKT      200\n",
      "KT       300\n",
      "dtype: int64\n"
     ]
    }
   ],
   "source": [
    "print(철수*10)"
   ]
  },
  {
   "cell_type": "code",
   "execution_count": 4,
   "id": "fafd6eec",
   "metadata": {},
   "outputs": [
    {
     "name": "stdout",
     "output_type": "stream",
     "text": [
      "0    650\n",
      "1    550\n",
      "2    750\n",
      "3    800\n",
      "4    650\n",
      "dtype: int64\n"
     ]
    }
   ],
   "source": [
    "high=Series([42800,42700,42050,42950,43000])\n",
    "low=Series([42150,42150,41300,42150,42350])\n",
    "\n",
    "diff=high-low\n",
    "print(diff)"
   ]
  },
  {
   "cell_type": "code",
   "execution_count": 5,
   "id": "0b01b77e",
   "metadata": {},
   "outputs": [
    {
     "name": "stdout",
     "output_type": "stream",
     "text": [
      "800\n"
     ]
    }
   ],
   "source": [
    "print(diff.max())"
   ]
  },
  {
   "cell_type": "code",
   "execution_count": 6,
   "id": "e7355b1f",
   "metadata": {},
   "outputs": [
    {
     "name": "stdout",
     "output_type": "stream",
     "text": [
      "6/1    650\n",
      "6/2    550\n",
      "6/3    750\n",
      "6/4    800\n",
      "6/5    650\n",
      "dtype: int64\n"
     ]
    }
   ],
   "source": [
    "date=['6/1','6/2','6/3','6/4','6/5']\n",
    "high=Series([42800,42700,42050,42950,43000], index=date)\n",
    "low=Series([42150,42150,41300,42150,42350], index=date)\n",
    "diff=high-low\n",
    "print(diff)"
   ]
  },
  {
   "cell_type": "code",
   "execution_count": 7,
   "id": "4cd26771",
   "metadata": {},
   "outputs": [
    {
     "name": "stdout",
     "output_type": "stream",
     "text": [
      "3\n",
      "6/4\n"
     ]
    }
   ],
   "source": [
    "max_idx=0\n",
    "max_val=0\n",
    "\n",
    "for i in range(len(diff)):\n",
    "    if diff[i]>max_val:\n",
    "        max_val=diff[i]\n",
    "        max_idx=i\n",
    "        \n",
    "print(max_idx)\n",
    "print(diff.index[max_idx])"
   ]
  },
  {
   "cell_type": "code",
   "execution_count": 8,
   "id": "116b9d4a",
   "metadata": {},
   "outputs": [
    {
     "name": "stdout",
     "output_type": "stream",
     "text": [
      "6/4\n",
      "6/2\n"
     ]
    }
   ],
   "source": [
    "print(diff.idxmax())\n",
    "print(diff.idxmin())"
   ]
  },
  {
   "cell_type": "code",
   "execution_count": 9,
   "id": "111ae67e",
   "metadata": {},
   "outputs": [
    {
     "name": "stdout",
     "output_type": "stream",
     "text": [
      "6/1    1.015421\n",
      "6/2    1.013049\n",
      "6/3    1.018160\n",
      "6/4    1.018980\n",
      "6/5    1.015348\n",
      "dtype: float64\n"
     ]
    }
   ],
   "source": [
    "date=['6/1','6/2','6/3','6/4','6/5']\n",
    "high=Series([42800,42700,42050,42950,43000], index=date)\n",
    "low=Series([42150,42150,41300,42150,42350], index=date)\n",
    "profit=high/low\n",
    "print(profit)"
   ]
  },
  {
   "cell_type": "code",
   "execution_count": 10,
   "id": "6fc0b54e",
   "metadata": {},
   "outputs": [
    {
     "name": "stdout",
     "output_type": "stream",
     "text": [
      "6/1    1.015421\n",
      "6/2    1.028671\n",
      "6/3    1.047351\n",
      "6/4    1.067230\n",
      "6/5    1.083610\n",
      "dtype: float64\n"
     ]
    }
   ],
   "source": [
    "print(profit.cumprod())  # 반복문 대신 cumprod메서드를 사용하여 누적 수익률 계산"
   ]
  },
  {
   "cell_type": "code",
   "execution_count": 11,
   "id": "05372ee0",
   "metadata": {},
   "outputs": [
    {
     "name": "stdout",
     "output_type": "stream",
     "text": [
      "1.0836101509172456\n"
     ]
    }
   ],
   "source": [
    "print(profit.cumprod().iloc[-1])"
   ]
  },
  {
   "cell_type": "code",
   "execution_count": 12,
   "id": "c78ebf18",
   "metadata": {},
   "outputs": [],
   "source": [
    "data={\n",
    "    \"삼성전자\":\"전기,전자\",\n",
    "    \"LG전자\":\"전기,전자\",\n",
    "    \"현대차\":\"운수장비\",\n",
    "    \"NAVER\":\"서비스업\",\n",
    "    \"카카오\":\"서비스업\"\n",
    "}\n",
    "s=Series(data)"
   ]
  },
  {
   "cell_type": "code",
   "execution_count": 13,
   "id": "3a9d8976",
   "metadata": {},
   "outputs": [
    {
     "name": "stdout",
     "output_type": "stream",
     "text": [
      "['전기,전자' '운수장비' '서비스업']\n"
     ]
    }
   ],
   "source": [
    "print(s.unique())"
   ]
  },
  {
   "cell_type": "code",
   "execution_count": 14,
   "id": "5d2fc2c6",
   "metadata": {},
   "outputs": [
    {
     "data": {
      "text/plain": [
       "전기,전자    2\n",
       "서비스업     2\n",
       "운수장비     1\n",
       "Name: count, dtype: int64"
      ]
     },
     "execution_count": 14,
     "metadata": {},
     "output_type": "execute_result"
    }
   ],
   "source": [
    "s.value_counts()"
   ]
  },
  {
   "cell_type": "markdown",
   "id": "9fb5a1fd",
   "metadata": {},
   "source": [
    "## 3.8 시리즈와 Map"
   ]
  },
  {
   "cell_type": "code",
   "execution_count": 15,
   "id": "86b93eb8",
   "metadata": {},
   "outputs": [
    {
     "ename": "TypeError",
     "evalue": "cannot convert the series to <class 'int'>",
     "output_type": "error",
     "traceback": [
      "\u001b[1;31m---------------------------------------------------------------------------\u001b[0m",
      "\u001b[1;31mTypeError\u001b[0m                                 Traceback (most recent call last)",
      "Cell \u001b[1;32mIn[15], line 3\u001b[0m\n\u001b[0;32m      1\u001b[0m \u001b[38;5;28;01mfrom\u001b[39;00m \u001b[38;5;21;01mpandas\u001b[39;00m \u001b[38;5;28;01mimport\u001b[39;00m Series\n\u001b[0;32m      2\u001b[0m s\u001b[38;5;241m=\u001b[39mSeries([\u001b[38;5;124m\"\u001b[39m\u001b[38;5;124m1,234\u001b[39m\u001b[38;5;124m\"\u001b[39m, \u001b[38;5;124m\"\u001b[39m\u001b[38;5;124m5,678\u001b[39m\u001b[38;5;124m\"\u001b[39m, \u001b[38;5;124m\"\u001b[39m\u001b[38;5;124m9,876\u001b[39m\u001b[38;5;124m\"\u001b[39m])\n\u001b[1;32m----> 3\u001b[0m \u001b[38;5;28mprint\u001b[39m(\u001b[38;5;28mint\u001b[39m(s))\n",
      "File \u001b[1;32mC:\\ProgramData\\anaconda3\\Lib\\site-packages\\pandas\\core\\series.py:230\u001b[0m, in \u001b[0;36m_coerce_method.<locals>.wrapper\u001b[1;34m(self)\u001b[0m\n\u001b[0;32m    222\u001b[0m     warnings\u001b[38;5;241m.\u001b[39mwarn(\n\u001b[0;32m    223\u001b[0m         \u001b[38;5;124mf\u001b[39m\u001b[38;5;124m\"\u001b[39m\u001b[38;5;124mCalling \u001b[39m\u001b[38;5;132;01m{\u001b[39;00mconverter\u001b[38;5;241m.\u001b[39m\u001b[38;5;18m__name__\u001b[39m\u001b[38;5;132;01m}\u001b[39;00m\u001b[38;5;124m on a single element Series is \u001b[39m\u001b[38;5;124m\"\u001b[39m\n\u001b[0;32m    224\u001b[0m         \u001b[38;5;124m\"\u001b[39m\u001b[38;5;124mdeprecated and will raise a TypeError in the future. \u001b[39m\u001b[38;5;124m\"\u001b[39m\n\u001b[1;32m   (...)\u001b[0m\n\u001b[0;32m    227\u001b[0m         stacklevel\u001b[38;5;241m=\u001b[39mfind_stack_level(),\n\u001b[0;32m    228\u001b[0m     )\n\u001b[0;32m    229\u001b[0m     \u001b[38;5;28;01mreturn\u001b[39;00m converter(\u001b[38;5;28mself\u001b[39m\u001b[38;5;241m.\u001b[39miloc[\u001b[38;5;241m0\u001b[39m])\n\u001b[1;32m--> 230\u001b[0m \u001b[38;5;28;01mraise\u001b[39;00m \u001b[38;5;167;01mTypeError\u001b[39;00m(\u001b[38;5;124mf\u001b[39m\u001b[38;5;124m\"\u001b[39m\u001b[38;5;124mcannot convert the series to \u001b[39m\u001b[38;5;132;01m{\u001b[39;00mconverter\u001b[38;5;132;01m}\u001b[39;00m\u001b[38;5;124m\"\u001b[39m)\n",
      "\u001b[1;31mTypeError\u001b[0m: cannot convert the series to <class 'int'>"
     ]
    }
   ],
   "source": [
    "from pandas import Series\n",
    "s=Series([\"1,234\", \"5,678\", \"9,876\"])\n",
    "print(int(s))  # 형변환 에러"
   ]
  },
  {
   "cell_type": "code",
   "execution_count": 16,
   "id": "04eb6888",
   "metadata": {},
   "outputs": [
    {
     "name": "stdout",
     "output_type": "stream",
     "text": [
      "1,234 in function\n",
      "5,678 in function\n",
      "9,876 in function\n",
      "0    1,234\n",
      "1    5,678\n",
      "2    9,876\n",
      "dtype: object\n"
     ]
    }
   ],
   "source": [
    "def remove_comma(x):\n",
    "    print(x, 'in function')\n",
    "    return x\n",
    "\n",
    "s=Series([\"1,234\", \"5,678\", \"9,876\"])\n",
    "result=s.map(remove_comma)  # remove_comma 함수를 map 메서드로 연결\n",
    "print(result)"
   ]
  },
  {
   "cell_type": "code",
   "execution_count": 18,
   "id": "21bb4b90",
   "metadata": {},
   "outputs": [
    {
     "name": "stdout",
     "output_type": "stream",
     "text": [
      "0    1234\n",
      "1    5678\n",
      "2    9876\n",
      "dtype: int64\n"
     ]
    }
   ],
   "source": [
    "from pandas import Series\n",
    "\n",
    "def remove_comma(x):\n",
    "    return int(x.replace(\",\",\"\"))\n",
    "\n",
    "s=Series([\"1,234\", \"5,678\", \"9,876\"])\n",
    "result=s.map(remove_comma)\n",
    "print(result)"
   ]
  },
  {
   "cell_type": "code",
   "execution_count": 19,
   "id": "5ceaee9d",
   "metadata": {},
   "outputs": [
    {
     "name": "stdout",
     "output_type": "stream",
     "text": [
      "0    작다\n",
      "1    크다\n",
      "2    크다\n",
      "dtype: object\n"
     ]
    }
   ],
   "source": [
    "def is_greater_than_5000(x):\n",
    "    if x > 5000:\n",
    "        return \"크다\"\n",
    "    else:\n",
    "        return \"작다\"\n",
    "\n",
    "s=Series([1234, 5678, 9876])\n",
    "s=s.map(is_greater_than_5000)\n",
    "print(s)"
   ]
  },
  {
   "cell_type": "markdown",
   "id": "1959b209",
   "metadata": {},
   "source": [
    "## 3.9 시리즈 필터링"
   ]
  },
  {
   "cell_type": "code",
   "execution_count": 2,
   "id": "3932b0e1",
   "metadata": {},
   "outputs": [
    {
     "name": "stdout",
     "output_type": "stream",
     "text": [
      "2019-05-31     True\n",
      "2019-05-30     True\n",
      "2019-05-29    False\n",
      "2019-05-28     True\n",
      "2019-05-27     True\n",
      "dtype: bool\n"
     ]
    }
   ],
   "source": [
    "from pandas import Series\n",
    "\n",
    "data=[42500, 42550, 41800, 42550, 42650]\n",
    "index=['2019-05-31', '2019-05-30', '2019-05-29', '2019-05-28', '2019-05-27']\n",
    "s=Series(data=data,index=index)\n",
    "cond=s>42000\n",
    "print(cond)"
   ]
  },
  {
   "cell_type": "code",
   "execution_count": 3,
   "id": "bae7d320",
   "metadata": {},
   "outputs": [
    {
     "name": "stdout",
     "output_type": "stream",
     "text": [
      "2019-05-31    42500\n",
      "2019-05-30    42550\n",
      "2019-05-28    42550\n",
      "2019-05-27    42650\n",
      "dtype: int64\n"
     ]
    }
   ],
   "source": [
    "print(s[cond])"
   ]
  },
  {
   "cell_type": "code",
   "execution_count": 4,
   "id": "1a51f259",
   "metadata": {},
   "outputs": [
    {
     "name": "stdout",
     "output_type": "stream",
     "text": [
      "2019-05-31    False\n",
      "2019-05-30     True\n",
      "2019-05-29    False\n",
      "2019-05-28    False\n",
      "2019-05-27     True\n",
      "dtype: bool\n"
     ]
    }
   ],
   "source": [
    "close=[42500,42550,41800,42550,42650]\n",
    "open=[42600,42200,41850,42550,42500]\n",
    "index=['2019-05-31', '2019-05-30', '2019-05-29', '2019-05-28', '2019-05-27']\n",
    "open=Series(data=open, index=index)\n",
    "close=Series(data=close, index=index)\n",
    "\n",
    "cond=close>open\n",
    "print(cond)"
   ]
  },
  {
   "cell_type": "code",
   "execution_count": 5,
   "id": "8291d3b2",
   "metadata": {},
   "outputs": [
    {
     "name": "stdout",
     "output_type": "stream",
     "text": [
      "2019-05-30    42550\n",
      "2019-05-27    42650\n",
      "dtype: int64\n"
     ]
    }
   ],
   "source": [
    "print(close[cond])"
   ]
  },
  {
   "cell_type": "code",
   "execution_count": 6,
   "id": "17423a5d",
   "metadata": {},
   "outputs": [
    {
     "name": "stdout",
     "output_type": "stream",
     "text": [
      "2019-05-30    42550\n",
      "2019-05-27    42650\n",
      "dtype: int64\n"
     ]
    }
   ],
   "source": [
    "print(close[close>open])"
   ]
  },
  {
   "cell_type": "code",
   "execution_count": 7,
   "id": "8cde421b",
   "metadata": {},
   "outputs": [
    {
     "name": "stdout",
     "output_type": "stream",
     "text": [
      "Index(['2019-05-30', '2019-05-27'], dtype='object')\n",
      "Index(['2019-05-30', '2019-05-27'], dtype='object')\n"
     ]
    }
   ],
   "source": [
    "print(close.index[close>open])\n",
    "print(close[close>open].index)"
   ]
  },
  {
   "cell_type": "code",
   "execution_count": 8,
   "id": "1ce36c5f",
   "metadata": {},
   "outputs": [
    {
     "name": "stdout",
     "output_type": "stream",
     "text": [
      "2019-05-30    350\n",
      "2019-05-27    150\n",
      "dtype: int64\n"
     ]
    }
   ],
   "source": [
    "close=[42500,42550,41800,42550,42650]\n",
    "open=[42600,42200,41850,42550,42500]\n",
    "index=['2019-05-31', '2019-05-30', '2019-05-29', '2019-05-28', '2019-05-27']\n",
    "\n",
    "open=Series(data=open, index=index)\n",
    "close=Series(data=close, index=index)\n",
    "diff=close-open\n",
    "print(diff[close>open])"
   ]
  },
  {
   "cell_type": "markdown",
   "id": "469feb35",
   "metadata": {},
   "source": [
    "## 3.10 정렬 및 순위"
   ]
  },
  {
   "cell_type": "code",
   "execution_count": 12,
   "id": "dc3a7bb7",
   "metadata": {},
   "outputs": [
    {
     "name": "stdout",
     "output_type": "stream",
     "text": [
      "000010     3.1\n",
      "000020     2.0\n",
      "000030    10.1\n",
      "000040     5.1\n",
      "dtype: float64\n",
      "000020     2.0\n",
      "000010     3.1\n",
      "000040     5.1\n",
      "000030    10.1\n",
      "dtype: float64\n",
      "000030    10.1\n",
      "000040     5.1\n",
      "000010     3.1\n",
      "000020     2.0\n",
      "dtype: float64\n"
     ]
    }
   ],
   "source": [
    "from pandas import Series\n",
    "\n",
    "data=[3.1,2.0,10.1,5.1]\n",
    "index=['000010','000020','000030','000040']\n",
    "s=Series(data=data,index=index)\n",
    "print(s)\n",
    "\n",
    "# 정렬(오름차순)\n",
    "s1=s.sort_values()\n",
    "print(s1)\n",
    "\n",
    "# 정렬(내림차눗)\n",
    "s2=s.sort_values(ascending=False)\n",
    "print(s2)"
   ]
  },
  {
   "cell_type": "code",
   "execution_count": 15,
   "id": "0663a9f3",
   "metadata": {},
   "outputs": [
    {
     "name": "stdout",
     "output_type": "stream",
     "text": [
      "000010    2.0\n",
      "000020    1.0\n",
      "000030    4.0\n",
      "000040    3.0\n",
      "dtype: float64\n"
     ]
    }
   ],
   "source": [
    "data=[3.1,2.0,10.1,5.1]\n",
    "index=['000010','000020','000030','000040']\n",
    "s=Series(data=data,index=index)\n",
    "print(s.rank())  # rank메서드는 값이 작은 데이터를 1순위로 지정 (동일한 값을 갖는 데이터의 순위 표현 위해 rank값은 float64)"
   ]
  },
  {
   "cell_type": "code",
   "execution_count": 16,
   "id": "1532d276",
   "metadata": {},
   "outputs": [
    {
     "name": "stdout",
     "output_type": "stream",
     "text": [
      "000010    3.0\n",
      "000020    4.0\n",
      "000030    1.0\n",
      "000040    2.0\n",
      "dtype: float64\n"
     ]
    }
   ],
   "source": [
    "print(s.rank(ascending=False))  # 값이 큰 데이터를 1등으로 지정"
   ]
  },
  {
   "cell_type": "markdown",
   "id": "3975a5bf",
   "metadata": {},
   "source": [
    "# 04 판다스 데이터프레임 Part1"
   ]
  },
  {
   "cell_type": "markdown",
   "id": "5170c00e",
   "metadata": {},
   "source": [
    "# 4.1 데이터프레임 소개 및 생성"
   ]
  },
  {
   "cell_type": "code",
   "execution_count": 59,
   "id": "3a633bde",
   "metadata": {},
   "outputs": [
    {
     "name": "stdout",
     "output_type": "stream",
     "text": [
      "     종목코드    종목명   현재가\n",
      "0  037730     3R  1510\n",
      "1  036360  3SDFT  1790\n",
      "2  005760   ACTS  1185\n"
     ]
    }
   ],
   "source": [
    "# [방법1] 딕셔너리로 데이터프레임을 생성\n",
    "from pandas import DataFrame\n",
    "\n",
    "data={\n",
    "    '종목코드':['037730','036360','005760'],\n",
    "    '종목명':['3R','3SDFT','ACTS'],\n",
    "    '현재가':[1510,1790,1185]\n",
    "}\n",
    "\n",
    "df=DataFrame(data)  # DataFrame 클래스의 객체 생성(생성자 호출)\n",
    "print(df)"
   ]
  },
  {
   "cell_type": "code",
   "execution_count": 64,
   "id": "03f86d9d",
   "metadata": {},
   "outputs": [
    {
     "name": "stdout",
     "output_type": "stream",
     "text": [
      "     종목코드    종목명   현재가\n",
      "0  037730     3R  1510\n",
      "1  036360  3SOFT  1790\n",
      "2  005760   ACTS  1185\n"
     ]
    }
   ],
   "source": [
    "# [방법2] 리스트로 데이터프레임을 생성\n",
    "from pandas import DataFrame\n",
    "\n",
    "data=[\n",
    "    [\"037730\",\"3R\",1510],\n",
    "    [\"036360\",\"3SOFT\",1790],\n",
    "    [\"005760\",\"ACTS\",1185],\n",
    "]\n",
    "columns=[\"종목코드\",\"종목명\",\"현재가\"]\n",
    "\n",
    "df=DataFrame(data=data,columns=columns)\n",
    "print(df)"
   ]
  },
  {
   "cell_type": "code",
   "execution_count": 67,
   "id": "117a69e0",
   "metadata": {},
   "outputs": [
    {
     "name": "stdout",
     "output_type": "stream",
     "text": [
      "     종목코드    종목명   현재가\n",
      "0  037730     3R  1510\n",
      "1  036360  3SOFT  1790\n",
      "2  005760   ACTS  1185\n"
     ]
    }
   ],
   "source": [
    "# [방법3] 리스트와딕셔너리로 데이터프레임을 생성\n",
    "from pandas import DataFrame\n",
    "\n",
    "data=[\n",
    "    {\"종목코드\":\"037730\",\"종목명\":\"3R\",\"현재가\":1510},\n",
    "    {\"종목코드\":\"036360\",\"종목명\":\"3SOFT\",\"현재가\":1790},\n",
    "    {\"종목코드\":\"005760\",\"종목명\":\"ACTS\",\"현재가\":1185},\n",
    "]\n",
    "\n",
    "df=DataFrame(data=data)\n",
    "print(df)"
   ]
  },
  {
   "cell_type": "markdown",
   "id": "b3cd1d6d",
   "metadata": {},
   "source": [
    "## 4.2 데이터프레임의 인덱스"
   ]
  },
  {
   "cell_type": "code",
   "execution_count": 68,
   "id": "0d1d1a40",
   "metadata": {},
   "outputs": [
    {
     "name": "stdout",
     "output_type": "stream",
     "text": [
      "     종목코드    종목명   현재가   등락률\n",
      "0  037730     3R  1510  7.63\n",
      "1  036360  3SOFT  1790  1.65\n",
      "2  005760   ACTS  1185  1.28\n"
     ]
    }
   ],
   "source": [
    "from pandas import DataFrame\n",
    "\n",
    "data=[\n",
    "    [\"037730\",\"3R\",1510,7.63],\n",
    "    [\"036360\",\"3SOFT\",1790,1.65],\n",
    "    [\"005760\",\"ACTS\",1185,1.28]\n",
    "]\n",
    "columns=[\"종목코드\",\"종목명\",\"현재가\",\"등락률\"]\n",
    "\n",
    "df=DataFrame(data=data,columns=columns)\n",
    "print(df)"
   ]
  },
  {
   "cell_type": "code",
   "execution_count": 71,
   "id": "540f87e1",
   "metadata": {},
   "outputs": [
    {
     "name": "stdout",
     "output_type": "stream",
     "text": [
      "          종목명   현재가   등락률\n",
      "종목코드                     \n",
      "037730     3R  1510  7.63\n",
      "036360  3SOFT  1790  1.65\n",
      "005760   ACTS  1185  1.28\n"
     ]
    }
   ],
   "source": [
    "from pandas import DataFrame\n",
    "\n",
    "data=[\n",
    "    [\"037730\",\"3R\",1510,7.63],\n",
    "    [\"036360\",\"3SOFT\",1790,1.65],\n",
    "    [\"005760\",\"ACTS\",1185,1.28]\n",
    "]\n",
    "columns=[\"종목코드\",\"종목명\",\"현재가\",\"등락률\"]\n",
    "\n",
    "df=DataFrame(data=data,columns=columns)\n",
    "df=df.set_index('종목코드')  #인덱스 설정하고 수정된 데이터프레임 객체를 리턴\n",
    "print(df)"
   ]
  },
  {
   "cell_type": "code",
   "execution_count": 74,
   "id": "1cde39dd",
   "metadata": {},
   "outputs": [
    {
     "name": "stdout",
     "output_type": "stream",
     "text": [
      "          종목명   현재가   등락률\n",
      "037730     3R  1510  7.63\n",
      "036360  3SOFT  1790  1.65\n",
      "005760   ACTS  1185  1.28\n"
     ]
    }
   ],
   "source": [
    "from pandas import DataFrame\n",
    "\n",
    "data=[\n",
    "    [\"3R\",1510,7.63],\n",
    "    [\"3SOFT\",1790,1.65],\n",
    "    [\"ACTS\",1185,1.28]\n",
    "]\n",
    "\n",
    "index=[\"037730\",\"036360\",\"005760\"]\n",
    "columns=[\"종목명\",\"현재가\",\"등락률\"]\n",
    "\n",
    "df=DataFrame(data=data,index=index, columns=columns)\n",
    "df.index_name=\"종목코드\"\n",
    "print(df)"
   ]
  },
  {
   "cell_type": "markdown",
   "id": "782b12e5",
   "metadata": {},
   "source": [
    "## 4.3 컬럼 인덱싱"
   ]
  },
  {
   "cell_type": "code",
   "execution_count": 75,
   "id": "a43286b0",
   "metadata": {},
   "outputs": [
    {
     "name": "stdout",
     "output_type": "stream",
     "text": [
      "037730    1510\n",
      "036360    1790\n",
      "005760    1185\n",
      "Name: 현재가, dtype: int64\n"
     ]
    }
   ],
   "source": [
    "from pandas import DataFrame\n",
    "\n",
    "data=[\n",
    "    [\"3R\",1510,7.36],\n",
    "    [\"3SOFT\",1790,4.65],\n",
    "    [\"ACTS\",1185,1.28]\n",
    "]\n",
    "\n",
    "index=[\"037730\",\"036360\",\"005760\"]\n",
    "columns=[\"종목명\",\"현재가\",\"등락률\"]\n",
    "df=DataFrame(data=data,index=index,columns=columns)\n",
    "print(df['현재가'])"
   ]
  },
  {
   "cell_type": "code",
   "execution_count": 76,
   "id": "acf848bb",
   "metadata": {},
   "outputs": [
    {
     "name": "stdout",
     "output_type": "stream",
     "text": [
      "037730    1510\n",
      "036360    1790\n",
      "005760    1185\n",
      "Name: 현재가, dtype: int64\n"
     ]
    }
   ],
   "source": [
    "print(df.현재가)"
   ]
  },
  {
   "cell_type": "code",
   "execution_count": 77,
   "id": "0298347c",
   "metadata": {},
   "outputs": [
    {
     "data": {
      "text/html": [
       "<div>\n",
       "<style scoped>\n",
       "    .dataframe tbody tr th:only-of-type {\n",
       "        vertical-align: middle;\n",
       "    }\n",
       "\n",
       "    .dataframe tbody tr th {\n",
       "        vertical-align: top;\n",
       "    }\n",
       "\n",
       "    .dataframe thead th {\n",
       "        text-align: right;\n",
       "    }\n",
       "</style>\n",
       "<table border=\"1\" class=\"dataframe\">\n",
       "  <thead>\n",
       "    <tr style=\"text-align: right;\">\n",
       "      <th></th>\n",
       "      <th>현재가</th>\n",
       "      <th>등락률</th>\n",
       "    </tr>\n",
       "  </thead>\n",
       "  <tbody>\n",
       "    <tr>\n",
       "      <th>037730</th>\n",
       "      <td>1510</td>\n",
       "      <td>7.36</td>\n",
       "    </tr>\n",
       "    <tr>\n",
       "      <th>036360</th>\n",
       "      <td>1790</td>\n",
       "      <td>4.65</td>\n",
       "    </tr>\n",
       "    <tr>\n",
       "      <th>005760</th>\n",
       "      <td>1185</td>\n",
       "      <td>1.28</td>\n",
       "    </tr>\n",
       "  </tbody>\n",
       "</table>\n",
       "</div>"
      ],
      "text/plain": [
       "         현재가   등락률\n",
       "037730  1510  7.36\n",
       "036360  1790  4.65\n",
       "005760  1185  1.28"
      ]
     },
     "execution_count": 77,
     "metadata": {},
     "output_type": "execute_result"
    }
   ],
   "source": [
    "리스트=[\"현재가\",\"등락률\"]\n",
    "df[리스트]"
   ]
  },
  {
   "cell_type": "code",
   "execution_count": 78,
   "id": "8089ab70",
   "metadata": {},
   "outputs": [
    {
     "name": "stdout",
     "output_type": "stream",
     "text": [
      "         현재가   등락률\n",
      "037730  1510  7.36\n",
      "036360  1790  4.65\n",
      "005760  1185  1.28\n"
     ]
    }
   ],
   "source": [
    "print(df[[\"현재가\",\"등락률\"]])"
   ]
  },
  {
   "cell_type": "code",
   "execution_count": 82,
   "id": "7015b9a7",
   "metadata": {},
   "outputs": [
    {
     "data": {
      "text/plain": [
       "037730    1510\n",
       "036360    1790\n",
       "005760    1185\n",
       "Name: 현재가, dtype: int64"
      ]
     },
     "execution_count": 82,
     "metadata": {},
     "output_type": "execute_result"
    }
   ],
   "source": [
    "df[\"현재가\"]  # 한 개의 열만 인덱싱하면 시리즈 객체를 가져옴"
   ]
  },
  {
   "cell_type": "code",
   "execution_count": 83,
   "id": "d7057909",
   "metadata": {},
   "outputs": [
    {
     "data": {
      "text/html": [
       "<div>\n",
       "<style scoped>\n",
       "    .dataframe tbody tr th:only-of-type {\n",
       "        vertical-align: middle;\n",
       "    }\n",
       "\n",
       "    .dataframe tbody tr th {\n",
       "        vertical-align: top;\n",
       "    }\n",
       "\n",
       "    .dataframe thead th {\n",
       "        text-align: right;\n",
       "    }\n",
       "</style>\n",
       "<table border=\"1\" class=\"dataframe\">\n",
       "  <thead>\n",
       "    <tr style=\"text-align: right;\">\n",
       "      <th></th>\n",
       "      <th>현재가</th>\n",
       "    </tr>\n",
       "  </thead>\n",
       "  <tbody>\n",
       "    <tr>\n",
       "      <th>037730</th>\n",
       "      <td>1510</td>\n",
       "    </tr>\n",
       "    <tr>\n",
       "      <th>036360</th>\n",
       "      <td>1790</td>\n",
       "    </tr>\n",
       "    <tr>\n",
       "      <th>005760</th>\n",
       "      <td>1185</td>\n",
       "    </tr>\n",
       "  </tbody>\n",
       "</table>\n",
       "</div>"
      ],
      "text/plain": [
       "         현재가\n",
       "037730  1510\n",
       "036360  1790\n",
       "005760  1185"
      ]
     },
     "execution_count": 83,
     "metadata": {},
     "output_type": "execute_result"
    }
   ],
   "source": [
    "df[[\"현재가\"]]  # 리스트로 슬라이싱하면 데이터프레임을 가져옴"
   ]
  },
  {
   "cell_type": "markdown",
   "id": "04210230",
   "metadata": {},
   "source": [
    "## 4.4 로우 인덱싱"
   ]
  },
  {
   "cell_type": "code",
   "execution_count": 86,
   "id": "ff2887d6",
   "metadata": {},
   "outputs": [
    {
     "name": "stdout",
     "output_type": "stream",
     "text": [
      "종목명      3R\n",
      "현재가    1510\n",
      "등락률    7.36\n",
      "Name: 037730, dtype: object\n"
     ]
    }
   ],
   "source": [
    "from pandas import DataFrame\n",
    "\n",
    "data=[\n",
    "    [\"3R\",1510,7.36],\n",
    "    [\"3SOFT\",1790,4.65],\n",
    "    [\"ACTS\",1185,1.28]\n",
    "]\n",
    "\n",
    "index=[\"037730\",\"036360\",\"005760\"]\n",
    "columns=[\"종목명\",\"현재가\",\"등락률\"]\n",
    "df=DataFrame(data=data,index=index,columns=columns)\n",
    "print(df.loc['037730'])  # loc속성으로 문자열 인덱스 \"037730\"에 대응하는 로우 데이터를 인덱싱"
   ]
  },
  {
   "cell_type": "code",
   "execution_count": 88,
   "id": "acdf5816",
   "metadata": {},
   "outputs": [
    {
     "name": "stdout",
     "output_type": "stream",
     "text": [
      "종목명      3R\n",
      "현재가    1510\n",
      "등락률    7.36\n",
      "Name: 037730, dtype: object\n",
      "종목명    ACTS\n",
      "현재가    1185\n",
      "등락률    1.28\n",
      "Name: 005760, dtype: object\n"
     ]
    }
   ],
   "source": [
    "print(df.iloc[0])\n",
    "print(df.iloc[-1])"
   ]
  },
  {
   "cell_type": "code",
   "execution_count": 89,
   "id": "16251e92",
   "metadata": {},
   "outputs": [
    {
     "name": "stdout",
     "output_type": "stream",
     "text": [
      "          종목명   현재가   등락률\n",
      "037730     3R  1510  7.36\n",
      "036360  3SOFT  1790  4.65\n",
      "          종목명   현재가   등락률\n",
      "037730     3R  1510  7.36\n",
      "036360  3SOFT  1790  4.65\n"
     ]
    }
   ],
   "source": [
    "print(df.loc[[\"037730\",\"036360\"]])\n",
    "print(df.iloc[[0,1]])"
   ]
  },
  {
   "cell_type": "markdown",
   "id": "10ac2f0a",
   "metadata": {},
   "source": [
    "## 4.5 특정 값 가져오기"
   ]
  },
  {
   "cell_type": "code",
   "execution_count": 90,
   "id": "5f83957f",
   "metadata": {},
   "outputs": [
    {
     "name": "stdout",
     "output_type": "stream",
     "text": [
      "종목명      3R\n",
      "현재가    1510\n",
      "등락률    7.36\n",
      "Name: 037730, dtype: object\n",
      "종목명      3R\n",
      "현재가    1510\n",
      "등락률    7.36\n",
      "Name: 037730, dtype: object\n"
     ]
    }
   ],
   "source": [
    "from pandas import DataFrame\n",
    "\n",
    "data=[\n",
    "    [\"3R\",1510,7.36],\n",
    "    [\"3SOFT\",1790,4.65],\n",
    "    [\"ACTS\",1185,1.28]\n",
    "]\n",
    "\n",
    "index=[\"037730\",\"036360\",\"005760\"]\n",
    "columns=[\"종목명\",\"현재가\",\"등락률\"]\n",
    "df=DataFrame(data=data,index=index,columns=columns)\n",
    "\n",
    "print(df.iloc[0])\n",
    "print(df.loc[\"037730\"])"
   ]
  },
  {
   "cell_type": "code",
   "execution_count": 92,
   "id": "75382996",
   "metadata": {},
   "outputs": [
    {
     "name": "stdout",
     "output_type": "stream",
     "text": [
      "1510\n",
      "1510\n",
      "1510\n",
      "1510\n",
      "1510\n",
      "1510\n"
     ]
    }
   ],
   "source": [
    "# 행 번호로 행 선택 후 시리즈 인덱싱\n",
    "print(df.iloc[0].iloc[1])  # 시리즈 행 번호\n",
    "print(df.iloc[0].loc[\"현재가\"])  # 시리즈 인덱스\n",
    "print(df.iloc[0][\"현재가\"])  # 시리즈 인덱스\n",
    "\n",
    "# 인덱스로 행 선택 후 시리즈 인덱싱\n",
    "print(df.loc[\"037730\"].iloc[1])  # 시리즈 행 번호\n",
    "print(df.loc[\"037730\"].loc[\"현재가\"])  # 시리즈 인덱스\n",
    "print(df.loc[\"037730\"][\"현재가\"])  # 시리즈 인덱스"
   ]
  },
  {
   "cell_type": "code",
   "execution_count": 93,
   "id": "f5abc655",
   "metadata": {},
   "outputs": [
    {
     "name": "stdout",
     "output_type": "stream",
     "text": [
      "1510\n",
      "1510\n"
     ]
    }
   ],
   "source": [
    "print(df.loc[\"037730\",\"현재가\"])\n",
    "print(df.iloc[0,1])"
   ]
  },
  {
   "cell_type": "code",
   "execution_count": 94,
   "id": "ea009beb",
   "metadata": {},
   "outputs": [
    {
     "name": "stdout",
     "output_type": "stream",
     "text": [
      "1510\n",
      "1510\n",
      "1510\n"
     ]
    }
   ],
   "source": [
    "print(df['현재가'].iloc[0])\n",
    "print(df['현재가'].loc[\"037730\"])\n",
    "print(df['현재가'][\"037730\"])"
   ]
  },
  {
   "cell_type": "markdown",
   "id": "7ed3b75b",
   "metadata": {},
   "source": [
    "## 4.6 특정 범위 가져오기"
   ]
  },
  {
   "cell_type": "code",
   "execution_count": 96,
   "id": "8313bf61",
   "metadata": {},
   "outputs": [
    {
     "name": "stdout",
     "output_type": "stream",
     "text": [
      "          종목명   현재가   등락률\n",
      "037730     3R  1510  7.36\n",
      "036360  3SOFT  1790  4.65\n",
      "          종목명   현재가   등락률\n",
      "037730     3R  1510  7.36\n",
      "036360  3SOFT  1790  4.65\n"
     ]
    }
   ],
   "source": [
    "from pandas import DataFrame\n",
    "\n",
    "data=[\n",
    "    [\"3R\",1510,7.36],\n",
    "    [\"3SOFT\",1790,4.65],\n",
    "    [\"ACTS\",1185,1.28]\n",
    "]\n",
    "\n",
    "index=[\"037730\",\"036360\",\"005760\"]\n",
    "columns=[\"종목명\",\"현재가\",\"등락률\"]\n",
    "df=DataFrame(data=data,index=index,columns=columns)\n",
    "\n",
    "print(df.loc[[\"037730\",\"036360\"]])\n",
    "print(df.iloc[[0,1]])"
   ]
  },
  {
   "cell_type": "code",
   "execution_count": 97,
   "id": "fda3eac6",
   "metadata": {},
   "outputs": [
    {
     "name": "stdout",
     "output_type": "stream",
     "text": [
      "          종목명   현재가\n",
      "037730     3R  1510\n",
      "036360  3SOFT  1790\n"
     ]
    }
   ],
   "source": [
    "df=df.loc[[\"037730\",\"036360\"]]\n",
    "df=df[[\"종목명\",\"현재가\"]]\n",
    "print(df)"
   ]
  },
  {
   "cell_type": "code",
   "execution_count": 98,
   "id": "f879e0e4",
   "metadata": {},
   "outputs": [
    {
     "name": "stdout",
     "output_type": "stream",
     "text": [
      "          종목명   현재가\n",
      "037730     3R  1510\n",
      "036360  3SOFT  1790\n",
      "          종목명   현재가\n",
      "037730     3R  1510\n",
      "036360  3SOFT  1790\n"
     ]
    }
   ],
   "source": [
    "print(df.loc[[\"037730\",\"036360\"],[\"종목명\",\"현재가\"]])\n",
    "print(df.iloc[[0,1],[0,1]])"
   ]
  },
  {
   "cell_type": "markdown",
   "id": "acf5caaa",
   "metadata": {},
   "source": [
    "## 4.7 데이터프레임 필터링"
   ]
  },
  {
   "cell_type": "code",
   "execution_count": 99,
   "id": "093fc16c",
   "metadata": {},
   "outputs": [
    {
     "name": "stdout",
     "output_type": "stream",
     "text": [
      "          종목명   현재가   등락률\n",
      "037730     3R  1510  7.36\n",
      "036360  3SOFT  1790  4.65\n"
     ]
    }
   ],
   "source": [
    "from pandas import DataFrame\n",
    "\n",
    "data=[\n",
    "    [\"3R\",1510,7.36],\n",
    "    [\"3SOFT\",1790,4.65],\n",
    "    [\"ACTS\",1185,1.28]\n",
    "]\n",
    "\n",
    "index=[\"037730\",\"036360\",\"005760\"]\n",
    "columns=[\"종목명\",\"현재가\",\"등락률\"]\n",
    "df=DataFrame(data=data,index=index,columns=columns)\n",
    "\n",
    "cond=df['현재가'] >= 1400\n",
    "print(df.loc[cond])"
   ]
  },
  {
   "cell_type": "code",
   "execution_count": 100,
   "id": "d49e213d",
   "metadata": {},
   "outputs": [
    {
     "name": "stdout",
     "output_type": "stream",
     "text": [
      "037730    1510\n",
      "036360    1790\n",
      "Name: 현재가, dtype: int64\n",
      "037730    1510\n",
      "036360    1790\n",
      "Name: 현재가, dtype: int64\n"
     ]
    }
   ],
   "source": [
    "cond=df['현재가'] >= 1400\n",
    "print(df.loc[cond][\"현재가\"])\n",
    "print(df.loc[cond,\"현재가\"])"
   ]
  },
  {
   "cell_type": "code",
   "execution_count": 101,
   "id": "f2573d58",
   "metadata": {},
   "outputs": [
    {
     "name": "stdout",
     "output_type": "stream",
     "text": [
      "       종목명   현재가   등락률\n",
      "037730  3R  1510  7.36\n"
     ]
    }
   ],
   "source": [
    "cond=(df['현재가'] >= 1400)&(df['현재가'] < 1700)\n",
    "print(df.loc[cond])"
   ]
  },
  {
   "cell_type": "code",
   "execution_count": 102,
   "id": "553fe689",
   "metadata": {},
   "outputs": [
    {
     "ename": "ValueError",
     "evalue": "The truth value of a Series is ambiguous. Use a.empty, a.bool(), a.item(), a.any() or a.all().",
     "output_type": "error",
     "traceback": [
      "\u001b[1;31m---------------------------------------------------------------------------\u001b[0m",
      "\u001b[1;31mValueError\u001b[0m                                Traceback (most recent call last)",
      "Cell \u001b[1;32mIn[102], line 1\u001b[0m\n\u001b[1;32m----> 1\u001b[0m cond\u001b[38;5;241m=\u001b[39mdf[\u001b[38;5;124m'\u001b[39m\u001b[38;5;124m현재가\u001b[39m\u001b[38;5;124m'\u001b[39m] \u001b[38;5;241m>\u001b[39m\u001b[38;5;241m=\u001b[39m (\u001b[38;5;241m1400\u001b[39m \u001b[38;5;241m&\u001b[39m df[\u001b[38;5;124m'\u001b[39m\u001b[38;5;124m현재가\u001b[39m\u001b[38;5;124m'\u001b[39m]) \u001b[38;5;241m<\u001b[39m \u001b[38;5;241m1700\u001b[39m\n",
      "File \u001b[1;32mC:\\ProgramData\\anaconda3\\Lib\\site-packages\\pandas\\core\\generic.py:1466\u001b[0m, in \u001b[0;36mNDFrame.__nonzero__\u001b[1;34m(self)\u001b[0m\n\u001b[0;32m   1464\u001b[0m \u001b[38;5;129m@final\u001b[39m\n\u001b[0;32m   1465\u001b[0m \u001b[38;5;28;01mdef\u001b[39;00m \u001b[38;5;21m__nonzero__\u001b[39m(\u001b[38;5;28mself\u001b[39m) \u001b[38;5;241m-\u001b[39m\u001b[38;5;241m>\u001b[39m NoReturn:\n\u001b[1;32m-> 1466\u001b[0m     \u001b[38;5;28;01mraise\u001b[39;00m \u001b[38;5;167;01mValueError\u001b[39;00m(\n\u001b[0;32m   1467\u001b[0m         \u001b[38;5;124mf\u001b[39m\u001b[38;5;124m\"\u001b[39m\u001b[38;5;124mThe truth value of a \u001b[39m\u001b[38;5;132;01m{\u001b[39;00m\u001b[38;5;28mtype\u001b[39m(\u001b[38;5;28mself\u001b[39m)\u001b[38;5;241m.\u001b[39m\u001b[38;5;18m__name__\u001b[39m\u001b[38;5;132;01m}\u001b[39;00m\u001b[38;5;124m is ambiguous. \u001b[39m\u001b[38;5;124m\"\u001b[39m\n\u001b[0;32m   1468\u001b[0m         \u001b[38;5;124m\"\u001b[39m\u001b[38;5;124mUse a.empty, a.bool(), a.item(), a.any() or a.all().\u001b[39m\u001b[38;5;124m\"\u001b[39m\n\u001b[0;32m   1469\u001b[0m     )\n",
      "\u001b[1;31mValueError\u001b[0m: The truth value of a Series is ambiguous. Use a.empty, a.bool(), a.item(), a.any() or a.all()."
     ]
    }
   ],
   "source": [
    "cond=df['현재가'] >= (1400 & df['현재가']) < 1700  # 에러 - 연산자 우선순위가 &가 더 높기 때문에 괄호 사용 필요"
   ]
  },
  {
   "cell_type": "code",
   "execution_count": 105,
   "id": "2c60132f",
   "metadata": {},
   "outputs": [
    {
     "name": "stdout",
     "output_type": "stream",
     "text": [
      "          종목명   현재가   등락률\n",
      "036360  3SOFT  1790  4.65\n",
      "005760   ACTS  1185  1.28\n"
     ]
    }
   ],
   "source": [
    "cond=(df['현재가'] >= 1400) & (df['현재가'] < 1700)\n",
    "print(df.loc[~cond])"
   ]
  },
  {
   "cell_type": "markdown",
   "id": "f85e18c0",
   "metadata": {},
   "source": [
    "## 4.8 컬럼 추가하기"
   ]
  },
  {
   "cell_type": "code",
   "execution_count": 106,
   "id": "1a0e0408",
   "metadata": {},
   "outputs": [
    {
     "name": "stdout",
     "output_type": "stream",
     "text": [
      "          종목명   현재가   등락률   목표가\n",
      "037730     3R  1510  7.36  1600\n",
      "036360  3SOFT  1790  4.65  1600\n",
      "005760   ACTS  1185  1.28  1600\n"
     ]
    }
   ],
   "source": [
    "from pandas import DataFrame, Series\n",
    "\n",
    "data=[\n",
    "    [\"3R\",1510,7.36],\n",
    "    [\"3SOFT\",1790,4.65],\n",
    "    [\"ACTS\",1185,1.28]\n",
    "]\n",
    "\n",
    "index=[\"037730\",\"036360\",\"005760\"]\n",
    "columns=[\"종목명\",\"현재가\",\"등락률\"]\n",
    "df=DataFrame(data=data,index=index,columns=columns)\n",
    "\n",
    "s=Series(data=[1600,1600,1600], index=df.index)\n",
    "df['목표가']=s\n",
    "print(df)"
   ]
  },
  {
   "cell_type": "code",
   "execution_count": 107,
   "id": "a3a6684e",
   "metadata": {},
   "outputs": [
    {
     "name": "stdout",
     "output_type": "stream",
     "text": [
      "          종목명   현재가   등락률   목표가\n",
      "037730     3R  1510  7.36  1600\n",
      "036360  3SOFT  1790  4.65  1600\n",
      "005760   ACTS  1185  1.28  1600\n"
     ]
    }
   ],
   "source": [
    "df['목표가']=1600\n",
    "print(df)"
   ]
  },
  {
   "cell_type": "code",
   "execution_count": 109,
   "id": "dded26a3",
   "metadata": {},
   "outputs": [
    {
     "name": "stdout",
     "output_type": "stream",
     "text": [
      "          종목명   현재가   등락률   목표가       괴리율\n",
      "037730     3R  1510  7.36  1600  0.059603\n",
      "036360  3SOFT  1790  4.65  1600 -0.106145\n",
      "005760   ACTS  1185  1.28  1600  0.350211\n"
     ]
    }
   ],
   "source": [
    "df[\"괴리율\"]=(df[\"목표가\"]-df[\"현재가\"])/df[\"현재가\"]\n",
    "print(df)"
   ]
  },
  {
   "cell_type": "markdown",
   "id": "ef7d0b21",
   "metadata": {},
   "source": [
    "## 4.9 로우 추가하기"
   ]
  },
  {
   "cell_type": "code",
   "execution_count": 110,
   "id": "83623a77",
   "metadata": {},
   "outputs": [],
   "source": [
    "from pandas import DataFrame\n",
    "\n",
    "data=[\n",
    "    [\"3R\",1510,7.36],\n",
    "    [\"3SOFT\",1790,4.65],\n",
    "    [\"ACTS\",1185,1.28]\n",
    "]\n",
    "\n",
    "index=[\"037730\",\"036360\",\"005760\"]\n",
    "columns=[\"종목명\",\"현재가\",\"등락률\"]\n",
    "df=DataFrame(data=data,index=index,columns=columns)"
   ]
  },
  {
   "cell_type": "code",
   "execution_count": 111,
   "id": "33d5ca08",
   "metadata": {},
   "outputs": [
    {
     "name": "stdout",
     "output_type": "stream",
     "text": [
      "          종목명    현재가   등락률\n",
      "037730     3R   1510  7.36\n",
      "036360  3SOFT   1790  4.65\n",
      "005760   ACTS   1185  1.28\n",
      "066570   LG전자  60000  3.84\n"
     ]
    }
   ],
   "source": [
    "from pandas import Series\n",
    "\n",
    "s=Series(data=[\"LG전자\",60000,3.84], index=df.columns)\n",
    "df.loc[\"066570\"]=s\n",
    "print(df)"
   ]
  },
  {
   "cell_type": "code",
   "execution_count": 112,
   "id": "487f80d1",
   "metadata": {},
   "outputs": [
    {
     "name": "stdout",
     "output_type": "stream",
     "text": [
      "          종목명    현재가   등락률\n",
      "037730     3R   1510  7.36\n",
      "036360  3SOFT   1790  4.65\n",
      "005760   ACTS   1185  1.28\n",
      "066570   LG전자  60000  3.84\n"
     ]
    }
   ],
   "source": [
    "df.loc[\"066570\"]=[\"LG전자\",60000,3.84]\n",
    "print(df)"
   ]
  },
  {
   "cell_type": "code",
   "execution_count": 117,
   "id": "d987e74f",
   "metadata": {},
   "outputs": [
    {
     "ename": "AttributeError",
     "evalue": "'DataFrame' object has no attribute 'append'",
     "output_type": "error",
     "traceback": [
      "\u001b[1;31m---------------------------------------------------------------------------\u001b[0m",
      "\u001b[1;31mAttributeError\u001b[0m                            Traceback (most recent call last)",
      "Cell \u001b[1;32mIn[117], line 2\u001b[0m\n\u001b[0;32m      1\u001b[0m s\u001b[38;5;241m=\u001b[39mSeries(data\u001b[38;5;241m=\u001b[39m[\u001b[38;5;124m\"\u001b[39m\u001b[38;5;124mLG전자\u001b[39m\u001b[38;5;124m\"\u001b[39m,\u001b[38;5;241m60000\u001b[39m,\u001b[38;5;241m3.84\u001b[39m], index\u001b[38;5;241m=\u001b[39mdf\u001b[38;5;241m.\u001b[39mcolumns, name\u001b[38;5;241m=\u001b[39m\u001b[38;5;124m\"\u001b[39m\u001b[38;5;124m066570\u001b[39m\u001b[38;5;124m\"\u001b[39m)\n\u001b[1;32m----> 2\u001b[0m new_df\u001b[38;5;241m=\u001b[39mdf\u001b[38;5;241m.\u001b[39mappend(s)  \u001b[38;5;66;03m# pandas 2.0.0 이후부터 append() 메서드 사용 불가\u001b[39;00m\n\u001b[0;32m      3\u001b[0m \u001b[38;5;28mprint\u001b[39m(new_df)\n",
      "File \u001b[1;32mC:\\ProgramData\\anaconda3\\Lib\\site-packages\\pandas\\core\\generic.py:5989\u001b[0m, in \u001b[0;36mNDFrame.__getattr__\u001b[1;34m(self, name)\u001b[0m\n\u001b[0;32m   5982\u001b[0m \u001b[38;5;28;01mif\u001b[39;00m (\n\u001b[0;32m   5983\u001b[0m     name \u001b[38;5;129;01mnot\u001b[39;00m \u001b[38;5;129;01min\u001b[39;00m \u001b[38;5;28mself\u001b[39m\u001b[38;5;241m.\u001b[39m_internal_names_set\n\u001b[0;32m   5984\u001b[0m     \u001b[38;5;129;01mand\u001b[39;00m name \u001b[38;5;129;01mnot\u001b[39;00m \u001b[38;5;129;01min\u001b[39;00m \u001b[38;5;28mself\u001b[39m\u001b[38;5;241m.\u001b[39m_metadata\n\u001b[0;32m   5985\u001b[0m     \u001b[38;5;129;01mand\u001b[39;00m name \u001b[38;5;129;01mnot\u001b[39;00m \u001b[38;5;129;01min\u001b[39;00m \u001b[38;5;28mself\u001b[39m\u001b[38;5;241m.\u001b[39m_accessors\n\u001b[0;32m   5986\u001b[0m     \u001b[38;5;129;01mand\u001b[39;00m \u001b[38;5;28mself\u001b[39m\u001b[38;5;241m.\u001b[39m_info_axis\u001b[38;5;241m.\u001b[39m_can_hold_identifiers_and_holds_name(name)\n\u001b[0;32m   5987\u001b[0m ):\n\u001b[0;32m   5988\u001b[0m     \u001b[38;5;28;01mreturn\u001b[39;00m \u001b[38;5;28mself\u001b[39m[name]\n\u001b[1;32m-> 5989\u001b[0m \u001b[38;5;28;01mreturn\u001b[39;00m \u001b[38;5;28mobject\u001b[39m\u001b[38;5;241m.\u001b[39m\u001b[38;5;21m__getattribute__\u001b[39m(\u001b[38;5;28mself\u001b[39m, name)\n",
      "\u001b[1;31mAttributeError\u001b[0m: 'DataFrame' object has no attribute 'append'"
     ]
    }
   ],
   "source": [
    "s=Series(data=[\"LG전자\",60000,3.84], index=df.columns, name=\"066570\")\n",
    "new_df=df.append(s)  # pandas 2.0.0 이후부터 append() 메서드 사용 불가\n",
    "print(new_df)"
   ]
  },
  {
   "cell_type": "markdown",
   "id": "c9947232",
   "metadata": {},
   "source": [
    "## 4.10 컬럼/로우 삭제하기"
   ]
  },
  {
   "cell_type": "code",
   "execution_count": 123,
   "id": "ec17c26a",
   "metadata": {},
   "outputs": [
    {
     "name": "stdout",
     "output_type": "stream",
     "text": [
      "          종목명   현재가   등락률\n",
      "037730     3R  1510  7.36\n",
      "036360  3SOFT  1790  4.65\n",
      "005760   ACTS  1185  1.28\n",
      "          종목명   등락률\n",
      "037730     3R  7.36\n",
      "036360  3SOFT  4.65\n",
      "005760   ACTS  1.28\n"
     ]
    }
   ],
   "source": [
    "from pandas import DataFrame\n",
    "\n",
    "data=[\n",
    "    [\"3R\",1510,7.36],\n",
    "    [\"3SOFT\",1790,4.65],\n",
    "    [\"ACTS\",1185,1.28]\n",
    "]\n",
    "\n",
    "index=[\"037730\",\"036360\",\"005760\"]\n",
    "columns=[\"종목명\",\"현재가\",\"등락률\"]\n",
    "df=DataFrame(data=data,index=index,columns=columns)\n",
    "\n",
    "df_new=df.drop(\"현재가\", axis=1)\n",
    "print(df)\n",
    "print(df_new)"
   ]
  },
  {
   "cell_type": "code",
   "execution_count": 124,
   "id": "161f5e50",
   "metadata": {},
   "outputs": [
    {
     "name": "stdout",
     "output_type": "stream",
     "text": [
      "          종목명   현재가   등락률\n",
      "037730     3R  1510  7.36\n",
      "036360  3SOFT  1790  4.65\n",
      "005760   ACTS  1185  1.28\n",
      "          종목명   현재가   등락률\n",
      "036360  3SOFT  1790  4.65\n",
      "005760   ACTS  1185  1.28\n"
     ]
    }
   ],
   "source": [
    "df_new=df.drop(\"037730\", axis=0)\n",
    "print(df)\n",
    "print(df_new)"
   ]
  },
  {
   "cell_type": "code",
   "execution_count": 121,
   "id": "3bdd48ea",
   "metadata": {},
   "outputs": [
    {
     "name": "stdout",
     "output_type": "stream",
     "text": [
      "          종목명   현재가   등락률\n",
      "036360  3SOFT  1790  4.65\n",
      "005760   ACTS  1185  1.28\n"
     ]
    }
   ],
   "source": [
    "df.drop(\"037730\", axis=0, inplace=True)  # 원본 데이터프레임 변경\n",
    "print(df)"
   ]
  },
  {
   "cell_type": "code",
   "execution_count": 125,
   "id": "123e3fab",
   "metadata": {},
   "outputs": [
    {
     "name": "stdout",
     "output_type": "stream",
     "text": [
      "          종목명   현재가   등락률\n",
      "036360  3SOFT  1790  4.65\n"
     ]
    }
   ],
   "source": [
    "df.drop([\"037730\",\"005760\"], axis=0, inplace=True)\n",
    "print(df)"
   ]
  },
  {
   "cell_type": "markdown",
   "id": "531ea120",
   "metadata": {},
   "source": [
    "## 4.11 컬럼 레이블 변경"
   ]
  },
  {
   "cell_type": "code",
   "execution_count": 126,
   "id": "6c3a8abf",
   "metadata": {},
   "outputs": [
    {
     "name": "stdout",
     "output_type": "stream",
     "text": [
      "Index(['종목명', '현재가', '등락률'], dtype='object')\n",
      "Index(['037730', '036360', '005760'], dtype='object')\n"
     ]
    }
   ],
   "source": [
    "from pandas import DataFrame\n",
    "\n",
    "data=[\n",
    "    [\"3R\",1510,7.36],\n",
    "    [\"3SOFT\",1790,4.65],\n",
    "    [\"ACTS\",1185,1.28]\n",
    "]\n",
    "\n",
    "index=[\"037730\",\"036360\",\"005760\"]\n",
    "columns=[\"종목명\",\"현재가\",\"등락률\"]\n",
    "df=DataFrame(data=data,index=index,columns=columns)\n",
    "\n",
    "print(df.columns)\n",
    "print(df.index)"
   ]
  },
  {
   "cell_type": "code",
   "execution_count": 128,
   "id": "17babeb4",
   "metadata": {},
   "outputs": [
    {
     "name": "stdout",
     "output_type": "stream",
     "text": [
      "         name  close  fluctuation\n",
      "code                             \n",
      "037730     3R   1510         7.36\n",
      "036360  3SOFT   1790         4.65\n",
      "005760   ACTS   1185         1.28\n"
     ]
    }
   ],
   "source": [
    "df.columns=['name','close','fluctuation']\n",
    "df.index.name='code'\n",
    "print(df)"
   ]
  },
  {
   "cell_type": "code",
   "execution_count": 129,
   "id": "6b47abb5",
   "metadata": {},
   "outputs": [
    {
     "name": "stdout",
     "output_type": "stream",
     "text": [
      "         code   현재가   등락률\n",
      "037730     3R  1510  7.36\n",
      "036360  3SOFT  1790  4.65\n",
      "005760   ACTS  1185  1.28\n"
     ]
    }
   ],
   "source": [
    "data=[\n",
    "    [\"3R\",1510,7.36],\n",
    "    [\"3SOFT\",1790,4.65],\n",
    "    [\"ACTS\",1185,1.28]\n",
    "]\n",
    "\n",
    "index=[\"037730\",\"036360\",\"005760\"]\n",
    "columns=[\"종목명\",\"현재가\",\"등락률\"]\n",
    "df=DataFrame(data=data,index=index,columns=columns)\n",
    "df.rename(columns={'종목명':'code'}, inplace=True)\n",
    "print(df)"
   ]
  },
  {
   "cell_type": "markdown",
   "id": "86d3fd34",
   "metadata": {},
   "source": [
    "## 4.12 데이터 타입 변경"
   ]
  },
  {
   "cell_type": "code",
   "execution_count": 134,
   "id": "fabc04d7",
   "metadata": {},
   "outputs": [
    {
     "name": "stdout",
     "output_type": "stream",
     "text": [
      "   03/02  03/03  03/04\n",
      "0  1,000  1,100  1,510\n",
      "1  1,410  1,420  1,790\n",
      "2    850    900  1,185\n"
     ]
    }
   ],
   "source": [
    "from pandas import DataFrame\n",
    "\n",
    "data=[\n",
    "    [\"1,000\", \"1,100\", \"1,510\"],\n",
    "    [\"1,410\", \"1,420\", \"1,790\"],\n",
    "    [\"850\", \"900\", \"1,185\"],\n",
    "]\n",
    "columns=[\"03/02\",\"03/03\",\"03/04\"]\n",
    "df=DataFrame(data=data, columns=columns)\n",
    "print(df)"
   ]
  },
  {
   "cell_type": "code",
   "execution_count": 132,
   "id": "68455c72",
   "metadata": {},
   "outputs": [
    {
     "name": "stdout",
     "output_type": "stream",
     "text": [
      "   03/02  03/03  03/04\n",
      "0   1000   1100   1510\n",
      "1   1410   1420   1790\n",
      "2    850    900   1185\n"
     ]
    }
   ],
   "source": [
    "# 코드생략\n",
    "def remove_comma(x):\n",
    "    return int(x.replace(',',''))\n",
    "\n",
    "df['03/02']=df['03/02'].map(remove_comma)\n",
    "df['03/03']=df['03/03'].map(remove_comma)\n",
    "df['03/04']=df['03/04'].map(remove_comma)\n",
    "print(df)"
   ]
  },
  {
   "cell_type": "code",
   "execution_count": 135,
   "id": "6a90b1c9",
   "metadata": {},
   "outputs": [
    {
     "name": "stdout",
     "output_type": "stream",
     "text": [
      "   03/02  03/03  03/04\n",
      "0   1000   1100   1510\n",
      "1   1410   1420   1790\n",
      "2    850    900   1185\n",
      "03/02    int64\n",
      "03/03    int64\n",
      "03/04    int64\n",
      "dtype: object\n"
     ]
    }
   ],
   "source": [
    "# 코드생략\n",
    "def remove_comma(x):\n",
    "    return int(x.replace(',',''))\n",
    "\n",
    "df=df.applymap(remove_comma)\n",
    "print(df)\n",
    "print(df.dtypes)"
   ]
  },
  {
   "cell_type": "code",
   "execution_count": 136,
   "id": "87b4bfd9",
   "metadata": {},
   "outputs": [
    {
     "name": "stdout",
     "output_type": "stream",
     "text": [
      "03/02    int64\n",
      "03/03    int64\n",
      "03/04    int64\n",
      "dtype: object\n"
     ]
    }
   ],
   "source": [
    "import numpy as np\n",
    "from pandas import DataFrame\n",
    "\n",
    "def remove_comma(x):\n",
    "    return int(x.replace(',',''))\n",
    "\n",
    "data=[\n",
    "    [\"1,000\", \"1,100\", \"1,510\"],\n",
    "    [\"1,410\", \"1,420\", \"1,790\"],\n",
    "    [\"850\", \"900\", \"1,185\"],\n",
    "]\n",
    "\n",
    "columns=[\"03/02\",\"03/03\",\"03/04\"]\n",
    "df=DataFrame(data=data, columns=columns)\n",
    "df=df.applymap(remove_comma)\n",
    "df=df.astype({\"03/02\":np.int64, \"03/03\":np.int64, \"03/04\":np.int64})\n",
    "print(df.dtypes)"
   ]
  },
  {
   "cell_type": "markdown",
   "id": "249430e6",
   "metadata": {},
   "source": [
    "## 4.13 컬럼의 문자열 다루기"
   ]
  },
  {
   "cell_type": "code",
   "execution_count": 141,
   "id": "8db4c9f3",
   "metadata": {},
   "outputs": [
    {
     "data": {
      "text/html": [
       "<div>\n",
       "<style scoped>\n",
       "    .dataframe tbody tr th:only-of-type {\n",
       "        vertical-align: middle;\n",
       "    }\n",
       "\n",
       "    .dataframe tbody tr th {\n",
       "        vertical-align: top;\n",
       "    }\n",
       "\n",
       "    .dataframe thead th {\n",
       "        text-align: right;\n",
       "    }\n",
       "</style>\n",
       "<table border=\"1\" class=\"dataframe\">\n",
       "  <thead>\n",
       "    <tr style=\"text-align: right;\">\n",
       "      <th></th>\n",
       "      <th>cd</th>\n",
       "      <th>nm</th>\n",
       "      <th>close</th>\n",
       "    </tr>\n",
       "  </thead>\n",
       "  <tbody>\n",
       "    <tr>\n",
       "      <th>0</th>\n",
       "      <td>A060310</td>\n",
       "      <td>3S</td>\n",
       "      <td>2,920</td>\n",
       "    </tr>\n",
       "    <tr>\n",
       "      <th>1</th>\n",
       "      <td>A095570</td>\n",
       "      <td>AJ네트웍스</td>\n",
       "      <td>6,250</td>\n",
       "    </tr>\n",
       "    <tr>\n",
       "      <th>2</th>\n",
       "      <td>A006840</td>\n",
       "      <td>AK홀딩스</td>\n",
       "      <td>29,700</td>\n",
       "    </tr>\n",
       "    <tr>\n",
       "      <th>3</th>\n",
       "      <td>A054260</td>\n",
       "      <td>APK홀딩스</td>\n",
       "      <td>19,400</td>\n",
       "    </tr>\n",
       "  </tbody>\n",
       "</table>\n",
       "</div>"
      ],
      "text/plain": [
       "        cd      nm   close\n",
       "0  A060310      3S   2,920\n",
       "1  A095570  AJ네트웍스   6,250\n",
       "2  A006840   AK홀딩스  29,700\n",
       "3  A054260  APK홀딩스  19,400"
      ]
     },
     "execution_count": 141,
     "metadata": {},
     "output_type": "execute_result"
    }
   ],
   "source": [
    "from pandas import DataFrame\n",
    "import numpy as np\n",
    "\n",
    "data=[\n",
    "    {\"cd\":\"A060310\", \"nm\":\"3S\", \"close\":\"2,920\"},\n",
    "    {\"cd\":\"A095570\", \"nm\":\"AJ네트웍스\", \"close\":\"6,250\"},\n",
    "    {\"cd\":\"A006840\", \"nm\":\"AK홀딩스\", \"close\":\"29,700\"},\n",
    "    {\"cd\":\"A054260\", \"nm\":\"APK홀딩스\", \"close\":\"19,400\"}\n",
    "]\n",
    "df=DataFrame(data=data)\n",
    "df"
   ]
  },
  {
   "cell_type": "code",
   "execution_count": 142,
   "id": "763737c7",
   "metadata": {},
   "outputs": [],
   "source": [
    "df['cd']=df['cd'].str[1:]"
   ]
  },
  {
   "cell_type": "code",
   "execution_count": 143,
   "id": "97ee7e51",
   "metadata": {},
   "outputs": [
    {
     "data": {
      "text/html": [
       "<div>\n",
       "<style scoped>\n",
       "    .dataframe tbody tr th:only-of-type {\n",
       "        vertical-align: middle;\n",
       "    }\n",
       "\n",
       "    .dataframe tbody tr th {\n",
       "        vertical-align: top;\n",
       "    }\n",
       "\n",
       "    .dataframe thead th {\n",
       "        text-align: right;\n",
       "    }\n",
       "</style>\n",
       "<table border=\"1\" class=\"dataframe\">\n",
       "  <thead>\n",
       "    <tr style=\"text-align: right;\">\n",
       "      <th></th>\n",
       "      <th>cd</th>\n",
       "      <th>nm</th>\n",
       "      <th>close</th>\n",
       "    </tr>\n",
       "  </thead>\n",
       "  <tbody>\n",
       "    <tr>\n",
       "      <th>0</th>\n",
       "      <td>060310</td>\n",
       "      <td>3S</td>\n",
       "      <td>2920</td>\n",
       "    </tr>\n",
       "    <tr>\n",
       "      <th>1</th>\n",
       "      <td>095570</td>\n",
       "      <td>AJ네트웍스</td>\n",
       "      <td>6250</td>\n",
       "    </tr>\n",
       "    <tr>\n",
       "      <th>2</th>\n",
       "      <td>006840</td>\n",
       "      <td>AK홀딩스</td>\n",
       "      <td>29700</td>\n",
       "    </tr>\n",
       "    <tr>\n",
       "      <th>3</th>\n",
       "      <td>054260</td>\n",
       "      <td>APK홀딩스</td>\n",
       "      <td>19400</td>\n",
       "    </tr>\n",
       "  </tbody>\n",
       "</table>\n",
       "</div>"
      ],
      "text/plain": [
       "       cd      nm  close\n",
       "0  060310      3S   2920\n",
       "1  095570  AJ네트웍스   6250\n",
       "2  006840   AK홀딩스  29700\n",
       "3  054260  APK홀딩스  19400"
      ]
     },
     "execution_count": 143,
     "metadata": {},
     "output_type": "execute_result"
    }
   ],
   "source": [
    "df['close']=df['close'].str.replace(',','').astype(np.int64)\n",
    "df"
   ]
  },
  {
   "cell_type": "markdown",
   "id": "66d80a99",
   "metadata": {},
   "source": [
    "# 05 판다스 데이터프레밍 Part2"
   ]
  },
  {
   "cell_type": "markdown",
   "id": "59ac161c",
   "metadata": {},
   "source": [
    "## 5.1 Query"
   ]
  },
  {
   "cell_type": "code",
   "execution_count": 144,
   "id": "f3516ceb",
   "metadata": {},
   "outputs": [
    {
     "name": "stdout",
     "output_type": "stream",
     "text": [
      "             nm  open  close\n",
      "cd                          \n",
      "A060310      3S  2920   2800\n",
      "A095570  AJ네트웍스  1920   1900\n",
      "A006840   AK홀딩스  2020   2010\n",
      "A054260  APK홀딩스  3120   3200\n"
     ]
    }
   ],
   "source": [
    "from pandas import DataFrame\n",
    "\n",
    "data=[\n",
    "    {\"cd\":\"A060310\", \"nm\":\"3S\", \"open\":2920, \"close\":2800},\n",
    "    {\"cd\":\"A095570\", \"nm\":\"AJ네트웍스\", \"open\":1920, \"close\":1900},\n",
    "    {\"cd\":\"A006840\", \"nm\":\"AK홀딩스\", \"open\":2020, \"close\":2010},\n",
    "    {\"cd\":\"A054260\", \"nm\":\"APK홀딩스\", \"open\":3120, \"close\":3200}\n",
    "]\n",
    "df=DataFrame(data=data)\n",
    "df=df.set_index('cd')\n",
    "print(df)"
   ]
  },
  {
   "cell_type": "code",
   "execution_count": 145,
   "id": "56245ce1",
   "metadata": {},
   "outputs": [
    {
     "name": "stdout",
     "output_type": "stream",
     "text": [
      "             nm  open  close\n",
      "cd                          \n",
      "A060310      3S  2920   2800\n",
      "A006840   AK홀딩스  2020   2010\n",
      "A054260  APK홀딩스  3120   3200\n"
     ]
    }
   ],
   "source": [
    "cond=df['open']>=2000\n",
    "print(df[cond])"
   ]
  },
  {
   "cell_type": "code",
   "execution_count": 146,
   "id": "fa330225",
   "metadata": {},
   "outputs": [
    {
     "name": "stdout",
     "output_type": "stream",
     "text": [
      "         nm  open  close\n",
      "cd                      \n",
      "A060310  3S  2920   2800\n",
      "         nm  open  close\n",
      "cd                      \n",
      "A060310  3S  2920   2800\n"
     ]
    }
   ],
   "source": [
    "print(df.query(\"nm=='3S'\"))\n",
    "print(df.query('nm==\"3S\"'))"
   ]
  },
  {
   "cell_type": "code",
   "execution_count": 147,
   "id": "0f67c984",
   "metadata": {},
   "outputs": [
    {
     "name": "stdout",
     "output_type": "stream",
     "text": [
      "             nm  open  close\n",
      "cd                          \n",
      "A060310      3S  2920   2800\n",
      "A095570  AJ네트웍스  1920   1900\n",
      "A006840   AK홀딩스  2020   2010\n"
     ]
    }
   ],
   "source": [
    "print(df.query(\"open>close\"))"
   ]
  },
  {
   "cell_type": "code",
   "execution_count": 148,
   "id": "1b2df284",
   "metadata": {},
   "outputs": [
    {
     "name": "stdout",
     "output_type": "stream",
     "text": [
      "            nm  open  close\n",
      "cd                         \n",
      "A060310     3S  2920   2800\n",
      "A006840  AK홀딩스  2020   2010\n"
     ]
    }
   ],
   "source": [
    "print(df.query(\"nm in ['3S', 'AK홀딩스']\"))"
   ]
  },
  {
   "cell_type": "code",
   "execution_count": 149,
   "id": "e8804859",
   "metadata": {},
   "outputs": [
    {
     "data": {
      "text/html": [
       "<div>\n",
       "<style scoped>\n",
       "    .dataframe tbody tr th:only-of-type {\n",
       "        vertical-align: middle;\n",
       "    }\n",
       "\n",
       "    .dataframe tbody tr th {\n",
       "        vertical-align: top;\n",
       "    }\n",
       "\n",
       "    .dataframe thead th {\n",
       "        text-align: right;\n",
       "    }\n",
       "</style>\n",
       "<table border=\"1\" class=\"dataframe\">\n",
       "  <thead>\n",
       "    <tr style=\"text-align: right;\">\n",
       "      <th></th>\n",
       "      <th>nm</th>\n",
       "      <th>open</th>\n",
       "      <th>close</th>\n",
       "    </tr>\n",
       "    <tr>\n",
       "      <th>cd</th>\n",
       "      <th></th>\n",
       "      <th></th>\n",
       "      <th></th>\n",
       "    </tr>\n",
       "  </thead>\n",
       "  <tbody>\n",
       "    <tr>\n",
       "      <th>A060310</th>\n",
       "      <td>3S</td>\n",
       "      <td>2920</td>\n",
       "      <td>2800</td>\n",
       "    </tr>\n",
       "  </tbody>\n",
       "</table>\n",
       "</div>"
      ],
      "text/plain": [
       "         nm  open  close\n",
       "cd                      \n",
       "A060310  3S  2920   2800"
      ]
     },
     "execution_count": 149,
     "metadata": {},
     "output_type": "execute_result"
    }
   ],
   "source": [
    "df.query(\"cd=='A060310'\")"
   ]
  },
  {
   "cell_type": "code",
   "execution_count": 150,
   "id": "7785aa19",
   "metadata": {},
   "outputs": [
    {
     "data": {
      "text/html": [
       "<div>\n",
       "<style scoped>\n",
       "    .dataframe tbody tr th:only-of-type {\n",
       "        vertical-align: middle;\n",
       "    }\n",
       "\n",
       "    .dataframe tbody tr th {\n",
       "        vertical-align: top;\n",
       "    }\n",
       "\n",
       "    .dataframe thead th {\n",
       "        text-align: right;\n",
       "    }\n",
       "</style>\n",
       "<table border=\"1\" class=\"dataframe\">\n",
       "  <thead>\n",
       "    <tr style=\"text-align: right;\">\n",
       "      <th></th>\n",
       "      <th>nm</th>\n",
       "      <th>open</th>\n",
       "      <th>close</th>\n",
       "    </tr>\n",
       "    <tr>\n",
       "      <th>cd</th>\n",
       "      <th></th>\n",
       "      <th></th>\n",
       "      <th></th>\n",
       "    </tr>\n",
       "  </thead>\n",
       "  <tbody>\n",
       "    <tr>\n",
       "      <th>A095570</th>\n",
       "      <td>AJ네트웍스</td>\n",
       "      <td>1920</td>\n",
       "      <td>1900</td>\n",
       "    </tr>\n",
       "  </tbody>\n",
       "</table>\n",
       "</div>"
      ],
      "text/plain": [
       "             nm  open  close\n",
       "cd                          \n",
       "A095570  AJ네트웍스  1920   1900"
      ]
     },
     "execution_count": 150,
     "metadata": {},
     "output_type": "execute_result"
    }
   ],
   "source": [
    "name=\"AJ네트웍스\"\n",
    "df.query('nm==@name')"
   ]
  },
  {
   "cell_type": "markdown",
   "id": "c7d567ae",
   "metadata": {},
   "source": [
    "## 5.2 Filter"
   ]
  },
  {
   "cell_type": "code",
   "execution_count": 151,
   "id": "614fb6d5",
   "metadata": {},
   "outputs": [
    {
     "name": "stdout",
     "output_type": "stream",
     "text": [
      "     2018/12  2019/12  2020/12  2021/12(E)\n",
      "DPS  1416.00  1416.00  2994.00     1755.00\n",
      "PER     6.42    17.63    21.09       13.93\n",
      "PBR     1.10     1.49     2.06        1.88\n"
     ]
    }
   ],
   "source": [
    "from pandas import DataFrame\n",
    "\n",
    "data=[\n",
    "    [1416, 1416, 2994, 1755],\n",
    "    [6.42, 17.63, 21.09, 13.93],\n",
    "    [1.10, 1.49, 2.06, 1.88]\n",
    "]\n",
    "\n",
    "columns=[\"2018/12\", \"2019/12\", \"2020/12\", \"2021/12(E)\"]\n",
    "index=[\"DPS\",\"PER\",\"PBR\"]\n",
    "\n",
    "df=DataFrame(data=data,index=index,columns=columns)\n",
    "print(df)"
   ]
  },
  {
   "cell_type": "code",
   "execution_count": 152,
   "id": "7ee4d9fd",
   "metadata": {},
   "outputs": [
    {
     "data": {
      "text/html": [
       "<div>\n",
       "<style scoped>\n",
       "    .dataframe tbody tr th:only-of-type {\n",
       "        vertical-align: middle;\n",
       "    }\n",
       "\n",
       "    .dataframe tbody tr th {\n",
       "        vertical-align: top;\n",
       "    }\n",
       "\n",
       "    .dataframe thead th {\n",
       "        text-align: right;\n",
       "    }\n",
       "</style>\n",
       "<table border=\"1\" class=\"dataframe\">\n",
       "  <thead>\n",
       "    <tr style=\"text-align: right;\">\n",
       "      <th></th>\n",
       "      <th>2018/12</th>\n",
       "    </tr>\n",
       "  </thead>\n",
       "  <tbody>\n",
       "    <tr>\n",
       "      <th>DPS</th>\n",
       "      <td>1416.00</td>\n",
       "    </tr>\n",
       "    <tr>\n",
       "      <th>PER</th>\n",
       "      <td>6.42</td>\n",
       "    </tr>\n",
       "    <tr>\n",
       "      <th>PBR</th>\n",
       "      <td>1.10</td>\n",
       "    </tr>\n",
       "  </tbody>\n",
       "</table>\n",
       "</div>"
      ],
      "text/plain": [
       "     2018/12\n",
       "DPS  1416.00\n",
       "PER     6.42\n",
       "PBR     1.10"
      ]
     },
     "execution_count": 152,
     "metadata": {},
     "output_type": "execute_result"
    }
   ],
   "source": [
    "df.filter(items=['2018/12'])"
   ]
  },
  {
   "cell_type": "code",
   "execution_count": 153,
   "id": "587f8e6e",
   "metadata": {},
   "outputs": [
    {
     "data": {
      "text/html": [
       "<div>\n",
       "<style scoped>\n",
       "    .dataframe tbody tr th:only-of-type {\n",
       "        vertical-align: middle;\n",
       "    }\n",
       "\n",
       "    .dataframe tbody tr th {\n",
       "        vertical-align: top;\n",
       "    }\n",
       "\n",
       "    .dataframe thead th {\n",
       "        text-align: right;\n",
       "    }\n",
       "</style>\n",
       "<table border=\"1\" class=\"dataframe\">\n",
       "  <thead>\n",
       "    <tr style=\"text-align: right;\">\n",
       "      <th></th>\n",
       "      <th>2018/12</th>\n",
       "      <th>2019/12</th>\n",
       "      <th>2020/12</th>\n",
       "      <th>2021/12(E)</th>\n",
       "    </tr>\n",
       "  </thead>\n",
       "  <tbody>\n",
       "    <tr>\n",
       "      <th>PER</th>\n",
       "      <td>6.42</td>\n",
       "      <td>17.63</td>\n",
       "      <td>21.09</td>\n",
       "      <td>13.93</td>\n",
       "    </tr>\n",
       "  </tbody>\n",
       "</table>\n",
       "</div>"
      ],
      "text/plain": [
       "     2018/12  2019/12  2020/12  2021/12(E)\n",
       "PER     6.42    17.63    21.09       13.93"
      ]
     },
     "execution_count": 153,
     "metadata": {},
     "output_type": "execute_result"
    }
   ],
   "source": [
    "df.filter(items=[\"PER\"], axis=0)"
   ]
  },
  {
   "cell_type": "code",
   "execution_count": 154,
   "id": "3bf535a8",
   "metadata": {},
   "outputs": [
    {
     "data": {
      "text/html": [
       "<div>\n",
       "<style scoped>\n",
       "    .dataframe tbody tr th:only-of-type {\n",
       "        vertical-align: middle;\n",
       "    }\n",
       "\n",
       "    .dataframe tbody tr th {\n",
       "        vertical-align: top;\n",
       "    }\n",
       "\n",
       "    .dataframe thead th {\n",
       "        text-align: right;\n",
       "    }\n",
       "</style>\n",
       "<table border=\"1\" class=\"dataframe\">\n",
       "  <thead>\n",
       "    <tr style=\"text-align: right;\">\n",
       "      <th></th>\n",
       "      <th>2020/12</th>\n",
       "    </tr>\n",
       "  </thead>\n",
       "  <tbody>\n",
       "    <tr>\n",
       "      <th>DPS</th>\n",
       "      <td>2994.00</td>\n",
       "    </tr>\n",
       "    <tr>\n",
       "      <th>PER</th>\n",
       "      <td>21.09</td>\n",
       "    </tr>\n",
       "    <tr>\n",
       "      <th>PBR</th>\n",
       "      <td>2.06</td>\n",
       "    </tr>\n",
       "  </tbody>\n",
       "</table>\n",
       "</div>"
      ],
      "text/plain": [
       "     2020/12\n",
       "DPS  2994.00\n",
       "PER    21.09\n",
       "PBR     2.06"
      ]
     },
     "execution_count": 154,
     "metadata": {},
     "output_type": "execute_result"
    }
   ],
   "source": [
    "df.filter(regex=\"2020\")"
   ]
  },
  {
   "cell_type": "code",
   "execution_count": 155,
   "id": "e6900e4d",
   "metadata": {},
   "outputs": [
    {
     "data": {
      "text/html": [
       "<div>\n",
       "<style scoped>\n",
       "    .dataframe tbody tr th:only-of-type {\n",
       "        vertical-align: middle;\n",
       "    }\n",
       "\n",
       "    .dataframe tbody tr th {\n",
       "        vertical-align: top;\n",
       "    }\n",
       "\n",
       "    .dataframe thead th {\n",
       "        text-align: right;\n",
       "    }\n",
       "</style>\n",
       "<table border=\"1\" class=\"dataframe\">\n",
       "  <thead>\n",
       "    <tr style=\"text-align: right;\">\n",
       "      <th></th>\n",
       "      <th>2020/12</th>\n",
       "    </tr>\n",
       "  </thead>\n",
       "  <tbody>\n",
       "    <tr>\n",
       "      <th>DPS</th>\n",
       "      <td>2994.00</td>\n",
       "    </tr>\n",
       "    <tr>\n",
       "      <th>PER</th>\n",
       "      <td>21.09</td>\n",
       "    </tr>\n",
       "    <tr>\n",
       "      <th>PBR</th>\n",
       "      <td>2.06</td>\n",
       "    </tr>\n",
       "  </tbody>\n",
       "</table>\n",
       "</div>"
      ],
      "text/plain": [
       "     2020/12\n",
       "DPS  2994.00\n",
       "PER    21.09\n",
       "PBR     2.06"
      ]
     },
     "execution_count": 155,
     "metadata": {},
     "output_type": "execute_result"
    }
   ],
   "source": [
    "df.filter(regex=\"^2020\")"
   ]
  },
  {
   "cell_type": "code",
   "execution_count": 156,
   "id": "cdf1cd54",
   "metadata": {},
   "outputs": [
    {
     "data": {
      "text/html": [
       "<div>\n",
       "<style scoped>\n",
       "    .dataframe tbody tr th:only-of-type {\n",
       "        vertical-align: middle;\n",
       "    }\n",
       "\n",
       "    .dataframe tbody tr th {\n",
       "        vertical-align: top;\n",
       "    }\n",
       "\n",
       "    .dataframe thead th {\n",
       "        text-align: right;\n",
       "    }\n",
       "</style>\n",
       "<table border=\"1\" class=\"dataframe\">\n",
       "  <thead>\n",
       "    <tr style=\"text-align: right;\">\n",
       "      <th></th>\n",
       "      <th>2018/12</th>\n",
       "      <th>2019/12</th>\n",
       "      <th>2020/12</th>\n",
       "      <th>2021/12(E)</th>\n",
       "    </tr>\n",
       "  </thead>\n",
       "  <tbody>\n",
       "    <tr>\n",
       "      <th>PER</th>\n",
       "      <td>6.42</td>\n",
       "      <td>17.63</td>\n",
       "      <td>21.09</td>\n",
       "      <td>13.93</td>\n",
       "    </tr>\n",
       "    <tr>\n",
       "      <th>PBR</th>\n",
       "      <td>1.10</td>\n",
       "      <td>1.49</td>\n",
       "      <td>2.06</td>\n",
       "      <td>1.88</td>\n",
       "    </tr>\n",
       "  </tbody>\n",
       "</table>\n",
       "</div>"
      ],
      "text/plain": [
       "     2018/12  2019/12  2020/12  2021/12(E)\n",
       "PER     6.42    17.63    21.09       13.93\n",
       "PBR     1.10     1.49     2.06        1.88"
      ]
     },
     "execution_count": 156,
     "metadata": {},
     "output_type": "execute_result"
    }
   ],
   "source": [
    "df.filter(regex=\"R$\", axis=0)"
   ]
  },
  {
   "cell_type": "code",
   "execution_count": 158,
   "id": "ae588263",
   "metadata": {},
   "outputs": [
    {
     "data": {
      "text/html": [
       "<div>\n",
       "<style scoped>\n",
       "    .dataframe tbody tr th:only-of-type {\n",
       "        vertical-align: middle;\n",
       "    }\n",
       "\n",
       "    .dataframe tbody tr th {\n",
       "        vertical-align: top;\n",
       "    }\n",
       "\n",
       "    .dataframe thead th {\n",
       "        text-align: right;\n",
       "    }\n",
       "</style>\n",
       "<table border=\"1\" class=\"dataframe\">\n",
       "  <thead>\n",
       "    <tr style=\"text-align: right;\">\n",
       "      <th></th>\n",
       "    </tr>\n",
       "  </thead>\n",
       "  <tbody>\n",
       "    <tr>\n",
       "      <th>DPS</th>\n",
       "    </tr>\n",
       "    <tr>\n",
       "      <th>PER</th>\n",
       "    </tr>\n",
       "    <tr>\n",
       "      <th>PBR</th>\n",
       "    </tr>\n",
       "  </tbody>\n",
       "</table>\n",
       "</div>"
      ],
      "text/plain": [
       "Empty DataFrame\n",
       "Columns: []\n",
       "Index: [DPS, PER, PBR]"
      ]
     },
     "execution_count": 158,
     "metadata": {},
     "output_type": "execute_result"
    }
   ],
   "source": [
    "df.filter(regex=\"\\d(4)\")"
   ]
  },
  {
   "cell_type": "code",
   "execution_count": 159,
   "id": "b9fd322e",
   "metadata": {},
   "outputs": [
    {
     "data": {
      "text/html": [
       "<div>\n",
       "<style scoped>\n",
       "    .dataframe tbody tr th:only-of-type {\n",
       "        vertical-align: middle;\n",
       "    }\n",
       "\n",
       "    .dataframe tbody tr th {\n",
       "        vertical-align: top;\n",
       "    }\n",
       "\n",
       "    .dataframe thead th {\n",
       "        text-align: right;\n",
       "    }\n",
       "</style>\n",
       "<table border=\"1\" class=\"dataframe\">\n",
       "  <thead>\n",
       "    <tr style=\"text-align: right;\">\n",
       "      <th></th>\n",
       "      <th>2018/12</th>\n",
       "      <th>2019/12</th>\n",
       "      <th>2020/12</th>\n",
       "    </tr>\n",
       "  </thead>\n",
       "  <tbody>\n",
       "    <tr>\n",
       "      <th>DPS</th>\n",
       "      <td>1416.00</td>\n",
       "      <td>1416.00</td>\n",
       "      <td>2994.00</td>\n",
       "    </tr>\n",
       "    <tr>\n",
       "      <th>PER</th>\n",
       "      <td>6.42</td>\n",
       "      <td>17.63</td>\n",
       "      <td>21.09</td>\n",
       "    </tr>\n",
       "    <tr>\n",
       "      <th>PBR</th>\n",
       "      <td>1.10</td>\n",
       "      <td>1.49</td>\n",
       "      <td>2.06</td>\n",
       "    </tr>\n",
       "  </tbody>\n",
       "</table>\n",
       "</div>"
      ],
      "text/plain": [
       "     2018/12  2019/12  2020/12\n",
       "DPS  1416.00  1416.00  2994.00\n",
       "PER     6.42    17.63    21.09\n",
       "PBR     1.10     1.49     2.06"
      ]
     },
     "execution_count": 159,
     "metadata": {},
     "output_type": "execute_result"
    }
   ],
   "source": [
    "df.filter(regex=\"\\d{4}/\\d{2}$\")"
   ]
  },
  {
   "cell_type": "markdown",
   "id": "a78ea5d3",
   "metadata": {},
   "source": [
    "## 5.3 정렬 및 순위"
   ]
  },
  {
   "cell_type": "code",
   "execution_count": 161,
   "id": "9af0d38b",
   "metadata": {},
   "outputs": [],
   "source": [
    "data=[\n",
    "    [\"037730\", \"3R\", 1510],\n",
    "    [\"036360\", \"3SOFT\", 1790],\n",
    "    [\"005670\", \"ACTS\", 1185],\n",
    "]\n",
    "\n",
    "columns=[\"종목코드\",\"종목명\",\"현재가\"]\n",
    "df=DataFrame(data=data, columns=columns)\n",
    "df.set_index(\"종목코드\", inplace=True)"
   ]
  },
  {
   "cell_type": "code",
   "execution_count": 162,
   "id": "9146d92a",
   "metadata": {},
   "outputs": [
    {
     "name": "stdout",
     "output_type": "stream",
     "text": [
      "          종목명   현재가\n",
      "종목코드               \n",
      "005670   ACTS  1185\n",
      "037730     3R  1510\n",
      "036360  3SOFT  1790\n"
     ]
    }
   ],
   "source": [
    "df2=df.sort_values(\"현재가\")\n",
    "print(df2)"
   ]
  },
  {
   "cell_type": "code",
   "execution_count": 163,
   "id": "850aca58",
   "metadata": {},
   "outputs": [
    {
     "name": "stdout",
     "output_type": "stream",
     "text": [
      "          종목명   현재가\n",
      "종목코드               \n",
      "005670   ACTS  1185\n",
      "037730     3R  1510\n",
      "036360  3SOFT  1790\n"
     ]
    }
   ],
   "source": [
    "df2=df.sort_values(by=\"현재가\")\n",
    "print(df2)"
   ]
  },
  {
   "cell_type": "code",
   "execution_count": 165,
   "id": "9d95ab0a",
   "metadata": {},
   "outputs": [
    {
     "name": "stdout",
     "output_type": "stream",
     "text": [
      "          종목명   현재가\n",
      "종목코드               \n",
      "036360  3SOFT  1790\n",
      "037730     3R  1510\n",
      "005670   ACTS  1185\n"
     ]
    }
   ],
   "source": [
    "df2=df.sort_values(by=\"현재가\", ascending=False)\n",
    "print(df2)"
   ]
  },
  {
   "cell_type": "code",
   "execution_count": 167,
   "id": "f015641b",
   "metadata": {},
   "outputs": [
    {
     "name": "stdout",
     "output_type": "stream",
     "text": [
      "          종목명   현재가   순위\n",
      "종목코드                    \n",
      "037730     3R  1510  2.0\n",
      "036360  3SOFT  1790  3.0\n",
      "005670   ACTS  1185  1.0\n"
     ]
    }
   ],
   "source": [
    "df['순위']=df['현재가'].rank()\n",
    "print(df)"
   ]
  },
  {
   "cell_type": "code",
   "execution_count": 168,
   "id": "6c37e41d",
   "metadata": {},
   "outputs": [
    {
     "name": "stdout",
     "output_type": "stream",
     "text": [
      "          종목명   현재가   순위\n",
      "종목코드                    \n",
      "005670   ACTS  1185  1.0\n",
      "037730     3R  1510  2.0\n",
      "036360  3SOFT  1790  3.0\n"
     ]
    }
   ],
   "source": [
    "df.sort_values(by=\"순위\", inplace=True)\n",
    "print(df)"
   ]
  },
  {
   "cell_type": "markdown",
   "id": "786f4470",
   "metadata": {},
   "source": [
    "## 5.4 인덱스 연산"
   ]
  },
  {
   "cell_type": "code",
   "execution_count": 170,
   "id": "638a4424",
   "metadata": {},
   "outputs": [
    {
     "name": "stdout",
     "output_type": "stream",
     "text": [
      "<class 'pandas.core.indexes.base.Index'>\n"
     ]
    }
   ],
   "source": [
    "import pandas as pd\n",
    "\n",
    "idx1=pd.Index([1,2,3])\n",
    "idx2=pd.Index([2,3,4])\n",
    "print(type(idx1))"
   ]
  },
  {
   "cell_type": "code",
   "execution_count": 171,
   "id": "cc8fcc8d",
   "metadata": {},
   "outputs": [
    {
     "data": {
      "text/plain": [
       "Index([1, 2, 3, 4], dtype='int64')"
      ]
     },
     "execution_count": 171,
     "metadata": {},
     "output_type": "execute_result"
    }
   ],
   "source": [
    "idx1.union(idx2)"
   ]
  },
  {
   "cell_type": "code",
   "execution_count": 172,
   "id": "9eee785d",
   "metadata": {},
   "outputs": [
    {
     "data": {
      "text/plain": [
       "Index([2, 3], dtype='int64')"
      ]
     },
     "execution_count": 172,
     "metadata": {},
     "output_type": "execute_result"
    }
   ],
   "source": [
    "idx1.intersection(idx2)"
   ]
  },
  {
   "cell_type": "code",
   "execution_count": 173,
   "id": "471e50d1",
   "metadata": {},
   "outputs": [
    {
     "data": {
      "text/plain": [
       "Index([1], dtype='int64')"
      ]
     },
     "execution_count": 173,
     "metadata": {},
     "output_type": "execute_result"
    }
   ],
   "source": [
    "idx1.difference(idx2)"
   ]
  },
  {
   "cell_type": "markdown",
   "id": "fefbbba3",
   "metadata": {},
   "source": [
    "## 5.5 GroupBy"
   ]
  },
  {
   "cell_type": "code",
   "execution_count": 174,
   "id": "0ec3aebc",
   "metadata": {},
   "outputs": [],
   "source": [
    "from pandas import DataFrame\n",
    "\n",
    "data=[\n",
    "    [\"2차전지(생산)\",\"SK이노베이션\",10.19,1.29],\n",
    "    [\"해운\",\"팬오션\",21.23,0.95],\n",
    "    [\"시스템반도체\",\"티엘아이\",35.97,1.12],\n",
    "    [\"해운\",\"HMM\",21.52,3.20],\n",
    "    [\"2차전지(생산)\",\"LG화확\",83.06,3.75]\n",
    "]\n",
    "\n",
    "columns=[\"테마\",\"종목명\",\"PER\",\"PBR\"]\n",
    "df=DataFrame(data=data,columns=columns)\n",
    "df1=df[df['테마']==\"2차전지(생산)\"]"
   ]
  },
  {
   "cell_type": "code",
   "execution_count": 175,
   "id": "471d03a9",
   "metadata": {},
   "outputs": [],
   "source": [
    "df2=df[df['테마']==\"해운\"]\n",
    "df3=df[df['테마']==\"시스템반도체\"]"
   ]
  },
  {
   "cell_type": "code",
   "execution_count": 177,
   "id": "b2578061",
   "metadata": {},
   "outputs": [],
   "source": [
    "mean1=df1['PER'].mean()\n",
    "mean2=df2['PER'].mean()\n",
    "mean3=df3['PER'].mean()"
   ]
  },
  {
   "cell_type": "code",
   "execution_count": 178,
   "id": "44932caa",
   "metadata": {},
   "outputs": [],
   "source": [
    "data=[mean1,mean2,mean3]\n",
    "index=[\"2차전지(생산)\",\"해운\",\"시스템반도체\"]\n",
    "s=pd.Series(data=data,index=index)"
   ]
  },
  {
   "cell_type": "code",
   "execution_count": 179,
   "id": "604fc868",
   "metadata": {},
   "outputs": [
    {
     "data": {
      "text/plain": [
       "테마\n",
       "2차전지(생산)    46.625\n",
       "시스템반도체      35.970\n",
       "해운          21.375\n",
       "Name: PER, dtype: float64"
      ]
     },
     "execution_count": 179,
     "metadata": {},
     "output_type": "execute_result"
    }
   ],
   "source": [
    "df.groupby(\"테마\")[\"PER\"].mean()"
   ]
  },
  {
   "cell_type": "code",
   "execution_count": 180,
   "id": "3086cbf3",
   "metadata": {},
   "outputs": [
    {
     "name": "stdout",
     "output_type": "stream",
     "text": [
      "         테마      종목명    PER   PBR\n",
      "0  2차전지(생산)  SK이노베이션  10.19  1.29\n",
      "4  2차전지(생산)     LG화확  83.06  3.75\n"
     ]
    }
   ],
   "source": [
    "gb=df.groupby(\"테마\")\n",
    "temp=gb.get_group(\"2차전지(생산)\")\n",
    "print(temp)"
   ]
  },
  {
   "cell_type": "code",
   "execution_count": 182,
   "id": "300bf055",
   "metadata": {},
   "outputs": [
    {
     "name": "stdout",
     "output_type": "stream",
     "text": [
      "         테마    PER   PBR\n",
      "0  2차전지(생산)  10.19  1.29\n",
      "4  2차전지(생산)  83.06  3.75\n"
     ]
    }
   ],
   "source": [
    "temp=df[[\"테마\",\"PER\",\"PBR\"]].groupby(\"테마\").get_group(\"2차전지(생산)\")\n",
    "print(temp)"
   ]
  },
  {
   "cell_type": "code",
   "execution_count": 183,
   "id": "b2f6a998",
   "metadata": {},
   "outputs": [
    {
     "data": {
      "text/html": [
       "<div>\n",
       "<style scoped>\n",
       "    .dataframe tbody tr th:only-of-type {\n",
       "        vertical-align: middle;\n",
       "    }\n",
       "\n",
       "    .dataframe tbody tr th {\n",
       "        vertical-align: top;\n",
       "    }\n",
       "\n",
       "    .dataframe thead th {\n",
       "        text-align: right;\n",
       "    }\n",
       "</style>\n",
       "<table border=\"1\" class=\"dataframe\">\n",
       "  <thead>\n",
       "    <tr style=\"text-align: right;\">\n",
       "      <th></th>\n",
       "      <th>PER</th>\n",
       "      <th>PBR</th>\n",
       "    </tr>\n",
       "    <tr>\n",
       "      <th>테마</th>\n",
       "      <th></th>\n",
       "      <th></th>\n",
       "    </tr>\n",
       "  </thead>\n",
       "  <tbody>\n",
       "    <tr>\n",
       "      <th>2차전지(생산)</th>\n",
       "      <td>46.625</td>\n",
       "      <td>2.520</td>\n",
       "    </tr>\n",
       "    <tr>\n",
       "      <th>시스템반도체</th>\n",
       "      <td>35.970</td>\n",
       "      <td>1.120</td>\n",
       "    </tr>\n",
       "    <tr>\n",
       "      <th>해운</th>\n",
       "      <td>21.375</td>\n",
       "      <td>2.075</td>\n",
       "    </tr>\n",
       "  </tbody>\n",
       "</table>\n",
       "</div>"
      ],
      "text/plain": [
       "             PER    PBR\n",
       "테마                     \n",
       "2차전지(생산)  46.625  2.520\n",
       "시스템반도체    35.970  1.120\n",
       "해운        21.375  2.075"
      ]
     },
     "execution_count": 183,
     "metadata": {},
     "output_type": "execute_result"
    }
   ],
   "source": [
    "df.groupby(\"테마\")[[\"PER\",\"PBR\"]].mean()"
   ]
  },
  {
   "cell_type": "code",
   "execution_count": 184,
   "id": "f0e3abdc",
   "metadata": {},
   "outputs": [
    {
     "ename": "TypeError",
     "evalue": "Could not convert SK이노베이션LG화확 to numeric",
     "output_type": "error",
     "traceback": [
      "\u001b[1;31m---------------------------------------------------------------------------\u001b[0m",
      "\u001b[1;31mNotImplementedError\u001b[0m                       Traceback (most recent call last)",
      "File \u001b[1;32mC:\\ProgramData\\anaconda3\\Lib\\site-packages\\pandas\\core\\groupby\\groupby.py:1490\u001b[0m, in \u001b[0;36mGroupBy._cython_agg_general.<locals>.array_func\u001b[1;34m(values)\u001b[0m\n\u001b[0;32m   1489\u001b[0m \u001b[38;5;28;01mtry\u001b[39;00m:\n\u001b[1;32m-> 1490\u001b[0m     result \u001b[38;5;241m=\u001b[39m \u001b[38;5;28mself\u001b[39m\u001b[38;5;241m.\u001b[39mgrouper\u001b[38;5;241m.\u001b[39m_cython_operation(\n\u001b[0;32m   1491\u001b[0m         \u001b[38;5;124m\"\u001b[39m\u001b[38;5;124maggregate\u001b[39m\u001b[38;5;124m\"\u001b[39m,\n\u001b[0;32m   1492\u001b[0m         values,\n\u001b[0;32m   1493\u001b[0m         how,\n\u001b[0;32m   1494\u001b[0m         axis\u001b[38;5;241m=\u001b[39mdata\u001b[38;5;241m.\u001b[39mndim \u001b[38;5;241m-\u001b[39m \u001b[38;5;241m1\u001b[39m,\n\u001b[0;32m   1495\u001b[0m         min_count\u001b[38;5;241m=\u001b[39mmin_count,\n\u001b[0;32m   1496\u001b[0m         \u001b[38;5;241m*\u001b[39m\u001b[38;5;241m*\u001b[39mkwargs,\n\u001b[0;32m   1497\u001b[0m     )\n\u001b[0;32m   1498\u001b[0m \u001b[38;5;28;01mexcept\u001b[39;00m \u001b[38;5;167;01mNotImplementedError\u001b[39;00m:\n\u001b[0;32m   1499\u001b[0m     \u001b[38;5;66;03m# generally if we have numeric_only=False\u001b[39;00m\n\u001b[0;32m   1500\u001b[0m     \u001b[38;5;66;03m# and non-applicable functions\u001b[39;00m\n\u001b[0;32m   1501\u001b[0m     \u001b[38;5;66;03m# try to python agg\u001b[39;00m\n\u001b[0;32m   1502\u001b[0m     \u001b[38;5;66;03m# TODO: shouldn't min_count matter?\u001b[39;00m\n",
      "File \u001b[1;32mC:\\ProgramData\\anaconda3\\Lib\\site-packages\\pandas\\core\\groupby\\ops.py:959\u001b[0m, in \u001b[0;36mBaseGrouper._cython_operation\u001b[1;34m(self, kind, values, how, axis, min_count, **kwargs)\u001b[0m\n\u001b[0;32m    958\u001b[0m ngroups \u001b[38;5;241m=\u001b[39m \u001b[38;5;28mself\u001b[39m\u001b[38;5;241m.\u001b[39mngroups\n\u001b[1;32m--> 959\u001b[0m \u001b[38;5;28;01mreturn\u001b[39;00m cy_op\u001b[38;5;241m.\u001b[39mcython_operation(\n\u001b[0;32m    960\u001b[0m     values\u001b[38;5;241m=\u001b[39mvalues,\n\u001b[0;32m    961\u001b[0m     axis\u001b[38;5;241m=\u001b[39maxis,\n\u001b[0;32m    962\u001b[0m     min_count\u001b[38;5;241m=\u001b[39mmin_count,\n\u001b[0;32m    963\u001b[0m     comp_ids\u001b[38;5;241m=\u001b[39mids,\n\u001b[0;32m    964\u001b[0m     ngroups\u001b[38;5;241m=\u001b[39mngroups,\n\u001b[0;32m    965\u001b[0m     \u001b[38;5;241m*\u001b[39m\u001b[38;5;241m*\u001b[39mkwargs,\n\u001b[0;32m    966\u001b[0m )\n",
      "File \u001b[1;32mC:\\ProgramData\\anaconda3\\Lib\\site-packages\\pandas\\core\\groupby\\ops.py:657\u001b[0m, in \u001b[0;36mWrappedCythonOp.cython_operation\u001b[1;34m(self, values, axis, min_count, comp_ids, ngroups, **kwargs)\u001b[0m\n\u001b[0;32m    649\u001b[0m     \u001b[38;5;28;01mreturn\u001b[39;00m \u001b[38;5;28mself\u001b[39m\u001b[38;5;241m.\u001b[39m_ea_wrap_cython_operation(\n\u001b[0;32m    650\u001b[0m         values,\n\u001b[0;32m    651\u001b[0m         min_count\u001b[38;5;241m=\u001b[39mmin_count,\n\u001b[1;32m   (...)\u001b[0m\n\u001b[0;32m    654\u001b[0m         \u001b[38;5;241m*\u001b[39m\u001b[38;5;241m*\u001b[39mkwargs,\n\u001b[0;32m    655\u001b[0m     )\n\u001b[1;32m--> 657\u001b[0m \u001b[38;5;28;01mreturn\u001b[39;00m \u001b[38;5;28mself\u001b[39m\u001b[38;5;241m.\u001b[39m_cython_op_ndim_compat(\n\u001b[0;32m    658\u001b[0m     values,\n\u001b[0;32m    659\u001b[0m     min_count\u001b[38;5;241m=\u001b[39mmin_count,\n\u001b[0;32m    660\u001b[0m     ngroups\u001b[38;5;241m=\u001b[39mngroups,\n\u001b[0;32m    661\u001b[0m     comp_ids\u001b[38;5;241m=\u001b[39mcomp_ids,\n\u001b[0;32m    662\u001b[0m     mask\u001b[38;5;241m=\u001b[39m\u001b[38;5;28;01mNone\u001b[39;00m,\n\u001b[0;32m    663\u001b[0m     \u001b[38;5;241m*\u001b[39m\u001b[38;5;241m*\u001b[39mkwargs,\n\u001b[0;32m    664\u001b[0m )\n",
      "File \u001b[1;32mC:\\ProgramData\\anaconda3\\Lib\\site-packages\\pandas\\core\\groupby\\ops.py:497\u001b[0m, in \u001b[0;36mWrappedCythonOp._cython_op_ndim_compat\u001b[1;34m(self, values, min_count, ngroups, comp_ids, mask, result_mask, **kwargs)\u001b[0m\n\u001b[0;32m    495\u001b[0m     \u001b[38;5;28;01mreturn\u001b[39;00m res\u001b[38;5;241m.\u001b[39mT\n\u001b[1;32m--> 497\u001b[0m \u001b[38;5;28;01mreturn\u001b[39;00m \u001b[38;5;28mself\u001b[39m\u001b[38;5;241m.\u001b[39m_call_cython_op(\n\u001b[0;32m    498\u001b[0m     values,\n\u001b[0;32m    499\u001b[0m     min_count\u001b[38;5;241m=\u001b[39mmin_count,\n\u001b[0;32m    500\u001b[0m     ngroups\u001b[38;5;241m=\u001b[39mngroups,\n\u001b[0;32m    501\u001b[0m     comp_ids\u001b[38;5;241m=\u001b[39mcomp_ids,\n\u001b[0;32m    502\u001b[0m     mask\u001b[38;5;241m=\u001b[39mmask,\n\u001b[0;32m    503\u001b[0m     result_mask\u001b[38;5;241m=\u001b[39mresult_mask,\n\u001b[0;32m    504\u001b[0m     \u001b[38;5;241m*\u001b[39m\u001b[38;5;241m*\u001b[39mkwargs,\n\u001b[0;32m    505\u001b[0m )\n",
      "File \u001b[1;32mC:\\ProgramData\\anaconda3\\Lib\\site-packages\\pandas\\core\\groupby\\ops.py:541\u001b[0m, in \u001b[0;36mWrappedCythonOp._call_cython_op\u001b[1;34m(self, values, min_count, ngroups, comp_ids, mask, result_mask, **kwargs)\u001b[0m\n\u001b[0;32m    540\u001b[0m out_shape \u001b[38;5;241m=\u001b[39m \u001b[38;5;28mself\u001b[39m\u001b[38;5;241m.\u001b[39m_get_output_shape(ngroups, values)\n\u001b[1;32m--> 541\u001b[0m func \u001b[38;5;241m=\u001b[39m \u001b[38;5;28mself\u001b[39m\u001b[38;5;241m.\u001b[39m_get_cython_function(\u001b[38;5;28mself\u001b[39m\u001b[38;5;241m.\u001b[39mkind, \u001b[38;5;28mself\u001b[39m\u001b[38;5;241m.\u001b[39mhow, values\u001b[38;5;241m.\u001b[39mdtype, is_numeric)\n\u001b[0;32m    542\u001b[0m values \u001b[38;5;241m=\u001b[39m \u001b[38;5;28mself\u001b[39m\u001b[38;5;241m.\u001b[39m_get_cython_vals(values)\n",
      "File \u001b[1;32mC:\\ProgramData\\anaconda3\\Lib\\site-packages\\pandas\\core\\groupby\\ops.py:173\u001b[0m, in \u001b[0;36mWrappedCythonOp._get_cython_function\u001b[1;34m(cls, kind, how, dtype, is_numeric)\u001b[0m\n\u001b[0;32m    171\u001b[0m \u001b[38;5;28;01mif\u001b[39;00m \u001b[38;5;124m\"\u001b[39m\u001b[38;5;124mobject\u001b[39m\u001b[38;5;124m\"\u001b[39m \u001b[38;5;129;01mnot\u001b[39;00m \u001b[38;5;129;01min\u001b[39;00m f\u001b[38;5;241m.\u001b[39m__signatures__:\n\u001b[0;32m    172\u001b[0m     \u001b[38;5;66;03m# raise NotImplementedError here rather than TypeError later\u001b[39;00m\n\u001b[1;32m--> 173\u001b[0m     \u001b[38;5;28;01mraise\u001b[39;00m \u001b[38;5;167;01mNotImplementedError\u001b[39;00m(\n\u001b[0;32m    174\u001b[0m         \u001b[38;5;124mf\u001b[39m\u001b[38;5;124m\"\u001b[39m\u001b[38;5;124mfunction is not implemented for this dtype: \u001b[39m\u001b[38;5;124m\"\u001b[39m\n\u001b[0;32m    175\u001b[0m         \u001b[38;5;124mf\u001b[39m\u001b[38;5;124m\"\u001b[39m\u001b[38;5;124m[how->\u001b[39m\u001b[38;5;132;01m{\u001b[39;00mhow\u001b[38;5;132;01m}\u001b[39;00m\u001b[38;5;124m,dtype->\u001b[39m\u001b[38;5;132;01m{\u001b[39;00mdtype_str\u001b[38;5;132;01m}\u001b[39;00m\u001b[38;5;124m]\u001b[39m\u001b[38;5;124m\"\u001b[39m\n\u001b[0;32m    176\u001b[0m     )\n\u001b[0;32m    177\u001b[0m \u001b[38;5;28;01mreturn\u001b[39;00m f\n",
      "\u001b[1;31mNotImplementedError\u001b[0m: function is not implemented for this dtype: [how->mean,dtype->object]",
      "\nDuring handling of the above exception, another exception occurred:\n",
      "\u001b[1;31mValueError\u001b[0m                                Traceback (most recent call last)",
      "File \u001b[1;32mC:\\ProgramData\\anaconda3\\Lib\\site-packages\\pandas\\core\\nanops.py:1692\u001b[0m, in \u001b[0;36m_ensure_numeric\u001b[1;34m(x)\u001b[0m\n\u001b[0;32m   1691\u001b[0m \u001b[38;5;28;01mtry\u001b[39;00m:\n\u001b[1;32m-> 1692\u001b[0m     x \u001b[38;5;241m=\u001b[39m \u001b[38;5;28mfloat\u001b[39m(x)\n\u001b[0;32m   1693\u001b[0m \u001b[38;5;28;01mexcept\u001b[39;00m (\u001b[38;5;167;01mTypeError\u001b[39;00m, \u001b[38;5;167;01mValueError\u001b[39;00m):\n\u001b[0;32m   1694\u001b[0m     \u001b[38;5;66;03m# e.g. \"1+1j\" or \"foo\"\u001b[39;00m\n",
      "\u001b[1;31mValueError\u001b[0m: could not convert string to float: 'SK이노베이션LG화확'",
      "\nDuring handling of the above exception, another exception occurred:\n",
      "\u001b[1;31mValueError\u001b[0m                                Traceback (most recent call last)",
      "File \u001b[1;32mC:\\ProgramData\\anaconda3\\Lib\\site-packages\\pandas\\core\\nanops.py:1696\u001b[0m, in \u001b[0;36m_ensure_numeric\u001b[1;34m(x)\u001b[0m\n\u001b[0;32m   1695\u001b[0m \u001b[38;5;28;01mtry\u001b[39;00m:\n\u001b[1;32m-> 1696\u001b[0m     x \u001b[38;5;241m=\u001b[39m \u001b[38;5;28mcomplex\u001b[39m(x)\n\u001b[0;32m   1697\u001b[0m \u001b[38;5;28;01mexcept\u001b[39;00m \u001b[38;5;167;01mValueError\u001b[39;00m \u001b[38;5;28;01mas\u001b[39;00m err:\n\u001b[0;32m   1698\u001b[0m     \u001b[38;5;66;03m# e.g. \"foo\"\u001b[39;00m\n",
      "\u001b[1;31mValueError\u001b[0m: complex() arg is a malformed string",
      "\nThe above exception was the direct cause of the following exception:\n",
      "\u001b[1;31mTypeError\u001b[0m                                 Traceback (most recent call last)",
      "Cell \u001b[1;32mIn[184], line 1\u001b[0m\n\u001b[1;32m----> 1\u001b[0m df\u001b[38;5;241m.\u001b[39mgroupby(\u001b[38;5;124m\"\u001b[39m\u001b[38;5;124m테마\u001b[39m\u001b[38;5;124m\"\u001b[39m)\u001b[38;5;241m.\u001b[39mmean()\n",
      "File \u001b[1;32mC:\\ProgramData\\anaconda3\\Lib\\site-packages\\pandas\\core\\groupby\\groupby.py:1855\u001b[0m, in \u001b[0;36mGroupBy.mean\u001b[1;34m(self, numeric_only, engine, engine_kwargs)\u001b[0m\n\u001b[0;32m   1853\u001b[0m     \u001b[38;5;28;01mreturn\u001b[39;00m \u001b[38;5;28mself\u001b[39m\u001b[38;5;241m.\u001b[39m_numba_agg_general(sliding_mean, engine_kwargs)\n\u001b[0;32m   1854\u001b[0m \u001b[38;5;28;01melse\u001b[39;00m:\n\u001b[1;32m-> 1855\u001b[0m     result \u001b[38;5;241m=\u001b[39m \u001b[38;5;28mself\u001b[39m\u001b[38;5;241m.\u001b[39m_cython_agg_general(\n\u001b[0;32m   1856\u001b[0m         \u001b[38;5;124m\"\u001b[39m\u001b[38;5;124mmean\u001b[39m\u001b[38;5;124m\"\u001b[39m,\n\u001b[0;32m   1857\u001b[0m         alt\u001b[38;5;241m=\u001b[39m\u001b[38;5;28;01mlambda\u001b[39;00m x: Series(x)\u001b[38;5;241m.\u001b[39mmean(numeric_only\u001b[38;5;241m=\u001b[39mnumeric_only),\n\u001b[0;32m   1858\u001b[0m         numeric_only\u001b[38;5;241m=\u001b[39mnumeric_only,\n\u001b[0;32m   1859\u001b[0m     )\n\u001b[0;32m   1860\u001b[0m     \u001b[38;5;28;01mreturn\u001b[39;00m result\u001b[38;5;241m.\u001b[39m__finalize__(\u001b[38;5;28mself\u001b[39m\u001b[38;5;241m.\u001b[39mobj, method\u001b[38;5;241m=\u001b[39m\u001b[38;5;124m\"\u001b[39m\u001b[38;5;124mgroupby\u001b[39m\u001b[38;5;124m\"\u001b[39m)\n",
      "File \u001b[1;32mC:\\ProgramData\\anaconda3\\Lib\\site-packages\\pandas\\core\\groupby\\groupby.py:1507\u001b[0m, in \u001b[0;36mGroupBy._cython_agg_general\u001b[1;34m(self, how, alt, numeric_only, min_count, **kwargs)\u001b[0m\n\u001b[0;32m   1503\u001b[0m         result \u001b[38;5;241m=\u001b[39m \u001b[38;5;28mself\u001b[39m\u001b[38;5;241m.\u001b[39m_agg_py_fallback(values, ndim\u001b[38;5;241m=\u001b[39mdata\u001b[38;5;241m.\u001b[39mndim, alt\u001b[38;5;241m=\u001b[39malt)\n\u001b[0;32m   1505\u001b[0m     \u001b[38;5;28;01mreturn\u001b[39;00m result\n\u001b[1;32m-> 1507\u001b[0m new_mgr \u001b[38;5;241m=\u001b[39m data\u001b[38;5;241m.\u001b[39mgrouped_reduce(array_func)\n\u001b[0;32m   1508\u001b[0m res \u001b[38;5;241m=\u001b[39m \u001b[38;5;28mself\u001b[39m\u001b[38;5;241m.\u001b[39m_wrap_agged_manager(new_mgr)\n\u001b[0;32m   1509\u001b[0m out \u001b[38;5;241m=\u001b[39m \u001b[38;5;28mself\u001b[39m\u001b[38;5;241m.\u001b[39m_wrap_aggregated_output(res)\n",
      "File \u001b[1;32mC:\\ProgramData\\anaconda3\\Lib\\site-packages\\pandas\\core\\internals\\managers.py:1503\u001b[0m, in \u001b[0;36mBlockManager.grouped_reduce\u001b[1;34m(self, func)\u001b[0m\n\u001b[0;32m   1499\u001b[0m \u001b[38;5;28;01mif\u001b[39;00m blk\u001b[38;5;241m.\u001b[39mis_object:\n\u001b[0;32m   1500\u001b[0m     \u001b[38;5;66;03m# split on object-dtype blocks bc some columns may raise\u001b[39;00m\n\u001b[0;32m   1501\u001b[0m     \u001b[38;5;66;03m#  while others do not.\u001b[39;00m\n\u001b[0;32m   1502\u001b[0m     \u001b[38;5;28;01mfor\u001b[39;00m sb \u001b[38;5;129;01min\u001b[39;00m blk\u001b[38;5;241m.\u001b[39m_split():\n\u001b[1;32m-> 1503\u001b[0m         applied \u001b[38;5;241m=\u001b[39m sb\u001b[38;5;241m.\u001b[39mapply(func)\n\u001b[0;32m   1504\u001b[0m         result_blocks \u001b[38;5;241m=\u001b[39m extend_blocks(applied, result_blocks)\n\u001b[0;32m   1505\u001b[0m \u001b[38;5;28;01melse\u001b[39;00m:\n",
      "File \u001b[1;32mC:\\ProgramData\\anaconda3\\Lib\\site-packages\\pandas\\core\\internals\\blocks.py:329\u001b[0m, in \u001b[0;36mBlock.apply\u001b[1;34m(self, func, **kwargs)\u001b[0m\n\u001b[0;32m    323\u001b[0m \u001b[38;5;129m@final\u001b[39m\n\u001b[0;32m    324\u001b[0m \u001b[38;5;28;01mdef\u001b[39;00m \u001b[38;5;21mapply\u001b[39m(\u001b[38;5;28mself\u001b[39m, func, \u001b[38;5;241m*\u001b[39m\u001b[38;5;241m*\u001b[39mkwargs) \u001b[38;5;241m-\u001b[39m\u001b[38;5;241m>\u001b[39m \u001b[38;5;28mlist\u001b[39m[Block]:\n\u001b[0;32m    325\u001b[0m \u001b[38;5;250m    \u001b[39m\u001b[38;5;124;03m\"\"\"\u001b[39;00m\n\u001b[0;32m    326\u001b[0m \u001b[38;5;124;03m    apply the function to my values; return a block if we are not\u001b[39;00m\n\u001b[0;32m    327\u001b[0m \u001b[38;5;124;03m    one\u001b[39;00m\n\u001b[0;32m    328\u001b[0m \u001b[38;5;124;03m    \"\"\"\u001b[39;00m\n\u001b[1;32m--> 329\u001b[0m     result \u001b[38;5;241m=\u001b[39m func(\u001b[38;5;28mself\u001b[39m\u001b[38;5;241m.\u001b[39mvalues, \u001b[38;5;241m*\u001b[39m\u001b[38;5;241m*\u001b[39mkwargs)\n\u001b[0;32m    331\u001b[0m     \u001b[38;5;28;01mreturn\u001b[39;00m \u001b[38;5;28mself\u001b[39m\u001b[38;5;241m.\u001b[39m_split_op_result(result)\n",
      "File \u001b[1;32mC:\\ProgramData\\anaconda3\\Lib\\site-packages\\pandas\\core\\groupby\\groupby.py:1503\u001b[0m, in \u001b[0;36mGroupBy._cython_agg_general.<locals>.array_func\u001b[1;34m(values)\u001b[0m\n\u001b[0;32m   1490\u001b[0m     result \u001b[38;5;241m=\u001b[39m \u001b[38;5;28mself\u001b[39m\u001b[38;5;241m.\u001b[39mgrouper\u001b[38;5;241m.\u001b[39m_cython_operation(\n\u001b[0;32m   1491\u001b[0m         \u001b[38;5;124m\"\u001b[39m\u001b[38;5;124maggregate\u001b[39m\u001b[38;5;124m\"\u001b[39m,\n\u001b[0;32m   1492\u001b[0m         values,\n\u001b[1;32m   (...)\u001b[0m\n\u001b[0;32m   1496\u001b[0m         \u001b[38;5;241m*\u001b[39m\u001b[38;5;241m*\u001b[39mkwargs,\n\u001b[0;32m   1497\u001b[0m     )\n\u001b[0;32m   1498\u001b[0m \u001b[38;5;28;01mexcept\u001b[39;00m \u001b[38;5;167;01mNotImplementedError\u001b[39;00m:\n\u001b[0;32m   1499\u001b[0m     \u001b[38;5;66;03m# generally if we have numeric_only=False\u001b[39;00m\n\u001b[0;32m   1500\u001b[0m     \u001b[38;5;66;03m# and non-applicable functions\u001b[39;00m\n\u001b[0;32m   1501\u001b[0m     \u001b[38;5;66;03m# try to python agg\u001b[39;00m\n\u001b[0;32m   1502\u001b[0m     \u001b[38;5;66;03m# TODO: shouldn't min_count matter?\u001b[39;00m\n\u001b[1;32m-> 1503\u001b[0m     result \u001b[38;5;241m=\u001b[39m \u001b[38;5;28mself\u001b[39m\u001b[38;5;241m.\u001b[39m_agg_py_fallback(values, ndim\u001b[38;5;241m=\u001b[39mdata\u001b[38;5;241m.\u001b[39mndim, alt\u001b[38;5;241m=\u001b[39malt)\n\u001b[0;32m   1505\u001b[0m \u001b[38;5;28;01mreturn\u001b[39;00m result\n",
      "File \u001b[1;32mC:\\ProgramData\\anaconda3\\Lib\\site-packages\\pandas\\core\\groupby\\groupby.py:1457\u001b[0m, in \u001b[0;36mGroupBy._agg_py_fallback\u001b[1;34m(self, values, ndim, alt)\u001b[0m\n\u001b[0;32m   1452\u001b[0m     ser \u001b[38;5;241m=\u001b[39m df\u001b[38;5;241m.\u001b[39miloc[:, \u001b[38;5;241m0\u001b[39m]\n\u001b[0;32m   1454\u001b[0m \u001b[38;5;66;03m# We do not get here with UDFs, so we know that our dtype\u001b[39;00m\n\u001b[0;32m   1455\u001b[0m \u001b[38;5;66;03m#  should always be preserved by the implemented aggregations\u001b[39;00m\n\u001b[0;32m   1456\u001b[0m \u001b[38;5;66;03m# TODO: Is this exactly right; see WrappedCythonOp get_result_dtype?\u001b[39;00m\n\u001b[1;32m-> 1457\u001b[0m res_values \u001b[38;5;241m=\u001b[39m \u001b[38;5;28mself\u001b[39m\u001b[38;5;241m.\u001b[39mgrouper\u001b[38;5;241m.\u001b[39magg_series(ser, alt, preserve_dtype\u001b[38;5;241m=\u001b[39m\u001b[38;5;28;01mTrue\u001b[39;00m)\n\u001b[0;32m   1459\u001b[0m \u001b[38;5;28;01mif\u001b[39;00m \u001b[38;5;28misinstance\u001b[39m(values, Categorical):\n\u001b[0;32m   1460\u001b[0m     \u001b[38;5;66;03m# Because we only get here with known dtype-preserving\u001b[39;00m\n\u001b[0;32m   1461\u001b[0m     \u001b[38;5;66;03m#  reductions, we cast back to Categorical.\u001b[39;00m\n\u001b[0;32m   1462\u001b[0m     \u001b[38;5;66;03m# TODO: if we ever get \"rank\" working, exclude it here.\u001b[39;00m\n\u001b[0;32m   1463\u001b[0m     res_values \u001b[38;5;241m=\u001b[39m \u001b[38;5;28mtype\u001b[39m(values)\u001b[38;5;241m.\u001b[39m_from_sequence(res_values, dtype\u001b[38;5;241m=\u001b[39mvalues\u001b[38;5;241m.\u001b[39mdtype)\n",
      "File \u001b[1;32mC:\\ProgramData\\anaconda3\\Lib\\site-packages\\pandas\\core\\groupby\\ops.py:994\u001b[0m, in \u001b[0;36mBaseGrouper.agg_series\u001b[1;34m(self, obj, func, preserve_dtype)\u001b[0m\n\u001b[0;32m    987\u001b[0m \u001b[38;5;28;01mif\u001b[39;00m \u001b[38;5;28mlen\u001b[39m(obj) \u001b[38;5;241m>\u001b[39m \u001b[38;5;241m0\u001b[39m \u001b[38;5;129;01mand\u001b[39;00m \u001b[38;5;129;01mnot\u001b[39;00m \u001b[38;5;28misinstance\u001b[39m(obj\u001b[38;5;241m.\u001b[39m_values, np\u001b[38;5;241m.\u001b[39mndarray):\n\u001b[0;32m    988\u001b[0m     \u001b[38;5;66;03m# we can preserve a little bit more aggressively with EA dtype\u001b[39;00m\n\u001b[0;32m    989\u001b[0m     \u001b[38;5;66;03m#  because maybe_cast_pointwise_result will do a try/except\u001b[39;00m\n\u001b[0;32m    990\u001b[0m     \u001b[38;5;66;03m#  with _from_sequence.  NB we are assuming here that _from_sequence\u001b[39;00m\n\u001b[0;32m    991\u001b[0m     \u001b[38;5;66;03m#  is sufficiently strict that it casts appropriately.\u001b[39;00m\n\u001b[0;32m    992\u001b[0m     preserve_dtype \u001b[38;5;241m=\u001b[39m \u001b[38;5;28;01mTrue\u001b[39;00m\n\u001b[1;32m--> 994\u001b[0m result \u001b[38;5;241m=\u001b[39m \u001b[38;5;28mself\u001b[39m\u001b[38;5;241m.\u001b[39m_aggregate_series_pure_python(obj, func)\n\u001b[0;32m    996\u001b[0m npvalues \u001b[38;5;241m=\u001b[39m lib\u001b[38;5;241m.\u001b[39mmaybe_convert_objects(result, try_float\u001b[38;5;241m=\u001b[39m\u001b[38;5;28;01mFalse\u001b[39;00m)\n\u001b[0;32m    997\u001b[0m \u001b[38;5;28;01mif\u001b[39;00m preserve_dtype:\n",
      "File \u001b[1;32mC:\\ProgramData\\anaconda3\\Lib\\site-packages\\pandas\\core\\groupby\\ops.py:1015\u001b[0m, in \u001b[0;36mBaseGrouper._aggregate_series_pure_python\u001b[1;34m(self, obj, func)\u001b[0m\n\u001b[0;32m   1012\u001b[0m splitter \u001b[38;5;241m=\u001b[39m \u001b[38;5;28mself\u001b[39m\u001b[38;5;241m.\u001b[39m_get_splitter(obj, axis\u001b[38;5;241m=\u001b[39m\u001b[38;5;241m0\u001b[39m)\n\u001b[0;32m   1014\u001b[0m \u001b[38;5;28;01mfor\u001b[39;00m i, group \u001b[38;5;129;01min\u001b[39;00m \u001b[38;5;28menumerate\u001b[39m(splitter):\n\u001b[1;32m-> 1015\u001b[0m     res \u001b[38;5;241m=\u001b[39m func(group)\n\u001b[0;32m   1016\u001b[0m     res \u001b[38;5;241m=\u001b[39m libreduction\u001b[38;5;241m.\u001b[39mextract_result(res)\n\u001b[0;32m   1018\u001b[0m     \u001b[38;5;28;01mif\u001b[39;00m \u001b[38;5;129;01mnot\u001b[39;00m initialized:\n\u001b[0;32m   1019\u001b[0m         \u001b[38;5;66;03m# We only do this validation on the first iteration\u001b[39;00m\n",
      "File \u001b[1;32mC:\\ProgramData\\anaconda3\\Lib\\site-packages\\pandas\\core\\groupby\\groupby.py:1857\u001b[0m, in \u001b[0;36mGroupBy.mean.<locals>.<lambda>\u001b[1;34m(x)\u001b[0m\n\u001b[0;32m   1853\u001b[0m     \u001b[38;5;28;01mreturn\u001b[39;00m \u001b[38;5;28mself\u001b[39m\u001b[38;5;241m.\u001b[39m_numba_agg_general(sliding_mean, engine_kwargs)\n\u001b[0;32m   1854\u001b[0m \u001b[38;5;28;01melse\u001b[39;00m:\n\u001b[0;32m   1855\u001b[0m     result \u001b[38;5;241m=\u001b[39m \u001b[38;5;28mself\u001b[39m\u001b[38;5;241m.\u001b[39m_cython_agg_general(\n\u001b[0;32m   1856\u001b[0m         \u001b[38;5;124m\"\u001b[39m\u001b[38;5;124mmean\u001b[39m\u001b[38;5;124m\"\u001b[39m,\n\u001b[1;32m-> 1857\u001b[0m         alt\u001b[38;5;241m=\u001b[39m\u001b[38;5;28;01mlambda\u001b[39;00m x: Series(x)\u001b[38;5;241m.\u001b[39mmean(numeric_only\u001b[38;5;241m=\u001b[39mnumeric_only),\n\u001b[0;32m   1858\u001b[0m         numeric_only\u001b[38;5;241m=\u001b[39mnumeric_only,\n\u001b[0;32m   1859\u001b[0m     )\n\u001b[0;32m   1860\u001b[0m     \u001b[38;5;28;01mreturn\u001b[39;00m result\u001b[38;5;241m.\u001b[39m__finalize__(\u001b[38;5;28mself\u001b[39m\u001b[38;5;241m.\u001b[39mobj, method\u001b[38;5;241m=\u001b[39m\u001b[38;5;124m\"\u001b[39m\u001b[38;5;124mgroupby\u001b[39m\u001b[38;5;124m\"\u001b[39m)\n",
      "File \u001b[1;32mC:\\ProgramData\\anaconda3\\Lib\\site-packages\\pandas\\core\\generic.py:11556\u001b[0m, in \u001b[0;36mNDFrame._add_numeric_operations.<locals>.mean\u001b[1;34m(self, axis, skipna, numeric_only, **kwargs)\u001b[0m\n\u001b[0;32m  11539\u001b[0m \u001b[38;5;129m@doc\u001b[39m(\n\u001b[0;32m  11540\u001b[0m     _num_doc,\n\u001b[0;32m  11541\u001b[0m     desc\u001b[38;5;241m=\u001b[39m\u001b[38;5;124m\"\u001b[39m\u001b[38;5;124mReturn the mean of the values over the requested axis.\u001b[39m\u001b[38;5;124m\"\u001b[39m,\n\u001b[1;32m   (...)\u001b[0m\n\u001b[0;32m  11554\u001b[0m     \u001b[38;5;241m*\u001b[39m\u001b[38;5;241m*\u001b[39mkwargs,\n\u001b[0;32m  11555\u001b[0m ):\n\u001b[1;32m> 11556\u001b[0m     \u001b[38;5;28;01mreturn\u001b[39;00m NDFrame\u001b[38;5;241m.\u001b[39mmean(\u001b[38;5;28mself\u001b[39m, axis, skipna, numeric_only, \u001b[38;5;241m*\u001b[39m\u001b[38;5;241m*\u001b[39mkwargs)\n",
      "File \u001b[1;32mC:\\ProgramData\\anaconda3\\Lib\\site-packages\\pandas\\core\\generic.py:11201\u001b[0m, in \u001b[0;36mNDFrame.mean\u001b[1;34m(self, axis, skipna, numeric_only, **kwargs)\u001b[0m\n\u001b[0;32m  11194\u001b[0m \u001b[38;5;28;01mdef\u001b[39;00m \u001b[38;5;21mmean\u001b[39m(\n\u001b[0;32m  11195\u001b[0m     \u001b[38;5;28mself\u001b[39m,\n\u001b[0;32m  11196\u001b[0m     axis: Axis \u001b[38;5;241m|\u001b[39m \u001b[38;5;28;01mNone\u001b[39;00m \u001b[38;5;241m=\u001b[39m \u001b[38;5;241m0\u001b[39m,\n\u001b[1;32m   (...)\u001b[0m\n\u001b[0;32m  11199\u001b[0m     \u001b[38;5;241m*\u001b[39m\u001b[38;5;241m*\u001b[39mkwargs,\n\u001b[0;32m  11200\u001b[0m ) \u001b[38;5;241m-\u001b[39m\u001b[38;5;241m>\u001b[39m Series \u001b[38;5;241m|\u001b[39m \u001b[38;5;28mfloat\u001b[39m:\n\u001b[1;32m> 11201\u001b[0m     \u001b[38;5;28;01mreturn\u001b[39;00m \u001b[38;5;28mself\u001b[39m\u001b[38;5;241m.\u001b[39m_stat_function(\n\u001b[0;32m  11202\u001b[0m         \u001b[38;5;124m\"\u001b[39m\u001b[38;5;124mmean\u001b[39m\u001b[38;5;124m\"\u001b[39m, nanops\u001b[38;5;241m.\u001b[39mnanmean, axis, skipna, numeric_only, \u001b[38;5;241m*\u001b[39m\u001b[38;5;241m*\u001b[39mkwargs\n\u001b[0;32m  11203\u001b[0m     )\n",
      "File \u001b[1;32mC:\\ProgramData\\anaconda3\\Lib\\site-packages\\pandas\\core\\generic.py:11158\u001b[0m, in \u001b[0;36mNDFrame._stat_function\u001b[1;34m(self, name, func, axis, skipna, numeric_only, **kwargs)\u001b[0m\n\u001b[0;32m  11154\u001b[0m     nv\u001b[38;5;241m.\u001b[39mvalidate_stat_func((), kwargs, fname\u001b[38;5;241m=\u001b[39mname)\n\u001b[0;32m  11156\u001b[0m validate_bool_kwarg(skipna, \u001b[38;5;124m\"\u001b[39m\u001b[38;5;124mskipna\u001b[39m\u001b[38;5;124m\"\u001b[39m, none_allowed\u001b[38;5;241m=\u001b[39m\u001b[38;5;28;01mFalse\u001b[39;00m)\n\u001b[1;32m> 11158\u001b[0m \u001b[38;5;28;01mreturn\u001b[39;00m \u001b[38;5;28mself\u001b[39m\u001b[38;5;241m.\u001b[39m_reduce(\n\u001b[0;32m  11159\u001b[0m     func, name\u001b[38;5;241m=\u001b[39mname, axis\u001b[38;5;241m=\u001b[39maxis, skipna\u001b[38;5;241m=\u001b[39mskipna, numeric_only\u001b[38;5;241m=\u001b[39mnumeric_only\n\u001b[0;32m  11160\u001b[0m )\n",
      "File \u001b[1;32mC:\\ProgramData\\anaconda3\\Lib\\site-packages\\pandas\\core\\series.py:4670\u001b[0m, in \u001b[0;36mSeries._reduce\u001b[1;34m(self, op, name, axis, skipna, numeric_only, filter_type, **kwds)\u001b[0m\n\u001b[0;32m   4665\u001b[0m     \u001b[38;5;28;01mraise\u001b[39;00m \u001b[38;5;167;01mTypeError\u001b[39;00m(\n\u001b[0;32m   4666\u001b[0m         \u001b[38;5;124mf\u001b[39m\u001b[38;5;124m\"\u001b[39m\u001b[38;5;124mSeries.\u001b[39m\u001b[38;5;132;01m{\u001b[39;00mname\u001b[38;5;132;01m}\u001b[39;00m\u001b[38;5;124m does not allow \u001b[39m\u001b[38;5;132;01m{\u001b[39;00mkwd_name\u001b[38;5;132;01m}\u001b[39;00m\u001b[38;5;124m=\u001b[39m\u001b[38;5;132;01m{\u001b[39;00mnumeric_only\u001b[38;5;132;01m}\u001b[39;00m\u001b[38;5;124m \u001b[39m\u001b[38;5;124m\"\u001b[39m\n\u001b[0;32m   4667\u001b[0m         \u001b[38;5;124m\"\u001b[39m\u001b[38;5;124mwith non-numeric dtypes.\u001b[39m\u001b[38;5;124m\"\u001b[39m\n\u001b[0;32m   4668\u001b[0m     )\n\u001b[0;32m   4669\u001b[0m \u001b[38;5;28;01mwith\u001b[39;00m np\u001b[38;5;241m.\u001b[39merrstate(\u001b[38;5;28mall\u001b[39m\u001b[38;5;241m=\u001b[39m\u001b[38;5;124m\"\u001b[39m\u001b[38;5;124mignore\u001b[39m\u001b[38;5;124m\"\u001b[39m):\n\u001b[1;32m-> 4670\u001b[0m     \u001b[38;5;28;01mreturn\u001b[39;00m op(delegate, skipna\u001b[38;5;241m=\u001b[39mskipna, \u001b[38;5;241m*\u001b[39m\u001b[38;5;241m*\u001b[39mkwds)\n",
      "File \u001b[1;32mC:\\ProgramData\\anaconda3\\Lib\\site-packages\\pandas\\core\\nanops.py:96\u001b[0m, in \u001b[0;36mdisallow.__call__.<locals>._f\u001b[1;34m(*args, **kwargs)\u001b[0m\n\u001b[0;32m     94\u001b[0m \u001b[38;5;28;01mtry\u001b[39;00m:\n\u001b[0;32m     95\u001b[0m     \u001b[38;5;28;01mwith\u001b[39;00m np\u001b[38;5;241m.\u001b[39merrstate(invalid\u001b[38;5;241m=\u001b[39m\u001b[38;5;124m\"\u001b[39m\u001b[38;5;124mignore\u001b[39m\u001b[38;5;124m\"\u001b[39m):\n\u001b[1;32m---> 96\u001b[0m         \u001b[38;5;28;01mreturn\u001b[39;00m f(\u001b[38;5;241m*\u001b[39margs, \u001b[38;5;241m*\u001b[39m\u001b[38;5;241m*\u001b[39mkwargs)\n\u001b[0;32m     97\u001b[0m \u001b[38;5;28;01mexcept\u001b[39;00m \u001b[38;5;167;01mValueError\u001b[39;00m \u001b[38;5;28;01mas\u001b[39;00m e:\n\u001b[0;32m     98\u001b[0m     \u001b[38;5;66;03m# we want to transform an object array\u001b[39;00m\n\u001b[0;32m     99\u001b[0m     \u001b[38;5;66;03m# ValueError message to the more typical TypeError\u001b[39;00m\n\u001b[0;32m    100\u001b[0m     \u001b[38;5;66;03m# e.g. this is normally a disallowed function on\u001b[39;00m\n\u001b[0;32m    101\u001b[0m     \u001b[38;5;66;03m# object arrays that contain strings\u001b[39;00m\n\u001b[0;32m    102\u001b[0m     \u001b[38;5;28;01mif\u001b[39;00m is_object_dtype(args[\u001b[38;5;241m0\u001b[39m]):\n",
      "File \u001b[1;32mC:\\ProgramData\\anaconda3\\Lib\\site-packages\\pandas\\core\\nanops.py:158\u001b[0m, in \u001b[0;36mbottleneck_switch.__call__.<locals>.f\u001b[1;34m(values, axis, skipna, **kwds)\u001b[0m\n\u001b[0;32m    156\u001b[0m         result \u001b[38;5;241m=\u001b[39m alt(values, axis\u001b[38;5;241m=\u001b[39maxis, skipna\u001b[38;5;241m=\u001b[39mskipna, \u001b[38;5;241m*\u001b[39m\u001b[38;5;241m*\u001b[39mkwds)\n\u001b[0;32m    157\u001b[0m \u001b[38;5;28;01melse\u001b[39;00m:\n\u001b[1;32m--> 158\u001b[0m     result \u001b[38;5;241m=\u001b[39m alt(values, axis\u001b[38;5;241m=\u001b[39maxis, skipna\u001b[38;5;241m=\u001b[39mskipna, \u001b[38;5;241m*\u001b[39m\u001b[38;5;241m*\u001b[39mkwds)\n\u001b[0;32m    160\u001b[0m \u001b[38;5;28;01mreturn\u001b[39;00m result\n",
      "File \u001b[1;32mC:\\ProgramData\\anaconda3\\Lib\\site-packages\\pandas\\core\\nanops.py:421\u001b[0m, in \u001b[0;36m_datetimelike_compat.<locals>.new_func\u001b[1;34m(values, axis, skipna, mask, **kwargs)\u001b[0m\n\u001b[0;32m    418\u001b[0m \u001b[38;5;28;01mif\u001b[39;00m datetimelike \u001b[38;5;129;01mand\u001b[39;00m mask \u001b[38;5;129;01mis\u001b[39;00m \u001b[38;5;28;01mNone\u001b[39;00m:\n\u001b[0;32m    419\u001b[0m     mask \u001b[38;5;241m=\u001b[39m isna(values)\n\u001b[1;32m--> 421\u001b[0m result \u001b[38;5;241m=\u001b[39m func(values, axis\u001b[38;5;241m=\u001b[39maxis, skipna\u001b[38;5;241m=\u001b[39mskipna, mask\u001b[38;5;241m=\u001b[39mmask, \u001b[38;5;241m*\u001b[39m\u001b[38;5;241m*\u001b[39mkwargs)\n\u001b[0;32m    423\u001b[0m \u001b[38;5;28;01mif\u001b[39;00m datetimelike:\n\u001b[0;32m    424\u001b[0m     result \u001b[38;5;241m=\u001b[39m _wrap_results(result, orig_values\u001b[38;5;241m.\u001b[39mdtype, fill_value\u001b[38;5;241m=\u001b[39miNaT)\n",
      "File \u001b[1;32mC:\\ProgramData\\anaconda3\\Lib\\site-packages\\pandas\\core\\nanops.py:727\u001b[0m, in \u001b[0;36mnanmean\u001b[1;34m(values, axis, skipna, mask)\u001b[0m\n\u001b[0;32m    724\u001b[0m     dtype_count \u001b[38;5;241m=\u001b[39m dtype\n\u001b[0;32m    726\u001b[0m count \u001b[38;5;241m=\u001b[39m _get_counts(values\u001b[38;5;241m.\u001b[39mshape, mask, axis, dtype\u001b[38;5;241m=\u001b[39mdtype_count)\n\u001b[1;32m--> 727\u001b[0m the_sum \u001b[38;5;241m=\u001b[39m _ensure_numeric(values\u001b[38;5;241m.\u001b[39msum(axis, dtype\u001b[38;5;241m=\u001b[39mdtype_sum))\n\u001b[0;32m    729\u001b[0m \u001b[38;5;28;01mif\u001b[39;00m axis \u001b[38;5;129;01mis\u001b[39;00m \u001b[38;5;129;01mnot\u001b[39;00m \u001b[38;5;28;01mNone\u001b[39;00m \u001b[38;5;129;01mand\u001b[39;00m \u001b[38;5;28mgetattr\u001b[39m(the_sum, \u001b[38;5;124m\"\u001b[39m\u001b[38;5;124mndim\u001b[39m\u001b[38;5;124m\"\u001b[39m, \u001b[38;5;28;01mFalse\u001b[39;00m):\n\u001b[0;32m    730\u001b[0m     count \u001b[38;5;241m=\u001b[39m cast(np\u001b[38;5;241m.\u001b[39mndarray, count)\n",
      "File \u001b[1;32mC:\\ProgramData\\anaconda3\\Lib\\site-packages\\pandas\\core\\nanops.py:1699\u001b[0m, in \u001b[0;36m_ensure_numeric\u001b[1;34m(x)\u001b[0m\n\u001b[0;32m   1696\u001b[0m             x \u001b[38;5;241m=\u001b[39m \u001b[38;5;28mcomplex\u001b[39m(x)\n\u001b[0;32m   1697\u001b[0m         \u001b[38;5;28;01mexcept\u001b[39;00m \u001b[38;5;167;01mValueError\u001b[39;00m \u001b[38;5;28;01mas\u001b[39;00m err:\n\u001b[0;32m   1698\u001b[0m             \u001b[38;5;66;03m# e.g. \"foo\"\u001b[39;00m\n\u001b[1;32m-> 1699\u001b[0m             \u001b[38;5;28;01mraise\u001b[39;00m \u001b[38;5;167;01mTypeError\u001b[39;00m(\u001b[38;5;124mf\u001b[39m\u001b[38;5;124m\"\u001b[39m\u001b[38;5;124mCould not convert \u001b[39m\u001b[38;5;132;01m{\u001b[39;00mx\u001b[38;5;132;01m}\u001b[39;00m\u001b[38;5;124m to numeric\u001b[39m\u001b[38;5;124m\"\u001b[39m) \u001b[38;5;28;01mfrom\u001b[39;00m \u001b[38;5;21;01merr\u001b[39;00m\n\u001b[0;32m   1700\u001b[0m \u001b[38;5;28;01mreturn\u001b[39;00m x\n",
      "\u001b[1;31mTypeError\u001b[0m: Could not convert SK이노베이션LG화확 to numeric"
     ]
    }
   ],
   "source": [
    "df.groupby(\"테마\").mean()  # 종목명 자동제거 오류"
   ]
  },
  {
   "cell_type": "code",
   "execution_count": 185,
   "id": "caebb966",
   "metadata": {},
   "outputs": [
    {
     "data": {
      "text/html": [
       "<div>\n",
       "<style scoped>\n",
       "    .dataframe tbody tr th:only-of-type {\n",
       "        vertical-align: middle;\n",
       "    }\n",
       "\n",
       "    .dataframe tbody tr th {\n",
       "        vertical-align: top;\n",
       "    }\n",
       "\n",
       "    .dataframe thead th {\n",
       "        text-align: right;\n",
       "    }\n",
       "</style>\n",
       "<table border=\"1\" class=\"dataframe\">\n",
       "  <thead>\n",
       "    <tr style=\"text-align: right;\">\n",
       "      <th></th>\n",
       "      <th>PER</th>\n",
       "      <th>PBR</th>\n",
       "    </tr>\n",
       "    <tr>\n",
       "      <th>테마</th>\n",
       "      <th></th>\n",
       "      <th></th>\n",
       "    </tr>\n",
       "  </thead>\n",
       "  <tbody>\n",
       "    <tr>\n",
       "      <th>2차전지(생산)</th>\n",
       "      <td>83.06</td>\n",
       "      <td>1.29</td>\n",
       "    </tr>\n",
       "    <tr>\n",
       "      <th>시스템반도체</th>\n",
       "      <td>35.97</td>\n",
       "      <td>1.12</td>\n",
       "    </tr>\n",
       "    <tr>\n",
       "      <th>해운</th>\n",
       "      <td>21.52</td>\n",
       "      <td>0.95</td>\n",
       "    </tr>\n",
       "  </tbody>\n",
       "</table>\n",
       "</div>"
      ],
      "text/plain": [
       "            PER   PBR\n",
       "테마                   \n",
       "2차전지(생산)  83.06  1.29\n",
       "시스템반도체    35.97  1.12\n",
       "해운        21.52  0.95"
      ]
     },
     "execution_count": 185,
     "metadata": {},
     "output_type": "execute_result"
    }
   ],
   "source": [
    "df.groupby(\"테마\").agg({\"PER\":max, \"PBR\":min})"
   ]
  },
  {
   "cell_type": "code",
   "execution_count": 186,
   "id": "285a94ae",
   "metadata": {},
   "outputs": [
    {
     "data": {
      "text/html": [
       "<div>\n",
       "<style scoped>\n",
       "    .dataframe tbody tr th:only-of-type {\n",
       "        vertical-align: middle;\n",
       "    }\n",
       "\n",
       "    .dataframe tbody tr th {\n",
       "        vertical-align: top;\n",
       "    }\n",
       "\n",
       "    .dataframe thead tr th {\n",
       "        text-align: left;\n",
       "    }\n",
       "\n",
       "    .dataframe thead tr:last-of-type th {\n",
       "        text-align: right;\n",
       "    }\n",
       "</style>\n",
       "<table border=\"1\" class=\"dataframe\">\n",
       "  <thead>\n",
       "    <tr>\n",
       "      <th></th>\n",
       "      <th colspan=\"2\" halign=\"left\">PER</th>\n",
       "      <th colspan=\"2\" halign=\"left\">PBR</th>\n",
       "    </tr>\n",
       "    <tr>\n",
       "      <th></th>\n",
       "      <th>min</th>\n",
       "      <th>max</th>\n",
       "      <th>std</th>\n",
       "      <th>var</th>\n",
       "    </tr>\n",
       "    <tr>\n",
       "      <th>테마</th>\n",
       "      <th></th>\n",
       "      <th></th>\n",
       "      <th></th>\n",
       "      <th></th>\n",
       "    </tr>\n",
       "  </thead>\n",
       "  <tbody>\n",
       "    <tr>\n",
       "      <th>2차전지(생산)</th>\n",
       "      <td>10.19</td>\n",
       "      <td>83.06</td>\n",
       "      <td>1.739483</td>\n",
       "      <td>3.02580</td>\n",
       "    </tr>\n",
       "    <tr>\n",
       "      <th>시스템반도체</th>\n",
       "      <td>35.97</td>\n",
       "      <td>35.97</td>\n",
       "      <td>NaN</td>\n",
       "      <td>NaN</td>\n",
       "    </tr>\n",
       "    <tr>\n",
       "      <th>해운</th>\n",
       "      <td>21.23</td>\n",
       "      <td>21.52</td>\n",
       "      <td>1.590990</td>\n",
       "      <td>2.53125</td>\n",
       "    </tr>\n",
       "  </tbody>\n",
       "</table>\n",
       "</div>"
      ],
      "text/plain": [
       "            PER              PBR         \n",
       "            min    max       std      var\n",
       "테마                                       \n",
       "2차전지(생산)  10.19  83.06  1.739483  3.02580\n",
       "시스템반도체    35.97  35.97       NaN      NaN\n",
       "해운        21.23  21.52  1.590990  2.53125"
      ]
     },
     "execution_count": 186,
     "metadata": {},
     "output_type": "execute_result"
    }
   ],
   "source": [
    "import numpy as np\n",
    "df.groupby(\"테마\").agg({\"PER\":[min,max], \"PBR\":[np.std, np.var]})"
   ]
  },
  {
   "cell_type": "markdown",
   "id": "f5022700",
   "metadata": {},
   "source": [
    "## 5.6 좌/우로 붙이기"
   ]
  },
  {
   "cell_type": "code",
   "execution_count": 190,
   "id": "aede13fd",
   "metadata": {},
   "outputs": [
    {
     "name": "stdout",
     "output_type": "stream",
     "text": [
      "                종가     거래량      시가      고가      저가\n",
      "2019-06-21  113000  555850  112500  115000  111500\n",
      "2019-06-20  111500  282163  110000  112000  109000\n"
     ]
    }
   ],
   "source": [
    "from pandas import DataFrame\n",
    "import pandas as pd\n",
    "\n",
    "# 첫 번째 데이터프레임\n",
    "data={\n",
    "    '종가':[113000, 111500],\n",
    "    '거래량':[555850, 282163]\n",
    "}\n",
    "index=['2019-06-21', '2019-06-20']\n",
    "df1=DataFrame(data=data, index=index)\n",
    "\n",
    "# 두 번째 데이터프레임\n",
    "data={\n",
    "    '시가':[112500,110000],\n",
    "    '고가':[115000,112000],\n",
    "    '저가':[111500,109000]\n",
    "}\n",
    "index=['2019-06-21','2019-06-20']\n",
    "df2=DataFrame(data=data, index=index)\n",
    "\n",
    "df=pd.concat([df1,df2], axis=1)\n",
    "print(df)"
   ]
  },
  {
   "cell_type": "code",
   "execution_count": 191,
   "id": "6fa9ff84",
   "metadata": {},
   "outputs": [
    {
     "name": "stdout",
     "output_type": "stream",
     "text": [
      "                시가      고가      저가      종가     거래량\n",
      "2019-06-21  112500  115000  111500  113000  555850\n",
      "2019-06-20  110000  112000  109000  111500  282163\n"
     ]
    }
   ],
   "source": [
    "정렬순서=['시가','고가','저가','종가','거래량']\n",
    "df=df[정렬순서]\n",
    "print(df)"
   ]
  },
  {
   "cell_type": "code",
   "execution_count": 192,
   "id": "ee7b7241",
   "metadata": {},
   "outputs": [
    {
     "name": "stdout",
     "output_type": "stream",
     "text": [
      "                  종가       거래량        시가        고가        저가\n",
      "2019-06-21  113000.0  555850.0       NaN       NaN       NaN\n",
      "2019-06-20  111500.0  282163.0  112500.0  115000.0  111500.0\n",
      "2019-06-19       NaN       NaN  110000.0  112000.0  109000.0\n"
     ]
    }
   ],
   "source": [
    "data={\n",
    "    '종가':[113000, 111500],\n",
    "    '거래량':[555850, 282163]\n",
    "}\n",
    "index=['2019-06-21', '2019-06-20']\n",
    "df1=DataFrame(data=data, index=index)\n",
    "\n",
    "data={\n",
    "    '시가':[112500,110000],\n",
    "    '고가':[115000,112000],\n",
    "    '저가':[111500,109000]\n",
    "}\n",
    "index=['2019-06-20','2019-06-19']\n",
    "df2=DataFrame(data=data, index=index)\n",
    "\n",
    "df=pd.concat([df1,df2], axis=1)\n",
    "print(df)"
   ]
  },
  {
   "cell_type": "code",
   "execution_count": 193,
   "id": "5012e45a",
   "metadata": {},
   "outputs": [
    {
     "name": "stdout",
     "output_type": "stream",
     "text": [
      "                종가     거래량      시가      고가      저가\n",
      "2019-06-20  111500  282163  112500  115000  111500\n"
     ]
    }
   ],
   "source": [
    "df=pd.concat([df1,df2], axis=1, join='inner')\n",
    "print(df)"
   ]
  },
  {
   "cell_type": "markdown",
   "id": "a7a96135",
   "metadata": {},
   "source": [
    "## 5.7 위/아래로 붙이기"
   ]
  },
  {
   "cell_type": "code",
   "execution_count": null,
   "id": "858725dd",
   "metadata": {},
   "outputs": [],
   "source": []
  }
 ],
 "metadata": {
  "kernelspec": {
   "display_name": "Python 3 (ipykernel)",
   "language": "python",
   "name": "python3"
  },
  "language_info": {
   "codemirror_mode": {
    "name": "ipython",
    "version": 3
   },
   "file_extension": ".py",
   "mimetype": "text/x-python",
   "name": "python",
   "nbconvert_exporter": "python",
   "pygments_lexer": "ipython3",
   "version": "3.11.5"
  }
 },
 "nbformat": 4,
 "nbformat_minor": 5
}
