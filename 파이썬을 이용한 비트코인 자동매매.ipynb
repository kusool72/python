{
 "cells": [
  {
   "cell_type": "markdown",
   "id": "177e00c0",
   "metadata": {},
   "source": [
    "# 03 클래스와 PyQt"
   ]
  },
  {
   "cell_type": "markdown",
   "id": "2a7b1464",
   "metadata": {},
   "source": [
    "## 3.1. 클래스(1)"
   ]
  },
  {
   "cell_type": "markdown",
   "id": "04f24c96",
   "metadata": {},
   "source": [
    "### 3.1.1. 절차적 프로그램 vs. 객체 지향 프로그래밍"
   ]
  },
  {
   "cell_type": "code",
   "execution_count": 2,
   "id": "80c72658",
   "metadata": {},
   "outputs": [
    {
     "name": "stdout",
     "output_type": "stream",
     "text": [
      "20\n"
     ]
    }
   ],
   "source": [
    "# ch03/03_01.py\n",
    "pos = 0\n",
    "\n",
    "def forward(pos):\n",
    "    return pos + 20\n",
    "\n",
    "pos = forward(pos)\n",
    "print(pos)"
   ]
  },
  {
   "cell_type": "code",
   "execution_count": 3,
   "id": "bedb3641",
   "metadata": {},
   "outputs": [
    {
     "name": "stdout",
     "output_type": "stream",
     "text": [
      "20\n"
     ]
    }
   ],
   "source": [
    "# ch03/03_02.py\n",
    "class SuperMario:\n",
    "    def __init__(self):\n",
    "        self.pos = 0\n",
    "    def forward(self):\n",
    "        self.pos = self.pos + 20\n",
    "\n",
    "mario = SuperMario()\n",
    "mario.forward()\n",
    "print(mario.pos)"
   ]
  },
  {
   "cell_type": "code",
   "execution_count": 5,
   "id": "3c23da92",
   "metadata": {},
   "outputs": [],
   "source": [
    "# ch03/03_03.py\n",
    "p1_pos = 0\n",
    "p2_pos = 0\n",
    "\n",
    "def forward(pos):\n",
    "    return pos + 20\n",
    "\n",
    "p1_pos = forward(p1_pos)\n",
    "p2_pos = forward(p2_pos)"
   ]
  },
  {
   "cell_type": "code",
   "execution_count": 6,
   "id": "4897787e",
   "metadata": {},
   "outputs": [],
   "source": [
    "# ch03/03_04.py\n",
    "class SuperMario:\n",
    "    def __init__(self):\n",
    "        self.pos = 0\n",
    "    def forward(self):\n",
    "        self.pos = self.pos + 20\n",
    "\n",
    "mario_p1 = SuperMario()\n",
    "mario_p2 = SuperMario()\n",
    "mario_p1.forward()\n",
    "mario_p2.forward()"
   ]
  },
  {
   "cell_type": "code",
   "execution_count": 7,
   "id": "48df62f7",
   "metadata": {},
   "outputs": [
    {
     "name": "stdout",
     "output_type": "stream",
     "text": [
      "<class 'int'>\n",
      "2\n"
     ]
    }
   ],
   "source": [
    "a = 3\n",
    "print(type(a))\n",
    "print(a.bit_length())"
   ]
  },
  {
   "cell_type": "code",
   "execution_count": 8,
   "id": "e25e9961",
   "metadata": {},
   "outputs": [
    {
     "name": "stdout",
     "output_type": "stream",
     "text": [
      "<class 'str'>\n",
      "PYTHON\n"
     ]
    }
   ],
   "source": [
    "b = \"python\"\n",
    "print(type(b))\n",
    "print(b.upper())"
   ]
  },
  {
   "cell_type": "markdown",
   "id": "8ccbfbb7",
   "metadata": {},
   "source": [
    "### 3.1.2. 클래스 정의 및 객체 생성"
   ]
  },
  {
   "cell_type": "code",
   "execution_count": 9,
   "id": "cf4f1951",
   "metadata": {},
   "outputs": [
    {
     "name": "stdout",
     "output_type": "stream",
     "text": [
      "2532370653520\n"
     ]
    }
   ],
   "source": [
    "class MyClass:\n",
    "    pass\n",
    "\n",
    "obj = MyClass()\n",
    "print(id(obj))"
   ]
  },
  {
   "cell_type": "code",
   "execution_count": 10,
   "id": "901e1e7a",
   "metadata": {},
   "outputs": [],
   "source": [
    "class 붕어빵틀:\n",
    "    pass\n",
    "\n",
    "붕어빵1 = 붕어빵틀()\n",
    "붕어빵2 = 붕어빵틀()"
   ]
  },
  {
   "cell_type": "markdown",
   "id": "3a0da7b7",
   "metadata": {},
   "source": [
    "### 3.1.3. 클래스에 메서드 추가하기"
   ]
  },
  {
   "cell_type": "code",
   "execution_count": 11,
   "id": "f68c3c48",
   "metadata": {},
   "outputs": [
    {
     "name": "stdout",
     "output_type": "stream",
     "text": [
      "method\n"
     ]
    }
   ],
   "source": [
    "# ch03/03_05.py\n",
    "class MyClass:\n",
    "    def method(self):\n",
    "        print(\"method\")\n",
    "\n",
    "obj = MyClass()\n",
    "obj.method()"
   ]
  },
  {
   "cell_type": "code",
   "execution_count": 12,
   "id": "bb2ce2db",
   "metadata": {},
   "outputs": [
    {
     "name": "stdout",
     "output_type": "stream",
     "text": [
      "7\n"
     ]
    }
   ],
   "source": [
    "# ch03/03_o6.py\n",
    "class MyClass:\n",
    "    def add(self, a, b):\n",
    "        return a+b\n",
    "    \n",
    "obj = MyClass()\n",
    "ret = obj.add(3,4)\n",
    "print(ret)"
   ]
  },
  {
   "cell_type": "markdown",
   "id": "72031cf5",
   "metadata": {},
   "source": [
    "### 3.1.4. 붕어빵에 팥소 넣기"
   ]
  },
  {
   "cell_type": "code",
   "execution_count": 13,
   "id": "3bf0f848",
   "metadata": {},
   "outputs": [],
   "source": [
    "class 붕어빵틀:\n",
    "    def 팥소넣기(self, 팥소):\n",
    "        self.팥소 = 팥소"
   ]
  },
  {
   "cell_type": "code",
   "execution_count": 14,
   "id": "cf7db60c",
   "metadata": {},
   "outputs": [],
   "source": [
    "붕어빵1 = 붕어빵틀()\n",
    "붕어빵2 = 붕어빵틀()"
   ]
  },
  {
   "cell_type": "code",
   "execution_count": 15,
   "id": "08dfe7ce",
   "metadata": {},
   "outputs": [],
   "source": [
    "붕어빵틀.팥소넣기(붕어빵1, \"초코맛팥소\")\n",
    "붕어빵틀.팥소넣기(붕어빵2, \"딸기맛팥소\")"
   ]
  },
  {
   "cell_type": "code",
   "execution_count": 16,
   "id": "d45c1b45",
   "metadata": {},
   "outputs": [
    {
     "name": "stdout",
     "output_type": "stream",
     "text": [
      "초코맛팥소\n",
      "딸기맛팥소\n"
     ]
    }
   ],
   "source": [
    "print(붕어빵1.팥소)\n",
    "print(붕어빵2.팥소)"
   ]
  },
  {
   "cell_type": "code",
   "execution_count": 17,
   "id": "2f805209",
   "metadata": {},
   "outputs": [],
   "source": [
    "class 붕어빵틀:\n",
    "    def 팥소넣기(self, 팥소):\n",
    "        self.팥소 = 팥소"
   ]
  },
  {
   "cell_type": "markdown",
   "id": "cd71da3a",
   "metadata": {},
   "source": [
    "### 3.1.5. 초기화자"
   ]
  },
  {
   "cell_type": "code",
   "execution_count": 18,
   "id": "538d2b6e",
   "metadata": {},
   "outputs": [],
   "source": [
    "class 붕어빵틀:\n",
    "    def __init__(self):\n",
    "        self.팥소 = \"초코맛팥소\""
   ]
  },
  {
   "cell_type": "code",
   "execution_count": 19,
   "id": "1a01651c",
   "metadata": {},
   "outputs": [
    {
     "name": "stdout",
     "output_type": "stream",
     "text": [
      "초코맛팥소\n"
     ]
    }
   ],
   "source": [
    "붕어빵1 = 붕어빵틀()\n",
    "print(붕어빵1.팥소)"
   ]
  },
  {
   "cell_type": "code",
   "execution_count": 20,
   "id": "5bbc538e",
   "metadata": {},
   "outputs": [],
   "source": [
    "# ch03/03_07.py\n",
    "class Customer:\n",
    "    def __init__(self, id, name):\n",
    "        self.id = id\n",
    "        self.name = name"
   ]
  },
  {
   "cell_type": "code",
   "execution_count": 21,
   "id": "58d43919",
   "metadata": {},
   "outputs": [],
   "source": [
    "customer1 = Customer(1, \"김은수\")\n",
    "customer2 = Customer(2, \"이영희\")"
   ]
  },
  {
   "cell_type": "markdown",
   "id": "62b8b88a",
   "metadata": {},
   "source": [
    "## 3.2. 클래스(2)"
   ]
  },
  {
   "cell_type": "code",
   "execution_count": 22,
   "id": "c173e75e",
   "metadata": {},
   "outputs": [],
   "source": [
    "# ch03/03_08.py\n",
    "class Parent:\n",
    "    def sing(self):\n",
    "        print(\"sing a song\")"
   ]
  },
  {
   "cell_type": "code",
   "execution_count": 23,
   "id": "e2799e7f",
   "metadata": {},
   "outputs": [
    {
     "name": "stdout",
     "output_type": "stream",
     "text": [
      "sing a song\n"
     ]
    }
   ],
   "source": [
    "father = Parent()\n",
    "father.sing()"
   ]
  },
  {
   "cell_type": "code",
   "execution_count": 24,
   "id": "60fb2ff1",
   "metadata": {},
   "outputs": [],
   "source": [
    "# ch03/03_09.py\n",
    "class Parent:\n",
    "    def sing(self):\n",
    "        print(\"sing a song\")\n",
    "        \n",
    "class LuckyChild(Parent):\n",
    "    pass"
   ]
  },
  {
   "cell_type": "code",
   "execution_count": 25,
   "id": "0c8a63b8",
   "metadata": {},
   "outputs": [
    {
     "name": "stdout",
     "output_type": "stream",
     "text": [
      "sing a song\n"
     ]
    }
   ],
   "source": [
    "luckyboy = LuckyChild()\n",
    "luckyboy.sing()"
   ]
  },
  {
   "cell_type": "code",
   "execution_count": 28,
   "id": "c805c641",
   "metadata": {},
   "outputs": [
    {
     "ename": "AttributeError",
     "evalue": "'UnLuckyChild' object has no attribute 'sing'",
     "output_type": "error",
     "traceback": [
      "\u001b[1;31m---------------------------------------------------------------------------\u001b[0m",
      "\u001b[1;31mAttributeError\u001b[0m                            Traceback (most recent call last)",
      "Cell \u001b[1;32mIn[28], line 9\u001b[0m\n\u001b[0;32m      6\u001b[0m     \u001b[38;5;28;01mpass\u001b[39;00m\n\u001b[0;32m      8\u001b[0m unluckyboy \u001b[38;5;241m=\u001b[39m UnLuckyChild()\n\u001b[1;32m----> 9\u001b[0m unluckyboy\u001b[38;5;241m.\u001b[39msing()\n",
      "\u001b[1;31mAttributeError\u001b[0m: 'UnLuckyChild' object has no attribute 'sing'"
     ]
    }
   ],
   "source": [
    "class Parent:\n",
    "    def sing(self):\n",
    "        print(\"sing a song\")\n",
    "        \n",
    "class UnLuckyChild:\n",
    "    pass\n",
    "\n",
    "unluckyboy = UnLuckyChild()\n",
    "unluckyboy.sing()"
   ]
  },
  {
   "cell_type": "code",
   "execution_count": 29,
   "id": "881c0043",
   "metadata": {},
   "outputs": [
    {
     "name": "stdout",
     "output_type": "stream",
     "text": [
      "sing a song\n",
      "shuffle dance\n"
     ]
    }
   ],
   "source": [
    "# ch03/03_10.py\n",
    "class Parent:\n",
    "    def sing(self):\n",
    "        print(\"sing a song\")\n",
    "        \n",
    "class LuckyChild(Parent):\n",
    "    def dance(self):\n",
    "        print(\"shuffle dance\")\n",
    "        \n",
    "luckyboy = LuckyChild()\n",
    "luckyboy.sing()\n",
    "luckyboy.dance()"
   ]
  },
  {
   "cell_type": "markdown",
   "id": "5344376d",
   "metadata": {},
   "source": [
    "### 3.2.2. 클래스 속성 참조 순서"
   ]
  },
  {
   "cell_type": "markdown",
   "id": "dbc970fc",
   "metadata": {},
   "source": [
    "## 3.3. PyCharm"
   ]
  },
  {
   "cell_type": "markdown",
   "id": "459904e1",
   "metadata": {},
   "source": [
    "## 3.4. PyQt 기초"
   ]
  },
  {
   "cell_type": "code",
   "execution_count": 1,
   "id": "f62d991f",
   "metadata": {},
   "outputs": [
    {
     "data": {
      "text/plain": [
       "0"
      ]
     },
     "execution_count": 1,
     "metadata": {},
     "output_type": "execute_result"
    }
   ],
   "source": [
    "# ch03/03_12.py\n",
    "import sys\n",
    "from PyQt5.QtWidgets import *\n",
    "\n",
    "app = QApplication(sys.argv)\n",
    "label = QLabel(\"Hello\")\n",
    "label.show()\n",
    "app.exec_()"
   ]
  },
  {
   "cell_type": "code",
   "execution_count": 1,
   "id": "bb5824b2",
   "metadata": {},
   "outputs": [
    {
     "data": {
      "text/plain": [
       "0"
      ]
     },
     "execution_count": 1,
     "metadata": {},
     "output_type": "execute_result"
    }
   ],
   "source": [
    "# ch03/03_13.py\n",
    "import sys\n",
    "from PyQt5.QtWidgets import *\n",
    "\n",
    "app = QApplication(sys.argv)\n",
    "btn = QPushButton(\"Hello\")\n",
    "btn.show()\n",
    "app.exec_()"
   ]
  },
  {
   "cell_type": "code",
   "execution_count": 1,
   "id": "c2b274ce",
   "metadata": {},
   "outputs": [
    {
     "data": {
      "text/plain": [
       "0"
      ]
     },
     "execution_count": 1,
     "metadata": {},
     "output_type": "execute_result"
    }
   ],
   "source": [
    "# ch03/03_14.py\n",
    "import sys\n",
    "from PyQt5.QtWidgets import *\n",
    "\n",
    "class MyWindow(QMainWindow):\n",
    "    def __init__(self):\n",
    "        super().__init__()\n",
    "\n",
    "app = QApplication(sys.argv)\n",
    "window = MyWindow()\n",
    "window.show()\n",
    "app.exec_()"
   ]
  },
  {
   "cell_type": "markdown",
   "id": "d9f659c1",
   "metadata": {},
   "source": [
    "## 3.5. PyQt 윈도우 꾸미기"
   ]
  },
  {
   "cell_type": "code",
   "execution_count": 1,
   "id": "f65bd511",
   "metadata": {},
   "outputs": [
    {
     "data": {
      "text/plain": [
       "0"
      ]
     },
     "execution_count": 1,
     "metadata": {},
     "output_type": "execute_result"
    }
   ],
   "source": [
    "# ch03/03_15.py\n",
    "import sys\n",
    "from PyQt5.QtWidgets import *\n",
    "\n",
    "class MyWindow(QMainWindow):\n",
    "    def __init__(self):\n",
    "        super().__init__()\n",
    "        self.setGeometry(100,200,300,400)\n",
    "\n",
    "app = QApplication(sys.argv)\n",
    "window = MyWindow()\n",
    "window.show()\n",
    "app.exec_()"
   ]
  },
  {
   "cell_type": "code",
   "execution_count": 1,
   "id": "9b829aa4",
   "metadata": {},
   "outputs": [
    {
     "data": {
      "text/plain": [
       "0"
      ]
     },
     "execution_count": 1,
     "metadata": {},
     "output_type": "execute_result"
    }
   ],
   "source": [
    "# ch03/03_16.py\n",
    "import sys\n",
    "from PyQt5.QtWidgets import *\n",
    "from PyQt5.QtGui import *\n",
    "\n",
    "class MyWindow(QMainWindow):\n",
    "    def __init__(self):\n",
    "        super().__init__()\n",
    "        self.setGeometry(100,200,300,200)\n",
    "        self.setWindowTitle(\"PyQt\")\n",
    "        self.setWindowIcon(QIcon(\"icon.png\"))\n",
    "\n",
    "app = QApplication(sys.argv)\n",
    "window = MyWindow()\n",
    "window.show()\n",
    "app.exec_()"
   ]
  },
  {
   "cell_type": "code",
   "execution_count": 1,
   "id": "04bb1224",
   "metadata": {},
   "outputs": [
    {
     "data": {
      "text/plain": [
       "0"
      ]
     },
     "execution_count": 1,
     "metadata": {},
     "output_type": "execute_result"
    }
   ],
   "source": [
    "# ch03/03_17.py\n",
    "import sys\n",
    "from PyQt5.QtWidgets import *\n",
    "from PyQt5.QtGui import *\n",
    "\n",
    "class MyWindow(QMainWindow):\n",
    "    def __init__(self):\n",
    "        super().__init__()\n",
    "        self.setGeometry(100,200,300,200)\n",
    "        self.setWindowTitle(\"PyQt\")\n",
    "        self.setWindowIcon(QIcon(\"icon.png\"))\n",
    "        \n",
    "        btn = QPushButton(\"버튼1\", self)\n",
    "\n",
    "app = QApplication(sys.argv)\n",
    "window = MyWindow()\n",
    "window.show()\n",
    "app.exec_()"
   ]
  },
  {
   "cell_type": "code",
   "execution_count": 2,
   "id": "a5dbc452",
   "metadata": {},
   "outputs": [
    {
     "data": {
      "text/plain": [
       "0"
      ]
     },
     "execution_count": 2,
     "metadata": {},
     "output_type": "execute_result"
    }
   ],
   "source": [
    "# ch03/03_18.py\n",
    "import sys\n",
    "from PyQt5.QtWidgets import *\n",
    "from PyQt5.QtGui import *\n",
    "\n",
    "class MyWindow(QMainWindow):\n",
    "    def __init__(self):\n",
    "        super().__init__()\n",
    "        self.setGeometry(100,200,300,200)\n",
    "        self.setWindowTitle(\"PyQt\")\n",
    "        self.setWindowIcon(QIcon(\"icon.png\"))\n",
    "        \n",
    "        btn = QPushButton(\"버튼1\", self)\n",
    "        btn.move(10,10)\n",
    "        \n",
    "        btn2 = QPushButton(\"버튼2\", self)\n",
    "        btn2.move(10,40)\n",
    "\n",
    "app = QApplication(sys.argv)\n",
    "window = MyWindow()\n",
    "window.show()\n",
    "app.exec_()"
   ]
  },
  {
   "cell_type": "code",
   "execution_count": 1,
   "id": "1d5f6a96",
   "metadata": {},
   "outputs": [
    {
     "name": "stdout",
     "output_type": "stream",
     "text": [
      "버튼 클릭\n",
      "버튼 클릭\n"
     ]
    },
    {
     "data": {
      "text/plain": [
       "0"
      ]
     },
     "execution_count": 1,
     "metadata": {},
     "output_type": "execute_result"
    }
   ],
   "source": [
    "# ch03/03_19.py\n",
    "import sys\n",
    "from PyQt5.QtWidgets import *\n",
    "from PyQt5.QtGui import *\n",
    "\n",
    "class MyWindow(QMainWindow):\n",
    "    def __init__(self):\n",
    "        super().__init__()\n",
    "        self.setGeometry(100,200,300,200)\n",
    "        self.setWindowTitle(\"PyQt\")\n",
    "        self.setWindowIcon(QIcon(\"icon.png\"))\n",
    "        \n",
    "        btn = QPushButton(\"버튼1\", self)\n",
    "        btn.move(10,10)\n",
    "        btn.clicked.connect(self.btn_clicked)\n",
    "    \n",
    "    def btn_clicked(seldf):\n",
    "        print(\"버튼 클릭\")\n",
    "\n",
    "app = QApplication(sys.argv)\n",
    "window = MyWindow()\n",
    "window.show()\n",
    "app.exec_()"
   ]
  },
  {
   "cell_type": "markdown",
   "id": "77e5b5c2",
   "metadata": {},
   "source": [
    "## 3.6. Qt Designer"
   ]
  },
  {
   "cell_type": "code",
   "execution_count": 1,
   "id": "ab02dda8",
   "metadata": {},
   "outputs": [
    {
     "data": {
      "text/plain": [
       "0"
      ]
     },
     "execution_count": 1,
     "metadata": {},
     "output_type": "execute_result"
    }
   ],
   "source": [
    "# ch03/03_20.py\n",
    "import sys\n",
    "from PyQt5.QtWidgets import *\n",
    "from PyQt5 import uic\n",
    "\n",
    "form_class = uic.loadUiType(\"mywindow.ui\")[0]\n",
    "\n",
    "class MyWindow(QMainWindow, form_class):\n",
    "    def __init__(self):\n",
    "        super().__init__()\n",
    "        self.setupUi(self)\n",
    "\n",
    "app = QApplication(sys.argv)\n",
    "window = MyWindow()\n",
    "window.show()\n",
    "app.exec_()"
   ]
  },
  {
   "cell_type": "code",
   "execution_count": 1,
   "id": "3ae083b0",
   "metadata": {},
   "outputs": [
    {
     "name": "stdout",
     "output_type": "stream",
     "text": [
      "버튼 클릭\n",
      "버튼 클릭\n"
     ]
    },
    {
     "data": {
      "text/plain": [
       "0"
      ]
     },
     "execution_count": 1,
     "metadata": {},
     "output_type": "execute_result"
    }
   ],
   "source": [
    "# ch03/03_21.py\n",
    "import sys\n",
    "from PyQt5.QtWidgets import *\n",
    "from PyQt5 import uic\n",
    "\n",
    "form_class = uic.loadUiType(\"mywindow.ui\")[0]\n",
    "\n",
    "class MyWindow(QMainWindow, form_class):\n",
    "    def __init__(self):\n",
    "        super().__init__()\n",
    "        self.setupUi(self)\n",
    "        self.pushButton.clicked.connect(self.btn_clicked)\n",
    "    \n",
    "    def btn_clicked(self):\n",
    "        print(\"버튼 클릭\")\n",
    "\n",
    "app = QApplication(sys.argv)\n",
    "window = MyWindow()\n",
    "window.show()\n",
    "app.exec_()"
   ]
  },
  {
   "cell_type": "code",
   "execution_count": 1,
   "id": "33af2f7b",
   "metadata": {},
   "outputs": [
    {
     "name": "stdout",
     "output_type": "stream",
     "text": [
      "조회 버튼 클릭\n"
     ]
    },
    {
     "data": {
      "text/plain": [
       "0"
      ]
     },
     "execution_count": 1,
     "metadata": {},
     "output_type": "execute_result"
    }
   ],
   "source": [
    "# ch03/03_22.py\n",
    "import sys\n",
    "from PyQt5.QtWidgets import *\n",
    "from PyQt5 import uic\n",
    "\n",
    "form_class = uic.loadUiType(\"mywindow.ui\")[0]\n",
    "\n",
    "class MyWindow(QMainWindow, form_class):\n",
    "    def __init__(self):\n",
    "        super().__init__()\n",
    "        self.setupUi(self)\n",
    "        self.pushButton.clicked.connect(self.inquiry)\n",
    "    \n",
    "    def inquiry(self):\n",
    "        print(\"조회 버튼 클릭\")\n",
    "\n",
    "app = QApplication(sys.argv)\n",
    "window = MyWindow()\n",
    "window.show()\n",
    "app.exec_()"
   ]
  },
  {
   "cell_type": "code",
   "execution_count": 2,
   "id": "a81580e4",
   "metadata": {},
   "outputs": [
    {
     "name": "stdout",
     "output_type": "stream",
     "text": [
      "Defaulting to user installation because normal site-packages is not writeable\n",
      "Collecting pykorbit\n",
      "  Downloading pykorbit-0.2.2-py3-none-any.whl.metadata (437 bytes)\n",
      "Requirement already satisfied: requests in c:\\programdata\\anaconda3\\lib\\site-packages (from pykorbit) (2.31.0)\n",
      "Requirement already satisfied: pandas in c:\\programdata\\anaconda3\\lib\\site-packages (from pykorbit) (2.0.3)\n",
      "Requirement already satisfied: datetime in c:\\users\\hckim\\appdata\\roaming\\python\\python311\\site-packages (from pykorbit) (5.4)\n",
      "Requirement already satisfied: numpy in c:\\programdata\\anaconda3\\lib\\site-packages (from pykorbit) (1.24.3)\n",
      "Requirement already satisfied: xlrd in c:\\users\\hckim\\appdata\\roaming\\python\\python311\\site-packages (from pykorbit) (2.0.1)\n",
      "Requirement already satisfied: PyJWT in c:\\programdata\\anaconda3\\lib\\site-packages (from pykorbit) (2.4.0)\n",
      "Collecting websockets (from pykorbit)\n",
      "  Downloading websockets-12.0-cp311-cp311-win_amd64.whl.metadata (6.8 kB)\n",
      "Requirement already satisfied: zope.interface in c:\\programdata\\anaconda3\\lib\\site-packages (from datetime->pykorbit) (5.4.0)\n",
      "Requirement already satisfied: pytz in c:\\programdata\\anaconda3\\lib\\site-packages (from datetime->pykorbit) (2023.3.post1)\n",
      "Requirement already satisfied: python-dateutil>=2.8.2 in c:\\programdata\\anaconda3\\lib\\site-packages (from pandas->pykorbit) (2.8.2)\n",
      "Requirement already satisfied: tzdata>=2022.1 in c:\\programdata\\anaconda3\\lib\\site-packages (from pandas->pykorbit) (2023.3)\n",
      "Requirement already satisfied: charset-normalizer<4,>=2 in c:\\programdata\\anaconda3\\lib\\site-packages (from requests->pykorbit) (2.0.4)\n",
      "Requirement already satisfied: idna<4,>=2.5 in c:\\programdata\\anaconda3\\lib\\site-packages (from requests->pykorbit) (3.4)\n",
      "Requirement already satisfied: urllib3<3,>=1.21.1 in c:\\programdata\\anaconda3\\lib\\site-packages (from requests->pykorbit) (1.26.16)\n",
      "Requirement already satisfied: certifi>=2017.4.17 in c:\\programdata\\anaconda3\\lib\\site-packages (from requests->pykorbit) (2023.11.17)\n",
      "Requirement already satisfied: six>=1.5 in c:\\programdata\\anaconda3\\lib\\site-packages (from python-dateutil>=2.8.2->pandas->pykorbit) (1.16.0)\n",
      "Requirement already satisfied: setuptools in c:\\programdata\\anaconda3\\lib\\site-packages (from zope.interface->datetime->pykorbit) (68.0.0)\n",
      "Downloading pykorbit-0.2.2-py3-none-any.whl (7.5 kB)\n",
      "Downloading websockets-12.0-cp311-cp311-win_amd64.whl (124 kB)\n",
      "   ---------------------------------------- 0.0/125.0 kB ? eta -:--:--\n",
      "   ---------------------------------------  122.9/125.0 kB ? eta -:--:--\n",
      "   ---------------------------------------- 125.0/125.0 kB 3.6 MB/s eta 0:00:00\n",
      "Installing collected packages: websockets, pykorbit\n",
      "Successfully installed pykorbit-0.2.2 websockets-12.0\n"
     ]
    }
   ],
   "source": [
    "!pip install pykorbit"
   ]
  },
  {
   "cell_type": "code",
   "execution_count": 1,
   "id": "bfc408bb",
   "metadata": {},
   "outputs": [
    {
     "data": {
      "text/plain": [
       "0"
      ]
     },
     "execution_count": 1,
     "metadata": {},
     "output_type": "execute_result"
    }
   ],
   "source": [
    "# ch03/03_23.py\n",
    "import sys\n",
    "from PyQt5.QtWidgets import *\n",
    "from PyQt5 import uic\n",
    "import pykorbit\n",
    "\n",
    "form_class = uic.loadUiType(\"mywindow.ui\")[0]\n",
    "\n",
    "class MyWindow(QMainWindow, form_class):\n",
    "    def __init__(self):\n",
    "        super().__init__()\n",
    "        self.setupUi(self)\n",
    "        self.pushButton.clicked.connect(self.inquiry)\n",
    "    \n",
    "    def inquiry(self):\n",
    "        price = pykorbit.get_current_price(\"BTC\")\n",
    "        self.lineEdit.setText(str(price))\n",
    "\n",
    "app = QApplication(sys.argv)\n",
    "window = MyWindow()\n",
    "window.show()\n",
    "app.exec_()"
   ]
  },
  {
   "cell_type": "code",
   "execution_count": 1,
   "id": "233087e9",
   "metadata": {},
   "outputs": [
    {
     "data": {
      "text/plain": [
       "0"
      ]
     },
     "execution_count": 1,
     "metadata": {},
     "output_type": "execute_result"
    }
   ],
   "source": [
    "# ch03/03_26.py\n",
    "import sys\n",
    "from PyQt5.QtWidgets import *\n",
    "from PyQt5 import uic\n",
    "from PyQt5.QtCore import *\n",
    "import pykorbit\n",
    "\n",
    "form_class = uic.loadUiType(\"mywindow.ui\")[0]\n",
    "\n",
    "class MyWindow(QMainWindow, form_class):\n",
    "    def __init__(self):\n",
    "        super().__init__()\n",
    "        self.setupUi(self)\n",
    "        \n",
    "        self.timer = QTimer(self)\n",
    "        self.timer.start(1000)\n",
    "        self.timer.timeout.connect(self.inquiry)\n",
    "    \n",
    "    def inquiry(self):\n",
    "        cur_time = QTime.currentTime()\n",
    "        str_time = cur_time.toString(\"hh:mm:ss\")\n",
    "        self.statusBar().showMessage(str_time)\n",
    "        price = pykorbit.get_current_price(\"BTC\")\n",
    "        self.lineEdit.setText(str(price))\n",
    "\n",
    "app = QApplication(sys.argv)\n",
    "window = MyWindow()\n",
    "window.show()\n",
    "app.exec_()"
   ]
  },
  {
   "cell_type": "markdown",
   "id": "052877ec",
   "metadata": {},
   "source": [
    "## 3.7. PyQt 시그널 슬롯"
   ]
  },
  {
   "cell_type": "code",
   "execution_count": 1,
   "id": "6df2bded",
   "metadata": {},
   "outputs": [
    {
     "name": "stdout",
     "output_type": "stream",
     "text": [
      "signal1 emitted\n"
     ]
    },
    {
     "data": {
      "text/plain": [
       "0"
      ]
     },
     "execution_count": 1,
     "metadata": {},
     "output_type": "execute_result"
    }
   ],
   "source": [
    "# ch03/03_27.py\n",
    "import sys\n",
    "from PyQt5.QtWidgets import *\n",
    "from PyQt5.QtCore import *\n",
    "\n",
    "class MySignal(QObject):\n",
    "    signal1 = pyqtSignal()\n",
    "    \n",
    "    def run(self):\n",
    "        self.signal1.emit()\n",
    "    \n",
    "class MyWindow(QMainWindow):\n",
    "    def __init__(self):\n",
    "        super().__init__()\n",
    "        \n",
    "        mysignal = MySignal()\n",
    "        mysignal.signal1.connect(self.signal1_emitted)\n",
    "        mysignal.run()\n",
    "    \n",
    "    @pyqtSlot()\n",
    "    def signal1_emitted(self):\n",
    "        print(\"signal1 emitted\")\n",
    "\n",
    "app = QApplication(sys.argv)\n",
    "window = MyWindow()\n",
    "window.show()\n",
    "app.exec_()"
   ]
  },
  {
   "cell_type": "code",
   "execution_count": 1,
   "id": "b6b2e867",
   "metadata": {},
   "outputs": [
    {
     "name": "stdout",
     "output_type": "stream",
     "text": [
      "signal1 emitted\n",
      "signal2 emitted 1 2\n"
     ]
    },
    {
     "data": {
      "text/plain": [
       "0"
      ]
     },
     "execution_count": 1,
     "metadata": {},
     "output_type": "execute_result"
    }
   ],
   "source": [
    "# ch03/03_28.py\n",
    "import sys\n",
    "from PyQt5.QtWidgets import *\n",
    "from PyQt5.QtCore import *\n",
    "\n",
    "class MySignal(QObject):\n",
    "    signal1 = pyqtSignal()\n",
    "    signal2 = pyqtSignal(int, int)\n",
    "    \n",
    "    def run(self):\n",
    "        self.signal1.emit()\n",
    "        self.signal2.emit(1, 2)\n",
    "    \n",
    "class MyWindow(QMainWindow):\n",
    "    def __init__(self):\n",
    "        super().__init__()\n",
    "        \n",
    "        mysignal = MySignal()\n",
    "        mysignal.signal1.connect(self.signal1_emitted)\n",
    "        mysignal.signal2.connect(self.signal2_emitted)\n",
    "        mysignal.run()\n",
    "    \n",
    "    @pyqtSlot()\n",
    "    def signal1_emitted(self):\n",
    "        print(\"signal1 emitted\")\n",
    "\n",
    "    @pyqtSlot(int, int)\n",
    "    def signal2_emitted(self, arg1, arg2):\n",
    "        print(\"signal2 emitted\", arg1, arg2)\n",
    "\n",
    "app = QApplication(sys.argv)\n",
    "window = MyWindow()\n",
    "window.show()\n",
    "app.exec_()"
   ]
  },
  {
   "cell_type": "markdown",
   "id": "0008ebf4",
   "metadata": {},
   "source": [
    "# 04 웹스크래핑과 판다스"
   ]
  },
  {
   "cell_type": "markdown",
   "id": "3d8a45c1",
   "metadata": {},
   "source": [
    "## 4.1. 웹스크래핑(1)"
   ]
  },
  {
   "cell_type": "markdown",
   "id": "e3e6d5a5",
   "metadata": {},
   "source": [
    "## 4.2. 웹스크래핑(2)"
   ]
  },
  {
   "cell_type": "code",
   "execution_count": 4,
   "id": "68b61a94",
   "metadata": {},
   "outputs": [
    {
     "name": "stdout",
     "output_type": "stream",
     "text": [
      "Defaulting to user installation because normal site-packages is not writeable\n",
      "Requirement already satisfied: beautifulsoup4 in c:\\programdata\\anaconda3\\lib\\site-packages (4.12.2)\n",
      "Requirement already satisfied: soupsieve>1.2 in c:\\programdata\\anaconda3\\lib\\site-packages (from beautifulsoup4) (2.4)\n"
     ]
    }
   ],
   "source": [
    "!pip install beautifulsoup4"
   ]
  },
  {
   "cell_type": "code",
   "execution_count": 17,
   "id": "956008cf",
   "metadata": {},
   "outputs": [
    {
     "name": "stdout",
     "output_type": "stream",
     "text": [
      "Defaulting to user installation because normal site-packages is not writeable\n",
      "Collecting bs4\n",
      "  Downloading bs4-0.0.2-py2.py3-none-any.whl.metadata (411 bytes)\n",
      "Requirement already satisfied: beautifulsoup4 in c:\\programdata\\anaconda3\\lib\\site-packages (from bs4) (4.12.2)\n",
      "Requirement already satisfied: soupsieve>1.2 in c:\\programdata\\anaconda3\\lib\\site-packages (from beautifulsoup4->bs4) (2.4)\n",
      "Downloading bs4-0.0.2-py2.py3-none-any.whl (1.2 kB)\n",
      "Installing collected packages: bs4\n",
      "Successfully installed bs4-0.0.2\n"
     ]
    }
   ],
   "source": [
    "!pip install bs4"
   ]
  },
  {
   "cell_type": "code",
   "execution_count": 19,
   "id": "adba1b0e",
   "metadata": {},
   "outputs": [
    {
     "name": "stdout",
     "output_type": "stream",
     "text": [
      "Defaulting to user installation because normal site-packages is not writeable\n",
      "Requirement already satisfied: html5lib in c:\\users\\hckim\\appdata\\roaming\\python\\python311\\site-packages (1.1)\n",
      "Requirement already satisfied: six>=1.9 in c:\\programdata\\anaconda3\\lib\\site-packages (from html5lib) (1.16.0)\n",
      "Requirement already satisfied: webencodings in c:\\programdata\\anaconda3\\lib\\site-packages (from html5lib) (0.5.1)\n"
     ]
    }
   ],
   "source": [
    "!pip install html5lib"
   ]
  },
  {
   "cell_type": "code",
   "execution_count": 30,
   "id": "2f6ac976",
   "metadata": {},
   "outputs": [
    {
     "ename": "IndexError",
     "evalue": "list index out of range",
     "output_type": "error",
     "traceback": [
      "\u001b[1;31m---------------------------------------------------------------------------\u001b[0m",
      "\u001b[1;31mIndexError\u001b[0m                                Traceback (most recent call last)",
      "Cell \u001b[1;32mIn[30], line 11\u001b[0m\n\u001b[0;32m      9\u001b[0m soup \u001b[38;5;241m=\u001b[39m BeautifulSoup(html, \u001b[38;5;124m\"\u001b[39m\u001b[38;5;124mhtml.parser\u001b[39m\u001b[38;5;124m\"\u001b[39m)\n\u001b[0;32m     10\u001b[0m tags \u001b[38;5;241m=\u001b[39m soup\u001b[38;5;241m.\u001b[39mselect(\u001b[38;5;124m\"\u001b[39m\u001b[38;5;124m#_per\u001b[39m\u001b[38;5;124m\"\u001b[39m)\n\u001b[1;32m---> 11\u001b[0m tag \u001b[38;5;241m=\u001b[39m tags[\u001b[38;5;241m0\u001b[39m]\n\u001b[0;32m     12\u001b[0m \u001b[38;5;28mprint\u001b[39m(tag\u001b[38;5;241m.\u001b[39mtext)\n",
      "\u001b[1;31mIndexError\u001b[0m: list index out of range"
     ]
    }
   ],
   "source": [
    "# ch04/04_01.py\n",
    "import requests\n",
    "from bs4 import BeautifulSoup\n",
    "\n",
    "url = \"https://finance.naver.com/item/main.nhn?code=000660\"\n",
    "html = requests.get(url).text\n",
    "\n",
    "#soup = BeautifulSoup(html, \"html5lib\")\n",
    "soup = BeautifulSoup(html, \"html.parser\")\n",
    "tags = soup.select(\"#_per\")\n",
    "tag = tags[0]\n",
    "print(tag.text)"
   ]
  },
  {
   "cell_type": "code",
   "execution_count": null,
   "id": "270627bc",
   "metadata": {},
   "outputs": [],
   "source": []
  },
  {
   "cell_type": "markdown",
   "id": "113c4cc5",
   "metadata": {},
   "source": [
    "## 4.3. Pandas Series"
   ]
  },
  {
   "cell_type": "markdown",
   "id": "c7d28391",
   "metadata": {},
   "source": [
    "## 4.4. Pandas DataFrame"
   ]
  },
  {
   "cell_type": "markdown",
   "id": "af288c05",
   "metadata": {},
   "source": [
    "# 05 상승장 알리미"
   ]
  },
  {
   "cell_type": "code",
   "execution_count": null,
   "id": "33816be2",
   "metadata": {},
   "outputs": [],
   "source": []
  }
 ],
 "metadata": {
  "kernelspec": {
   "display_name": "Python 3 (ipykernel)",
   "language": "python",
   "name": "python3"
  },
  "language_info": {
   "codemirror_mode": {
    "name": "ipython",
    "version": 3
   },
   "file_extension": ".py",
   "mimetype": "text/x-python",
   "name": "python",
   "nbconvert_exporter": "python",
   "pygments_lexer": "ipython3",
   "version": "3.11.5"
  }
 },
 "nbformat": 4,
 "nbformat_minor": 5
}
